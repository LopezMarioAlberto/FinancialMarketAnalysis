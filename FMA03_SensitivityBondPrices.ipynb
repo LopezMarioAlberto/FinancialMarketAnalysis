{
  "nbformat": 4,
  "nbformat_minor": 0,
  "metadata": {
    "colab": {
      "name": "FMA03_SensitivityBondPrices.ipynb",
      "provenance": [],
      "collapsed_sections": []
    },
    "kernelspec": {
      "name": "python3",
      "display_name": "Python 3"
    },
    "language_info": {
      "name": "python"
    }
  },
  "cells": [
    {
      "cell_type": "markdown",
      "metadata": {
        "id": "JiaabhXc_U8h"
      },
      "source": [
        "# **Sensitivity of Bond Prices**"
      ]
    },
    {
      "cell_type": "code",
      "metadata": {
        "id": "oFA0nkKsApa9"
      },
      "source": [
        "from datetime import datetime\n",
        "from datetime import timedelta\n",
        "import scipy.optimize as optimize\n",
        "import pandas as pd\n",
        "import numpy as np\n",
        "import matplotlib.pyplot as plt\n",
        "import math"
      ],
      "execution_count": 1,
      "outputs": []
    },
    {
      "cell_type": "code",
      "metadata": {
        "id": "PkpyAZt_BheX"
      },
      "source": [
        "# Price of a bond\n",
        "def pric_bond(fv, coupon, ytm, maturity, freq=1):\n",
        "  \"\"\"\n",
        "  fv: Face value ($)\n",
        "  coupon: Coupon rate (%)\n",
        "  ytm: Yield to maturity (%)\n",
        "  maturity: Time to maturity (years)\n",
        "  freq: Frequency of payments\n",
        "\n",
        "  Returns: price\n",
        "  \"\"\"\n",
        "  ytm = ytm/100\n",
        "  freq = float(freq)\n",
        "  periods = maturity*freq\n",
        "  coupon = (coupon/100)*fv/freq\n",
        "  dt = [(i+1)/freq for i in range(int(periods))]\n",
        "  price = sum([coupon/(1+ytm/freq)**(freq*t) for t in dt]) + fv/(1+ytm/freq)**(freq*maturity)\n",
        "  \n",
        "  return round(price,2)\n",
        "\n",
        "\n",
        "# Duration of a bond\n",
        "def dura_bond (fv, coupon, ytm, maturity, freq=1):\n",
        "  \"\"\"\n",
        "  fv: Face value ($)\n",
        "  coupon: Coupon rate (%)\n",
        "  ytm: Yield to maturity (%)\n",
        "  maturity: Time to maturity (years)\n",
        "  freq: Frequency of payments\n",
        "\n",
        "  Returns: duration in frequency\n",
        "  \"\"\"\n",
        "  table = []\n",
        "  for i in range(1, (maturity*freq + 1)):\n",
        "    \n",
        "    cf = (fv * coupon/100)/freq\n",
        "    \n",
        "    if i == maturity*freq:\n",
        "      cf = cf + fv\n",
        "    \n",
        "    pv = cf / (1 + ((ytm/100)/freq))**i\n",
        "\n",
        "    table.append([i, pv])\n",
        "\n",
        "  columns = ['t', 'PV']\n",
        "  df = pd.DataFrame(table, columns = columns)\n",
        "  df['W'] = df['PV'] / df['PV'].sum()\n",
        "  df['t*W'] = df['t'] * df['W']\n",
        "\n",
        "  ds = df['t*W'].sum()\n",
        "\n",
        "  return ds\n",
        "\n",
        "\n",
        "# Convexity of a bond\n",
        "def conv_bond (fv, coupon, ytm, maturity, freq=1):\n",
        "  \"\"\"\n",
        "  fv: Face value ($)\n",
        "  coupon: Coupon rate (%)\n",
        "  ytm: Yield to maturity (%)\n",
        "  maturity: Time to maturity (years)\n",
        "  freq: Frequency of payments\n",
        "\n",
        "  Returns: convexity in frequency\n",
        "  \"\"\"\n",
        "  table = []\n",
        "  for i in range(1, (maturity*freq + 1)):\n",
        "    \n",
        "    cf = (fv * coupon/100)/freq\n",
        "    \n",
        "    if i == maturity*freq:\n",
        "      cf = cf + fv\n",
        "    \n",
        "    pv = cf / (1 + ((ytm/100)/freq))**i\n",
        "\n",
        "    table.append([i, pv])\n",
        "\n",
        "  columns = ['t', 'PV']\n",
        "  df = pd.DataFrame(table, columns = columns)\n",
        "  df['W'] = df['PV'] / df['PV'].sum()\n",
        "  df['t*W'] = df['t'] * df['W']\n",
        "  df['C'] = df['PV'] * df['t'] * (1 + df['t'])\n",
        "\n",
        "  c = df['C'].sum() / (df['PV'].sum() * (1 + (ytm/100)/freq)**2)\n",
        "\n",
        "  return c\n",
        "\n",
        "\n",
        "# price, duration and convexity of a bond\n",
        "def pdc_bond (fv, coupon, ytm, maturity, freq=1):\n",
        "  \"\"\"\n",
        "  fv: Face value ($)\n",
        "  coupon: Coupon rate (%)\n",
        "  ytm: Yield to maturity (%)\n",
        "  maturity: Time to maturity (years)\n",
        "  freq: Frequency of payments\n",
        "\n",
        "  Returns: [price, duration in frequency, convexity in frequency]\n",
        "  \"\"\"\n",
        "  table = []\n",
        "  for i in range(1, (maturity*freq + 1)):\n",
        "    \n",
        "    cf = (fv * coupon/100)/freq\n",
        "    \n",
        "    if i == maturity*freq:\n",
        "      cf = cf + fv\n",
        "    \n",
        "    pv = cf / (1 + ((ytm/100)/freq))**i\n",
        "\n",
        "    table.append([i, pv])\n",
        "\n",
        "  columns = ['t', 'PV']\n",
        "  df = pd.DataFrame(table, columns = columns)\n",
        "  df['W'] = df['PV'] / df['PV'].sum()\n",
        "  df['t*W'] = df['t'] * df['W']\n",
        "  df['C'] = df['PV'] * df['t'] * (1 + df['t'])\n",
        "\n",
        "  p = df['PV'].sum()\n",
        "  ds = df['t*W'].sum()\n",
        "  c = df['C'].sum() / (p * (1 + (ytm/100)/freq)**2)\n",
        "\n",
        "  return [p, ds, c]\n",
        "\n",
        "\n",
        "# Duration of assets\n",
        "def dura_assets(val, dur):\n",
        "  \"\"\"\n",
        "  val: List with the values of assets (+) and liabilities (-)\n",
        "  dur: List with the durations of assets and liabilities\n",
        "\n",
        "  Returns: [equity, duration of assets]\n",
        "  \"\"\"\n",
        "  value = sum(val)\n",
        "  duration = 0\n",
        "  for v in range(len(val)):\n",
        "    duration += dur[v] * val[v]/value\n",
        "  return [value, duration]"
      ],
      "execution_count": 2,
      "outputs": []
    },
    {
      "cell_type": "markdown",
      "metadata": {
        "id": "m-YyStKQ_rEL"
      },
      "source": [
        "### Consider a 30-year bond with 5% coupon rate and semiannual coupon payment. How is the price affected by a change in the YTM?\n",
        "\n",
        "* Settlement Date: 2016-01-01\n",
        "*  Maturity Date: 2046-01-01\n",
        "*  Coupon Rate (%): 5\n",
        "*  Frequency (per year): 2"
      ]
    },
    {
      "cell_type": "code",
      "metadata": {
        "id": "O3q--IV8-7aK",
        "colab": {
          "base_uri": "https://localhost:8080/",
          "height": 622
        },
        "outputId": "9d5630de-4603-4969-dada-8e381d7504de"
      },
      "source": [
        "# pric_bond(fv, coupon, ytm, maturity, freq=1)\n",
        "\n",
        "ytm = 0.5\n",
        "data = []\n",
        "while ytm <= 10:\n",
        "  data.append([ytm, pric_bond(100, 5, ytm, 30, 2)])\n",
        "  ytm += 0.5\n",
        "\n",
        "columns = ['YTM%','Price']\n",
        "df = pd.DataFrame(data, columns = columns)\n",
        "print(df)\n",
        "df.plot(y=['Price'])\n",
        "plt.show()"
      ],
      "execution_count": 3,
      "outputs": [
        {
          "output_type": "stream",
          "text": [
            "    YTM%   Price\n",
            "0    0.5  225.22\n",
            "1    1.0  203.45\n",
            "2    1.5  184.30\n",
            "3    2.0  167.43\n",
            "4    2.5  152.54\n",
            "5    3.0  139.38\n",
            "6    3.5  127.72\n",
            "7    4.0  117.38\n",
            "8    4.5  108.19\n",
            "9    5.0  100.00\n",
            "10   5.5   92.69\n",
            "11   6.0   86.16\n",
            "12   6.5   80.31\n",
            "13   7.0   75.06\n",
            "14   7.5   70.33\n",
            "15   8.0   66.06\n",
            "16   8.5   62.21\n",
            "17   9.0   58.72\n",
            "18   9.5   55.56\n",
            "19  10.0   52.68\n"
          ],
          "name": "stdout"
        },
        {
          "output_type": "display_data",
          "data": {
            "image/png": "[encoded data removed]",
            "text/plain": [
              "<Figure size 432x288 with 1 Axes>"
            ]
          },
          "metadata": {
            "tags": [],
            "needs_background": "light"
          }
        }
      ]
    },
    {
      "cell_type": "markdown",
      "metadata": {
        "id": "iyYn2DWfEQ6K"
      },
      "source": [
        "### What is the duration of a 5-year bond with a 5% coupon, semi-annually paid? The YTM is 3%."
      ]
    },
    {
      "cell_type": "code",
      "metadata": {
        "id": "osXCSXH0EgiW",
        "colab": {
          "base_uri": "https://localhost:8080/"
        },
        "outputId": "7148cb64-1c87-4c5c-8e68-4dfb0a47149e"
      },
      "source": [
        "# dura_bond (fv, coupon, ytm, maturity, freq)\n",
        "freq = 2\n",
        "ds = dura_bond (100, 5, 3, 5, freq)\n",
        "dy = ds/freq\n",
        "\n",
        "print(f'Duration (semesters): {round(ds, 2)}')\n",
        "print(f'Duration (years): {round(dy, 2)}')"
      ],
      "execution_count": 4,
      "outputs": [
        {
          "output_type": "stream",
          "text": [
            "Duration (semesters): 9.02\n",
            "Duration (years): 4.51\n"
          ],
          "name": "stdout"
        }
      ]
    },
    {
      "cell_type": "markdown",
      "metadata": {
        "id": "Eg4eA9fzwB91"
      },
      "source": [
        "### Duration for alternative bonds if:\n",
        "\n",
        "*  Coupon Rate = 1%\n",
        "*  Coupon Rate = 0%\n",
        "*  Maturity = 30 years\n",
        "*  YTM = 1%"
      ]
    },
    {
      "cell_type": "code",
      "metadata": {
        "colab": {
          "base_uri": "https://localhost:8080/"
        },
        "id": "UoFuKJ0XwQbG",
        "outputId": "b8cb977a-6f6e-441c-914a-f1aff58cc27e"
      },
      "source": [
        "# dura_bond (fv, coupon, ytm, maturity, freq)\n",
        "print('Coupon Rate = 1%')\n",
        "ds = dura_bond (100, 1, 3, 5, 2)\n",
        "dy = ds/freq\n",
        "print(f'Duration (years): {round(dy, 2)}')\n"
      ],
      "execution_count": 44,
      "outputs": [
        {
          "output_type": "stream",
          "text": [
            "Coupon Rate = 1%\n",
            "Duration (years): 4.88\n"
          ],
          "name": "stdout"
        }
      ]
    },
    {
      "cell_type": "code",
      "metadata": {
        "colab": {
          "base_uri": "https://localhost:8080/"
        },
        "id": "Wjib9Ad1z6V1",
        "outputId": "f7661b99-c445-48bc-f62e-086c96ad02bb"
      },
      "source": [
        "# dura_bond (fv, coupon, ytm, maturity, freq)\n",
        "print('Coupon Rate = 0%')\n",
        "ds = dura_bond (100, 0, 3, 5, 2)\n",
        "dy = ds/freq\n",
        "print(f'Duration (years): {round(dy, 2)}')"
      ],
      "execution_count": 6,
      "outputs": [
        {
          "output_type": "stream",
          "text": [
            "Coupon Rate = 0%\n",
            "Duration (years): 5.0\n"
          ],
          "name": "stdout"
        }
      ]
    },
    {
      "cell_type": "code",
      "metadata": {
        "colab": {
          "base_uri": "https://localhost:8080/"
        },
        "id": "alx69SGHz9fC",
        "outputId": "4591a94f-dd8e-4e74-8423-4de1a5ee4008"
      },
      "source": [
        "print('Maturity = 30 years')\n",
        "ds = dura_bond (100, 5, 3, 30, 2)\n",
        "dy = ds/freq\n",
        "print(f'Duration (years): {round(dy, 2)}')"
      ],
      "execution_count": 7,
      "outputs": [
        {
          "output_type": "stream",
          "text": [
            "Maturity = 30 years\n",
            "Duration (years): 18.02\n"
          ],
          "name": "stdout"
        }
      ]
    },
    {
      "cell_type": "code",
      "metadata": {
        "colab": {
          "base_uri": "https://localhost:8080/"
        },
        "id": "Y1H9Jscsz_x3",
        "outputId": "ae6eadef-250a-4d4e-9126-a23085737b1f"
      },
      "source": [
        "print('YTM = 1%')\n",
        "ds = dura_bond (100, 5, 1, 5, 2)\n",
        "dy = ds/freq\n",
        "print(f'Duration (years): {round(dy, 2)}')"
      ],
      "execution_count": 8,
      "outputs": [
        {
          "output_type": "stream",
          "text": [
            "YTM = 1%\n",
            "Duration (years): 4.54\n"
          ],
          "name": "stdout"
        }
      ]
    },
    {
      "cell_type": "markdown",
      "metadata": {
        "id": "QvGFbnKj0wJ4"
      },
      "source": [
        "### What is the new price of this bond when the YTM increases by 100 bps?"
      ]
    },
    {
      "cell_type": "code",
      "metadata": {
        "colab": {
          "base_uri": "https://localhost:8080/"
        },
        "id": "doSsFTbj0RLW",
        "outputId": "5a872ac4-f5d3-4b69-b7d2-f78b537764a1"
      },
      "source": [
        "# pric_bond(fv, coupon, ytm, maturity, freq=1)\n",
        "price = pric_bond(100, 5, 4, 5, 2)\n",
        "print(f'New price: ${round(price, 2)}')"
      ],
      "execution_count": 9,
      "outputs": [
        {
          "output_type": "stream",
          "text": [
            "New price: $104.49\n"
          ],
          "name": "stdout"
        }
      ]
    },
    {
      "cell_type": "markdown",
      "metadata": {
        "id": "g6MUdzUi2AiY"
      },
      "source": [
        "### Is the price of the bond with lower coupon rates more sensitive to YTM changes?\n",
        "\n",
        "*  Maturity: 30 years\n",
        "*  Frequency (per year): 2\n",
        "\n",
        "Higher Coupon Rate: 5 %\n",
        "\n",
        "Lower Coupon Rate: 0 %"
      ]
    },
    {
      "cell_type": "code",
      "metadata": {
        "colab": {
          "base_uri": "https://localhost:8080/",
          "height": 622
        },
        "id": "y7_Y85rt2M3y",
        "outputId": "f9ad53ca-7dbe-4fa8-fd3e-f9a86a792999"
      },
      "source": [
        "# pric_bond(fv, coupon, ytm, maturity, freq=1)\n",
        "coupon = [5, 0]\n",
        "ytm = 0.5\n",
        "data = []\n",
        "while ytm <= 10:\n",
        "  high = pric_bond(100, coupon[0], ytm,  30, 2)\n",
        "  low = pric_bond(100, coupon[1], ytm, 30, 2)\n",
        "  data.append([ytm, high, low])\n",
        "  ytm += 0.5\n",
        "\n",
        "columns = ['YTM%','Higher', 'Lower']\n",
        "df = pd.DataFrame(data, columns = columns)\n",
        "print(df)\n",
        "df.plot(y=['Higher', 'Lower'])\n",
        "plt.show()"
      ],
      "execution_count": 10,
      "outputs": [
        {
          "output_type": "stream",
          "text": [
            "    YTM%  Higher  Lower\n",
            "0    0.5  225.22  86.09\n",
            "1    1.0  203.45  74.14\n",
            "2    1.5  184.30  63.87\n",
            "3    2.0  167.43  55.04\n",
            "4    2.5  152.54  47.46\n",
            "5    3.0  139.38  40.93\n",
            "6    3.5  127.72  35.31\n",
            "7    4.0  117.38  30.48\n",
            "8    4.5  108.19  26.31\n",
            "9    5.0  100.00  22.73\n",
            "10   5.5   92.69  19.64\n",
            "11   6.0   86.16  16.97\n",
            "12   6.5   80.31  14.68\n",
            "13   7.0   75.06  12.69\n",
            "14   7.5   70.33  10.98\n",
            "15   8.0   66.06   9.51\n",
            "16   8.5   62.21   8.23\n",
            "17   9.0   58.72   7.13\n",
            "18   9.5   55.56   6.18\n",
            "19  10.0   52.68   5.35\n"
          ],
          "name": "stdout"
        },
        {
          "output_type": "display_data",
          "data": {
            "image/png": "[encoded data removed]",
            "text/plain": [
              "<Figure size 432x288 with 1 Axes>"
            ]
          },
          "metadata": {
            "tags": [],
            "needs_background": "light"
          }
        }
      ]
    },
    {
      "cell_type": "markdown",
      "metadata": {
        "id": "7UKCH84M5Eh8"
      },
      "source": [
        "### Is the price of a long-term bond more sensitive to YTM changes?\n",
        "\n",
        "*  Coupon Rate: 5 %\n",
        "*  Frequency (per year): 2\n",
        "\n",
        "Long-term maturity: 30 years\n",
        "\n",
        "Short-term maturity: 3 years"
      ]
    },
    {
      "cell_type": "code",
      "metadata": {
        "colab": {
          "base_uri": "https://localhost:8080/",
          "height": 622
        },
        "id": "vrzFv6Ci5LgB",
        "outputId": "92be1688-2cf2-4a1c-e88d-fd91b598b56a"
      },
      "source": [
        "# pric_bond(fv, coupon, ytm, maturity, freq=1)\n",
        "maturity = [30, 3]\n",
        "ytm = 0.5\n",
        "\n",
        "data = []\n",
        "while ytm <= 10:\n",
        "  long = pric_bond(100, 5, ytm, maturity[0], 2)\n",
        "  short = pric_bond(100, 5, ytm, maturity[1], 2)\n",
        "  data.append([ytm, long, short])\n",
        "  ytm += 0.5\n",
        "\n",
        "columns = ['YTM%','Long-term', 'Short-term']\n",
        "df = pd.DataFrame(data, columns = columns)\n",
        "print(df)\n",
        "df.plot(y=['Long-term', 'Short-term'])\n",
        "plt.show()"
      ],
      "execution_count": 11,
      "outputs": [
        {
          "output_type": "stream",
          "text": [
            "    YTM%  Long-term  Short-term\n",
            "0    0.5     225.22      113.38\n",
            "1    1.0     203.45      111.79\n",
            "2    1.5     184.30      110.23\n",
            "3    2.0     167.43      108.69\n",
            "4    2.5     152.54      107.18\n",
            "5    3.0     139.38      105.70\n",
            "6    3.5     127.72      104.24\n",
            "7    4.0     117.38      102.80\n",
            "8    4.5     108.19      101.39\n",
            "9    5.0     100.00      100.00\n",
            "10   5.5      92.69       98.63\n",
            "11   6.0      86.16       97.29\n",
            "12   6.5      80.31       95.97\n",
            "13   7.0      75.06       94.67\n",
            "14   7.5      70.33       93.39\n",
            "15   8.0      66.06       92.14\n",
            "16   8.5      62.21       90.90\n",
            "17   9.0      58.72       89.68\n",
            "18   9.5      55.56       88.49\n",
            "19  10.0      52.68       87.31\n"
          ],
          "name": "stdout"
        },
        {
          "output_type": "display_data",
          "data": {
            "image/png": "[encoded data removed]",
            "text/plain": [
              "<Figure size 432x288 with 1 Axes>"
            ]
          },
          "metadata": {
            "tags": [],
            "needs_background": "light"
          }
        }
      ]
    },
    {
      "cell_type": "markdown",
      "metadata": {
        "id": "ERlC_GF168a3"
      },
      "source": [
        "### Immunizing a hypothetical portfolio.\n",
        "\n",
        "The assets of Firm XYZ consist of mortgages and other assets.\n",
        "\n",
        "**Assets**\n",
        "\n",
        "* Mortgages: 80.63 million USD (8.0 years)\n",
        "* Others: 219.38 million USD (3.9 years)\n",
        "\n",
        "**Liabilities**\n",
        "* Others: 285 million USD (3.0 years)\n"
      ]
    },
    {
      "cell_type": "code",
      "metadata": {
        "id": "pPnfvwnNG5wG",
        "colab": {
          "base_uri": "https://localhost:8080/"
        },
        "outputId": "f30693e6-876c-4059-d947-2ebb842c8889"
      },
      "source": [
        "# dura_assets(val, dur)\n",
        "val = [80.63, 219.38, -285]\n",
        "dur = [8, 3.9, 3]\n",
        "\n",
        "equity = dura_assets(val, dur)\n",
        "print(f'Duration: {round(equity[1], 2)} years')"
      ],
      "execution_count": 37,
      "outputs": [
        {
          "output_type": "stream",
          "text": [
            "Duration: 43.01 years\n"
          ],
          "name": "stdout"
        }
      ]
    },
    {
      "cell_type": "markdown",
      "metadata": {
        "id": "SilykbXiqEf9"
      },
      "source": [
        "Immunization: Suppose we sell all the mortgages."
      ]
    },
    {
      "cell_type": "code",
      "metadata": {
        "colab": {
          "base_uri": "https://localhost:8080/"
        },
        "id": "NQ7wH5qRpuvK",
        "outputId": "407c340b-6738-434d-9225-0ec7da15b0f7"
      },
      "source": [
        "# dura_assets(val, dur)\n",
        "val = [80.63, 219.38, -285]\n",
        "dur = [0, 3.9, 3]\n",
        "\n",
        "equity = dura_assets(val, dur)\n",
        "print(f'Duration: {round(equity[1], 2)} years')"
      ],
      "execution_count": 38,
      "outputs": [
        {
          "output_type": "stream",
          "text": [
            "Duration: 0.04 years\n"
          ],
          "name": "stdout"
        }
      ]
    },
    {
      "cell_type": "markdown",
      "metadata": {
        "id": "vKxPmJaCISGo"
      },
      "source": [
        "### What is the price, duration and convexity of the following bond?\n",
        "\n",
        "*  Settlement Date: 2016-01-01\n",
        "*  Maturity Date: 2021-01-01\n",
        "*  Coupon Rate (%): 5\n",
        "*  YTM (%): 3\n",
        "*  Face Value (USD): 100\n",
        "*  Frequency (per year): 2"
      ]
    },
    {
      "cell_type": "code",
      "metadata": {
        "colab": {
          "base_uri": "https://localhost:8080/"
        },
        "id": "-R9mzz84IaHo",
        "outputId": "69d7d109-0e35-4f12-d2e8-912dc4c750ed"
      },
      "source": [
        "# pdc_bond (fv, coupon, ytm, maturity, freq=1)\n",
        "db = pdc_bond (100, 5, 3, 5, 2)\n",
        "print(f'Price: ${round(db[0], 2)}')\n",
        "print(f'Duration (semesters): {round(db[1], 2)}')\n",
        "print(f'Convexity (semesters): {round(db[2], 2)}')"
      ],
      "execution_count": 13,
      "outputs": [
        {
          "output_type": "stream",
          "text": [
            "Price: $109.22\n",
            "Duration (semesters): 9.02\n",
            "Convexity (semesters): 92.95\n"
          ],
          "name": "stdout"
        }
      ]
    },
    {
      "cell_type": "markdown",
      "metadata": {
        "id": "OpUAOgzQHkMU"
      },
      "source": [
        "### What is the new price of this bond when the YTM increases by 1%?"
      ]
    },
    {
      "cell_type": "code",
      "metadata": {
        "colab": {
          "base_uri": "https://localhost:8080/"
        },
        "id": "Tj3y_TBJYb3U",
        "outputId": "1fd8e68b-a866-4687-daa9-5703535549a1"
      },
      "source": [
        "# pdc_bond (fv, coupon, ytm, maturity, freq=1)\n",
        "db1 = pdc_bond (100, 5, 4, 5, 2)\n",
        "print(f'Price: ${round(db1[0], 2)}')\n",
        "print(f'Duration (semesters): {round(db1[1], 2)}')\n",
        "print(f'Convexity (semesters): {round(db1[2], 2)}')"
      ],
      "execution_count": 14,
      "outputs": [
        {
          "output_type": "stream",
          "text": [
            "Price: $104.49\n",
            "Duration (semesters): 9.0\n",
            "Convexity (semesters): 91.69\n"
          ],
          "name": "stdout"
        }
      ]
    },
    {
      "cell_type": "code",
      "metadata": {
        "colab": {
          "base_uri": "https://localhost:8080/"
        },
        "id": "4KW9V92pY0bC",
        "outputId": "426102ca-c276-4266-bf7e-32946d6e300e"
      },
      "source": [
        "freq = 2\n",
        "convexity_adjustment = 0.5 * db[2] * (0.01/freq)**2\n",
        "print(f'Convexity adjustment: {round(100*convexity_adjustment, 2)}%')"
      ],
      "execution_count": 15,
      "outputs": [
        {
          "output_type": "stream",
          "text": [
            "Convexity adjustment: 0.12%\n"
          ],
          "name": "stdout"
        }
      ]
    },
    {
      "cell_type": "markdown",
      "metadata": {
        "id": "RDDv-rH8qc54"
      },
      "source": [
        "\n",
        "\n",
        "---\n",
        "\n"
      ]
    },
    {
      "cell_type": "markdown",
      "metadata": {
        "id": "Zr2PNfVAqeOB"
      },
      "source": [
        "### 3) Consider a zero-coupon bond which delivers USD 100 after 30 periods. The current YTM per period is 10%. The current price of the bond is 5.731. "
      ]
    },
    {
      "cell_type": "code",
      "metadata": {
        "colab": {
          "base_uri": "https://localhost:8080/",
          "height": 792
        },
        "id": "7a7_JkS7qy2u",
        "outputId": "7153478f-59f8-4c54-b144-f15cdcafc79d"
      },
      "source": [
        "# pric_bond(fv, coupon, ytm, maturity, freq=1)\n",
        "ytm = 0.5\n",
        "data = []\n",
        "while ytm <= 15:\n",
        "  high = pric_bond(100, 0, ytm,  30, 1)\n",
        "  data.append([ytm, high])\n",
        "  ytm += 0.5\n",
        "\n",
        "columns = ['YTM%','Price']\n",
        "df = pd.DataFrame(data, columns = columns)\n",
        "print(df)\n",
        "df.plot(y=['Price'])\n",
        "plt.show()"
      ],
      "execution_count": 43,
      "outputs": [
        {
          "output_type": "stream",
          "text": [
            "    YTM%  Price\n",
            "0    0.5  86.10\n",
            "1    1.0  74.19\n",
            "2    1.5  63.98\n",
            "3    2.0  55.21\n",
            "4    2.5  47.67\n",
            "5    3.0  41.20\n",
            "6    3.5  35.63\n",
            "7    4.0  30.83\n",
            "8    4.5  26.70\n",
            "9    5.0  23.14\n",
            "10   5.5  20.06\n",
            "11   6.0  17.41\n",
            "12   6.5  15.12\n",
            "13   7.0  13.14\n",
            "14   7.5  11.42\n",
            "15   8.0   9.94\n",
            "16   8.5   8.65\n",
            "17   9.0   7.54\n",
            "18   9.5   6.57\n",
            "19  10.0   5.73\n",
            "20  10.5   5.00\n",
            "21  11.0   4.37\n",
            "22  11.5   3.82\n",
            "23  12.0   3.34\n",
            "24  12.5   2.92\n",
            "25  13.0   2.56\n",
            "26  13.5   2.24\n",
            "27  14.0   1.96\n",
            "28  14.5   1.72\n",
            "29  15.0   1.51\n"
          ],
          "name": "stdout"
        },
        {
          "output_type": "display_data",
          "data": {
            "image/png": "[encoded data removed]",
            "text/plain": [
              "<Figure size 432x288 with 1 Axes>"
            ]
          },
          "metadata": {
            "tags": [],
            "needs_background": "light"
          }
        }
      ]
    },
    {
      "cell_type": "markdown",
      "metadata": {
        "id": "RAgMQAL6s5H8"
      },
      "source": [
        "### 6) What is the duration of the following bond?\n",
        "\n",
        "*  Face Value (USD): 100\n",
        "*  Maturity (years): 5\n",
        "*  Coupon Rate (%): 5\n",
        "*  YTM (%): 5\n",
        "*  Frequency (per year): 2"
      ]
    },
    {
      "cell_type": "code",
      "metadata": {
        "colab": {
          "base_uri": "https://localhost:8080/"
        },
        "id": "E-EytEJQtZIQ",
        "outputId": "1bf73c51-b0d6-4be0-f73a-77d260df745b"
      },
      "source": [
        "# dura_bond (fv, coupon, ytm, maturity, freq)\n",
        "ds = dura_bond (100, 5, 5, 5, 2)\n",
        "dy = ds/freq\n",
        "print(f'Duration (years): {round(dy, 2)}')"
      ],
      "execution_count": 45,
      "outputs": [
        {
          "output_type": "stream",
          "text": [
            "Duration (years): 4.49\n"
          ],
          "name": "stdout"
        }
      ]
    },
    {
      "cell_type": "markdown",
      "metadata": {
        "id": "Q1OCzv1huABA"
      },
      "source": [
        "### 14) What is the price of the following bond?\n",
        "\n",
        "\n",
        "*  Face Value (USD): 100\n",
        "*  Maturity (years): 2\n",
        "*  Coupon Rate (%): 4\n",
        "*  YTM (%): 5\n",
        "*  Frequency (per year): 2"
      ]
    },
    {
      "cell_type": "code",
      "metadata": {
        "colab": {
          "base_uri": "https://localhost:8080/"
        },
        "id": "QGJ9woP9uPDJ",
        "outputId": "d1c80e58-5244-4de7-d5a5-34c85ca191df"
      },
      "source": [
        "# pdc_bond (fv, coupon, ytm, maturity, freq=1)\n",
        "db = pdc_bond (100, 4, 5, 2, 2)\n",
        "print(f'Price: ${round(db[0], 2)}')"
      ],
      "execution_count": 46,
      "outputs": [
        {
          "output_type": "stream",
          "text": [
            "Price: $98.12\n"
          ],
          "name": "stdout"
        }
      ]
    },
    {
      "cell_type": "markdown",
      "metadata": {
        "id": "iMt5irISutkL"
      },
      "source": [
        "### 15) What is the duration of the bond?"
      ]
    },
    {
      "cell_type": "code",
      "metadata": {
        "colab": {
          "base_uri": "https://localhost:8080/"
        },
        "id": "r3DUYfpQuojb",
        "outputId": "d64340ba-f42c-4edd-c8f4-de31ca07fff3"
      },
      "source": [
        "freq = 2\n",
        "d1 = db[1] / freq\n",
        "print(f'Duration: {round(d1, 2)} years')"
      ],
      "execution_count": 53,
      "outputs": [
        {
          "output_type": "stream",
          "text": [
            "Duration: 1.94 years\n"
          ],
          "name": "stdout"
        }
      ]
    },
    {
      "cell_type": "markdown",
      "metadata": {
        "id": "-6zzq6_HvB8O"
      },
      "source": [
        "### 16) You are doing a stress test for Bank Uno. The only asset that Uno has is USD 250 million invested in the security that you analyzed in the previous two questions. If the YTM increases by 1,000 bps, by how much (approximately) do you expect Uno’s asset to shrink?"
      ]
    },
    {
      "cell_type": "code",
      "metadata": {
        "colab": {
          "base_uri": "https://localhost:8080/"
        },
        "id": "jZHf35XTvIn0",
        "outputId": "ba9243ed-9c2e-48af-d53d-a8edf6a527f3"
      },
      "source": [
        "asset = 250\n",
        "ytm = 5\n",
        "ytm_change = 10\n",
        "predicted_change = d1/(1 + (ytm/100))*(ytm_change/100)\n",
        "asset_change = predicted_change * asset\n",
        "print(f'Predicted change in assets: ${round(asset_change, 2)}')"
      ],
      "execution_count": 63,
      "outputs": [
        {
          "output_type": "stream",
          "text": [
            "Predicted change in assets: $46.22\n"
          ],
          "name": "stdout"
        }
      ]
    },
    {
      "cell_type": "markdown",
      "metadata": {
        "id": "lhoJJ7MAys35"
      },
      "source": [
        "### 21) Consider a bond which has a maturity of four years and pays a 3% coupon rate (with coupon payments once annually). The bond sells at par value of 100 USD. Calculate the bond’s convexity."
      ]
    },
    {
      "cell_type": "code",
      "metadata": {
        "colab": {
          "base_uri": "https://localhost:8080/"
        },
        "id": "a-fIviCBywVK",
        "outputId": "83e5cfa9-7bbb-46ec-decc-87f62cca9bf5"
      },
      "source": [
        "# pdc_bond (fv, coupon, ytm, maturity, freq=1)\n",
        "db = pdc_bond (100, 3, 3, 4, 1)\n",
        "print(f'Duration (semesters): {round(db[1], 2)}')\n",
        "print(f'Convexity (semesters): {round(db[2], 2)}')"
      ],
      "execution_count": 80,
      "outputs": [
        {
          "output_type": "stream",
          "text": [
            "Price: $100.0\n",
            "Duration (semesters): 3.83\n",
            "Convexity (semesters): 17.78\n"
          ],
          "name": "stdout"
        }
      ]
    },
    {
      "cell_type": "markdown",
      "metadata": {
        "id": "99LxTvqa1_Cc"
      },
      "source": [
        "## 22) If YTM increases by 200 bps, what will be the new price of the bond predicted by using both duration and convexity?"
      ]
    },
    {
      "cell_type": "code",
      "metadata": {
        "colab": {
          "base_uri": "https://localhost:8080/"
        },
        "id": "3f-lHDc12Ax7",
        "outputId": "ee4f795c-1804-4a22-881f-8e45f2293b60"
      },
      "source": [
        "asset = 1\n",
        "ytm = 3\n",
        "ytm_change = 2\n",
        "predicted_change = db[1]/(1 + (ytm/100))*(ytm_change/100)\n",
        "convexity_adjustment = 0.5 * db[2] * (ytm_change/100)**2\n",
        "new_price = db[0] * (1 + convexity_adjustment - predicted_change)\n",
        "print(f'New price: ${round(new_price, 2)}')"
      ],
      "execution_count": 82,
      "outputs": [
        {
          "output_type": "stream",
          "text": [
            "New price: $92.92\n"
          ],
          "name": "stdout"
        }
      ]
    },
    {
      "cell_type": "markdown",
      "metadata": {
        "id": "u0HZ26Ep5f5Q"
      },
      "source": [
        "### 24) Suppose an investor has constructed a portfolio Gamma consisting of 7,500 USD of Alpha and $5,000 of Epsilon. What is the duration of Gamma?\n",
        "\n",
        "Maturity /\tDuration /\tConvexity\n",
        "\n",
        "Alpha\t2 /\t1,9 /\t0,05\n",
        "\n",
        "Beta\t5 /\t4,1 /\t0,25\n",
        "\n",
        "Epsilon\t10\t/ 7,5 /\t0,95"
      ]
    },
    {
      "cell_type": "code",
      "metadata": {
        "colab": {
          "base_uri": "https://localhost:8080/"
        },
        "id": "vOfK8DDO5kTy",
        "outputId": "246f526f-858d-49c0-d616-55b9d73172fb"
      },
      "source": [
        "# dura_assets(val, dur)\n",
        "val = [7500, 5000]\n",
        "dur = [1.9, 7.5]\n",
        "equity = dura_assets(val, dur)\n",
        "print(f'Duration: {round(equity[1], 2)} years')"
      ],
      "execution_count": 84,
      "outputs": [
        {
          "output_type": "stream",
          "text": [
            "Duration: 4.14 years\n"
          ],
          "name": "stdout"
        }
      ]
    },
    {
      "cell_type": "markdown",
      "metadata": {
        "id": "JwyFpVYw6x5o"
      },
      "source": [
        "### 26) What is the convexity measure of Gamma?"
      ]
    },
    {
      "cell_type": "code",
      "metadata": {
        "colab": {
          "base_uri": "https://localhost:8080/"
        },
        "id": "toKkndB560zj",
        "outputId": "5189b549-c51b-4dfa-de9d-0333351702ca"
      },
      "source": [
        "con = [0.05, 0.95]\n",
        "c = (con[0]*val[0] + con[1]*val[1])/ sum(val)\n",
        "print(f'Convexity of gamma: {round(c, 2)}')"
      ],
      "execution_count": 85,
      "outputs": [
        {
          "output_type": "stream",
          "text": [
            "Convexity of gamma: 0.41\n"
          ],
          "name": "stdout"
        }
      ]
    }
  ]
}