{
  "nbformat": 4,
  "nbformat_minor": 0,
  "metadata": {
    "colab": {
      "name": "FMA03_SensitivityBondPrices.ipynb",
      "provenance": [],
      "collapsed_sections": []
    },
    "kernelspec": {
      "name": "python3",
      "display_name": "Python 3"
    },
    "language_info": {
      "name": "python"
    }
  },
  "cells": [
    {
      "cell_type": "markdown",
      "metadata": {
        "id": "JiaabhXc_U8h"
      },
      "source": [
        "# **Sensitivity of Bond Prices**"
      ]
    },
    {
      "cell_type": "code",
      "metadata": {
        "id": "oFA0nkKsApa9"
      },
      "source": [
        "from datetime import datetime\n",
        "from datetime import timedelta\n",
        "import scipy.optimize as optimize\n",
        "import pandas as pd\n",
        "import numpy as np\n",
        "import matplotlib.pyplot as plt\n",
        "import math"
      ],
      "execution_count": 1,
      "outputs": []
    },
    {
      "cell_type": "code",
      "metadata": {
        "id": "PkpyAZt_BheX"
      },
      "source": [
        "# Price of a bond\n",
        "def bond_price(fv, maturity, ytm, coupon, freq=1):\n",
        "  \"\"\"\n",
        "  fv: Face value ($)\n",
        "  coupon: Coupon rate (%)\n",
        "  ytm: Yield to maturity (%)\n",
        "  maturity: Time to maturity (years)\n",
        "  freq: Frequency of payments\n",
        "  \"\"\"\n",
        "  ytm = ytm/100\n",
        "  freq = float(freq)\n",
        "  periods = maturity*freq\n",
        "  coupon = (coupon/100)*fv/freq\n",
        "  dt = [(i+1)/freq for i in range(int(periods))]\n",
        "  price = sum([coupon/(1+ytm/freq)**(freq*t) for t in dt]) + fv/(1+ytm/freq)**(freq*maturity)\n",
        "  \n",
        "  return round(price,2)\n",
        "\n",
        "\n",
        "# Duration of a bond\n",
        "def dura_bond (fv, coupon, ytm, maturity, freq=1):\n",
        "  \"\"\"\n",
        "  fv: Face value ($)\n",
        "  coupon: Coupon rate (%)\n",
        "  ytm: Yield to maturity (%)\n",
        "  maturity: Time to maturity (years)\n",
        "  freq: Frequency of payments\n",
        "  \"\"\"\n",
        "  table = []\n",
        "  for i in range(1, (maturity*freq + 1)):\n",
        "    \n",
        "    cf = (fv * coupon/100)/freq\n",
        "    \n",
        "    if i == maturity*freq:\n",
        "      cf = cf + fv\n",
        "    \n",
        "    pv = cf / (1 + ((ytm/100)/freq))**i\n",
        "\n",
        "    table.append([i, pv])\n",
        "\n",
        "  columns = ['t', 'PV']\n",
        "  df = pd.DataFrame(table, columns = columns)\n",
        "  df['W'] = df['PV'] / df['PV'].sum()\n",
        "  df['t*W'] = df['t'] * df['W']\n",
        "\n",
        "  ds = df['t*W'].sum()\n",
        "\n",
        "  return ds"
      ],
      "execution_count": 2,
      "outputs": []
    },
    {
      "cell_type": "markdown",
      "metadata": {
        "id": "m-YyStKQ_rEL"
      },
      "source": [
        "### Consider a 30-year bond with 5% coupon rate and semiannual coupon payment. How is the price affected by a change in the YTM?\n",
        "\n",
        "* Settlement Date: 2016-01-01\n",
        "*  Maturity Date: 2046-01-01\n",
        "*  Coupon Rate (%): 5\n",
        "*  Frequency (per year): 2"
      ]
    },
    {
      "cell_type": "code",
      "metadata": {
        "id": "O3q--IV8-7aK",
        "colab": {
          "base_uri": "https://localhost:8080/",
          "height": 622
        },
        "outputId": "8f4df192-6c90-4ecf-a3e0-4fb10421041e"
      },
      "source": [
        "# bond_price(fv, maturity, ytm, coupon, freq=1)\n",
        "\n",
        "ytm = 0.5\n",
        "data = []\n",
        "while ytm <= 10:\n",
        "  data.append([ytm, bond_price(100, 30, ytm, 5, 2)])\n",
        "  ytm += 0.5\n",
        "\n",
        "columns = ['YTM%','Price']\n",
        "df = pd.DataFrame(data, columns = columns)\n",
        "print(df)\n",
        "df.plot(y=['Price'])\n",
        "plt.show()"
      ],
      "execution_count": 41,
      "outputs": [
        {
          "output_type": "stream",
          "text": [
            "    YTM%   Price\n",
            "0    0.5  225.22\n",
            "1    1.0  203.45\n",
            "2    1.5  184.30\n",
            "3    2.0  167.43\n",
            "4    2.5  152.54\n",
            "5    3.0  139.38\n",
            "6    3.5  127.72\n",
            "7    4.0  117.38\n",
            "8    4.5  108.19\n",
            "9    5.0  100.00\n",
            "10   5.5   92.69\n",
            "11   6.0   86.16\n",
            "12   6.5   80.31\n",
            "13   7.0   75.06\n",
            "14   7.5   70.33\n",
            "15   8.0   66.06\n",
            "16   8.5   62.21\n",
            "17   9.0   58.72\n",
            "18   9.5   55.56\n",
            "19  10.0   52.68\n"
          ],
          "name": "stdout"
        },
        {
          "output_type": "display_data",
          "data": {
            "image/png": "[encoded data removed]",
            "text/plain": [
              "<Figure size 432x288 with 1 Axes>"
            ]
          },
          "metadata": {
            "tags": [],
            "needs_background": "light"
          }
        }
      ]
    },
    {
      "cell_type": "markdown",
      "metadata": {
        "id": "iyYn2DWfEQ6K"
      },
      "source": [
        "### What is the duration of a 5-year bond with a 5% coupon, semi-annually paid? The YTM is 3%."
      ]
    },
    {
      "cell_type": "code",
      "metadata": {
        "id": "osXCSXH0EgiW",
        "colab": {
          "base_uri": "https://localhost:8080/"
        },
        "outputId": "590ef6df-76da-471c-a534-83859da46dd0"
      },
      "source": [
        "# dura_bond (fv, coupon, ytm, maturity, freq)\n",
        "ds = dura_bond (100, 5, 3, 5, 2)\n",
        "dy = ds/freq\n",
        "\n",
        "print(f'Duration (semesters): {round(ds, 2)}')\n",
        "print(f'Duration (years): {round(dy, 2)}')"
      ],
      "execution_count": 30,
      "outputs": [
        {
          "output_type": "stream",
          "text": [
            "    t         PV         W       t*W\n",
            "0   1   2.463054  0.022551  0.022551\n",
            "1   2   2.426654  0.022218  0.044435\n",
            "2   3   2.390792  0.021889  0.065668\n",
            "3   4   2.355461  0.021566  0.086263\n",
            "4   5   2.320651  0.021247  0.106235\n",
            "5   6   2.286355  0.020933  0.125598\n",
            "6   7   2.252567  0.020624  0.144366\n",
            "7   8   2.219278  0.020319  0.162551\n",
            "8   9   2.186481  0.020019  0.180168\n",
            "9  10  88.320891  0.808635  8.086351\n",
            "Duration (semesters): 9.02\n",
            "Duration (years): 4.51\n"
          ],
          "name": "stdout"
        }
      ]
    },
    {
      "cell_type": "markdown",
      "metadata": {
        "id": "Eg4eA9fzwB91"
      },
      "source": [
        "### Duration for alternative bonds if:\n",
        "\n",
        "*  Coupon Rate = 1%\n",
        "*  Coupon Rate = 0%\n",
        "*  Maturity = 30 years\n",
        "*  YTM = 1%"
      ]
    },
    {
      "cell_type": "code",
      "metadata": {
        "colab": {
          "base_uri": "https://localhost:8080/"
        },
        "id": "UoFuKJ0XwQbG",
        "outputId": "87193e55-fabf-4209-9969-dc4c2a22a9c8"
      },
      "source": [
        "# dura_bond (fv, coupon, ytm, maturity, freq)\n",
        "df =[]\n",
        "print('Coupon Rate = 1%')\n",
        "ds = dura_bond (100, 1, 3, 5, 2)\n",
        "dy = ds/freq\n",
        "print(f'Duration (years): {round(dy, 2)}')\n"
      ],
      "execution_count": 35,
      "outputs": [
        {
          "output_type": "stream",
          "text": [
            "Coupon Rate = 1%\n",
            "    t         PV         W       t*W\n",
            "0   1   0.492611  0.005427  0.005427\n",
            "1   2   0.485331  0.005346  0.010693\n",
            "2   3   0.478158  0.005267  0.015802\n",
            "3   4   0.471092  0.005190  0.020758\n",
            "4   5   0.464130  0.005113  0.025564\n",
            "5   6   0.457271  0.005037  0.030224\n",
            "6   7   0.450513  0.004963  0.034740\n",
            "7   8   0.443856  0.004889  0.039116\n",
            "8   9   0.437296  0.004817  0.043355\n",
            "9  10  86.597557  0.953951  9.539507\n",
            "Duration (years): 4.88\n"
          ],
          "name": "stdout"
        }
      ]
    },
    {
      "cell_type": "code",
      "metadata": {
        "colab": {
          "base_uri": "https://localhost:8080/"
        },
        "id": "Wjib9Ad1z6V1",
        "outputId": "7a050801-664f-4224-c4c7-264eb68e4575"
      },
      "source": [
        "print('Coupon Rate = 0%')\n",
        "ds = dura_bond (100, 0, 3, 5, 2)\n",
        "dy = ds/freq\n",
        "print(f'Duration (years): {round(dy, 2)}')"
      ],
      "execution_count": 36,
      "outputs": [
        {
          "output_type": "stream",
          "text": [
            "Coupon Rate = 0%\n",
            "    t         PV    W   t*W\n",
            "0   1   0.000000  0.0   0.0\n",
            "1   2   0.000000  0.0   0.0\n",
            "2   3   0.000000  0.0   0.0\n",
            "3   4   0.000000  0.0   0.0\n",
            "4   5   0.000000  0.0   0.0\n",
            "5   6   0.000000  0.0   0.0\n",
            "6   7   0.000000  0.0   0.0\n",
            "7   8   0.000000  0.0   0.0\n",
            "8   9   0.000000  0.0   0.0\n",
            "9  10  86.166723  1.0  10.0\n",
            "Duration (years): 5.0\n"
          ],
          "name": "stdout"
        }
      ]
    },
    {
      "cell_type": "code",
      "metadata": {
        "colab": {
          "base_uri": "https://localhost:8080/"
        },
        "id": "alx69SGHz9fC",
        "outputId": "a4a3444c-d313-4071-f372-a5b0d1e9312d"
      },
      "source": [
        "print('Maturity = 30 years')\n",
        "ds = dura_bond (100, 5, 3, 30, 2)\n",
        "dy = ds/freq\n",
        "print(f'Duration (years): {round(dy, 2)}')"
      ],
      "execution_count": 37,
      "outputs": [
        {
          "output_type": "stream",
          "text": [
            "Maturity = 30 years\n",
            "     t         PV         W        t*W\n",
            "0    1   2.463054  0.017671   0.017671\n",
            "1    2   2.426654  0.017410   0.034821\n",
            "2    3   2.390792  0.017153   0.051459\n",
            "3    4   2.355461  0.016900   0.067598\n",
            "4    5   2.320651  0.016650   0.083249\n",
            "5    6   2.286355  0.016404   0.098422\n",
            "6    7   2.252567  0.016161   0.113129\n",
            "7    8   2.219278  0.015922   0.127380\n",
            "8    9   2.186481  0.015687   0.141184\n",
            "9   10   2.154168  0.015455   0.154553\n",
            "10  11   2.122333  0.015227   0.167496\n",
            "11  12   2.090969  0.015002   0.180023\n",
            "12  13   2.060068  0.014780   0.192143\n",
            "13  14   2.029623  0.014562   0.203865\n",
            "14  15   1.999629  0.014347   0.215199\n",
            "15  16   1.970078  0.014135   0.226153\n",
            "16  17   1.940963  0.013926   0.236736\n",
            "17  18   1.912279  0.013720   0.246958\n",
            "18  19   1.884019  0.013517   0.256825\n",
            "19  20   1.856176  0.013317   0.266347\n",
            "20  21   1.828745  0.013121   0.275531\n",
            "21  22   1.801719  0.012927   0.284386\n",
            "22  23   1.775093  0.012736   0.292919\n",
            "23  24   1.748860  0.012547   0.301138\n",
            "24  25   1.723015  0.012362   0.309049\n",
            "25  26   1.697551  0.012179   0.316661\n",
            "26  27   1.672464  0.011999   0.323981\n",
            "27  28   1.647748  0.011822   0.331015\n",
            "28  29   1.623397  0.011647   0.337770\n",
            "29  30   1.599406  0.011475   0.344254\n",
            "30  31   1.575770  0.011306   0.350472\n",
            "31  32   1.552482  0.011138   0.356431\n",
            "32  33   1.529539  0.010974   0.362137\n",
            "33  34   1.506935  0.010812   0.367597\n",
            "34  35   1.484665  0.010652   0.372817\n",
            "35  36   1.462724  0.010494   0.377802\n",
            "36  37   1.441108  0.010339   0.382558\n",
            "37  38   1.419811  0.010187   0.387091\n",
            "38  39   1.398828  0.010036   0.391406\n",
            "39  40   1.378156  0.009888   0.395510\n",
            "40  41   1.357789  0.009742   0.399406\n",
            "41  42   1.337723  0.009598   0.403101\n",
            "42  43   1.317954  0.009456   0.406600\n",
            "43  44   1.298477  0.009316   0.409907\n",
            "44  45   1.279287  0.009178   0.413028\n",
            "45  46   1.260382  0.009043   0.415967\n",
            "46  47   1.241755  0.008909   0.418729\n",
            "47  48   1.223404  0.008777   0.421318\n",
            "48  49   1.205324  0.008648   0.423739\n",
            "49  50   1.187512  0.008520   0.425997\n",
            "50  51   1.169962  0.008394   0.428096\n",
            "51  52   1.152672  0.008270   0.430039\n",
            "52  53   1.135638  0.008148   0.431832\n",
            "53  54   1.118855  0.008027   0.433477\n",
            "54  55   1.102320  0.007909   0.434980\n",
            "55  56   1.086030  0.007792   0.436343\n",
            "56  57   1.069980  0.007677   0.437572\n",
            "57  58   1.054167  0.007563   0.438668\n",
            "58  59   1.038589  0.007451   0.439637\n",
            "59  60  41.952837  0.300996  18.059731\n",
            "Duration (years): 18.02\n"
          ],
          "name": "stdout"
        }
      ]
    },
    {
      "cell_type": "code",
      "metadata": {
        "colab": {
          "base_uri": "https://localhost:8080/"
        },
        "id": "Y1H9Jscsz_x3",
        "outputId": "ca84b789-22db-48b7-c0f4-e5c71c404dc3"
      },
      "source": [
        "print('YTM = 1%')\n",
        "ds = dura_bond (100, 5, 1, 5, 2)\n",
        "dy = ds/freq\n",
        "print(f'Duration (years): {round(dy, 2)}')"
      ],
      "execution_count": 38,
      "outputs": [
        {
          "output_type": "stream",
          "text": [
            "YTM = 1%\n",
            "    t         PV         W       t*W\n",
            "0   1   2.487562  0.020823  0.020823\n",
            "1   2   2.475186  0.020720  0.041439\n",
            "2   3   2.462872  0.020617  0.061850\n",
            "3   4   2.450619  0.020514  0.082056\n",
            "4   5   2.438427  0.020412  0.102060\n",
            "5   6   2.426295  0.020310  0.121862\n",
            "6   7   2.414224  0.020209  0.141465\n",
            "7   8   2.402213  0.020109  0.160870\n",
            "8   9   2.390262  0.020009  0.180079\n",
            "9  10  97.513164  0.816277  8.162773\n",
            "Duration (years): 4.54\n"
          ],
          "name": "stdout"
        }
      ]
    },
    {
      "cell_type": "markdown",
      "metadata": {
        "id": "QvGFbnKj0wJ4"
      },
      "source": [
        "### What is the new price of this bond when the YTM increases by 100 bps?"
      ]
    },
    {
      "cell_type": "code",
      "metadata": {
        "colab": {
          "base_uri": "https://localhost:8080/"
        },
        "id": "doSsFTbj0RLW",
        "outputId": "6b61cc57-c836-41d0-a63e-2010c7dfef9b"
      },
      "source": [
        "price = bond_price(100, 5, 4, 5, 2)\n",
        "print(f'New price: ${round(price, 2)}')"
      ],
      "execution_count": 40,
      "outputs": [
        {
          "output_type": "stream",
          "text": [
            "New price: $104.49\n"
          ],
          "name": "stdout"
        }
      ]
    },
    {
      "cell_type": "markdown",
      "metadata": {
        "id": "g6MUdzUi2AiY"
      },
      "source": [
        "### Is the price of the bond with lower coupon rates more sensitive to YTM changes?\n",
        "\n",
        "*  Maturity: 30 years\n",
        "*  Frequency (per year): 2\n",
        "\n",
        "Higher Coupon Rate: 5 %\n",
        "\n",
        "Lower Coupon Rate: 0 %"
      ]
    },
    {
      "cell_type": "code",
      "metadata": {
        "colab": {
          "base_uri": "https://localhost:8080/",
          "height": 622
        },
        "id": "y7_Y85rt2M3y",
        "outputId": "aee920d1-9f07-44a7-d2c0-fcd8b02a3a40"
      },
      "source": [
        "# bond_price(fv, ymaturity, ytm, coupon, freq=1)\n",
        "coupon = [5, 0]\n",
        "ytm = 0.5\n",
        "data = []\n",
        "while ytm <= 10:\n",
        "  high = bond_price(100, 30, ytm, coupon[0], 2)\n",
        "  low = bond_price(100, 30, ytm, coupon[1], 2)\n",
        "  data.append([ytm, high, low])\n",
        "  ytm += 0.5\n",
        "\n",
        "columns = ['YTM%','Higher', 'Lower']\n",
        "df = pd.DataFrame(data, columns = columns)\n",
        "print(df)\n",
        "df.plot(y=['Higher', 'Lower'])\n",
        "plt.show()"
      ],
      "execution_count": 42,
      "outputs": [
        {
          "output_type": "stream",
          "text": [
            "    YTM%  Higher  Lower\n",
            "0    0.5  225.22  86.09\n",
            "1    1.0  203.45  74.14\n",
            "2    1.5  184.30  63.87\n",
            "3    2.0  167.43  55.04\n",
            "4    2.5  152.54  47.46\n",
            "5    3.0  139.38  40.93\n",
            "6    3.5  127.72  35.31\n",
            "7    4.0  117.38  30.48\n",
            "8    4.5  108.19  26.31\n",
            "9    5.0  100.00  22.73\n",
            "10   5.5   92.69  19.64\n",
            "11   6.0   86.16  16.97\n",
            "12   6.5   80.31  14.68\n",
            "13   7.0   75.06  12.69\n",
            "14   7.5   70.33  10.98\n",
            "15   8.0   66.06   9.51\n",
            "16   8.5   62.21   8.23\n",
            "17   9.0   58.72   7.13\n",
            "18   9.5   55.56   6.18\n",
            "19  10.0   52.68   5.35\n"
          ],
          "name": "stdout"
        },
        {
          "output_type": "display_data",
          "data": {
            "image/png": "[encoded data removed]",
            "text/plain": [
              "<Figure size 432x288 with 1 Axes>"
            ]
          },
          "metadata": {
            "tags": [],
            "needs_background": "light"
          }
        }
      ]
    },
    {
      "cell_type": "markdown",
      "metadata": {
        "id": "7UKCH84M5Eh8"
      },
      "source": [
        "### Is the price of a long-term bond more sensitive to YTM changes?\n",
        "\n",
        "*  Coupon Rate: 5 %\n",
        "*  Frequency (per year): 2\n",
        "\n",
        "Long-term maturity: 30 years\n",
        "\n",
        "Short-term maturity: 3 years"
      ]
    },
    {
      "cell_type": "code",
      "metadata": {
        "colab": {
          "base_uri": "https://localhost:8080/",
          "height": 622
        },
        "id": "vrzFv6Ci5LgB",
        "outputId": "9888e9e7-df54-4217-fdd7-1a54c610626a"
      },
      "source": [
        "# bond_price(fv, ymaturity, ytm, coupon, freq=1)\n",
        "maturity = [30, 3]\n",
        "ytm = 0.5\n",
        "\n",
        "data = []\n",
        "while ytm <= 10:\n",
        "  long = bond_price(100, maturity[0], ytm, 5, 2)\n",
        "  short = bond_price(100, maturity[1], ytm, 5, 2)\n",
        "  data.append([ytm, long, short])\n",
        "  ytm += 0.5\n",
        "\n",
        "columns = ['YTM%','Long-term', 'Short-term']\n",
        "df = pd.DataFrame(data, columns = columns)\n",
        "print(df)\n",
        "df.plot(y=['Long-term', 'Short-term'])\n",
        "plt.show()"
      ],
      "execution_count": 45,
      "outputs": [
        {
          "output_type": "stream",
          "text": [
            "    YTM%  Long-term  Short-term\n",
            "0    0.5     225.22      113.38\n",
            "1    1.0     203.45      111.79\n",
            "2    1.5     184.30      110.23\n",
            "3    2.0     167.43      108.69\n",
            "4    2.5     152.54      107.18\n",
            "5    3.0     139.38      105.70\n",
            "6    3.5     127.72      104.24\n",
            "7    4.0     117.38      102.80\n",
            "8    4.5     108.19      101.39\n",
            "9    5.0     100.00      100.00\n",
            "10   5.5      92.69       98.63\n",
            "11   6.0      86.16       97.29\n",
            "12   6.5      80.31       95.97\n",
            "13   7.0      75.06       94.67\n",
            "14   7.5      70.33       93.39\n",
            "15   8.0      66.06       92.14\n",
            "16   8.5      62.21       90.90\n",
            "17   9.0      58.72       89.68\n",
            "18   9.5      55.56       88.49\n",
            "19  10.0      52.68       87.31\n"
          ],
          "name": "stdout"
        },
        {
          "output_type": "display_data",
          "data": {
            "image/png": "[encoded data removed]",
            "text/plain": [
              "<Figure size 432x288 with 1 Axes>"
            ]
          },
          "metadata": {
            "tags": [],
            "needs_background": "light"
          }
        }
      ]
    },
    {
      "cell_type": "markdown",
      "metadata": {
        "id": "ERlC_GF168a3"
      },
      "source": [
        "### Immunizing a hypothetical portfolio."
      ]
    }
  ]
}