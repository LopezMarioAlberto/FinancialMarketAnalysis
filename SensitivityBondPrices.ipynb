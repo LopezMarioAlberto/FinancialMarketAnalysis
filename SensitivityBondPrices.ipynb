{
  "nbformat": 4,
  "nbformat_minor": 0,
  "metadata": {
    "colab": {
      "name": "SensitivityBondPrices.ipynb",
      "provenance": [],
      "collapsed_sections": []
    },
    "kernelspec": {
      "name": "python3",
      "display_name": "Python 3"
    },
    "language_info": {
      "name": "python"
    }
  },
  "cells": [
    {
      "cell_type": "markdown",
      "metadata": {
        "id": "8qFV_abR84xb"
      },
      "source": [
        "# **Sensitivity of Bond Prices**"
      ]
    },
    {
      "cell_type": "code",
      "metadata": {
        "id": "gXPC4gCT-wql"
      },
      "source": [
        "from datetime import datetime\n",
        "from datetime import timedelta\n",
        "import scipy.optimize as optimize"
      ],
      "execution_count": 2,
      "outputs": []
    },
    {
      "cell_type": "markdown",
      "metadata": {
        "id": "d6Grxb5O9dcb"
      },
      "source": [
        "## Compute the price of a 9% semiannual coupon bond with 10 years to maturity and a face value of USD 1,000. Assume that the market required yield (YTM) is 6%."
      ]
    },
    {
      "cell_type": "code",
      "metadata": {
        "colab": {
          "base_uri": "https://localhost:8080/"
        },
        "id": "CW1ytXMQ80it",
        "outputId": "5706dbb8-158f-4cb2-b8a2-14d8abb68f23"
      },
      "source": [
        "def bond_price(face_value, years_to_maturity, ytm_p, coupon_rate_p, freq=1):\n",
        "  ytm = ytm_p/100\n",
        "  freq = float(freq)\n",
        "  periods = years_to_maturity*freq\n",
        "  coupon = (coupon_rate_p/100)*face_value/freq\n",
        "  dt = [(i+1)/freq for i in range(int(periods))]\n",
        "  price = sum([coupon/(1+ytm/freq)**(freq*t) for t in dt]) + face_value/(1+ytm/freq)**(freq*years_to_maturity)\n",
        "  \n",
        "  return round(price,2)\n",
        "\n",
        "face_value = 1000\n",
        "coupon_rate_p = 9\n",
        "freq = 2\n",
        "ytm_p = 6\n",
        "years_to_maturity = 10\n",
        "\n",
        "price = bond_price(face_value, years_to_maturity, ytm_p, coupon_rate_p, freq)\n",
        "print(f'Price: ${price}')"
      ],
      "execution_count": 3,
      "outputs": [
        {
          "output_type": "stream",
          "text": [
            "Price: $1223.16\n"
          ],
          "name": "stdout"
        }
      ]
    },
    {
      "cell_type": "markdown",
      "metadata": {
        "id": "sPieWdJChDyv"
      },
      "source": [
        "## Compute the price of a 9% annual coupon bond with 10 years to maturity and a face value of USD 1,000. Assume that the market required yield (YTM) is 6%."
      ]
    },
    {
      "cell_type": "code",
      "metadata": {
        "colab": {
          "base_uri": "https://localhost:8080/"
        },
        "id": "GGX79eSJhLGc",
        "outputId": "97c30cdf-19bc-48fb-b7f9-190b08da8526"
      },
      "source": [
        "face_value = 1000\n",
        "coupon_rate_p = 9\n",
        "freq = 1\n",
        "ytm_p = 6\n",
        "years_to_maturity = 10\n",
        "\n",
        "price = bond_price(face_value, years_to_maturity, ytm_p, coupon_rate_p, freq)\n",
        "print(f'Price: ${price}')"
      ],
      "execution_count": 4,
      "outputs": [
        {
          "output_type": "stream",
          "text": [
            "Price: $1220.8\n"
          ],
          "name": "stdout"
        }
      ]
    },
    {
      "cell_type": "markdown",
      "metadata": {
        "id": "xr2HwA3Mhthj"
      },
      "source": [
        "## Compute the effective YTM of a 7% semiannual coupon bond with 15 years to maturity and face value of USD 1,000. The market bond price is USD 655.9.\n",
        "\n",
        "\n",
        "*   Assuming that the annual YTM is 10%\n",
        "*   Assuming that the annual YTM is 12%\n",
        "\n"
      ]
    },
    {
      "cell_type": "code",
      "metadata": {
        "colab": {
          "base_uri": "https://localhost:8080/"
        },
        "id": "pZFlkKMHibbL",
        "outputId": "f43e1e4e-ead9-4b8c-cd2c-4bd2f825f677"
      },
      "source": [
        "def bond_price2(face_value, years_to_maturity, ytm_p, coupon_rate_p, freq=1):\n",
        "  ytm = ytm_p/100\n",
        "  freq = float(freq)\n",
        "  periods = years_to_maturity*freq\n",
        "  coupon = (coupon_rate_p/100)*face_value/freq\n",
        "  price = (coupon*freq/ytm)*(1 - 1/(1 + ytm/freq)**periods) + face_value/(1 + ytm/freq)**periods\n",
        "  \n",
        "  return round(price,1)\n",
        "\n",
        "face_value = 1000\n",
        "coupon_rate_p = 7\n",
        "freq = 2\n",
        "years_to_maturity = 15\n",
        "market_price = 655.9\n",
        "\n",
        "ytm = 10\n",
        "price10 = bond_price2(face_value, years_to_maturity, ytm, coupon_rate_p, freq)\n",
        "print(f'Price10: ${price10} > {market_price}, {ytm}% cannot be the YTM')\n",
        "\n",
        "ytm = 12\n",
        "price12 = bond_price2(face_value, years_to_maturity, ytm, coupon_rate_p, freq)\n",
        "print(f'Price12: ${price12} = {market_price}')\n",
        "\n",
        "effective_ytm = ((1 + (ytm/100)/freq)**freq) - 1\n",
        "print(f'Effective yield: {round(100*effective_ytm, 2)}%')"
      ],
      "execution_count": 5,
      "outputs": [
        {
          "output_type": "stream",
          "text": [
            "Price10: $769.4 > 655.9, 10% cannot be the YTM\n",
            "Price12: $655.9 = 655.9\n",
            "Effective yield: 12.36%\n"
          ],
          "name": "stdout"
        }
      ]
    },
    {
      "cell_type": "markdown",
      "metadata": {
        "id": "vkDPDphQy85w"
      },
      "source": [
        "## Compute the YTM of a 8% semiannual coupon bond with 20 years to maturity and a face value of USD 1,000. Assume that the market price of the bond is 900. Find the semiannual, annual and effective annual YTM for that bond. "
      ]
    },
    {
      "cell_type": "code",
      "metadata": {
        "colab": {
          "base_uri": "https://localhost:8080/"
        },
        "id": "MZ_EhdS5zCTP",
        "outputId": "c287a1b2-cdc1-44b1-e552-88c375ef0de5"
      },
      "source": [
        "def bond_ytm(price, face_value, maturity_years, interest_rate_percent, freq=1, ytm=0.05):\n",
        "    freq = float(freq)\n",
        "    periods = maturity_years*freq\n",
        "    coupon = face_value * (interest_rate_percent/100)/freq\n",
        "    dt = [(i+1)/freq for i in range(int(periods))]\n",
        "    ytm_func = lambda y : \\\n",
        "    sum([coupon / (1 + y / freq)**(freq * t) for t in dt]) + \\\n",
        "    face_value / (1 + y / freq)**(freq * max(dt)) - price\n",
        "\n",
        "    return round(100*optimize.newton(ytm_func, ytm), 2)\n",
        "\n",
        "face_value = 1000\n",
        "coupon_rate_p = 8\n",
        "years_to_maturity = 20\n",
        "market_price = 900\n",
        "\n",
        "freq = 2\n",
        "ytm_semi = bond_ytm(market_price, face_value, years_to_maturity, coupon_rate_p, freq)/2\n",
        "print(f'Semiannual YTM: {ytm_semi}%')\n",
        "\n",
        "ytm = ytm_semi*freq\n",
        "print(f'Annual YTM: {ytm}%')\n",
        "\n",
        "effective_ytm = (1 + (ytm_semi/100))**freq - 1\n",
        "print(f'Effective YTM: {round(100*effective_ytm, 2)}%')"
      ],
      "execution_count": 6,
      "outputs": [
        {
          "output_type": "stream",
          "text": [
            "Semiannual YTM: 4.545%\n",
            "Annual YTM: 9.09%\n",
            "Effective YTM: 9.3%\n"
          ],
          "name": "stdout"
        }
      ]
    },
    {
      "cell_type": "markdown",
      "metadata": {
        "id": "i_3Rzwne7FDD"
      },
      "source": [
        "## Compute the YTM of a 8% annual coupon bond with 20 years to maturity and a face value of USD 1,000. Assume that the market price of the bond is 900."
      ]
    },
    {
      "cell_type": "code",
      "metadata": {
        "colab": {
          "base_uri": "https://localhost:8080/"
        },
        "id": "da4elt8f7KNI",
        "outputId": "fc690a2f-717d-4f1b-ed67-19965ab1cf54"
      },
      "source": [
        "face_value = 1000\n",
        "coupon_rate_p = 8\n",
        "years_to_maturity = 20\n",
        "market_price = 900\n",
        "freq = 1\n",
        "\n",
        "ytm = bond_ytm(market_price, face_value, years_to_maturity, coupon_rate_p, freq)\n",
        "print(f'YTM: {ytm}%')"
      ],
      "execution_count": 7,
      "outputs": [
        {
          "output_type": "stream",
          "text": [
            "YTM: 9.1%\n"
          ],
          "name": "stdout"
        }
      ]
    },
    {
      "cell_type": "markdown",
      "metadata": {
        "id": "qKKQEuNM8DBi"
      },
      "source": [
        "## Find the semiannual, annual and effective annual for that bond yield-to-call (YTC) of a 10% semiannual coupon bond with 20 years to maturity, a face value of USD 1,000 and price of callable bond in 6 years of USD 1,025. Assume that the market price of the bond is 848. \n",
        "\n"
      ]
    },
    {
      "cell_type": "code",
      "metadata": {
        "id": "KzHPQqoB8G5p",
        "colab": {
          "base_uri": "https://localhost:8080/"
        },
        "outputId": "6406e533-1b7c-417a-fea8-8e36bb9e5857"
      },
      "source": [
        "def bond_ytc(price, face_value, price_callable, years_to_call, interest_rate_percent, freq=1, ytm=0.05):\n",
        "    freq = float(freq)\n",
        "    periods = years_to_call*freq\n",
        "    coupon = face_value * (interest_rate_percent/100)/freq\n",
        "    dt = [(i+1)/freq for i in range(int(periods))]\n",
        "    ytm_func = lambda y : \\\n",
        "    sum([coupon / (1 + y / freq)**(freq * t) for t in dt]) + \\\n",
        "    price_callable / (1 + y / freq)**(freq * max(dt)) - price\n",
        "\n",
        "    return round(100*optimize.newton(ytm_func, ytm), 2)\n",
        "\n",
        "def ytc_price(fv, pc, crp, ytcs, ytm, freq=1):\n",
        "  ytcs = (ytcs/100)\n",
        "  periods = ytm*freq\n",
        "  coupon = (crp/100)*fv/freq\n",
        "  f1 = coupon/ytcs\n",
        "  factor = (1 + ytcs)**periods\n",
        "  price = f1*(1 - 1/factor) + pc/factor\n",
        "  \n",
        "  return round(price, 2)\n",
        "\n",
        "face_value = 1000\n",
        "coupon_rate_p = 10\n",
        "years_to_maturity = 20\n",
        "market_price = 848\n",
        "years_to_call = 6\n",
        "price_callable = 1025\n",
        "\n",
        "freq = 2\n",
        "ytc_semi = bond_ytc(market_price, face_value, price_callable, years_to_call, coupon_rate_p, freq)/2\n",
        "print(f'Semiannual YTC: {ytc_semi}%')\n",
        "\n",
        "ytc = ytc_semi*freq\n",
        "print(f'Annual YTC: {ytc}%')\n",
        "\n",
        "effective_ytc = (1 + (ytc_semi/100))**freq - 1\n",
        "print(f'Effective YTC: {round(100*effective_ytc, 2)}%')\n",
        "\n",
        "pv = ytc_price(face_value, price_callable, coupon_rate_p, ytc_semi, years_to_call, freq)\n",
        "print(f'Price value: ${pv}')\n",
        "\n",
        "gap = round(pv - market_price, 2)\n",
        "gapp = round(pv / market_price, 2)\n",
        "print(f'Gap: ${gap} {gapp}%')"
      ],
      "execution_count": 47,
      "outputs": [
        {
          "output_type": "stream",
          "text": [
            "Semiannual YTC: 7.06%\n",
            "Annual YTC: 14.12%\n",
            "Effective YTC: 14.62%\n",
            "Price value: $847.93\n",
            "Gap: $-0.07 1.0%\n"
          ],
          "name": "stdout"
        }
      ]
    },
    {
      "cell_type": "markdown",
      "metadata": {
        "id": "-6fuOTqQ2GwI"
      },
      "source": [
        "## Find the semiannual, annual and zero coupon for a bond of a 9% coupon rate with 20 years to maturity, a face value of USD 1,000. Assume that the semiannual YTM is 6%."
      ]
    },
    {
      "cell_type": "code",
      "metadata": {
        "colab": {
          "base_uri": "https://localhost:8080/"
        },
        "id": "17EbS1Wm3Qif",
        "outputId": "e2387c03-53dd-427b-8f91-92b4a953475a"
      },
      "source": [
        "def bond_price(face_value, years_to_maturity, ytm_p, coupon_rate_p, freq=1):\n",
        "  ytm = ytm_p/100\n",
        "  freq = float(freq)\n",
        "  periods = years_to_maturity*freq\n",
        "  coupon = (coupon_rate_p/100)*face_value/freq\n",
        "  dt = [(i+1)/freq for i in range(int(periods))]\n",
        "  price = sum([coupon/(1+ytm/freq)**(freq*t) for t in dt]) + face_value/(1+ytm/freq)**(freq*years_to_maturity)\n",
        "  \n",
        "  return round(price,2)\n",
        "\n",
        "face_value = 1000\n",
        "coupon_rate_p = 9\n",
        "ytm_p = 6\n",
        "years_to_maturity = 20\n",
        "\n",
        "freq = 2\n",
        "price = bond_price(face_value, years_to_maturity, ytm_p, coupon_rate_p, freq)\n",
        "print(f'Price semiannual frequency: ${price}')\n",
        "\n",
        "effective_ytm = round(100*(((1 + (ytm_p/100)/freq)**freq) - 1), 2)\n",
        "\n",
        "freq = 1\n",
        "price = bond_price(face_value, years_to_maturity, effective_ytm, coupon_rate_p, freq)\n",
        "print(f'Price annual frequency: ${price}')\n",
        "\n",
        "zero = bond_price(1000, 20, 6, 0, 2)\n",
        "print(f'Zero-coupon bond: ${zero}')"
      ],
      "execution_count": 61,
      "outputs": [
        {
          "output_type": "stream",
          "text": [
            "Price semiannual frequency: $1346.72\n",
            "Price annual frequency: $1331.35\n",
            "Zero-coupon bond: $306.56\n"
          ],
          "name": "stdout"
        }
      ]
    },
    {
      "cell_type": "markdown",
      "metadata": {
        "id": "kwmbn0aM87v4"
      },
      "source": [
        "## Find the bond price of a 9% semiannual coupon rate with 20 years to maturity, a maturity value of USD 1,000. Assume that the semiannual YTMs are 6 - 10%."
      ]
    },
    {
      "cell_type": "code",
      "metadata": {
        "colab": {
          "base_uri": "https://localhost:8080/"
        },
        "id": "GwBNOY7R9prE",
        "outputId": "7b46ac20-5588-47dd-de72-f1eead8fa71f"
      },
      "source": [
        "face_value = 1000\n",
        "coupon_rate_p = 9\n",
        "years_to_maturity = 20\n",
        "freq = 2\n",
        "\n",
        "ytm_p = [6, 7, 8, 9 , 10]\n",
        "\n",
        "for p in ytm_p:\n",
        "  price = bond_price(face_value, years_to_maturity, p, coupon_rate_p, freq)\n",
        "  if price > face_value:\n",
        "    kind = \"at a premium\"\n",
        "  elif price < face_value:\n",
        "    kind = \"at a discount\"\n",
        "  else:\n",
        "    kind = \"at par\"\n",
        "  print(f'Price ytm = {p}%: ${price} {kind}')"
      ],
      "execution_count": 64,
      "outputs": [
        {
          "output_type": "stream",
          "text": [
            "Price ytm = 6%: $1346.72 at a premium\n",
            "Price ytm = 7%: $1213.55 at a premium\n",
            "Price ytm = 8%: $1098.96 at a premium\n",
            "Price ytm = 9%: $1000.0 at par\n",
            "Price ytm = 10%: $914.2 at a discount\n"
          ],
          "name": "stdout"
        }
      ]
    },
    {
      "cell_type": "markdown",
      "metadata": {
        "id": "eYxU3FP_AmgF"
      },
      "source": [
        "## Find the bond price of a 8% semiannual coupon rate with 20 years to maturity, a maturity value of USD 1,000. The market required yield are: are 6, 8 and 10%."
      ]
    }
  ]
}