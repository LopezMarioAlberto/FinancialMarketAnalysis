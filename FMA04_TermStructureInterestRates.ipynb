{
  "nbformat": 4,
  "nbformat_minor": 0,
  "metadata": {
    "colab": {
      "name": "FMA04_TermStructureInterestRates.ipynb",
      "provenance": [],
      "collapsed_sections": []
    },
    "kernelspec": {
      "display_name": "Python 3",
      "name": "python3"
    },
    "language_info": {
      "name": "python"
    }
  },
  "cells": [
    {
      "cell_type": "markdown",
      "metadata": {
        "id": "EI5crLGSEf1z"
      },
      "source": [
        "# **Term Structure of Interest Rates**"
      ]
    },
    {
      "cell_type": "code",
      "metadata": {
        "id": "HceA_vTxEBmc"
      },
      "source": [
        "from datetime import datetime\n",
        "from datetime import timedelta\n",
        "import scipy.optimize as optimize\n",
        "import pandas as pd\n",
        "import numpy as np\n",
        "import matplotlib.pyplot as plt\n",
        "import math"
      ],
      "execution_count": 1,
      "outputs": []
    },
    {
      "cell_type": "code",
      "metadata": {
        "id": "SJKkshhaFb1p"
      },
      "source": [
        "def ytm_zero(p, maturity, fv=100):\n",
        "  \"\"\"\n",
        "  p: coupon payment ($)\n",
        "  fv: Face value ($)\n",
        "  maturity: Time to maturity (years)\n",
        "\n",
        "  Returns: Yield to maturity\n",
        "  \"\"\"\n",
        "  ytm = (fv/p)**(1/maturity) - 1\n",
        "\n",
        "  return round(100 * ytm, 2)\n",
        "\n",
        "def df_zero(y, m):\n",
        "  \"\"\"\n",
        "  y: Yield to maturity (%)\n",
        "  m: Time to maturity (years)\n",
        "\n",
        "  Returns: Discount factor\n",
        "  \"\"\"\n",
        "  df = 1 / (1 + y/100)**m\n",
        "\n",
        "  return round(df, 2)\n",
        "\n",
        "\n",
        "def price_zero_bond(p, m, y):\n",
        "  \"\"\"\n",
        "  p: coupon payment ($)\n",
        "  m: Time to maturity (years)\n",
        "  y: Yield to maturity (%)\n",
        "\n",
        "  Returns: Price of a bond\n",
        "  \"\"\"\n",
        "  price = 0\n",
        "  for i in y:\n",
        "    x = y.index(i)\n",
        "    df = p[x] / (1 + y[x]/100)**m[x]\n",
        "    price += df\n",
        "\n",
        "  return price\n",
        "\n",
        "\n",
        "def ytm_zero_bond(price, p, m, ytm=0.05):\n",
        "  \"\"\"\n",
        "  price: price of the coupon bond ($)\n",
        "  p: coupon payment ($)\n",
        "  m: Time to maturity (years)\n",
        "\n",
        "  Returns: Yield to maturity of a bond\n",
        "  \"\"\"\n",
        "\n",
        "  ytm_func = lambda y : \\\n",
        "  sum([p[m.index(t)] / (1 + y)**t for t in m]) - price\n",
        "\n",
        "  return round(100*optimize.newton(ytm_func, ytm), 2)\n",
        "\n",
        "def SIR(sir, i=1):\n",
        "  \"\"\"\n",
        "  sir: Spot interest rates dictionary {t (years): interest rate (%)} \n",
        "  i: Forward i-year\n",
        "\n",
        "  Returns: Forward 1-year interest rates dictionary\n",
        "  \"\"\"\n",
        "\n",
        "  fr = {}\n",
        "  for t in sir:\n",
        "    if t == i:\n",
        "      fr[t-i] = sir[t]\n",
        "    elif t > i:\n",
        "      f = (((1 + sir[t]/100)**t / (1 + sir[t - 1]/100)**(t - i))**(1/i)) - 1 \n",
        "      fr[t-i] = round(100*f, 2)\n",
        "\n",
        "  return fr\n",
        "\n",
        "def SIRD (data, years):\n",
        "  \"\"\"\n",
        "  data: list of spot interest rates (%) \n",
        "  years: list of years\n",
        "\n",
        "  Returns: Dictionary {years: data}\n",
        "  \"\"\"\n",
        "  sir = {}\n",
        "  for y in years:\n",
        "    sir[y] = data[y - 1]\n",
        "  return sir\n",
        "\n",
        "def SIRIT(sir, t, i):\n",
        "  \"\"\"\n",
        "  sir: Dictionary {years: spot interest rates} \n",
        "  t: year interest\n",
        "  i: forward year\n",
        "\n",
        "  Returns: The i-year forward t year interest rates\n",
        "  \"\"\"\n",
        "  if t <= i:\n",
        "    f = sir[t]/100\n",
        "  else:\n",
        "    f = (((1 + sir[t]/100)**t / (1 + sir[t - 1]/100)**(t - i))**(1/i)) - 1\n",
        "\n",
        "  return round(100*f, 2)\n",
        "\n",
        "def paryield(d, m):\n",
        "  \"\"\"\n",
        "  The function returns the par-yield\n",
        "  \n",
        "  d: Discount factors (list)\n",
        "  m: Time to maturity in years (list))\n",
        "\n",
        "  return: par-yield in years (list)\n",
        "  \"\"\"\n",
        "\n",
        "  py = []\n",
        "  pt = 0\n",
        "  for i in range(len(m)):\n",
        "    pt += d[i]\n",
        "    if m[i] <= i:\n",
        "      p = 100 * (1 - d[i]/100) / (d[i]/100)\n",
        "      py.append(round(p, 2))\n",
        "    else:\n",
        "      p = 100* (1 - d[i]/100) / (pt/100)\n",
        "      py.append(round(p, 2))\n",
        "      \n",
        "  return py\n",
        "\n",
        "def pricecoupon_bond(coupon, ytm, maturity):\n",
        "  \"\"\"\n",
        "  Return the price of a bond based on given coupon\n",
        "  \n",
        "  coupon: Coupon ($)\n",
        "  ytm: Yield to maturity (%)\n",
        "  maturity: Time to maturity (years)\n",
        "\n",
        "  Returns: price\n",
        "  \"\"\"\n",
        "  ytm = ytm/100\n",
        "  dt = [i+1 for i in range(int(maturity))]\n",
        "  price = sum([coupon/(1+ytm)**t for t in dt]) + 100/(1+ytm)**maturity\n",
        "  \n",
        "  return round(price,2)\n",
        "\n",
        "\n",
        "def spot_zero(d, m):\n",
        "  \"\"\"\n",
        "  d: Discount factor (%)\n",
        "  m: Time to maturity (years)\n",
        "\n",
        "  Returns: Spot IR (%)\n",
        "  \"\"\"\n",
        "  spot = 100 * ((1 / (d/100))**(1 / m) - 1)\n",
        "\n",
        "  return round(spot, 2)"
      ],
      "execution_count": 2,
      "outputs": []
    },
    {
      "cell_type": "markdown",
      "metadata": {
        "id": "WN_YWEs-FjRo"
      },
      "source": [
        "### Calculate the YTM and the discount factors of the given zero-coupon bonds.\n",
        "\n",
        "* Years: 1 - Price: 98.70 USD\n",
        "* Years: 2 - Price: 101.70 USD\n",
        "* Years: 3 - Price: 100.00 USD "
      ]
    },
    {
      "cell_type": "code",
      "metadata": {
        "colab": {
          "base_uri": "https://localhost:8080/",
          "height": 333
        },
        "id": "4SAl4HXJ6bxW",
        "outputId": "9cb626aa-8e51-4ec2-d4ea-d2d93a2916c8"
      },
      "source": [
        "p = [98.7, 101, 100]\n",
        "m = [1, 2, 3]\n",
        "\n",
        "data = []\n",
        "for i in p:\n",
        "  ma = m[p.index(i)]\n",
        "  ytm = ytm_zero(i, ma)\n",
        "  df = df_zero(ytm, ma)\n",
        "  data.append([ma, i, ytm, df])\n",
        "\n",
        "df = pd.DataFrame(data, columns=['Years', 'Price', 'YTM', 'DF'])\n",
        "print(df)\n",
        "\n",
        "df.plot(y=['YTM'])\n",
        "plt.show()"
      ],
      "execution_count": 3,
      "outputs": [
        {
          "output_type": "stream",
          "text": [
            "   Years  Price   YTM    DF\n",
            "0      1   98.7  1.32  0.99\n",
            "1      2  101.0 -0.50  1.01\n",
            "2      3  100.0  0.00  1.00\n"
          ],
          "name": "stdout"
        },
        {
          "output_type": "display_data",
          "data": {
            "image/png": "[encoded data removed]",
            "text/plain": [
              "<Figure size 432x288 with 1 Axes>"
            ]
          },
          "metadata": {
            "tags": [],
            "needs_background": "light"
          }
        }
      ]
    },
    {
      "cell_type": "markdown",
      "metadata": {
        "id": "5kpJPb8fRLEM"
      },
      "source": [
        "### Use the give yield curve to calculate the price of the give coupon bond and then calculate the coupon bond's YTM\n",
        "\n",
        "The Term-Structure of Interest Rates:\n",
        "\n",
        "Maturity \t1\t/ 2\t/ 3\n",
        "\n",
        "YTM \t3 %\t/ 4 %\t/ 5 %\n",
        "\t\t\t\n",
        "Table of future cash flow:\n",
        "\n",
        "Maturity \t1\t/ 2\t/ 3\n",
        "\n",
        "Cash-flow\t5,00 /\t5,00 /\t105,00"
      ]
    },
    {
      "cell_type": "code",
      "metadata": {
        "colab": {
          "base_uri": "https://localhost:8080/"
        },
        "id": "jQEf8ttGRMvm",
        "outputId": "6db9a820-635f-4c09-c6fb-0be013d7e18b"
      },
      "source": [
        "# price_zero_bond(p, m, y)\n",
        "m = [1, 2, 3]\n",
        "y = [3, 4, 5]\n",
        "p = [5, 5, 105]\n",
        "\n",
        "\n",
        "price = price_zero_bond(p, m, y)\n",
        "print(f'Price: ${round(price, 2)}')"
      ],
      "execution_count": 4,
      "outputs": [
        {
          "output_type": "stream",
          "text": [
            "Price: $100.18\n"
          ],
          "name": "stdout"
        }
      ]
    },
    {
      "cell_type": "code",
      "metadata": {
        "colab": {
          "base_uri": "https://localhost:8080/"
        },
        "id": "Hb6qgqtzW_O_",
        "outputId": "a36633d4-2bc1-4897-cd0f-99f675471779"
      },
      "source": [
        "# ytm_zero_bond(price, p, m, ytm=0.05)\n",
        "ytm = ytm_zero_bond(price, p, m, ytm=0.05)\n",
        "print(f'YTM: {ytm}%')"
      ],
      "execution_count": 5,
      "outputs": [
        {
          "output_type": "stream",
          "text": [
            "YTM: 4.93%\n"
          ],
          "name": "stdout"
        }
      ]
    },
    {
      "cell_type": "markdown",
      "metadata": {
        "id": "xVlhbLOAb6ZI"
      },
      "source": [
        "### Calculate the 2-year forward 3 year interest rate, f(2, 3), for both Indonesia and Brazil.\n",
        "\n",
        "![image.png](data:image/png;base64,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)"
      ]
    },
    {
      "cell_type": "code",
      "metadata": {
        "colab": {
          "base_uri": "https://localhost:8080/"
        },
        "id": "4z2-3QVXcXVu",
        "outputId": "ce4283cb-4a75-445d-dbd6-9771bd15a6ec"
      },
      "source": [
        "# SIRD (data, years)\n",
        "# SIRIT(sir, t, i)\n",
        "years = [1,\t2,\t3,\t4,\t5,\t6,\t7,\t8,\t9,\t10]\n",
        "\n",
        "data = [7.38,\t7.586,\t7.723,\t7.81,\t7.871,\t7.919,\t7.97,\t8.02,\t8.077,\t8.143]\n",
        "sir = SIRD (data, years)\n",
        "print (f'jan/2/2015: {SIRIT(sir, 3, 2)}%')\n",
        "\n",
        "data = [6.812,\t7.065,\t7.249,\t7.374,\t7.467,\t7.538,\t7.612,\t7.665,\t7.71,\t7.752]\n",
        "sir = SIRD (data, years)\n",
        "print (f'apr/1/2015: {SIRIT(sir, 3, 2)}%')\n",
        "\n",
        "data = [7.58,\t7.929,\t8.166,\t8.311,\t8.411,\t8.471,\t8.536,\t8.56,\t8.57,\t8.577]\n",
        "sir = SIRD (data, years)\n",
        "print (f'jul/2/2015: {SIRIT(sir, 3, 2)}%')"
      ],
      "execution_count": 6,
      "outputs": [
        {
          "output_type": "stream",
          "text": [
            "jan/2/2015: 7.79%\n",
            "apr/1/2015: 7.34%\n",
            "jul/2/2015: 8.28%\n"
          ],
          "name": "stdout"
        }
      ]
    },
    {
      "cell_type": "markdown",
      "metadata": {
        "id": "JndcZw1aGAVi"
      },
      "source": [
        "### Calculate t-year forward 1-year interest rates and t-year forward 3-year interest rates curve and then t-year forward\n",
        "\n",
        "![image.png](data:image/png;base64,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)"
      ]
    },
    {
      "cell_type": "code",
      "metadata": {
        "colab": {
          "base_uri": "https://localhost:8080/"
        },
        "id": "99xMgPpKGTBz",
        "outputId": "65338731-0acd-4077-a768-3a0dda68dc67"
      },
      "source": [
        "# SIRD (data, years)\n",
        "data = [1.16,\t1.83,\t2.57,\t3.15,\t3.67,\t4.06,\t4.45,\t4.74,\t4.96,\t5.14]\n",
        "years = [1,\t2,\t3,\t4,\t5,\t6,\t7,\t8,\t9,\t10]\n",
        "sir = SIRD (data, years)\n",
        "\n",
        "# SIR(sir, i=1)\n",
        "fr1 = SIR(sir)\n",
        "fr3 = SIR(sir, 3)\n",
        "print(f'Forward 1-year interest rates: {fr1}')\n",
        "print(f'Forward 3-year interest rates: {fr3}')\n",
        "\n",
        "fir = {}\n",
        "for y in years:\n",
        "  f = SIRIT(sir, y, 1)\n",
        "  fir[y-i] = round(100*f, 2)\n",
        "\n",
        "print(f'1-year forward i-year interest rates: {fir}')"
      ],
      "execution_count": 7,
      "outputs": [
        {
          "output_type": "stream",
          "text": [
            "Forward 1-year interest rates: {0: 1.16, 1: 2.5, 2: 4.07, 3: 4.91, 4: 5.78, 5: 6.03, 6: 6.82, 7: 6.79, 8: 6.74, 9: 6.77}\n",
            "Forward 3-year interest rates: {0: 2.57, 1: 3.34, 2: 4.02, 3: 4.45, 4: 4.97, 5: 5.23, 6: 5.4, 7: 5.56}\n",
            "1-year forward i-year interest rates: {-99: 116.0, -98: 250.0, -97: 407.0, -96: 491.0, -95: 578.0, -94: 603.0, -93: 682.0, -92: 679.0, -91: 674.0, -90: 677.0}\n"
          ],
          "name": "stdout"
        }
      ]
    },
    {
      "cell_type": "markdown",
      "metadata": {
        "id": "uXjOGTPlPbKw"
      },
      "source": [
        "### Calculate the discount factor and the par-yield.\n",
        "\n",
        "![image.png](data:image/png;base64,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)\n",
        "\n"
      ]
    },
    {
      "cell_type": "code",
      "metadata": {
        "colab": {
          "base_uri": "https://localhost:8080/"
        },
        "id": "dNGuVwd-TVFx",
        "outputId": "a30eaaa1-3cc2-4e84-b8c8-86db48eca229"
      },
      "source": [
        "# df_zero(y, m)\n",
        "years = [1,\t2,\t3,\t4,\t5,\t6,\t7,\t8,\t9,\t10]\n",
        "spot = [7.58,\t7.929,\t8.166,\t8.311,\t8.411,\t8.471,\t8.536,\t8.56,\t8.57,\t8.577]\n",
        "\n",
        "data = []\n",
        "for i in spot:\n",
        "  ma = years[spot.index(i)]\n",
        "  df = df_zero(i, ma)\n",
        "  data.append([ma, i, 100*df])\n",
        "\n",
        "df = pd.DataFrame(data, columns=['Years', 'YTM', 'DF'])\n",
        "print(df)\n"
      ],
      "execution_count": 8,
      "outputs": [
        {
          "output_type": "stream",
          "text": [
            "   Years    YTM    DF\n",
            "0      1  7.580  93.0\n",
            "1      2  7.929  86.0\n",
            "2      3  8.166  79.0\n",
            "3      4  8.311  73.0\n",
            "4      5  8.411  67.0\n",
            "5      6  8.471  61.0\n",
            "6      7  8.536  56.0\n",
            "7      8  8.560  52.0\n",
            "8      9  8.570  48.0\n",
            "9     10  8.577  44.0\n"
          ],
          "name": "stdout"
        }
      ]
    },
    {
      "cell_type": "code",
      "metadata": {
        "colab": {
          "base_uri": "https://localhost:8080/",
          "height": 452
        },
        "id": "V1SkR6fpLlr-",
        "outputId": "d51d0e13-b999-40dd-b5ab-0023412ce391"
      },
      "source": [
        "# paryield(d, m)\n",
        "difa = df['DF'].tolist()\n",
        "py = paryield(difa, years)\n",
        "df['PY'] = py\n",
        "print(df)\n",
        "df.plot(y=['YTM', 'PY'])\n",
        "plt.show()"
      ],
      "execution_count": 9,
      "outputs": [
        {
          "output_type": "stream",
          "text": [
            "   Years    YTM    DF    PY\n",
            "0      1  7.580  93.0  7.53\n",
            "1      2  7.929  86.0  7.82\n",
            "2      3  8.166  79.0  8.14\n",
            "3      4  8.311  73.0  8.16\n",
            "4      5  8.411  67.0  8.29\n",
            "5      6  8.471  61.0  8.50\n",
            "6      7  8.536  56.0  8.54\n",
            "7      8  8.560  52.0  8.47\n",
            "8      9  8.570  48.0  8.46\n",
            "9     10  8.577  44.0  8.50\n"
          ],
          "name": "stdout"
        },
        {
          "output_type": "display_data",
          "data": {
            "image/png": "[encoded data removed]",
            "text/plain": [
              "<Figure size 432x288 with 1 Axes>"
            ]
          },
          "metadata": {
            "tags": [],
            "needs_background": "light"
          }
        }
      ]
    },
    {
      "cell_type": "markdown",
      "metadata": {
        "id": "_kFtgduAa4nL"
      },
      "source": [
        "### Calculate the price, the discount factor and the spot rate.\n",
        "\n",
        "Maturity, Yield, Coupon\n",
        "* 1, 6.78 %, 10.75\n",
        "* 2, 7.91 %, 10.00\n",
        "* 3, 8.17 %, 5.25\n",
        "* 4, 8.36 %, 7.88\n",
        "* 5, 8.51 %, 12.80\n",
        "* 6, 8.35 %, 8.25\n",
        "* 7, 8.56 %, 10.25\n",
        "* 8, 8.55 %, 5.63\n",
        "* 9, 8.48 %, 8.38\n",
        "* 10, 8.48 %, 8.38"
      ]
    },
    {
      "cell_type": "code",
      "metadata": {
        "colab": {
          "base_uri": "https://localhost:8080/",
          "height": 359
        },
        "id": "OEQWTazNbxa2",
        "outputId": "92703ce7-6ef4-4d6d-e304-cf34fa6fc817"
      },
      "source": [
        "columns = ['Maturity', 'YTM', 'Coupon', 'Price', 'DF', 'Spot IR']\n",
        "maturity = [1, 2, 3, 4, 5, 6, 7, 8, 9, 10]\n",
        "ytm = [6.7, 7.91, 8.17, 8.36, 8.51, 8.35, 8.56, 8.55, 8.48, 8.48]\n",
        "coupon = [10.75, 10.00, 5.25, 7.88, 12.80, 8.25, 10.25, 5.63, 8.38, 8.38]\n",
        "\n",
        "price = []\n",
        "discount_factor = []\n",
        "spor_ir = []\n",
        "data = []\n",
        "for i in range(len(maturity)):\n",
        "  p = pricecoupon_bond(coupon[i], ytm[i], maturity[i])  # pricecoupon_bond(coupon, ytm, maturity)\n",
        "  price.append(p)\n",
        "  d = df_zero(ytm[i], maturity[i])  # df_zero(y, m)\n",
        "  discount_factor.append(round(100*d, 2))\n",
        "  s = spot_zero(round(100*d, 2), maturity[i])  # spot_zero(d, m)\n",
        "  spor_ir.append(s)\n",
        "\n",
        "  data.append([maturity[i], ytm[i], coupon[i], p, round(100*d, 2), s])\n",
        "\n",
        "df = pd.DataFrame(data, columns=columns)\n",
        "df"
      ],
      "execution_count": 10,
      "outputs": [
        {
          "output_type": "execute_result",
          "data": {
            "text/html": [
              "<div>\n",
              "<style scoped>\n",
              "    .dataframe tbody tr th:only-of-type {\n",
              "        vertical-align: middle;\n",
              "    }\n",
              "\n",
              "    .dataframe tbody tr th {\n",
              "        vertical-align: top;\n",
              "    }\n",
              "\n",
              "    .dataframe thead th {\n",
              "        text-align: right;\n",
              "    }\n",
              "</style>\n",
              "<table border=\"1\" class=\"dataframe\">\n",
              "  <thead>\n",
              "    <tr style=\"text-align: right;\">\n",
              "      <th></th>\n",
              "      <th>Maturity</th>\n",
              "      <th>YTM</th>\n",
              "      <th>Coupon</th>\n",
              "      <th>Price</th>\n",
              "      <th>DF</th>\n",
              "      <th>Spot IR</th>\n",
              "    </tr>\n",
              "  </thead>\n",
              "  <tbody>\n",
              "    <tr>\n",
              "      <th>0</th>\n",
              "      <td>1</td>\n",
              "      <td>6.70</td>\n",
              "      <td>10.75</td>\n",
              "      <td>103.80</td>\n",
              "      <td>94.0</td>\n",
              "      <td>6.38</td>\n",
              "    </tr>\n",
              "    <tr>\n",
              "      <th>1</th>\n",
              "      <td>2</td>\n",
              "      <td>7.91</td>\n",
              "      <td>10.00</td>\n",
              "      <td>103.73</td>\n",
              "      <td>86.0</td>\n",
              "      <td>7.83</td>\n",
              "    </tr>\n",
              "    <tr>\n",
              "      <th>2</th>\n",
              "      <td>3</td>\n",
              "      <td>8.17</td>\n",
              "      <td>5.25</td>\n",
              "      <td>92.50</td>\n",
              "      <td>79.0</td>\n",
              "      <td>8.17</td>\n",
              "    </tr>\n",
              "    <tr>\n",
              "      <th>3</th>\n",
              "      <td>4</td>\n",
              "      <td>8.36</td>\n",
              "      <td>7.88</td>\n",
              "      <td>98.42</td>\n",
              "      <td>73.0</td>\n",
              "      <td>8.19</td>\n",
              "    </tr>\n",
              "    <tr>\n",
              "      <th>4</th>\n",
              "      <td>5</td>\n",
              "      <td>8.51</td>\n",
              "      <td>12.80</td>\n",
              "      <td>116.90</td>\n",
              "      <td>66.0</td>\n",
              "      <td>8.67</td>\n",
              "    </tr>\n",
              "    <tr>\n",
              "      <th>5</th>\n",
              "      <td>6</td>\n",
              "      <td>8.35</td>\n",
              "      <td>8.25</td>\n",
              "      <td>99.54</td>\n",
              "      <td>62.0</td>\n",
              "      <td>8.29</td>\n",
              "    </tr>\n",
              "    <tr>\n",
              "      <th>6</th>\n",
              "      <td>7</td>\n",
              "      <td>8.56</td>\n",
              "      <td>10.25</td>\n",
              "      <td>108.63</td>\n",
              "      <td>56.0</td>\n",
              "      <td>8.64</td>\n",
              "    </tr>\n",
              "    <tr>\n",
              "      <th>7</th>\n",
              "      <td>8</td>\n",
              "      <td>8.55</td>\n",
              "      <td>5.63</td>\n",
              "      <td>83.56</td>\n",
              "      <td>52.0</td>\n",
              "      <td>8.52</td>\n",
              "    </tr>\n",
              "    <tr>\n",
              "      <th>8</th>\n",
              "      <td>9</td>\n",
              "      <td>8.48</td>\n",
              "      <td>8.38</td>\n",
              "      <td>99.39</td>\n",
              "      <td>48.0</td>\n",
              "      <td>8.50</td>\n",
              "    </tr>\n",
              "    <tr>\n",
              "      <th>9</th>\n",
              "      <td>10</td>\n",
              "      <td>8.48</td>\n",
              "      <td>8.38</td>\n",
              "      <td>99.34</td>\n",
              "      <td>44.0</td>\n",
              "      <td>8.56</td>\n",
              "    </tr>\n",
              "  </tbody>\n",
              "</table>\n",
              "</div>"
            ],
            "text/plain": [
              "   Maturity   YTM  Coupon   Price    DF  Spot IR\n",
              "0         1  6.70   10.75  103.80  94.0     6.38\n",
              "1         2  7.91   10.00  103.73  86.0     7.83\n",
              "2         3  8.17    5.25   92.50  79.0     8.17\n",
              "3         4  8.36    7.88   98.42  73.0     8.19\n",
              "4         5  8.51   12.80  116.90  66.0     8.67\n",
              "5         6  8.35    8.25   99.54  62.0     8.29\n",
              "6         7  8.56   10.25  108.63  56.0     8.64\n",
              "7         8  8.55    5.63   83.56  52.0     8.52\n",
              "8         9  8.48    8.38   99.39  48.0     8.50\n",
              "9        10  8.48    8.38   99.34  44.0     8.56"
            ]
          },
          "metadata": {
            "tags": []
          },
          "execution_count": 10
        }
      ]
    },
    {
      "cell_type": "markdown",
      "metadata": {
        "id": "vrWjbd1l8jCR"
      },
      "source": [
        "### Create the cash-flow table.\n",
        "\n",
        "![image.png](data:image/png;base64,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)"
      ]
    },
    {
      "cell_type": "code",
      "metadata": {
        "id": "uj_I7gde84I5",
        "colab": {
          "base_uri": "https://localhost:8080/",
          "height": 204
        },
        "outputId": "19995d5f-1a88-4ff9-c750-672cef5604cb"
      },
      "source": [
        "data = [\n",
        "        [0.20, 1, 100.02], \n",
        "        [3.51, 1, 102.29],\n",
        "        [1.69, 1, 101.10],\n",
        "        [0.21, 1, 100.02],\n",
        "        [1.75, 1, 101.51],\n",
        "        [0.15, 1, 99.90],\n",
        "        [1.65, 1, 101.67],\n",
        "        [3.50, 1, 103.95],\n",
        "        [0.32, 1, 100.01],\n",
        "        [1.18, 1, 101.24],\n",
        "        [0.30, 2, 99.87],\n",
        "        [4.33, 2, 106.60],\n",
        "        [1.52, 2, 101.91],\n",
        "        [0.38, 2, 99.87],\n",
        "        [1.91, 2, 102.79],\n",
        "        [4.83, 2, 109.24],\n",
        "        [1.57, 2, 102.17],\n",
        "        [0.79, 2, 100.27],\n",
        "        [3.78, 3, 108.00],\n",
        "        [0.82, 3, 100.11],\n",
        "        [0.55, 3, 99.04],\n",
        "        [0.44, 3, 98.34],\n",
        "        [4.85, 3, 112.34],\n",
        "        [0.25, 3, 97.27],\n",
        "        [3.52, 4, 108.60],\n",
        "        [0.27, 4, 96.84],\n",
        "        [0.53, 4, 97.29],\n",
        "        [0.79, 4, 97.90],\n",
        "        [3.56, 4, 109.24],\n",
        "        [1.52, 4, 100.59],\n",
        "        [1.61, 5, 100.74],\n",
        "        [1.17, 5, 98.71],\n",
        "        [1.35, 5, 99.13],\n",
        "        [2.64, 5, 105.29],\n",
        "        [2.16, 6, 102.61],\n",
        "        [2.53, 6, 104.35],\n",
        "        [2.44, 7, 103.48],\n",
        "        [2.31, 7, 102.36],\n",
        "        [1.19, 8, 94.12],\n",
        "        [0.97, 8, 91.55],\n",
        "        [4.65, 8, 119.41],\n",
        "        [0.55, 9, 87.34],\n",
        "        [2.71, 9, 104.23],\n",
        "        [1.09, 9, 90.63],\n",
        "        [3.27, 9, 108.56],\n",
        "        [1.94, 10, 96.96],\n",
        "        [1.73, 10, 94.96],\n",
        "        [2.60, 10, 102.49]\n",
        "        ]\n",
        "columns = ['Coupon', 'Maturity', 'Prices']\n",
        "\n",
        "df = pd.DataFrame(data, columns=columns)\n",
        "\n",
        "df.head()"
      ],
      "execution_count": 11,
      "outputs": [
        {
          "output_type": "execute_result",
          "data": {
            "text/html": [
              "<div>\n",
              "<style scoped>\n",
              "    .dataframe tbody tr th:only-of-type {\n",
              "        vertical-align: middle;\n",
              "    }\n",
              "\n",
              "    .dataframe tbody tr th {\n",
              "        vertical-align: top;\n",
              "    }\n",
              "\n",
              "    .dataframe thead th {\n",
              "        text-align: right;\n",
              "    }\n",
              "</style>\n",
              "<table border=\"1\" class=\"dataframe\">\n",
              "  <thead>\n",
              "    <tr style=\"text-align: right;\">\n",
              "      <th></th>\n",
              "      <th>Coupon</th>\n",
              "      <th>Maturity</th>\n",
              "      <th>Prices</th>\n",
              "    </tr>\n",
              "  </thead>\n",
              "  <tbody>\n",
              "    <tr>\n",
              "      <th>0</th>\n",
              "      <td>0.20</td>\n",
              "      <td>1</td>\n",
              "      <td>100.02</td>\n",
              "    </tr>\n",
              "    <tr>\n",
              "      <th>1</th>\n",
              "      <td>3.51</td>\n",
              "      <td>1</td>\n",
              "      <td>102.29</td>\n",
              "    </tr>\n",
              "    <tr>\n",
              "      <th>2</th>\n",
              "      <td>1.69</td>\n",
              "      <td>1</td>\n",
              "      <td>101.10</td>\n",
              "    </tr>\n",
              "    <tr>\n",
              "      <th>3</th>\n",
              "      <td>0.21</td>\n",
              "      <td>1</td>\n",
              "      <td>100.02</td>\n",
              "    </tr>\n",
              "    <tr>\n",
              "      <th>4</th>\n",
              "      <td>1.75</td>\n",
              "      <td>1</td>\n",
              "      <td>101.51</td>\n",
              "    </tr>\n",
              "  </tbody>\n",
              "</table>\n",
              "</div>"
            ],
            "text/plain": [
              "   Coupon  Maturity  Prices\n",
              "0    0.20         1  100.02\n",
              "1    3.51         1  102.29\n",
              "2    1.69         1  101.10\n",
              "3    0.21         1  100.02\n",
              "4    1.75         1  101.51"
            ]
          },
          "metadata": {
            "tags": []
          },
          "execution_count": 11
        }
      ]
    },
    {
      "cell_type": "code",
      "metadata": {
        "colab": {
          "base_uri": "https://localhost:8080/",
          "height": 224
        },
        "id": "93S-olRDYJJL",
        "outputId": "bded0a3a-11b1-4835-e5a3-48b0356138fb"
      },
      "source": [
        "# Iteration for coupon payment\n",
        "for j in range(10):\n",
        "  c = []\n",
        "  for i in data:\n",
        "    c.append(0) if i[1] < j + 1 else c.append(i[0])\n",
        "  df['CP' + str(j +1)] = c\n",
        "# Iteration for principle repayment\n",
        "for j in range(10):\n",
        "  c = []\n",
        "  for i in data:\n",
        "    c.append(100) if i[1] == j + 1 else c.append(0)\n",
        "  df['PR' + str(j + 1)] = c\n",
        "\n",
        "# Iteration for cashflows\n",
        "for j in range(10):\n",
        "  df['CF' + str(j + 1)] = df['CP'+ str(j + 1)] + df['PR'+ str(j + 1)]\n",
        "df.head()"
      ],
      "execution_count": 12,
      "outputs": [
        {
          "output_type": "execute_result",
          "data": {
            "text/html": [
              "<div>\n",
              "<style scoped>\n",
              "    .dataframe tbody tr th:only-of-type {\n",
              "        vertical-align: middle;\n",
              "    }\n",
              "\n",
              "    .dataframe tbody tr th {\n",
              "        vertical-align: top;\n",
              "    }\n",
              "\n",
              "    .dataframe thead th {\n",
              "        text-align: right;\n",
              "    }\n",
              "</style>\n",
              "<table border=\"1\" class=\"dataframe\">\n",
              "  <thead>\n",
              "    <tr style=\"text-align: right;\">\n",
              "      <th></th>\n",
              "      <th>Coupon</th>\n",
              "      <th>Maturity</th>\n",
              "      <th>Prices</th>\n",
              "      <th>CP1</th>\n",
              "      <th>CP2</th>\n",
              "      <th>CP3</th>\n",
              "      <th>CP4</th>\n",
              "      <th>CP5</th>\n",
              "      <th>CP6</th>\n",
              "      <th>CP7</th>\n",
              "      <th>CP8</th>\n",
              "      <th>CP9</th>\n",
              "      <th>CP10</th>\n",
              "      <th>PR1</th>\n",
              "      <th>PR2</th>\n",
              "      <th>PR3</th>\n",
              "      <th>PR4</th>\n",
              "      <th>PR5</th>\n",
              "      <th>PR6</th>\n",
              "      <th>PR7</th>\n",
              "      <th>PR8</th>\n",
              "      <th>PR9</th>\n",
              "      <th>PR10</th>\n",
              "      <th>CF1</th>\n",
              "      <th>CF2</th>\n",
              "      <th>CF3</th>\n",
              "      <th>CF4</th>\n",
              "      <th>CF5</th>\n",
              "      <th>CF6</th>\n",
              "      <th>CF7</th>\n",
              "      <th>CF8</th>\n",
              "      <th>CF9</th>\n",
              "      <th>CF10</th>\n",
              "    </tr>\n",
              "  </thead>\n",
              "  <tbody>\n",
              "    <tr>\n",
              "      <th>0</th>\n",
              "      <td>0.20</td>\n",
              "      <td>1</td>\n",
              "      <td>100.02</td>\n",
              "      <td>0.20</td>\n",
              "      <td>0.0</td>\n",
              "      <td>0.0</td>\n",
              "      <td>0.0</td>\n",
              "      <td>0.0</td>\n",
              "      <td>0.0</td>\n",
              "      <td>0.0</td>\n",
              "      <td>0.0</td>\n",
              "      <td>0.0</td>\n",
              "      <td>0.0</td>\n",
              "      <td>100</td>\n",
              "      <td>0</td>\n",
              "      <td>0</td>\n",
              "      <td>0</td>\n",
              "      <td>0</td>\n",
              "      <td>0</td>\n",
              "      <td>0</td>\n",
              "      <td>0</td>\n",
              "      <td>0</td>\n",
              "      <td>0</td>\n",
              "      <td>100.20</td>\n",
              "      <td>0.0</td>\n",
              "      <td>0.0</td>\n",
              "      <td>0.0</td>\n",
              "      <td>0.0</td>\n",
              "      <td>0.0</td>\n",
              "      <td>0.0</td>\n",
              "      <td>0.0</td>\n",
              "      <td>0.0</td>\n",
              "      <td>0.0</td>\n",
              "    </tr>\n",
              "    <tr>\n",
              "      <th>1</th>\n",
              "      <td>3.51</td>\n",
              "      <td>1</td>\n",
              "      <td>102.29</td>\n",
              "      <td>3.51</td>\n",
              "      <td>0.0</td>\n",
              "      <td>0.0</td>\n",
              "      <td>0.0</td>\n",
              "      <td>0.0</td>\n",
              "      <td>0.0</td>\n",
              "      <td>0.0</td>\n",
              "      <td>0.0</td>\n",
              "      <td>0.0</td>\n",
              "      <td>0.0</td>\n",
              "      <td>100</td>\n",
              "      <td>0</td>\n",
              "      <td>0</td>\n",
              "      <td>0</td>\n",
              "      <td>0</td>\n",
              "      <td>0</td>\n",
              "      <td>0</td>\n",
              "      <td>0</td>\n",
              "      <td>0</td>\n",
              "      <td>0</td>\n",
              "      <td>103.51</td>\n",
              "      <td>0.0</td>\n",
              "      <td>0.0</td>\n",
              "      <td>0.0</td>\n",
              "      <td>0.0</td>\n",
              "      <td>0.0</td>\n",
              "      <td>0.0</td>\n",
              "      <td>0.0</td>\n",
              "      <td>0.0</td>\n",
              "      <td>0.0</td>\n",
              "    </tr>\n",
              "    <tr>\n",
              "      <th>2</th>\n",
              "      <td>1.69</td>\n",
              "      <td>1</td>\n",
              "      <td>101.10</td>\n",
              "      <td>1.69</td>\n",
              "      <td>0.0</td>\n",
              "      <td>0.0</td>\n",
              "      <td>0.0</td>\n",
              "      <td>0.0</td>\n",
              "      <td>0.0</td>\n",
              "      <td>0.0</td>\n",
              "      <td>0.0</td>\n",
              "      <td>0.0</td>\n",
              "      <td>0.0</td>\n",
              "      <td>100</td>\n",
              "      <td>0</td>\n",
              "      <td>0</td>\n",
              "      <td>0</td>\n",
              "      <td>0</td>\n",
              "      <td>0</td>\n",
              "      <td>0</td>\n",
              "      <td>0</td>\n",
              "      <td>0</td>\n",
              "      <td>0</td>\n",
              "      <td>101.69</td>\n",
              "      <td>0.0</td>\n",
              "      <td>0.0</td>\n",
              "      <td>0.0</td>\n",
              "      <td>0.0</td>\n",
              "      <td>0.0</td>\n",
              "      <td>0.0</td>\n",
              "      <td>0.0</td>\n",
              "      <td>0.0</td>\n",
              "      <td>0.0</td>\n",
              "    </tr>\n",
              "    <tr>\n",
              "      <th>3</th>\n",
              "      <td>0.21</td>\n",
              "      <td>1</td>\n",
              "      <td>100.02</td>\n",
              "      <td>0.21</td>\n",
              "      <td>0.0</td>\n",
              "      <td>0.0</td>\n",
              "      <td>0.0</td>\n",
              "      <td>0.0</td>\n",
              "      <td>0.0</td>\n",
              "      <td>0.0</td>\n",
              "      <td>0.0</td>\n",
              "      <td>0.0</td>\n",
              "      <td>0.0</td>\n",
              "      <td>100</td>\n",
              "      <td>0</td>\n",
              "      <td>0</td>\n",
              "      <td>0</td>\n",
              "      <td>0</td>\n",
              "      <td>0</td>\n",
              "      <td>0</td>\n",
              "      <td>0</td>\n",
              "      <td>0</td>\n",
              "      <td>0</td>\n",
              "      <td>100.21</td>\n",
              "      <td>0.0</td>\n",
              "      <td>0.0</td>\n",
              "      <td>0.0</td>\n",
              "      <td>0.0</td>\n",
              "      <td>0.0</td>\n",
              "      <td>0.0</td>\n",
              "      <td>0.0</td>\n",
              "      <td>0.0</td>\n",
              "      <td>0.0</td>\n",
              "    </tr>\n",
              "    <tr>\n",
              "      <th>4</th>\n",
              "      <td>1.75</td>\n",
              "      <td>1</td>\n",
              "      <td>101.51</td>\n",
              "      <td>1.75</td>\n",
              "      <td>0.0</td>\n",
              "      <td>0.0</td>\n",
              "      <td>0.0</td>\n",
              "      <td>0.0</td>\n",
              "      <td>0.0</td>\n",
              "      <td>0.0</td>\n",
              "      <td>0.0</td>\n",
              "      <td>0.0</td>\n",
              "      <td>0.0</td>\n",
              "      <td>100</td>\n",
              "      <td>0</td>\n",
              "      <td>0</td>\n",
              "      <td>0</td>\n",
              "      <td>0</td>\n",
              "      <td>0</td>\n",
              "      <td>0</td>\n",
              "      <td>0</td>\n",
              "      <td>0</td>\n",
              "      <td>0</td>\n",
              "      <td>101.75</td>\n",
              "      <td>0.0</td>\n",
              "      <td>0.0</td>\n",
              "      <td>0.0</td>\n",
              "      <td>0.0</td>\n",
              "      <td>0.0</td>\n",
              "      <td>0.0</td>\n",
              "      <td>0.0</td>\n",
              "      <td>0.0</td>\n",
              "      <td>0.0</td>\n",
              "    </tr>\n",
              "  </tbody>\n",
              "</table>\n",
              "</div>"
            ],
            "text/plain": [
              "   Coupon  Maturity  Prices   CP1  CP2  CP3  ...  CF5  CF6  CF7  CF8  CF9  CF10\n",
              "0    0.20         1  100.02  0.20  0.0  0.0  ...  0.0  0.0  0.0  0.0  0.0   0.0\n",
              "1    3.51         1  102.29  3.51  0.0  0.0  ...  0.0  0.0  0.0  0.0  0.0   0.0\n",
              "2    1.69         1  101.10  1.69  0.0  0.0  ...  0.0  0.0  0.0  0.0  0.0   0.0\n",
              "3    0.21         1  100.02  0.21  0.0  0.0  ...  0.0  0.0  0.0  0.0  0.0   0.0\n",
              "4    1.75         1  101.51  1.75  0.0  0.0  ...  0.0  0.0  0.0  0.0  0.0   0.0\n",
              "\n",
              "[5 rows x 33 columns]"
            ]
          },
          "metadata": {
            "tags": []
          },
          "execution_count": 12
        }
      ]
    },
    {
      "cell_type": "code",
      "metadata": {
        "colab": {
          "base_uri": "https://localhost:8080/",
          "height": 444
        },
        "id": "yat_CWXTyiFn",
        "outputId": "3a0860bb-a254-4f6d-c1fe-77c6016d5d7e"
      },
      "source": [
        "import statsmodels.api as sm\n",
        "\n",
        "y = df['Prices'] \n",
        "x1 = df['CF1']\n",
        "x = sm.add_constant(x1)\n",
        "results = sm.OLS(y,x).fit()\n",
        " \n",
        "results.summary()"
      ],
      "execution_count": 16,
      "outputs": [
        {
          "output_type": "execute_result",
          "data": {
            "text/html": [
              "<table class=\"simpletable\">\n",
              "<caption>OLS Regression Results</caption>\n",
              "<tr>\n",
              "  <th>Dep. Variable:</th>         <td>Prices</td>      <th>  R-squared:         </th> <td>   0.000</td>\n",
              "</tr>\n",
              "<tr>\n",
              "  <th>Model:</th>                   <td>OLS</td>       <th>  Adj. R-squared:    </th> <td>  -0.022</td>\n",
              "</tr>\n",
              "<tr>\n",
              "  <th>Method:</th>             <td>Least Squares</td>  <th>  F-statistic:       </th> <td>0.001074</td>\n",
              "</tr>\n",
              "<tr>\n",
              "  <th>Date:</th>             <td>Fri, 04 Jun 2021</td> <th>  Prob (F-statistic):</th>  <td> 0.974</td> \n",
              "</tr>\n",
              "<tr>\n",
              "  <th>Time:</th>                 <td>10:13:26</td>     <th>  Log-Likelihood:    </th> <td> -149.51</td>\n",
              "</tr>\n",
              "<tr>\n",
              "  <th>No. Observations:</th>      <td>    48</td>      <th>  AIC:               </th> <td>   303.0</td>\n",
              "</tr>\n",
              "<tr>\n",
              "  <th>Df Residuals:</th>          <td>    46</td>      <th>  BIC:               </th> <td>   306.8</td>\n",
              "</tr>\n",
              "<tr>\n",
              "  <th>Df Model:</th>              <td>     1</td>      <th>                     </th>     <td> </td>   \n",
              "</tr>\n",
              "<tr>\n",
              "  <th>Covariance Type:</th>      <td>nonrobust</td>    <th>                     </th>     <td> </td>   \n",
              "</tr>\n",
              "</table>\n",
              "<table class=\"simpletable\">\n",
              "<tr>\n",
              "    <td></td>       <th>coef</th>     <th>std err</th>      <th>t</th>      <th>P>|t|</th>  <th>[0.025</th>    <th>0.975]</th>  \n",
              "</tr>\n",
              "<tr>\n",
              "  <th>const</th> <td>  101.3792</td> <td>    0.921</td> <td>  110.021</td> <td> 0.000</td> <td>   99.524</td> <td>  103.234</td>\n",
              "</tr>\n",
              "<tr>\n",
              "  <th>CF1</th>   <td>    0.0007</td> <td>    0.020</td> <td>    0.033</td> <td> 0.974</td> <td>   -0.039</td> <td>    0.041</td>\n",
              "</tr>\n",
              "</table>\n",
              "<table class=\"simpletable\">\n",
              "<tr>\n",
              "  <th>Omnibus:</th>       <td> 6.923</td> <th>  Durbin-Watson:     </th> <td>   2.910</td>\n",
              "</tr>\n",
              "<tr>\n",
              "  <th>Prob(Omnibus):</th> <td> 0.031</td> <th>  Jarque-Bera (JB):  </th> <td>   8.080</td>\n",
              "</tr>\n",
              "<tr>\n",
              "  <th>Skew:</th>          <td> 0.438</td> <th>  Prob(JB):          </th> <td>  0.0176</td>\n",
              "</tr>\n",
              "<tr>\n",
              "  <th>Kurtosis:</th>      <td> 4.809</td> <th>  Cond. No.          </th> <td>    53.1</td>\n",
              "</tr>\n",
              "</table><br/><br/>Warnings:<br/>[1] Standard Errors assume that the covariance matrix of the errors is correctly specified."
            ],
            "text/plain": [
              "<class 'statsmodels.iolib.summary.Summary'>\n",
              "\"\"\"\n",
              "                            OLS Regression Results                            \n",
              "==============================================================================\n",
              "Dep. Variable:                 Prices   R-squared:                       0.000\n",
              "Model:                            OLS   Adj. R-squared:                 -0.022\n",
              "Method:                 Least Squares   F-statistic:                  0.001074\n",
              "Date:                Fri, 04 Jun 2021   Prob (F-statistic):              0.974\n",
              "Time:                        10:13:26   Log-Likelihood:                -149.51\n",
              "No. Observations:                  48   AIC:                             303.0\n",
              "Df Residuals:                      46   BIC:                             306.8\n",
              "Df Model:                           1                                         \n",
              "Covariance Type:            nonrobust                                         \n",
              "==============================================================================\n",
              "                 coef    std err          t      P>|t|      [0.025      0.975]\n",
              "------------------------------------------------------------------------------\n",
              "const        101.3792      0.921    110.021      0.000      99.524     103.234\n",
              "CF1            0.0007      0.020      0.033      0.974      -0.039       0.041\n",
              "==============================================================================\n",
              "Omnibus:                        6.923   Durbin-Watson:                   2.910\n",
              "Prob(Omnibus):                  0.031   Jarque-Bera (JB):                8.080\n",
              "Skew:                           0.438   Prob(JB):                       0.0176\n",
              "Kurtosis:                       4.809   Cond. No.                         53.1\n",
              "==============================================================================\n",
              "\n",
              "Warnings:\n",
              "[1] Standard Errors assume that the covariance matrix of the errors is correctly specified.\n",
              "\"\"\""
            ]
          },
          "metadata": {
            "tags": []
          },
          "execution_count": 16
        }
      ]
    },
    {
      "cell_type": "markdown",
      "metadata": {
        "id": "4ywSl-1lg4ea"
      },
      "source": [
        "### **Term premium**\n",
        "\n",
        "### Calculate the forward rate and then the spot rates\n",
        "\n",
        "i : 0,\t1,\t2,\t3,\t4,\t5\n",
        "\n",
        "E [y (1,1)] %: 4.90, 5.00, 5.10, 5.25, 5.15, 5.10\n",
        "\n",
        "tp (i,1) %: 0.00, 0.20, 0.20, 0.20, 0.20, 0.20"
      ]
    },
    {
      "cell_type": "code",
      "metadata": {
        "colab": {
          "base_uri": "https://localhost:8080/",
          "height": 398
        },
        "id": "L8NBhQHmhmBk",
        "outputId": "2b9f0448-06a9-45e5-a148-9a4aeb21f795"
      },
      "source": [
        "ii = [0, 1, 2, 3, 4, 5]\n",
        "eyi = [4.90, 5.00, 5.10, 5.25, 5.15, 5.10]\n",
        "tpi = [0.00, 0.20, 0.20, 0.20, 0.20, 0.20]\n",
        "\n",
        "data = []\n",
        "fi = []\n",
        "yi = []\n",
        "for i in ii:\n",
        "  f = eyi[i] + tpi[i]\n",
        "  fi.append(f)\n",
        "  if i == 0:\n",
        "    y = f\n",
        "  else:\n",
        "    y = (((1 + fi[i - 1])**(i - 1)) * (1 + fi[i]))**(1/i) - 1\n",
        "  yi.append(y)\n",
        "  data.append([i, eyi[i], tpi[i], f, y])\n",
        "\n",
        "df = pd.DataFrame(data, columns=['i', 'Ey(i,1)', 'tp(i,1)', 'f(i,1)', 'y(i)'])\n",
        "\n",
        "print(df)\n",
        "\n",
        "df.plot('i', 'y(i)')\n",
        "plt.show()"
      ],
      "execution_count": 29,
      "outputs": [
        {
          "output_type": "stream",
          "text": [
            "   i  Ey(i,1)  tp(i,1)  f(i,1)      y(i)\n",
            "0  0     4.90      0.0    4.90  4.900000\n",
            "1  1     5.00      0.2    5.20  5.200000\n",
            "2  2     5.10      0.2    5.30  5.249800\n",
            "3  3     5.25      0.2    5.45  5.349608\n",
            "4  4     5.15      0.2    5.35  5.424853\n",
            "5  5     5.10      0.2    5.30  5.339968\n"
          ],
          "name": "stdout"
        },
        {
          "output_type": "display_data",
          "data": {
            "image/png": "[encoded data removed]",
            "text/plain": [
              "<Figure size 432x288 with 1 Axes>"
            ]
          },
          "metadata": {
            "tags": [],
            "needs_background": "light"
          }
        }
      ]
    },
    {
      "cell_type": "markdown",
      "metadata": {
        "id": "_Nhtc5CbmlNV"
      },
      "source": [
        "\n",
        "\n",
        "---\n",
        "\n"
      ]
    },
    {
      "cell_type": "markdown",
      "metadata": {
        "id": "RA34ey5ymmoK"
      },
      "source": [
        "### 3) Suppose that the 1-year zero-coupon bond is trading at 98 USD, the 2-year zero-coupon bond is trading at 94 USD and the 3-year zero-coupon bond is trading at 92 USD. Calculate y1, y2, and y3. "
      ]
    },
    {
      "cell_type": "code",
      "metadata": {
        "id": "O8t9pR59mwz3"
      },
      "source": [
        ""
      ],
      "execution_count": null,
      "outputs": []
    }
  ]
}