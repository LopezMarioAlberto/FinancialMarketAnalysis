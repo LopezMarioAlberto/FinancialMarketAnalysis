{
  "nbformat": 4,
  "nbformat_minor": 0,
  "metadata": {
    "colab": {
      "name": "FMA04_TermStructureInterestRates.ipynb",
      "provenance": [],
      "collapsed_sections": []
    },
    "kernelspec": {
      "name": "python3",
      "display_name": "Python 3"
    },
    "language_info": {
      "name": "python"
    }
  },
  "cells": [
    {
      "cell_type": "markdown",
      "metadata": {
        "id": "EI5crLGSEf1z"
      },
      "source": [
        "# **Term Structure of Interest Rates**"
      ]
    },
    {
      "cell_type": "code",
      "metadata": {
        "id": "HceA_vTxEBmc"
      },
      "source": [
        "from datetime import datetime\n",
        "from datetime import timedelta\n",
        "import scipy.optimize as optimize\n",
        "import pandas as pd\n",
        "import numpy as np\n",
        "import matplotlib.pyplot as plt\n",
        "import math"
      ],
      "execution_count": 70,
      "outputs": []
    },
    {
      "cell_type": "code",
      "metadata": {
        "id": "SJKkshhaFb1p"
      },
      "source": [
        "def ytm_zero(p, maturity, fv=100):\n",
        "  \"\"\"\n",
        "  p: coupon payment ($)\n",
        "  fv: Face value ($)\n",
        "  maturity: Time to maturity (years)\n",
        "\n",
        "  Returns: Yield to maturity\n",
        "  \"\"\"\n",
        "  ytm = (fv/p)**(1/maturity) - 1\n",
        "\n",
        "  return round(100 * ytm, 2)\n",
        "\n",
        "def df_zero(y, m):\n",
        "  \"\"\"\n",
        "  y: Yield to maturity (%)\n",
        "  m: Time to maturity (years)\n",
        "\n",
        "  Returns: Discount factor\n",
        "  \"\"\"\n",
        "  df = 1 / (1 + y/100)**m\n",
        "\n",
        "  return round(df, 2)\n",
        "\n",
        "\n",
        "def price_zero_bond(p, m, y):\n",
        "  \"\"\"\n",
        "  p: coupon payment ($)\n",
        "  m: Time to maturity (years)\n",
        "  y: Yield to maturity (%)\n",
        "\n",
        "  Returns: Price of a bond\n",
        "  \"\"\"\n",
        "  price = 0\n",
        "  for i in y:\n",
        "    x = y.index(i)\n",
        "    df = p[x] / (1 + y[x]/100)**m[x]\n",
        "    price += df\n",
        "\n",
        "  return price\n",
        "\n",
        "\n",
        "def ytm_zero_bond(price, p, m, ytm=0.05):\n",
        "  \"\"\"\n",
        "  price: price of the coupon bond ($)\n",
        "  p: coupon payment ($)\n",
        "  m: Time to maturity (years)\n",
        "\n",
        "  Returns: Yield to maturity of a bond\n",
        "  \"\"\"\n",
        "\n",
        "  ytm_func = lambda y : \\\n",
        "  sum([p[m.index(t)] / (1 + y)**t for t in m]) - price\n",
        "\n",
        "  return round(100*optimize.newton(ytm_func, ytm), 2)\n",
        "\n",
        "def SIR(sir, i=1):\n",
        "  \"\"\"\n",
        "  sir: Spot interest rates dictionary {t (years): interest rate (%)} \n",
        "  i: Forward i-year\n",
        "\n",
        "  Returns: Forward 1-year interest rates dictionary\n",
        "  \"\"\"\n",
        "\n",
        "  fr = {}\n",
        "  for t in sir:\n",
        "    if t == i:\n",
        "      fr[t-i] = sir[t]\n",
        "    elif t > i:\n",
        "      f = (((1 + sir[t]/100)**t / (1 + sir[t - 1]/100)**(t - i))**(1/i)) - 1 \n",
        "      fr[t-i] = round(100*f, 2)\n",
        "\n",
        "  return fr\n",
        "\n",
        "def SIRD (data, years):\n",
        "  sir = {}\n",
        "  for y in years:\n",
        "    sir[y] = data[y - 1]\n",
        "  return sir\n",
        "\n",
        "def SIRIT(sir, t, i):\n",
        "  if t <= i:\n",
        "    f = sir[t]/100\n",
        "  else:\n",
        "    f = (((1 + sir[t]/100)**t / (1 + sir[t - 1]/100)**(t - i))**(1/i)) - 1\n",
        "\n",
        "  return round(100*f, 2)"
      ],
      "execution_count": 71,
      "outputs": []
    },
    {
      "cell_type": "markdown",
      "metadata": {
        "id": "WN_YWEs-FjRo"
      },
      "source": [
        "### Calculate the YTM and the discount factors of the given zero-coupon bonds.\n",
        "\n",
        "* Years: 1 - Price: 98.70 USD\n",
        "* Years: 2 - Price: 101.70 USD\n",
        "* Years: 3 - Price: 100.00 USD "
      ]
    },
    {
      "cell_type": "code",
      "metadata": {
        "colab": {
          "base_uri": "https://localhost:8080/"
        },
        "id": "OXlWMTBHGCPo",
        "outputId": "60c35f22-de2d-4e25-d3f9-ebd07d04afca"
      },
      "source": [
        "p = [98.7, 101, 100]\n",
        "m = [1, 2, 3]\n",
        "\n",
        "for i in p:\n",
        "  ma = m[p.index(i)]\n",
        "  ytm = ytm_zero(i, ma)\n",
        "  df = df_zero(ytm, ma)\n",
        "  print(f'Years: {ma}, YTM: {ytm}%, DF: ${df}')"
      ],
      "execution_count": 72,
      "outputs": [
        {
          "output_type": "stream",
          "text": [
            "Years: 1, YTM: 1.32%, DF: $0.99\n",
            "Years: 2, YTM: -0.5%, DF: $1.01\n",
            "Years: 3, YTM: 0.0%, DF: $1.0\n"
          ],
          "name": "stdout"
        }
      ]
    },
    {
      "cell_type": "markdown",
      "metadata": {
        "id": "5kpJPb8fRLEM"
      },
      "source": [
        "### Use the give yield curve to calculate the price of the give coupon bond and then calculate the coupon bond's YTM\n",
        "\n",
        "The Term-Structure of Interest Rates:\n",
        "\n",
        "Maturity \t1\t/ 2\t/ 3\n",
        "\n",
        "YTM \t3 %\t/ 4 %\t/ 5 %\n",
        "\t\t\t\n",
        "Table of future cash flow:\n",
        "\n",
        "Maturity \t1\t/ 2\t/ 3\n",
        "\n",
        "Cash-flow\t5,00 /\t5,00 /\t105,00"
      ]
    },
    {
      "cell_type": "code",
      "metadata": {
        "colab": {
          "base_uri": "https://localhost:8080/"
        },
        "id": "jQEf8ttGRMvm",
        "outputId": "7f109db9-f641-42c8-c793-d963c5e87c47"
      },
      "source": [
        "# price_zero_bond(p, m, y)\n",
        "m = [1, 2, 3]\n",
        "y = [3, 4, 5]\n",
        "p = [5, 5, 105]\n",
        "\n",
        "\n",
        "price = price_zero_bond(p, m, y)\n",
        "print(f'Price: ${round(price, 2)}')"
      ],
      "execution_count": 73,
      "outputs": [
        {
          "output_type": "stream",
          "text": [
            "Price: $100.18\n"
          ],
          "name": "stdout"
        }
      ]
    },
    {
      "cell_type": "code",
      "metadata": {
        "colab": {
          "base_uri": "https://localhost:8080/"
        },
        "id": "Hb6qgqtzW_O_",
        "outputId": "ccda216a-7c69-4e96-a00d-715ae1c79b74"
      },
      "source": [
        "# ytm_zero_bond(price, p, m, ytm=0.05)\n",
        "ytm = ytm_zero_bond(price, p, m, ytm=0.05)\n",
        "print(f'YTM: {ytm}%')"
      ],
      "execution_count": 74,
      "outputs": [
        {
          "output_type": "stream",
          "text": [
            "YTM: 4.93%\n"
          ],
          "name": "stdout"
        }
      ]
    },
    {
      "cell_type": "markdown",
      "metadata": {
        "id": "xVlhbLOAb6ZI"
      },
      "source": [
        "### Calculate the 2-year forward 3 year interest rate, f(2, 3), for both Indonesia and Brazil.\n",
        "\n",
        "![image.png](data:image/png;base64,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)"
      ]
    },
    {
      "cell_type": "code",
      "metadata": {
        "id": "4z2-3QVXcXVu",
        "colab": {
          "base_uri": "https://localhost:8080/"
        },
        "outputId": "e271c8b4-c7a1-4732-cd1d-e8ac4b6f3d1d"
      },
      "source": [
        "# SIRD (data, years)\n",
        "# SIRIT(sir, t, i)\n",
        "years = [1,\t2,\t3,\t4,\t5,\t6,\t7,\t8,\t9,\t10]\n",
        "\n",
        "data = [7.38,\t7.586,\t7.723,\t7.81,\t7.871,\t7.919,\t7.97,\t8.02,\t8.077,\t8.143]\n",
        "sir = SIRD (data, years)\n",
        "print (f'jan/2/2015: {SIRIT(sir, 3, 2)}%')\n",
        "\n",
        "data = [6.812,\t7.065,\t7.249,\t7.374,\t7.467,\t7.538,\t7.612,\t7.665,\t7.71,\t7.752]\n",
        "sir = SIRD (data, years)\n",
        "print (f'apr/1/2015: {SIRIT(sir, 3, 2)}%')\n",
        "\n",
        "data = [7.58,\t7.929,\t8.166,\t8.311,\t8.411,\t8.471,\t8.536,\t8.56,\t8.57,\t8.577]\n",
        "sir = SIRD (data, years)\n",
        "print (f'jul/2/2015: {SIRIT(sir, 3, 2)}%')"
      ],
      "execution_count": 75,
      "outputs": [
        {
          "output_type": "stream",
          "text": [
            "jan/2/2015: 7.79%\n",
            "apr/1/2015: 7.34%\n",
            "jul/2/2015: 8.28%\n"
          ],
          "name": "stdout"
        }
      ]
    },
    {
      "cell_type": "markdown",
      "metadata": {
        "id": "JndcZw1aGAVi"
      },
      "source": [
        "### Calculate t-year forward 1-year interest rates and t-year forward 3-year interest rates curve and then t-year forward\n",
        "\n",
        "![image.png](data:image/png;base64,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)"
      ]
    },
    {
      "cell_type": "code",
      "metadata": {
        "id": "99xMgPpKGTBz",
        "colab": {
          "base_uri": "https://localhost:8080/"
        },
        "outputId": "b7d68d35-df47-4051-c23d-3889c1b87035"
      },
      "source": [
        "# SIRD (data, years)\n",
        "data = [1.16,\t1.83,\t2.57,\t3.15,\t3.67,\t4.06,\t4.45,\t4.74,\t4.96,\t5.14]\n",
        "years = [1,\t2,\t3,\t4,\t5,\t6,\t7,\t8,\t9,\t10]\n",
        "sir = SIRD (data, years)\n",
        "\n",
        "# SIR(sir, i=1)\n",
        "fr1 = SIR(sir)\n",
        "fr3 = SIR(sir, 3)\n",
        "print(f'Forward 1-year interest rates: {fr1}')\n",
        "print(f'Forward 3-year interest rates: {fr3}')\n",
        "\n",
        "fir = {}\n",
        "for y in years:\n",
        "  f = SIRIT(sir, y, 1)\n",
        "  fir[y-i] = round(100*f, 2)\n",
        "\n",
        "print(f'1-year forward i-year interest rates: {fir}')"
      ],
      "execution_count": 76,
      "outputs": [
        {
          "output_type": "stream",
          "text": [
            "Forward 1-year interest rates: {0: 1.16, 1: 2.5, 2: 4.07, 3: 4.91, 4: 5.78, 5: 6.03, 6: 6.82, 7: 6.79, 8: 6.74, 9: 6.77}\n",
            "Forward 3-year interest rates: {0: 2.57, 1: 3.34, 2: 4.02, 3: 4.45, 4: 4.97, 5: 5.23, 6: 5.4, 7: 5.56}\n",
            "1-year forward i-year interest rates: {-99: 116.0, -98: 250.0, -97: 407.0, -96: 491.0, -95: 578.0, -94: 603.0, -93: 682.0, -92: 679.0, -91: 674.0, -90: 677.0}\n"
          ],
          "name": "stdout"
        }
      ]
    },
    {
      "cell_type": "markdown",
      "metadata": {
        "id": "uXjOGTPlPbKw"
      },
      "source": [
        "### Calculate the discount factor and the par-yield.\n",
        "\n",
        "![image.png](data:image/png;base64,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)"
      ]
    },
    {
      "cell_type": "code",
      "metadata": {
        "id": "dNGuVwd-TVFx"
      },
      "source": [
        ""
      ],
      "execution_count": 76,
      "outputs": []
    }
  ]
}