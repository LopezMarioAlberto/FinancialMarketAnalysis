{
  "nbformat": 4,
  "nbformat_minor": 0,
  "metadata": {
    "colab": {
      "name": "FMA04_TermStructureInterestRates.ipynb",
      "provenance": [],
      "collapsed_sections": []
    },
    "kernelspec": {
      "name": "python3",
      "display_name": "Python 3"
    },
    "language_info": {
      "name": "python"
    }
  },
  "cells": [
    {
      "cell_type": "markdown",
      "metadata": {
        "id": "EI5crLGSEf1z"
      },
      "source": [
        "# **Term Structure of Interest Rates**"
      ]
    },
    {
      "cell_type": "code",
      "metadata": {
        "id": "HceA_vTxEBmc"
      },
      "source": [
        "from datetime import datetime\n",
        "from datetime import timedelta\n",
        "import scipy.optimize as optimize\n",
        "import pandas as pd\n",
        "import numpy as np\n",
        "import matplotlib.pyplot as plt\n",
        "import math"
      ],
      "execution_count": 2,
      "outputs": []
    },
    {
      "cell_type": "code",
      "metadata": {
        "id": "SJKkshhaFb1p"
      },
      "source": [
        "def ytm_zero(p, maturity, fv=100):\n",
        "  \"\"\"\n",
        "  p: coupon payment ($)\n",
        "  fv: Face value ($)\n",
        "  maturity: Time to maturity (years)\n",
        "\n",
        "  Returns: Yield to maturity\n",
        "  \"\"\"\n",
        "  ytm = (fv/p)**(1/maturity) - 1\n",
        "\n",
        "  return round(100 * ytm, 2)\n",
        "\n",
        "def df_zero(y, m):\n",
        "  \"\"\"\n",
        "  y: Yield to maturity (%)\n",
        "  m: Time to maturity (years)\n",
        "\n",
        "  Returns: Discount factor\n",
        "  \"\"\"\n",
        "  df = 1 / (1 + y/100)**m\n",
        "\n",
        "  return round(df, 2)\n",
        "\n",
        "\n",
        "def price_zero_bond(p, m, y):\n",
        "  \"\"\"\n",
        "  p: coupon payment ($)\n",
        "  m: Time to maturity (years)\n",
        "  y: Yield to maturity (%)\n",
        "\n",
        "  Returns: Price of a bond\n",
        "  \"\"\"\n",
        "  price = 0\n",
        "  for i in y:\n",
        "    x = y.index(i)\n",
        "    df = p[x] / (1 + y[x]/100)**m[x]\n",
        "    price += df\n",
        "\n",
        "  return price\n",
        "\n",
        "\n",
        "def ytm_zero_bond(price, p, m, ytm=0.05):\n",
        "  \"\"\"\n",
        "  price: price of the coupon bond ($)\n",
        "  p: coupon payment ($)\n",
        "  m: Time to maturity (years)\n",
        "\n",
        "  Returns: Yield to maturity of a bond\n",
        "  \"\"\"\n",
        "\n",
        "  ytm_func = lambda y : \\\n",
        "  sum([p[m.index(t)] / (1 + y)**t for t in m]) - price\n",
        "\n",
        "  return round(100*optimize.newton(ytm_func, ytm), 2)"
      ],
      "execution_count": 44,
      "outputs": []
    },
    {
      "cell_type": "markdown",
      "metadata": {
        "id": "WN_YWEs-FjRo"
      },
      "source": [
        "### Calculate the YTM and the discount factors of the given zero-coupon bonds.\n",
        "\n",
        "* Years: 1 - Price: 98.70 USD\n",
        "* Years: 2 - Price: 101.70 USD\n",
        "* Years: 3 - Price: 100.00 USD "
      ]
    },
    {
      "cell_type": "code",
      "metadata": {
        "colab": {
          "base_uri": "https://localhost:8080/"
        },
        "id": "OXlWMTBHGCPo",
        "outputId": "a37ab2c8-4aba-492e-f58e-41637360fe07"
      },
      "source": [
        "p = [98.7, 101, 100]\n",
        "m = [1, 2, 3]\n",
        "\n",
        "for i in p:\n",
        "  ma = m[p.index(i)]\n",
        "  ytm = ytm_zero(i, ma)\n",
        "  df = df_zero(ytm, ma)\n",
        "  print(f'Years: {ma}, YTM: {ytm}%, DF: ${df}')"
      ],
      "execution_count": 45,
      "outputs": [
        {
          "output_type": "stream",
          "text": [
            "Years: 1, YTM: 1.32%, DF: $0.99\n",
            "Years: 2, YTM: -0.5%, DF: $1.01\n",
            "Years: 3, YTM: 0.0%, DF: $1.0\n"
          ],
          "name": "stdout"
        }
      ]
    },
    {
      "cell_type": "markdown",
      "metadata": {
        "id": "5kpJPb8fRLEM"
      },
      "source": [
        "### Use the give yield curve to calculate the price of the give coupon bond and then calculate the coupon bond's YTM\n",
        "\n",
        "The Term-Structure of Interest Rates:\n",
        "\n",
        "Maturity \t1\t/ 2\t/ 3\n",
        "\n",
        "YTM \t3 %\t/ 4 %\t/ 5 %\n",
        "\t\t\t\n",
        "Table of future cash flow:\n",
        "\n",
        "Maturity \t1\t/ 2\t/ 3\n",
        "\n",
        "Cash-flow\t5,00 /\t5,00 /\t105,00"
      ]
    },
    {
      "cell_type": "code",
      "metadata": {
        "colab": {
          "base_uri": "https://localhost:8080/"
        },
        "id": "jQEf8ttGRMvm",
        "outputId": "835bf303-faa8-4595-df5d-01769e4eaf85"
      },
      "source": [
        "# price_zero_bond(p, m, y)\n",
        "m = [1, 2, 3]\n",
        "y = [3, 4, 5]\n",
        "p = [5, 5, 105]\n",
        "\n",
        "\n",
        "price = price_zero_bond(p, m, y)\n",
        "print(f'Price: ${round(price, 2)}')"
      ],
      "execution_count": 46,
      "outputs": [
        {
          "output_type": "stream",
          "text": [
            "Price: $100.18\n"
          ],
          "name": "stdout"
        }
      ]
    },
    {
      "cell_type": "code",
      "metadata": {
        "colab": {
          "base_uri": "https://localhost:8080/"
        },
        "id": "Hb6qgqtzW_O_",
        "outputId": "06aa020a-082e-4a8b-8f15-aa3f9f7db89d"
      },
      "source": [
        "# ytm_zero_bond(price, p, m, ytm=0.05)\n",
        "ytm = ytm_zero_bond(price, p, m, ytm=0.05)\n",
        "print(f'YTM: {ytm}%')"
      ],
      "execution_count": 51,
      "outputs": [
        {
          "output_type": "stream",
          "text": [
            "YTM: 4.93%\n"
          ],
          "name": "stdout"
        }
      ]
    },
    {
      "cell_type": "markdown",
      "metadata": {
        "id": "xVlhbLOAb6ZI"
      },
      "source": [
        "### Calculate the 2-year forward 3 year interest rate, f(2, 3), for both Indonesia and Brazil.\n",
        "\n",
        "Maturity (in years): 1\t2\t3\t4\t5\t6\t7\t8\t9\t10\n",
        "\t\n",
        "\n",
        "  Indonesia (Spot Interest Rates)\n",
        "\n",
        "Jan/2/2015:\t7,38\t7,586\t7,723\t7,81\t7,871\t7,919\t7,97\t8,02\t8,077\t8,143\n",
        "\n",
        "Apr/1/2015:\t6,812\t7,065\t7,249\t7,374\t7,467\t7,538\t7,612\t7,665\t7,71\t7,752\n",
        "\n",
        "Jul/1/2015:\t7,58\t7,929\t8,166\t8,311\t8,411\t8,471\t8,536\t8,56\t8,57\t8,577\n",
        "\n",
        "\n",
        "  Brasil (Spot Interest Rates)\n",
        "\n",
        "Jan/2/2015:\t0,968\t1,829\t2,564\t3,076\t3,457\t3,733\t4,017\t4,245\t4,447\t4,612\n",
        "\n",
        "Apr/1/2015:\t1,495\t2,019\t2,638\t3,123\t3,53\t3,85\t4,181\t4,445\t4,685\t4,886\n",
        "\n",
        "Jul/1/2015:\t1,157\t1,831\t2,566\t3,154\t3,674\t4,057\t4,454\t4,739\t4,964\t5,141"
      ]
    },
    {
      "cell_type": "code",
      "metadata": {
        "id": "4z2-3QVXcXVu"
      },
      "source": [
        ""
      ],
      "execution_count": null,
      "outputs": []
    }
  ]
}