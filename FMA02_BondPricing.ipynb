{
  "nbformat": 4,
  "nbformat_minor": 0,
  "metadata": {
    "colab": {
      "name": "FMA02_BondPricing.ipynb",
      "provenance": [],
      "collapsed_sections": []
    },
    "kernelspec": {
      "name": "python3",
      "display_name": "Python 3"
    },
    "language_info": {
      "name": "python"
    }
  },
  "cells": [
    {
      "cell_type": "markdown",
      "metadata": {
        "id": "8qFV_abR84xb"
      },
      "source": [
        "# **Sensitivity of Bond Prices**"
      ]
    },
    {
      "cell_type": "code",
      "metadata": {
        "id": "gXPC4gCT-wql"
      },
      "source": [
        "from datetime import datetime\n",
        "from datetime import timedelta\n",
        "import scipy.optimize as optimize\n",
        "import pandas as pd\n",
        "import numpy as np\n",
        "import matplotlib.pyplot as plt\n",
        "import math"
      ],
      "execution_count": 1,
      "outputs": []
    },
    {
      "cell_type": "markdown",
      "metadata": {
        "id": "d6Grxb5O9dcb"
      },
      "source": [
        "## Compute the price of a 9% semiannual coupon bond with 10 years to maturity and a face value of USD 1,000. Assume that the market required yield (YTM) is 6%."
      ]
    },
    {
      "cell_type": "code",
      "metadata": {
        "colab": {
          "base_uri": "https://localhost:8080/"
        },
        "id": "CW1ytXMQ80it",
        "outputId": "d00deaf4-fa2d-41c7-e915-8c597e65eaf1"
      },
      "source": [
        "def bond_price(face_value, years_to_maturity, ytm_p, coupon_rate_p, freq=1):\n",
        "  ytm = ytm_p/100\n",
        "  freq = float(freq)\n",
        "  periods = years_to_maturity*freq\n",
        "  coupon = (coupon_rate_p/100)*face_value/freq\n",
        "  dt = [(i+1)/freq for i in range(int(periods))]\n",
        "  price = sum([coupon/(1+ytm/freq)**(freq*t) for t in dt]) + face_value/(1+ytm/freq)**(freq*years_to_maturity)\n",
        "  \n",
        "  return round(price,2)\n",
        "\n",
        "face_value = 1000\n",
        "coupon_rate_p = 9\n",
        "freq = 2\n",
        "ytm_p = 6\n",
        "years_to_maturity = 10\n",
        "\n",
        "price = bond_price(face_value, years_to_maturity, ytm_p, coupon_rate_p, freq)\n",
        "print(f'Price: ${price}')"
      ],
      "execution_count": 2,
      "outputs": [
        {
          "output_type": "stream",
          "text": [
            "Price: $1223.16\n"
          ],
          "name": "stdout"
        }
      ]
    },
    {
      "cell_type": "markdown",
      "metadata": {
        "id": "sPieWdJChDyv"
      },
      "source": [
        "## Compute the price of a 9% annual coupon bond with 10 years to maturity and a face value of USD 1,000. Assume that the market required yield (YTM) is 6%."
      ]
    },
    {
      "cell_type": "code",
      "metadata": {
        "colab": {
          "base_uri": "https://localhost:8080/"
        },
        "id": "GGX79eSJhLGc",
        "outputId": "91e50a5f-e97f-43ac-bed7-5ecbcb4996ab"
      },
      "source": [
        "face_value = 1000\n",
        "coupon_rate_p = 9\n",
        "freq = 1\n",
        "ytm_p = 6\n",
        "years_to_maturity = 10\n",
        "\n",
        "price = bond_price(face_value, years_to_maturity, ytm_p, coupon_rate_p, freq)\n",
        "print(f'Price: ${price}')"
      ],
      "execution_count": 3,
      "outputs": [
        {
          "output_type": "stream",
          "text": [
            "Price: $1220.8\n"
          ],
          "name": "stdout"
        }
      ]
    },
    {
      "cell_type": "markdown",
      "metadata": {
        "id": "xr2HwA3Mhthj"
      },
      "source": [
        "## Compute the effective YTM of a 7% semiannual coupon bond with 15 years to maturity and face value of USD 1,000. The market bond price is USD 655.9.\n",
        "\n",
        "\n",
        "*   Assuming that the annual YTM is 10%\n",
        "*   Assuming that the annual YTM is 12%\n",
        "\n"
      ]
    },
    {
      "cell_type": "code",
      "metadata": {
        "colab": {
          "base_uri": "https://localhost:8080/"
        },
        "id": "pZFlkKMHibbL",
        "outputId": "44740a50-e24d-4f93-9d75-6fbb962b35e9"
      },
      "source": [
        "def bond_price2(face_value, years_to_maturity, ytm_p, coupon_rate_p, freq=1):\n",
        "  ytm = ytm_p/100\n",
        "  freq = float(freq)\n",
        "  periods = years_to_maturity*freq\n",
        "  coupon = (coupon_rate_p/100)*face_value/freq\n",
        "  price = (coupon*freq/ytm)*(1 - 1/(1 + ytm/freq)**periods) + face_value/(1 + ytm/freq)**periods\n",
        "  \n",
        "  return round(price,1)\n",
        "\n",
        "face_value = 1000\n",
        "coupon_rate_p = 7\n",
        "freq = 2\n",
        "years_to_maturity = 15\n",
        "market_price = 655.9\n",
        "\n",
        "ytm = 10\n",
        "price10 = bond_price2(face_value, years_to_maturity, ytm, coupon_rate_p, freq)\n",
        "print(f'Price10: ${price10} > {market_price}, {ytm}% cannot be the YTM')\n",
        "\n",
        "ytm = 12\n",
        "price12 = bond_price2(face_value, years_to_maturity, ytm, coupon_rate_p, freq)\n",
        "print(f'Price12: ${price12} = {market_price}')\n",
        "\n",
        "effective_ytm = ((1 + (ytm/100)/freq)**freq) - 1\n",
        "print(f'Effective yield: {round(100*effective_ytm, 2)}%')"
      ],
      "execution_count": 4,
      "outputs": [
        {
          "output_type": "stream",
          "text": [
            "Price10: $769.4 > 655.9, 10% cannot be the YTM\n",
            "Price12: $655.9 = 655.9\n",
            "Effective yield: 12.36%\n"
          ],
          "name": "stdout"
        }
      ]
    },
    {
      "cell_type": "markdown",
      "metadata": {
        "id": "vkDPDphQy85w"
      },
      "source": [
        "## Compute the YTM of a 8% semiannual coupon bond with 20 years to maturity and a face value of USD 1,000. Assume that the market price of the bond is 900. Find the semiannual, annual and effective annual YTM for that bond. "
      ]
    },
    {
      "cell_type": "code",
      "metadata": {
        "colab": {
          "base_uri": "https://localhost:8080/"
        },
        "id": "MZ_EhdS5zCTP",
        "outputId": "1398b999-b644-4756-ff9d-1cbb47c86663"
      },
      "source": [
        "def bond_ytm(price, face_value, maturity_years, interest_rate_percent, freq=1, ytm=0.05):\n",
        "    freq = float(freq)\n",
        "    periods = maturity_years*freq\n",
        "    coupon = face_value * (interest_rate_percent/100)/freq\n",
        "    dt = [(i+1)/freq for i in range(int(periods))]\n",
        "    ytm_func = lambda y : \\\n",
        "    sum([coupon / (1 + y / freq)**(freq * t) for t in dt]) + \\\n",
        "    face_value / (1 + y / freq)**(freq * max(dt)) - price\n",
        "\n",
        "    return round(100*optimize.newton(ytm_func, ytm), 2)\n",
        "\n",
        "face_value = 1000\n",
        "coupon_rate_p = 8\n",
        "years_to_maturity = 20\n",
        "market_price = 900\n",
        "\n",
        "freq = 2\n",
        "ytm_semi = bond_ytm(market_price, face_value, years_to_maturity, coupon_rate_p, freq)/2\n",
        "print(f'Semiannual YTM: {ytm_semi}%')\n",
        "\n",
        "ytm = ytm_semi*freq\n",
        "print(f'Annual YTM: {ytm}%')\n",
        "\n",
        "effective_ytm = (1 + (ytm_semi/100))**freq - 1\n",
        "print(f'Effective YTM: {round(100*effective_ytm, 2)}%')"
      ],
      "execution_count": 5,
      "outputs": [
        {
          "output_type": "stream",
          "text": [
            "Semiannual YTM: 4.545%\n",
            "Annual YTM: 9.09%\n",
            "Effective YTM: 9.3%\n"
          ],
          "name": "stdout"
        }
      ]
    },
    {
      "cell_type": "markdown",
      "metadata": {
        "id": "i_3Rzwne7FDD"
      },
      "source": [
        "## Compute the YTM of a 8% annual coupon bond with 20 years to maturity and a face value of USD 1,000. Assume that the market price of the bond is 900."
      ]
    },
    {
      "cell_type": "code",
      "metadata": {
        "colab": {
          "base_uri": "https://localhost:8080/"
        },
        "id": "da4elt8f7KNI",
        "outputId": "7489c1b6-b4a6-4e59-c530-cd0621f76651"
      },
      "source": [
        "face_value = 1000\n",
        "coupon_rate_p = 8\n",
        "years_to_maturity = 20\n",
        "market_price = 900\n",
        "freq = 1\n",
        "\n",
        "ytm = bond_ytm(market_price, face_value, years_to_maturity, coupon_rate_p, freq)\n",
        "print(f'YTM: {ytm}%')"
      ],
      "execution_count": 6,
      "outputs": [
        {
          "output_type": "stream",
          "text": [
            "YTM: 9.1%\n"
          ],
          "name": "stdout"
        }
      ]
    },
    {
      "cell_type": "markdown",
      "metadata": {
        "id": "qKKQEuNM8DBi"
      },
      "source": [
        "## Find the semiannual, annual and effective annual for that bond yield-to-call (YTC) of a 10% semiannual coupon bond with 20 years to maturity, a face value of USD 1,000 and price of callable bond in 6 years of USD 1,025. Assume that the market price of the bond is 848. \n",
        "\n"
      ]
    },
    {
      "cell_type": "code",
      "metadata": {
        "id": "KzHPQqoB8G5p",
        "colab": {
          "base_uri": "https://localhost:8080/"
        },
        "outputId": "31fec0c5-a219-474c-8321-3ead23aa4cc4"
      },
      "source": [
        "def bond_ytc(price, face_value, price_callable, years_to_call, interest_rate_percent, freq=1, ytm=0.05):\n",
        "    freq = float(freq)\n",
        "    periods = years_to_call*freq\n",
        "    coupon = face_value * (interest_rate_percent/100)/freq\n",
        "    dt = [(i+1)/freq for i in range(int(periods))]\n",
        "    ytm_func = lambda y : \\\n",
        "    sum([coupon / (1 + y / freq)**(freq * t) for t in dt]) + \\\n",
        "    price_callable / (1 + y / freq)**(freq * max(dt)) - price\n",
        "\n",
        "    return round(100*optimize.newton(ytm_func, ytm), 2)\n",
        "\n",
        "def ytc_price(fv, pc, crp, ytcs, ytm, freq=1):\n",
        "  ytcs = (ytcs/100)\n",
        "  periods = ytm*freq\n",
        "  coupon = (crp/100)*fv/freq\n",
        "  f1 = coupon/ytcs\n",
        "  factor = (1 + ytcs)**periods\n",
        "  price = f1*(1 - 1/factor) + pc/factor\n",
        "  \n",
        "  return round(price, 2)\n",
        "\n",
        "face_value = 1000\n",
        "coupon_rate_p = 10\n",
        "years_to_maturity = 20\n",
        "market_price = 848\n",
        "years_to_call = 6\n",
        "price_callable = 1025\n",
        "\n",
        "freq = 2\n",
        "ytc_semi = bond_ytc(market_price, face_value, price_callable, years_to_call, coupon_rate_p, freq)/2\n",
        "print(f'Semiannual YTC: {ytc_semi}%')\n",
        "\n",
        "ytc = ytc_semi*freq\n",
        "print(f'Annual YTC: {ytc}%')\n",
        "\n",
        "effective_ytc = (1 + (ytc_semi/100))**freq - 1\n",
        "print(f'Effective YTC: {round(100*effective_ytc, 2)}%')\n",
        "\n",
        "pv = ytc_price(face_value, price_callable, coupon_rate_p, ytc_semi, years_to_call, freq)\n",
        "print(f'Price value: ${pv}')\n",
        "\n",
        "gap = round(pv - market_price, 2)\n",
        "gapp = round(pv / market_price, 2)\n",
        "print(f'Gap: ${gap} {gapp}%')"
      ],
      "execution_count": 7,
      "outputs": [
        {
          "output_type": "stream",
          "text": [
            "Semiannual YTC: 7.06%\n",
            "Annual YTC: 14.12%\n",
            "Effective YTC: 14.62%\n",
            "Price value: $847.93\n",
            "Gap: $-0.07 1.0%\n"
          ],
          "name": "stdout"
        }
      ]
    },
    {
      "cell_type": "markdown",
      "metadata": {
        "id": "-6fuOTqQ2GwI"
      },
      "source": [
        "## Find the semiannual, annual and zero coupon for a bond of a 9% coupon rate with 20 years to maturity, a face value of USD 1,000. Assume that the semiannual YTM is 6%."
      ]
    },
    {
      "cell_type": "code",
      "metadata": {
        "colab": {
          "base_uri": "https://localhost:8080/"
        },
        "id": "17EbS1Wm3Qif",
        "outputId": "82712cba-bccd-49fd-b17f-301f7ed54006"
      },
      "source": [
        "def bond_price(face_value, years_to_maturity, ytm_p, coupon_rate_p, freq=1):\n",
        "  ytm = ytm_p/100\n",
        "  freq = float(freq)\n",
        "  periods = years_to_maturity*freq\n",
        "  coupon = (coupon_rate_p/100)*face_value/freq\n",
        "  dt = [(i+1)/freq for i in range(int(periods))]\n",
        "  price = sum([coupon/(1+ytm/freq)**(freq*t) for t in dt]) + face_value/(1+ytm/freq)**(freq*years_to_maturity)\n",
        "  \n",
        "  return round(price,2)\n",
        "\n",
        "face_value = 1000\n",
        "coupon_rate_p = 9\n",
        "ytm_p = 6\n",
        "years_to_maturity = 20\n",
        "\n",
        "freq = 2\n",
        "price = bond_price(face_value, years_to_maturity, ytm_p, coupon_rate_p, freq)\n",
        "print(f'Price semiannual frequency: ${price}')\n",
        "\n",
        "effective_ytm = round(100*(((1 + (ytm_p/100)/freq)**freq) - 1), 2)\n",
        "\n",
        "freq = 1\n",
        "price = bond_price(face_value, years_to_maturity, effective_ytm, coupon_rate_p, freq)\n",
        "print(f'Price annual frequency: ${price}')\n",
        "\n",
        "zero = bond_price(1000, 20, 6, 0, 2)\n",
        "print(f'Zero-coupon bond: ${zero}')"
      ],
      "execution_count": 8,
      "outputs": [
        {
          "output_type": "stream",
          "text": [
            "Price semiannual frequency: $1346.72\n",
            "Price annual frequency: $1331.35\n",
            "Zero-coupon bond: $306.56\n"
          ],
          "name": "stdout"
        }
      ]
    },
    {
      "cell_type": "markdown",
      "metadata": {
        "id": "kwmbn0aM87v4"
      },
      "source": [
        "## Find the bond price of a 9% semiannual coupon rate with 20 years to maturity, a maturity value of USD 1,000. Assume that the semiannual YTMs are 6 - 10%."
      ]
    },
    {
      "cell_type": "code",
      "metadata": {
        "colab": {
          "base_uri": "https://localhost:8080/"
        },
        "id": "GwBNOY7R9prE",
        "outputId": "3215658c-529c-4eb3-9a0a-d824999839a6"
      },
      "source": [
        "face_value = 1000\n",
        "coupon_rate_p = 9\n",
        "years_to_maturity = 20\n",
        "freq = 2\n",
        "\n",
        "ytm_p = [6, 7, 8, 9 , 10]\n",
        "\n",
        "for p in ytm_p:\n",
        "  price = bond_price(face_value, years_to_maturity, p, coupon_rate_p, freq)\n",
        "  if price > face_value:\n",
        "    kind = \"at a premium\"\n",
        "  elif price < face_value:\n",
        "    kind = \"at a discount\"\n",
        "  else:\n",
        "    kind = \"at par\"\n",
        "  print(f'Price ytm = {p}%: ${price} {kind}')"
      ],
      "execution_count": 9,
      "outputs": [
        {
          "output_type": "stream",
          "text": [
            "Price ytm = 6%: $1346.72 at a premium\n",
            "Price ytm = 7%: $1213.55 at a premium\n",
            "Price ytm = 8%: $1098.96 at a premium\n",
            "Price ytm = 9%: $1000.0 at par\n",
            "Price ytm = 10%: $914.2 at a discount\n"
          ],
          "name": "stdout"
        }
      ]
    },
    {
      "cell_type": "markdown",
      "metadata": {
        "id": "eYxU3FP_AmgF"
      },
      "source": [
        "## Find the bond price of a 8% semiannual coupon rate with 20 years to maturity, a maturity value of USD 1,000. The market required yield are: are 6, 8 and 10%."
      ]
    },
    {
      "cell_type": "code",
      "metadata": {
        "colab": {
          "base_uri": "https://localhost:8080/",
          "height": 700
        },
        "id": "M2LMZWagxP2C",
        "outputId": "a1d38e05-5c36-4316-be08-6a476909ed56"
      },
      "source": [
        "face_value = 1000\n",
        "coupon_rate_p = 8\n",
        "years_to_maturity = 20\n",
        "freq = 2\n",
        "\n",
        "ytm_p = [6, 8, 10]\n",
        "table = []\n",
        "rows = []\n",
        "for y in range(years_to_maturity + 1):\n",
        "  rows.append(y)\n",
        "  mry = [y]\n",
        "  \n",
        "  for p in ytm_p:\n",
        "    price = bond_price(face_value, y, p, coupon_rate_p, freq)\n",
        "    mry.append(price)\n",
        "  \n",
        "  table.append(mry)\n",
        "\n",
        "df_prices = pd.DataFrame(table, columns = ['years', '6%', '8%', '10%'])\n",
        "df_prices"
      ],
      "execution_count": 10,
      "outputs": [
        {
          "output_type": "execute_result",
          "data": {
            "text/html": [
              "<div>\n",
              "<style scoped>\n",
              "    .dataframe tbody tr th:only-of-type {\n",
              "        vertical-align: middle;\n",
              "    }\n",
              "\n",
              "    .dataframe tbody tr th {\n",
              "        vertical-align: top;\n",
              "    }\n",
              "\n",
              "    .dataframe thead th {\n",
              "        text-align: right;\n",
              "    }\n",
              "</style>\n",
              "<table border=\"1\" class=\"dataframe\">\n",
              "  <thead>\n",
              "    <tr style=\"text-align: right;\">\n",
              "      <th></th>\n",
              "      <th>years</th>\n",
              "      <th>6%</th>\n",
              "      <th>8%</th>\n",
              "      <th>10%</th>\n",
              "    </tr>\n",
              "  </thead>\n",
              "  <tbody>\n",
              "    <tr>\n",
              "      <th>0</th>\n",
              "      <td>0</td>\n",
              "      <td>1000.00</td>\n",
              "      <td>1000.0</td>\n",
              "      <td>1000.00</td>\n",
              "    </tr>\n",
              "    <tr>\n",
              "      <th>1</th>\n",
              "      <td>1</td>\n",
              "      <td>1019.13</td>\n",
              "      <td>1000.0</td>\n",
              "      <td>981.41</td>\n",
              "    </tr>\n",
              "    <tr>\n",
              "      <th>2</th>\n",
              "      <td>2</td>\n",
              "      <td>1037.17</td>\n",
              "      <td>1000.0</td>\n",
              "      <td>964.54</td>\n",
              "    </tr>\n",
              "    <tr>\n",
              "      <th>3</th>\n",
              "      <td>3</td>\n",
              "      <td>1054.17</td>\n",
              "      <td>1000.0</td>\n",
              "      <td>949.24</td>\n",
              "    </tr>\n",
              "    <tr>\n",
              "      <th>4</th>\n",
              "      <td>4</td>\n",
              "      <td>1070.20</td>\n",
              "      <td>1000.0</td>\n",
              "      <td>935.37</td>\n",
              "    </tr>\n",
              "    <tr>\n",
              "      <th>5</th>\n",
              "      <td>5</td>\n",
              "      <td>1085.30</td>\n",
              "      <td>1000.0</td>\n",
              "      <td>922.78</td>\n",
              "    </tr>\n",
              "    <tr>\n",
              "      <th>6</th>\n",
              "      <td>6</td>\n",
              "      <td>1099.54</td>\n",
              "      <td>1000.0</td>\n",
              "      <td>911.37</td>\n",
              "    </tr>\n",
              "    <tr>\n",
              "      <th>7</th>\n",
              "      <td>7</td>\n",
              "      <td>1112.96</td>\n",
              "      <td>1000.0</td>\n",
              "      <td>901.01</td>\n",
              "    </tr>\n",
              "    <tr>\n",
              "      <th>8</th>\n",
              "      <td>8</td>\n",
              "      <td>1125.61</td>\n",
              "      <td>1000.0</td>\n",
              "      <td>891.62</td>\n",
              "    </tr>\n",
              "    <tr>\n",
              "      <th>9</th>\n",
              "      <td>9</td>\n",
              "      <td>1137.54</td>\n",
              "      <td>1000.0</td>\n",
              "      <td>883.10</td>\n",
              "    </tr>\n",
              "    <tr>\n",
              "      <th>10</th>\n",
              "      <td>10</td>\n",
              "      <td>1148.77</td>\n",
              "      <td>1000.0</td>\n",
              "      <td>875.38</td>\n",
              "    </tr>\n",
              "    <tr>\n",
              "      <th>11</th>\n",
              "      <td>11</td>\n",
              "      <td>1159.37</td>\n",
              "      <td>1000.0</td>\n",
              "      <td>868.37</td>\n",
              "    </tr>\n",
              "    <tr>\n",
              "      <th>12</th>\n",
              "      <td>12</td>\n",
              "      <td>1169.36</td>\n",
              "      <td>1000.0</td>\n",
              "      <td>862.01</td>\n",
              "    </tr>\n",
              "    <tr>\n",
              "      <th>13</th>\n",
              "      <td>13</td>\n",
              "      <td>1178.77</td>\n",
              "      <td>1000.0</td>\n",
              "      <td>856.25</td>\n",
              "    </tr>\n",
              "    <tr>\n",
              "      <th>14</th>\n",
              "      <td>14</td>\n",
              "      <td>1187.64</td>\n",
              "      <td>1000.0</td>\n",
              "      <td>851.02</td>\n",
              "    </tr>\n",
              "    <tr>\n",
              "      <th>15</th>\n",
              "      <td>15</td>\n",
              "      <td>1196.00</td>\n",
              "      <td>1000.0</td>\n",
              "      <td>846.28</td>\n",
              "    </tr>\n",
              "    <tr>\n",
              "      <th>16</th>\n",
              "      <td>16</td>\n",
              "      <td>1203.89</td>\n",
              "      <td>1000.0</td>\n",
              "      <td>841.97</td>\n",
              "    </tr>\n",
              "    <tr>\n",
              "      <th>17</th>\n",
              "      <td>17</td>\n",
              "      <td>1211.32</td>\n",
              "      <td>1000.0</td>\n",
              "      <td>838.07</td>\n",
              "    </tr>\n",
              "    <tr>\n",
              "      <th>18</th>\n",
              "      <td>18</td>\n",
              "      <td>1218.32</td>\n",
              "      <td>1000.0</td>\n",
              "      <td>834.53</td>\n",
              "    </tr>\n",
              "    <tr>\n",
              "      <th>19</th>\n",
              "      <td>19</td>\n",
              "      <td>1224.92</td>\n",
              "      <td>1000.0</td>\n",
              "      <td>831.32</td>\n",
              "    </tr>\n",
              "    <tr>\n",
              "      <th>20</th>\n",
              "      <td>20</td>\n",
              "      <td>1231.15</td>\n",
              "      <td>1000.0</td>\n",
              "      <td>828.41</td>\n",
              "    </tr>\n",
              "  </tbody>\n",
              "</table>\n",
              "</div>"
            ],
            "text/plain": [
              "    years       6%      8%      10%\n",
              "0       0  1000.00  1000.0  1000.00\n",
              "1       1  1019.13  1000.0   981.41\n",
              "2       2  1037.17  1000.0   964.54\n",
              "3       3  1054.17  1000.0   949.24\n",
              "4       4  1070.20  1000.0   935.37\n",
              "5       5  1085.30  1000.0   922.78\n",
              "6       6  1099.54  1000.0   911.37\n",
              "7       7  1112.96  1000.0   901.01\n",
              "8       8  1125.61  1000.0   891.62\n",
              "9       9  1137.54  1000.0   883.10\n",
              "10     10  1148.77  1000.0   875.38\n",
              "11     11  1159.37  1000.0   868.37\n",
              "12     12  1169.36  1000.0   862.01\n",
              "13     13  1178.77  1000.0   856.25\n",
              "14     14  1187.64  1000.0   851.02\n",
              "15     15  1196.00  1000.0   846.28\n",
              "16     16  1203.89  1000.0   841.97\n",
              "17     17  1211.32  1000.0   838.07\n",
              "18     18  1218.32  1000.0   834.53\n",
              "19     19  1224.92  1000.0   831.32\n",
              "20     20  1231.15  1000.0   828.41"
            ]
          },
          "metadata": {
            "tags": []
          },
          "execution_count": 10
        }
      ]
    },
    {
      "cell_type": "code",
      "metadata": {
        "colab": {
          "base_uri": "https://localhost:8080/",
          "height": 269
        },
        "id": "PTTIzNIL5W0u",
        "outputId": "bfda5aee-e3d7-4a56-81cc-ed8a3f0aeba6"
      },
      "source": [
        "df_prices.plot(y=['6%', '8%', '10%'])\n",
        "plt.show()"
      ],
      "execution_count": 11,
      "outputs": [
        {
          "output_type": "display_data",
          "data": {
            "image/png": "[encoded data removed]",
            "text/plain": [
              "<Figure size 432x288 with 1 Axes>"
            ]
          },
          "metadata": {
            "tags": [],
            "needs_background": "light"
          }
        }
      ]
    },
    {
      "cell_type": "markdown",
      "metadata": {
        "id": "u0UsXdHdVa0G"
      },
      "source": [
        "## Find the bond price of a 8% semiannual coupon rate with range from 0 to 20 years to maturity, a face value of USD 1,000. Assume that the semiannual YTMs are 6, 8 and 10%."
      ]
    },
    {
      "cell_type": "code",
      "metadata": {
        "colab": {
          "base_uri": "https://localhost:8080/",
          "height": 700
        },
        "id": "TVL5SJZxV6B8",
        "outputId": "c075625d-507a-4273-b3b0-5aacaf7c0333"
      },
      "source": [
        "face_value = 1000\n",
        "coupon_rate_p = 8\n",
        "years_to_maturity = 20\n",
        "freq = 2\n",
        "\n",
        "ytm_p = [6, 8, 10]\n",
        "table = []\n",
        "rows = []\n",
        "for y in range(years_to_maturity + 1):\n",
        "  rows.append(y)\n",
        "  mry = [y]\n",
        "  \n",
        "  for p in ytm_p:\n",
        "    price = bond_price(face_value, y, p, coupon_rate_p, freq) - bond_price(face_value, y, p, 0, freq)\n",
        "    mry.append(price)\n",
        "    price = bond_price(face_value, y, p, 0, freq)\n",
        "    mry.append(price)\n",
        "    price = bond_price(face_value, y, p, coupon_rate_p, freq)\n",
        "    mry.append(price)\n",
        "  \n",
        "  table.append(mry)\n",
        "\n",
        "columns = ['years', '6%_Coupon', '6%_FV', '6%_Price', '8%_Coupon', '8%_FV', '8%_Price', '10%_Coupon',  '10%_FV', '10%_Price']\n",
        "df_prices = pd.DataFrame(table, columns = columns)\n",
        "df_prices"
      ],
      "execution_count": 12,
      "outputs": [
        {
          "output_type": "execute_result",
          "data": {
            "text/html": [
              "<div>\n",
              "<style scoped>\n",
              "    .dataframe tbody tr th:only-of-type {\n",
              "        vertical-align: middle;\n",
              "    }\n",
              "\n",
              "    .dataframe tbody tr th {\n",
              "        vertical-align: top;\n",
              "    }\n",
              "\n",
              "    .dataframe thead th {\n",
              "        text-align: right;\n",
              "    }\n",
              "</style>\n",
              "<table border=\"1\" class=\"dataframe\">\n",
              "  <thead>\n",
              "    <tr style=\"text-align: right;\">\n",
              "      <th></th>\n",
              "      <th>years</th>\n",
              "      <th>6%_Coupon</th>\n",
              "      <th>6%_FV</th>\n",
              "      <th>6%_Price</th>\n",
              "      <th>8%_Coupon</th>\n",
              "      <th>8%_FV</th>\n",
              "      <th>8%_Price</th>\n",
              "      <th>10%_Coupon</th>\n",
              "      <th>10%_FV</th>\n",
              "      <th>10%_Price</th>\n",
              "    </tr>\n",
              "  </thead>\n",
              "  <tbody>\n",
              "    <tr>\n",
              "      <th>0</th>\n",
              "      <td>0</td>\n",
              "      <td>0.00</td>\n",
              "      <td>1000.00</td>\n",
              "      <td>1000.00</td>\n",
              "      <td>0.00</td>\n",
              "      <td>1000.00</td>\n",
              "      <td>1000.0</td>\n",
              "      <td>0.00</td>\n",
              "      <td>1000.00</td>\n",
              "      <td>1000.00</td>\n",
              "    </tr>\n",
              "    <tr>\n",
              "      <th>1</th>\n",
              "      <td>1</td>\n",
              "      <td>76.53</td>\n",
              "      <td>942.60</td>\n",
              "      <td>1019.13</td>\n",
              "      <td>75.44</td>\n",
              "      <td>924.56</td>\n",
              "      <td>1000.0</td>\n",
              "      <td>74.38</td>\n",
              "      <td>907.03</td>\n",
              "      <td>981.41</td>\n",
              "    </tr>\n",
              "    <tr>\n",
              "      <th>2</th>\n",
              "      <td>2</td>\n",
              "      <td>148.68</td>\n",
              "      <td>888.49</td>\n",
              "      <td>1037.17</td>\n",
              "      <td>145.20</td>\n",
              "      <td>854.80</td>\n",
              "      <td>1000.0</td>\n",
              "      <td>141.84</td>\n",
              "      <td>822.70</td>\n",
              "      <td>964.54</td>\n",
              "    </tr>\n",
              "    <tr>\n",
              "      <th>3</th>\n",
              "      <td>3</td>\n",
              "      <td>216.69</td>\n",
              "      <td>837.48</td>\n",
              "      <td>1054.17</td>\n",
              "      <td>209.69</td>\n",
              "      <td>790.31</td>\n",
              "      <td>1000.0</td>\n",
              "      <td>203.02</td>\n",
              "      <td>746.22</td>\n",
              "      <td>949.24</td>\n",
              "    </tr>\n",
              "    <tr>\n",
              "      <th>4</th>\n",
              "      <td>4</td>\n",
              "      <td>280.79</td>\n",
              "      <td>789.41</td>\n",
              "      <td>1070.20</td>\n",
              "      <td>269.31</td>\n",
              "      <td>730.69</td>\n",
              "      <td>1000.0</td>\n",
              "      <td>258.53</td>\n",
              "      <td>676.84</td>\n",
              "      <td>935.37</td>\n",
              "    </tr>\n",
              "    <tr>\n",
              "      <th>5</th>\n",
              "      <td>5</td>\n",
              "      <td>341.21</td>\n",
              "      <td>744.09</td>\n",
              "      <td>1085.30</td>\n",
              "      <td>324.44</td>\n",
              "      <td>675.56</td>\n",
              "      <td>1000.0</td>\n",
              "      <td>308.87</td>\n",
              "      <td>613.91</td>\n",
              "      <td>922.78</td>\n",
              "    </tr>\n",
              "    <tr>\n",
              "      <th>6</th>\n",
              "      <td>6</td>\n",
              "      <td>398.16</td>\n",
              "      <td>701.38</td>\n",
              "      <td>1099.54</td>\n",
              "      <td>375.40</td>\n",
              "      <td>624.60</td>\n",
              "      <td>1000.0</td>\n",
              "      <td>354.53</td>\n",
              "      <td>556.84</td>\n",
              "      <td>911.37</td>\n",
              "    </tr>\n",
              "    <tr>\n",
              "      <th>7</th>\n",
              "      <td>7</td>\n",
              "      <td>451.84</td>\n",
              "      <td>661.12</td>\n",
              "      <td>1112.96</td>\n",
              "      <td>422.52</td>\n",
              "      <td>577.48</td>\n",
              "      <td>1000.0</td>\n",
              "      <td>395.94</td>\n",
              "      <td>505.07</td>\n",
              "      <td>901.01</td>\n",
              "    </tr>\n",
              "    <tr>\n",
              "      <th>8</th>\n",
              "      <td>8</td>\n",
              "      <td>502.44</td>\n",
              "      <td>623.17</td>\n",
              "      <td>1125.61</td>\n",
              "      <td>466.09</td>\n",
              "      <td>533.91</td>\n",
              "      <td>1000.0</td>\n",
              "      <td>433.51</td>\n",
              "      <td>458.11</td>\n",
              "      <td>891.62</td>\n",
              "    </tr>\n",
              "    <tr>\n",
              "      <th>9</th>\n",
              "      <td>9</td>\n",
              "      <td>550.15</td>\n",
              "      <td>587.39</td>\n",
              "      <td>1137.54</td>\n",
              "      <td>506.37</td>\n",
              "      <td>493.63</td>\n",
              "      <td>1000.0</td>\n",
              "      <td>467.58</td>\n",
              "      <td>415.52</td>\n",
              "      <td>883.10</td>\n",
              "    </tr>\n",
              "    <tr>\n",
              "      <th>10</th>\n",
              "      <td>10</td>\n",
              "      <td>595.09</td>\n",
              "      <td>553.68</td>\n",
              "      <td>1148.77</td>\n",
              "      <td>543.61</td>\n",
              "      <td>456.39</td>\n",
              "      <td>1000.0</td>\n",
              "      <td>498.49</td>\n",
              "      <td>376.89</td>\n",
              "      <td>875.38</td>\n",
              "    </tr>\n",
              "    <tr>\n",
              "      <th>11</th>\n",
              "      <td>11</td>\n",
              "      <td>637.48</td>\n",
              "      <td>521.89</td>\n",
              "      <td>1159.37</td>\n",
              "      <td>578.04</td>\n",
              "      <td>421.96</td>\n",
              "      <td>1000.0</td>\n",
              "      <td>526.52</td>\n",
              "      <td>341.85</td>\n",
              "      <td>868.37</td>\n",
              "    </tr>\n",
              "    <tr>\n",
              "      <th>12</th>\n",
              "      <td>12</td>\n",
              "      <td>677.43</td>\n",
              "      <td>491.93</td>\n",
              "      <td>1169.36</td>\n",
              "      <td>609.88</td>\n",
              "      <td>390.12</td>\n",
              "      <td>1000.0</td>\n",
              "      <td>551.94</td>\n",
              "      <td>310.07</td>\n",
              "      <td>862.01</td>\n",
              "    </tr>\n",
              "    <tr>\n",
              "      <th>13</th>\n",
              "      <td>13</td>\n",
              "      <td>715.08</td>\n",
              "      <td>463.69</td>\n",
              "      <td>1178.77</td>\n",
              "      <td>639.31</td>\n",
              "      <td>360.69</td>\n",
              "      <td>1000.0</td>\n",
              "      <td>575.01</td>\n",
              "      <td>281.24</td>\n",
              "      <td>856.25</td>\n",
              "    </tr>\n",
              "    <tr>\n",
              "      <th>14</th>\n",
              "      <td>14</td>\n",
              "      <td>750.56</td>\n",
              "      <td>437.08</td>\n",
              "      <td>1187.64</td>\n",
              "      <td>666.52</td>\n",
              "      <td>333.48</td>\n",
              "      <td>1000.0</td>\n",
              "      <td>595.93</td>\n",
              "      <td>255.09</td>\n",
              "      <td>851.02</td>\n",
              "    </tr>\n",
              "    <tr>\n",
              "      <th>15</th>\n",
              "      <td>15</td>\n",
              "      <td>784.01</td>\n",
              "      <td>411.99</td>\n",
              "      <td>1196.00</td>\n",
              "      <td>691.68</td>\n",
              "      <td>308.32</td>\n",
              "      <td>1000.0</td>\n",
              "      <td>614.90</td>\n",
              "      <td>231.38</td>\n",
              "      <td>846.28</td>\n",
              "    </tr>\n",
              "    <tr>\n",
              "      <th>16</th>\n",
              "      <td>16</td>\n",
              "      <td>815.55</td>\n",
              "      <td>388.34</td>\n",
              "      <td>1203.89</td>\n",
              "      <td>714.94</td>\n",
              "      <td>285.06</td>\n",
              "      <td>1000.0</td>\n",
              "      <td>632.10</td>\n",
              "      <td>209.87</td>\n",
              "      <td>841.97</td>\n",
              "    </tr>\n",
              "    <tr>\n",
              "      <th>17</th>\n",
              "      <td>17</td>\n",
              "      <td>845.28</td>\n",
              "      <td>366.04</td>\n",
              "      <td>1211.32</td>\n",
              "      <td>736.45</td>\n",
              "      <td>263.55</td>\n",
              "      <td>1000.0</td>\n",
              "      <td>647.72</td>\n",
              "      <td>190.35</td>\n",
              "      <td>838.07</td>\n",
              "    </tr>\n",
              "    <tr>\n",
              "      <th>18</th>\n",
              "      <td>18</td>\n",
              "      <td>873.29</td>\n",
              "      <td>345.03</td>\n",
              "      <td>1218.32</td>\n",
              "      <td>756.33</td>\n",
              "      <td>243.67</td>\n",
              "      <td>1000.0</td>\n",
              "      <td>661.87</td>\n",
              "      <td>172.66</td>\n",
              "      <td>834.53</td>\n",
              "    </tr>\n",
              "    <tr>\n",
              "      <th>19</th>\n",
              "      <td>19</td>\n",
              "      <td>899.69</td>\n",
              "      <td>325.23</td>\n",
              "      <td>1224.92</td>\n",
              "      <td>774.71</td>\n",
              "      <td>225.29</td>\n",
              "      <td>1000.0</td>\n",
              "      <td>674.71</td>\n",
              "      <td>156.61</td>\n",
              "      <td>831.32</td>\n",
              "    </tr>\n",
              "    <tr>\n",
              "      <th>20</th>\n",
              "      <td>20</td>\n",
              "      <td>924.59</td>\n",
              "      <td>306.56</td>\n",
              "      <td>1231.15</td>\n",
              "      <td>791.71</td>\n",
              "      <td>208.29</td>\n",
              "      <td>1000.0</td>\n",
              "      <td>686.36</td>\n",
              "      <td>142.05</td>\n",
              "      <td>828.41</td>\n",
              "    </tr>\n",
              "  </tbody>\n",
              "</table>\n",
              "</div>"
            ],
            "text/plain": [
              "    years  6%_Coupon    6%_FV  ...  10%_Coupon   10%_FV  10%_Price\n",
              "0       0       0.00  1000.00  ...        0.00  1000.00    1000.00\n",
              "1       1      76.53   942.60  ...       74.38   907.03     981.41\n",
              "2       2     148.68   888.49  ...      141.84   822.70     964.54\n",
              "3       3     216.69   837.48  ...      203.02   746.22     949.24\n",
              "4       4     280.79   789.41  ...      258.53   676.84     935.37\n",
              "5       5     341.21   744.09  ...      308.87   613.91     922.78\n",
              "6       6     398.16   701.38  ...      354.53   556.84     911.37\n",
              "7       7     451.84   661.12  ...      395.94   505.07     901.01\n",
              "8       8     502.44   623.17  ...      433.51   458.11     891.62\n",
              "9       9     550.15   587.39  ...      467.58   415.52     883.10\n",
              "10     10     595.09   553.68  ...      498.49   376.89     875.38\n",
              "11     11     637.48   521.89  ...      526.52   341.85     868.37\n",
              "12     12     677.43   491.93  ...      551.94   310.07     862.01\n",
              "13     13     715.08   463.69  ...      575.01   281.24     856.25\n",
              "14     14     750.56   437.08  ...      595.93   255.09     851.02\n",
              "15     15     784.01   411.99  ...      614.90   231.38     846.28\n",
              "16     16     815.55   388.34  ...      632.10   209.87     841.97\n",
              "17     17     845.28   366.04  ...      647.72   190.35     838.07\n",
              "18     18     873.29   345.03  ...      661.87   172.66     834.53\n",
              "19     19     899.69   325.23  ...      674.71   156.61     831.32\n",
              "20     20     924.59   306.56  ...      686.36   142.05     828.41\n",
              "\n",
              "[21 rows x 10 columns]"
            ]
          },
          "metadata": {
            "tags": []
          },
          "execution_count": 12
        }
      ]
    },
    {
      "cell_type": "code",
      "metadata": {
        "colab": {
          "base_uri": "https://localhost:8080/",
          "height": 517
        },
        "id": "92lvlG99auDD",
        "outputId": "727eb9e5-65c4-4010-892c-9b729b2810f6"
      },
      "source": [
        "df_prices.plot(y=['6%_Coupon', '8%_Coupon', '10%_Coupon', '6%_FV', '8%_FV', '10%_FV'])\n",
        "plt.show()\n",
        "\n",
        "df_prices.plot(y=['6%_Price', '8%_Price', '10%_Price'])\n",
        "plt.show()"
      ],
      "execution_count": 13,
      "outputs": [
        {
          "output_type": "display_data",
          "data": {
            "image/png": "[encoded data removed]",
            "text/plain": [
              "<Figure size 432x288 with 1 Axes>"
            ]
          },
          "metadata": {
            "tags": [],
            "needs_background": "light"
          }
        },
        {
          "output_type": "display_data",
          "data": {
            "image/png": "[encoded data removed]",
            "text/plain": [
              "<Figure size 432x288 with 1 Axes>"
            ]
          },
          "metadata": {
            "tags": [],
            "needs_background": "light"
          }
        }
      ]
    },
    {
      "cell_type": "markdown",
      "metadata": {
        "id": "LSu2JL7sbnwn"
      },
      "source": [
        "## Today it is February 9, 2016. You buy on the secondary market the following bond (with pays 6.75% semiannual coupons). The bond pays semiannual coupons on September 27 and March 27 and thematurity day will be on September 27, 2034. Find the accrued interest, dirty and clean prices."
      ]
    },
    {
      "cell_type": "code",
      "metadata": {
        "colab": {
          "base_uri": "https://localhost:8080/"
        },
        "id": "NpJXEqXmW2wC",
        "outputId": "d7afe947-46ee-42d5-bbb4-a1efec5f0434"
      },
      "source": [
        "def clean_price(previous_coupon, first_coupon, maturity, issue, coupon_rate_p, ytm_p, freq=1, ACT=365):\n",
        "\n",
        "  first_date = datetime.strptime(first_coupon, \"%Y-%m-%d\")\n",
        "  maturity_date = datetime.strptime(maturity, \"%Y-%m-%d\")\n",
        "  issue_date = datetime.strptime(issue, \"%Y-%m-%d\")\n",
        "  previous_date = datetime.strptime(previous_coupon, \"%Y-%m-%d\")\n",
        "  \n",
        "  ytm = ytm_p/100\n",
        "  days_to_maturity = (maturity_date - first_date).days\n",
        "  periods = round(days_to_maturity * freq / ACT, 0)\n",
        "  fraction = round((first_date - issue_date)/ (timedelta(ACT)/freq), 2)\n",
        "  ai = (issue_date - previous_date)/ (timedelta(ACT)/freq)\n",
        "\n",
        "  coupon = (coupon_rate_p/100)*face_value/freq\n",
        "  accrued_interest = round(coupon * ai, 2)\n",
        "\n",
        "  dt = [(i+1)/freq for i in range(int(periods +1 ))]\n",
        "  cash_flow_coupons = sum([coupon/(1+ytm/freq)**(fraction + freq*t - 1) for t in dt])\n",
        "  cash_flow_face_value = face_value/(1+ytm/freq)**periods\n",
        "  dirty_price = round(cash_flow_coupons + cash_flow_face_value, 2)\n",
        "  clean_price = dirty_price - accrued_interest\n",
        "\n",
        "  return [dirty_price, accrued_interest, clean_price]\n",
        "\n",
        "face_value = 100\n",
        "coupon_rate_p = 6.75\n",
        "ytm_p = 5.15\n",
        "freq = 2\n",
        "ACT = 365\n",
        "\n",
        "issue = '2016-02-09'\n",
        "previous_coupon = '2015-09-27'\n",
        "first_coupon = '2016-03-27'\n",
        "maturity = '2034-09-27'\n",
        "\n",
        "dirty_clean = clean_price(previous_coupon, first_coupon, maturity, issue, coupon_rate_p, ytm_p, 2)\n",
        "print(f'Dirty price: ${dirty_clean[0]}, Accrued interest: {dirty_clean[1]}%, Clean price: ${dirty_clean[2]}')\n"
      ],
      "execution_count": 14,
      "outputs": [
        {
          "output_type": "stream",
          "text": [
            "Dirty price: $121.77, Accrued interest: 2.5%, Clean price: $119.27\n"
          ],
          "name": "stdout"
        }
      ]
    },
    {
      "cell_type": "markdown",
      "metadata": {
        "id": "lXwq1x71OUra"
      },
      "source": [
        "## Consider the following three-bond portfolio. Each bond pays coupons with semiannual frequency. Find the semiannual, annual and effective YTM of the portfolio.\n",
        "\n",
        "Bond A\n",
        "Coupon Rate: 7.0 %\n",
        "Maturity: 5 yrs\n",
        "Par Value: USD 10000000\n",
        "YTM: 6 %\n",
        "\n",
        "Bond B\n",
        "Coupon Rate: 10.5 %\n",
        "Maturity: 7 yrs\n",
        "Par Value: USD 20000000\n",
        "YTM: 10.5 %\n",
        "\n",
        "Bond C\n",
        "Coupon Rate: 6 %\n",
        "Maturity: 3 yrs\n",
        "Par Value: USD 30000000\n",
        "YTM: 8.5 %"
      ]
    },
    {
      "cell_type": "code",
      "metadata": {
        "colab": {
          "base_uri": "https://localhost:8080/"
        },
        "id": "Eb-sc3jkj8oJ",
        "outputId": "c0a95f8c-f015-479a-f95c-3cc786d454e0"
      },
      "source": [
        "def bond_portfolio(face_value, years_to_maturity, ytm_p, coupon_rate_p, freq=1):\n",
        "  ytm = ytm_p/100\n",
        "  freq = float(freq)\n",
        "  periods = years_to_maturity*freq\n",
        "  coupon = (coupon_rate_p/100)*face_value/freq\n",
        "  dt = [(i+1)/freq for i in range(int(periods))]\n",
        "  price = sum([coupon/(1+ytm/freq)**(freq*t) for t in dt]) + face_value/(1+ytm/freq)**(freq*years_to_maturity)\n",
        "  cash_flow = [coupon for t in dt]\n",
        "  cash_flow[-1] = coupon + face_value\n",
        "  \n",
        "  return [cash_flow, round(price,2)]\n",
        "\n",
        "def add_lists(po1, po2):\n",
        "  if len(po1) > len(po2):\n",
        "    n1, n2 = po1, po2\n",
        "  else:\n",
        "    n1, n2 = po2, po1\n",
        "\n",
        "  f_len = len(n1)-(len(n2) - 1)\n",
        "  for i in range(0, len(n2), 1):\n",
        "    if f_len - i >= len(n1):\n",
        "      break\n",
        "    else:\n",
        "      n1[i] = n1[i] + n2[i]\n",
        "  return n1\n",
        "\n",
        "def portfolio_ytm(portfolio_cashflow, price, ytm=0.05):\n",
        "    periods = len(portfolio_cashflow)\n",
        "    dt = [i+1 for i in range(periods)]\n",
        "    ytm_func = lambda y : \\\n",
        "    sum([portfolio_cashflow[t - 1] / (1 + y)**t for t in dt]) - price\n",
        "\n",
        "    return round(100*optimize.newton(ytm_func, ytm), 2)\n",
        "\n",
        "\n",
        "price_a = bond_portfolio(10000000, 5, 6, 7, 2)\n",
        "print(f'Price A coupon: ${price_a[1]}')\n",
        "price_b = bond_portfolio(20000000, 7, 10.5, 10.5, 2)\n",
        "print(f'Price B coupon: ${price_b[1]}')\n",
        "price_c = bond_portfolio(30000000, 3, 8.5, 6, 2)\n",
        "print(f'Price C coupon: ${price_c[1]}')\n",
        "market_value = price_a[1] + price_b[1] + price_c[1]\n",
        "print(f'Total market value: ${market_value}')\n",
        "\n",
        "portfolio_cashflow = add_lists(add_lists(price_a[0], price_b[0]), price_c[0])\n",
        "portfolio_cashflow\n",
        "\n",
        "semi = portfolio_ytm(portfolio_cashflow, market_value)\n",
        "print(f'Semiannual YTM: {semi}%')\n",
        "print(f'Annual YTM: {2*semi}%')\n",
        "effective = round(100*((1 + semi/100)**2 - 1), 2)\n",
        "print(f'Effective YTM: {effective}%')"
      ],
      "execution_count": 15,
      "outputs": [
        {
          "output_type": "stream",
          "text": [
            "Price A coupon: $10426510.14\n",
            "Price B coupon: $20000000.0\n",
            "Price C coupon: $28050097.5\n",
            "Total market value: $58476607.64\n",
            "Semiannual YTM: 4.49%\n",
            "Annual YTM: 8.98%\n",
            "Effective YTM: 9.18%\n"
          ],
          "name": "stdout"
        }
      ]
    },
    {
      "cell_type": "markdown",
      "metadata": {
        "id": "I8k2ZcyRV9if"
      },
      "source": [
        "## Suppose that today you buy a coupon bond which matures in 20 years. You plan to sell this bond three years later. Compute the total return for your bond investment.\n",
        "\n",
        "Maturity (years): 20\n",
        "\n",
        "Coupon rate: 8 %\n",
        "\n",
        "Yield-to-maturity: 10 %\n",
        "\n",
        "Annual reinvestment rate: 6 %\n",
        "\n",
        "Face value: USD 1.000,00\n",
        "\n",
        "Yield for 17-year bond at the end of the investment horizon: 7 %\n",
        "\n",
        "Investment horizon: 3"
      ]
    },
    {
      "cell_type": "code",
      "metadata": {
        "colab": {
          "base_uri": "https://localhost:8080/"
        },
        "id": "qsrKd8KCWcjT",
        "outputId": "108f378c-d93d-432c-de62-c70162ddb47d"
      },
      "source": [
        "# Calculate the value of the coupon payments plus the interest-on-interest at the end of the horizon\n",
        "coupon_rate = 8\n",
        "ytm = 10\n",
        "reinvestment_rate = 6\n",
        "maturity = 20\n",
        "investment_horizon = 3\n",
        "par_value = 1000\n",
        "freq = 2\n",
        "end_of_horizon_yield = 7\n",
        "\n",
        "crp = coupon_rate/100\n",
        "ytmp = ytm/100\n",
        "rrp = reinvestment_rate/100\n",
        "eohy = end_of_horizon_yield/100\n",
        "\n",
        "semi_payment = par_value*crp/freq\n",
        "coupon_price = (semi_payment/(ytmp/freq))*(1 - 1/(1 + ytmp/freq)**(freq*maturity))\n",
        "par_price = par_value/(1 + ytmp/freq)**(freq*maturity)\n",
        "purchase_price = coupon_price + par_price\n",
        "print(f'Purchase price: ${round(purchase_price, 2)}')\n",
        "\n",
        "cpi = (semi_payment/(rrp/freq))*((1 + rrp/freq)**(freq*investment_horizon) - 1)\n",
        "print(f'Coupon payment + interest-on-interest: ${round(cpi, 2)}')\n",
        "\n",
        "left_to_maturity = maturity - investment_horizon\n",
        "coupon_price_left = (semi_payment/(eohy/freq))*(1 - 1/(1 + eohy/freq)**(freq*left_to_maturity))\n",
        "par_price_left = par_value/(1 + eohy/freq)**(freq*left_to_maturity)\n",
        "horizon_price = coupon_price_left + par_price_left\n",
        "print(f'Horizon price: ${round(horizon_price, 2)}')\n",
        "\n",
        "total_future_value = horizon_price + cpi\n",
        "print(f'Total future price: ${round(total_future_value, 2)}')\n",
        "\n",
        "semi_rate_of_return = (total_future_value/purchase_price)**(1/(freq*investment_horizon)) - 1\n",
        "print(f'Semiannual rate of return: {round(100*semi_rate_of_return, 2)}%')\n",
        "\n",
        "rate_of_return = freq * semi_rate_of_return\n",
        "print(f'Annual rate of return: {round(100*rate_of_return, 2)}%')\n",
        "\n",
        "effective_rate_of_return = (1 + semi_rate_of_return)**freq - 1\n",
        "print(f'Effective rate of return: {round(100*effective_rate_of_return, 2)}%')"
      ],
      "execution_count": 16,
      "outputs": [
        {
          "output_type": "stream",
          "text": [
            "Purchase price: $828.41\n",
            "Coupon payment + interest-on-interest: $258.74\n",
            "Horizon price: $1098.5\n",
            "Total future price: $1357.24\n",
            "Semiannual rate of return: 8.58%\n",
            "Annual rate of return: 17.15%\n",
            "Effective rate of return: 17.89%\n"
          ],
          "name": "stdout"
        }
      ]
    },
    {
      "cell_type": "markdown",
      "metadata": {
        "id": "NdaprdmZnIZc"
      },
      "source": [
        "\n",
        "\n",
        "---\n",
        "\n"
      ]
    },
    {
      "cell_type": "markdown",
      "metadata": {
        "id": "Wxh5l5oQnhn4"
      },
      "source": [
        "## **Bond pricing**"
      ]
    },
    {
      "cell_type": "markdown",
      "metadata": {
        "id": "sbZ_c9CemXnE"
      },
      "source": [
        "### 8) You are offered a perpetual bond paying an annual cash flow of 50. If the annual interest rate is 8%, what is the price you will be willing to pay?"
      ]
    },
    {
      "cell_type": "code",
      "metadata": {
        "colab": {
          "base_uri": "https://localhost:8080/"
        },
        "id": "qeBXceCWmel7",
        "outputId": "bc0798eb-f850-4768-f7a1-5a2108161bf8"
      },
      "source": [
        "# P = C/(y/n)\n",
        "cash_flow = 50\n",
        "bond_rate = 8\n",
        "\n",
        "price = cash_flow / (bond_rate/100)\n",
        "print(f'Price: ${round(price, 2)}')"
      ],
      "execution_count": 17,
      "outputs": [
        {
          "output_type": "stream",
          "text": [
            "Price: $625.0\n"
          ],
          "name": "stdout"
        }
      ]
    },
    {
      "cell_type": "markdown",
      "metadata": {
        "id": "6BNqU4dKnFZO"
      },
      "source": [
        "### 9) What happens to the price of the perpetual bond if the annual interest rate falls from 8% to 6%? "
      ]
    },
    {
      "cell_type": "code",
      "metadata": {
        "colab": {
          "base_uri": "https://localhost:8080/"
        },
        "id": "bVGYtRXAnHnE",
        "outputId": "4ccafe8e-7d23-429c-9825-fc8a52f80006"
      },
      "source": [
        "cash_flow = 50\n",
        "bond_rate = 6\n",
        "\n",
        "# P = C/(y/n)\n",
        "# bond_price(face_value, years_to_maturity, ytm_p, coupon_rate_p, freq)\n",
        "price = cash_flow / (bond_rate/100)\n",
        "print(f'Price: ${round(price, 2)}')"
      ],
      "execution_count": 18,
      "outputs": [
        {
          "output_type": "stream",
          "text": [
            "Price: $833.33\n"
          ],
          "name": "stdout"
        }
      ]
    },
    {
      "cell_type": "markdown",
      "metadata": {
        "id": "zAX0o5QPnqt3"
      },
      "source": [
        "### 10) Consider a bond maturing in 20 years, paying 8% semiannual coupons, with face value of US 1,000. Assume the YTM is 6%. Find the bond price. "
      ]
    },
    {
      "cell_type": "code",
      "metadata": {
        "colab": {
          "base_uri": "https://localhost:8080/"
        },
        "id": "ybDGzhAsnusi",
        "outputId": "a068894e-3cd1-490d-a8ba-d7f2f8e72dc0"
      },
      "source": [
        "# bond_price(face_value, years_to_maturity, ytm_p, coupon_rate_p, freq)\n",
        "price = bond_price(1000, 20, 6, 8, 2)\n",
        "print(f'Price: ${price}')"
      ],
      "execution_count": 19,
      "outputs": [
        {
          "output_type": "stream",
          "text": [
            "Price: $1231.15\n"
          ],
          "name": "stdout"
        }
      ]
    },
    {
      "cell_type": "markdown",
      "metadata": {
        "id": "m-I05JEjoN_h"
      },
      "source": [
        "### 11) What happens to the price of the  above bond if the YTM rises to 10%?"
      ]
    },
    {
      "cell_type": "code",
      "metadata": {
        "colab": {
          "base_uri": "https://localhost:8080/"
        },
        "id": "wYWUTM5joT-B",
        "outputId": "91e78503-110f-44a5-f67e-b7aaf391c82f"
      },
      "source": [
        "# bond_price(face_value, years_to_maturity, ytm_p, coupon_rate_p, freq)\n",
        "price = bond_price(1000, 20, 10, 8, 2)\n",
        "print(f'Price: ${price}')"
      ],
      "execution_count": 20,
      "outputs": [
        {
          "output_type": "stream",
          "text": [
            "Price: $828.41\n"
          ],
          "name": "stdout"
        }
      ]
    },
    {
      "cell_type": "markdown",
      "metadata": {
        "id": "s7SfE74Sodbf"
      },
      "source": [
        "### 12) Consider a 9% semiannual coupon bond with 20 years to maturity and a face value of US 1,000. Assume that the yield-to-maturity is 12%. "
      ]
    },
    {
      "cell_type": "code",
      "metadata": {
        "colab": {
          "base_uri": "https://localhost:8080/"
        },
        "id": "h14aiyUmof-J",
        "outputId": "8dff3c02-a093-497e-c9cb-bf7d27766af3"
      },
      "source": [
        "# bond_price(face_value, years_to_maturity, ytm_p, coupon_rate_p, freq)\n",
        "price = bond_price(1000, 20, 12, 9, 2)\n",
        "print(f'Price: ${price}')"
      ],
      "execution_count": 21,
      "outputs": [
        {
          "output_type": "stream",
          "text": [
            "Price: $774.31\n"
          ],
          "name": "stdout"
        }
      ]
    },
    {
      "cell_type": "markdown",
      "metadata": {
        "id": "n2ZXXFTtpNNz"
      },
      "source": [
        "### 13) Consider a 7% seminannual coupon bond with 30 years to maturity and a face value of USD 1,000. Assume that the YTM is 12%. What happens to the bond price if the same bond matures in 20 years?"
      ]
    },
    {
      "cell_type": "code",
      "metadata": {
        "colab": {
          "base_uri": "https://localhost:8080/"
        },
        "id": "r_h6T7j8pXlE",
        "outputId": "95f66f6f-5af4-4fee-d096-b03dbc7ffcf3"
      },
      "source": [
        "# bond_price2(face_value, years_to_maturity, ytm_p, coupon_rate_p, freq=1)\n",
        "price = bond_price2(1000, 30, 12, 7, 2)\n",
        "print(f'Price 30y: ${price}')\n",
        "price = bond_price2(1000, 20, 12, 7, 2)\n",
        "print(f'Price 20y: ${price}')"
      ],
      "execution_count": 22,
      "outputs": [
        {
          "output_type": "stream",
          "text": [
            "Price 30y: $596.0\n",
            "Price 20y: $623.8\n"
          ],
          "name": "stdout"
        }
      ]
    },
    {
      "cell_type": "markdown",
      "metadata": {
        "id": "8__0StX3uNYl"
      },
      "source": [
        "### 14) What is the price of a 10-year zero coupon bond with face value of USD 1,000 and when the market required yield is 6%? What happens to the bond price if the bond matures in 20 years, instead of 10?"
      ]
    },
    {
      "cell_type": "code",
      "metadata": {
        "colab": {
          "base_uri": "https://localhost:8080/"
        },
        "id": "aHGVEglluUU0",
        "outputId": "5f134c9e-c60e-4545-c26c-339dc8e32b17"
      },
      "source": [
        "# bond_price(face_value, years_to_maturity, ytm_p, coupon_rate_p, freq=1)\n",
        "price = bond_price(1000, 10, 6, 0, 1)\n",
        "print(f'Zero coupon price 10y: ${price}')\n",
        "price = bond_price(1000, 20, 6, 0, 1)\n",
        "print(f'Zero coupon price 20y: ${price}')"
      ],
      "execution_count": 23,
      "outputs": [
        {
          "output_type": "stream",
          "text": [
            "Zero coupon price 10y: $558.39\n",
            "Zero coupon price 20y: $311.8\n"
          ],
          "name": "stdout"
        }
      ]
    },
    {
      "cell_type": "markdown",
      "metadata": {
        "id": "jYwW10s_wDp1"
      },
      "source": [
        "## **Yield measures**"
      ]
    },
    {
      "cell_type": "markdown",
      "metadata": {
        "id": "bxRJPJJKzLGS"
      },
      "source": [
        "### 16) Consider a bond, paying 8% semiannual coupons, with face value of US 1,000, maturing in 15 years and selling for US 724.7. Find the semiannual YTM.  "
      ]
    },
    {
      "cell_type": "code",
      "metadata": {
        "colab": {
          "base_uri": "https://localhost:8080/"
        },
        "id": "lNenqza4zWRt",
        "outputId": "7fafd7f9-f0f0-44af-acbf-deac02d2bbdd"
      },
      "source": [
        "# bond_ytm(price, face_value, maturity_years, interest_rate_percent, freq=1, ytm=0.05)\n",
        "\n",
        "ytm_semi = bond_ytm(724.7, 1000, 15, 8, 2)/2\n",
        "print(f'Semiannual YTM: {ytm_semi}%')"
      ],
      "execution_count": 24,
      "outputs": [
        {
          "output_type": "stream",
          "text": [
            "Semiannual YTM: 6.0%\n"
          ],
          "name": "stdout"
        }
      ]
    },
    {
      "cell_type": "markdown",
      "metadata": {
        "id": "bkVV3T7D5iiE"
      },
      "source": [
        "### 17) Following the previous exercise, calculate the effective annual yield."
      ]
    },
    {
      "cell_type": "code",
      "metadata": {
        "colab": {
          "base_uri": "https://localhost:8080/"
        },
        "id": "jQu1XHDy5oSf",
        "outputId": "08bca658-2bcc-4c18-bd8c-7cdba922e9f5"
      },
      "source": [
        "effective_ytm = ((1 + (ytm_semi/100))**freq) - 1\n",
        "print(f'Effective yield: {round(100*effective_ytm, 2)}%')"
      ],
      "execution_count": 25,
      "outputs": [
        {
          "output_type": "stream",
          "text": [
            "Effective yield: 12.36%\n"
          ],
          "name": "stdout"
        }
      ]
    },
    {
      "cell_type": "markdown",
      "metadata": {
        "id": "CX17bYm95stz"
      },
      "source": [
        "### 18) What is the YTM of a USD 100 face value 15-year bond paying 7.5% annual coupons and priced at 102.45?"
      ]
    },
    {
      "cell_type": "code",
      "metadata": {
        "id": "JF3nhdJ25z--",
        "colab": {
          "base_uri": "https://localhost:8080/"
        },
        "outputId": "583ccac0-7315-4442-ee89-ecd937275185"
      },
      "source": [
        "# bond_ytm(price, face_value, maturity_years, interest_rate_percent, freq=1, ytm=0.05)\n",
        "ytm_annual = bond_ytm(102.45, 100, 15, 7.5, 1)\n",
        "print(f'Annual YTM: {ytm_annual}%')"
      ],
      "execution_count": 51,
      "outputs": [
        {
          "output_type": "stream",
          "text": [
            "Annual YTM: 7.23%\n"
          ],
          "name": "stdout"
        }
      ]
    },
    {
      "cell_type": "markdown",
      "metadata": {
        "id": "WkQCIWKULZJ5"
      },
      "source": [
        "### 20) Consider a 20-year, 8.5% coupon bond selling for USD 850.42 per USD 1,000 par value. This bond is callable in 10 years at  USD 1,025. Find the semiannual yield-to-call (YTC) and the annual YTC. "
      ]
    },
    {
      "cell_type": "code",
      "metadata": {
        "colab": {
          "base_uri": "https://localhost:8080/"
        },
        "id": "nR6m2p0iLqOO",
        "outputId": "53b42697-0059-4d03-caa6-c3e66998bb7d"
      },
      "source": [
        "# bond_ytc(price, face_value, price_callable, years_to_call, interest_rate_percent, freq=1, ytm=0.05)\n",
        "\n",
        "ytc_semi = bond_ytc(850.42, 1000, 1025, 5, 8.5, 2)/2\n",
        "print(f'Semiannual YTC: {ytc_semi}%')\n",
        "\n",
        "ytc = ytc_semi*freq\n",
        "print(f'Annual YTC: {ytc}%')"
      ],
      "execution_count": 49,
      "outputs": [
        {
          "output_type": "stream",
          "text": [
            "Semiannual YTC: 6.52%\n",
            "Annual YTC: 13.04%\n"
          ],
          "name": "stdout"
        }
      ]
    },
    {
      "cell_type": "markdown",
      "metadata": {
        "id": "UES8wx_bV7qT"
      },
      "source": [
        "### 21) Find the effective yield. "
      ]
    },
    {
      "cell_type": "code",
      "metadata": {
        "colab": {
          "base_uri": "https://localhost:8080/"
        },
        "id": "SXixRYinWA3V",
        "outputId": "861b7045-ba97-4dcf-e680-389b0f0b87c5"
      },
      "source": [
        "effective_ytc = (1 + (ytc_semi/100))**freq - 1\n",
        "print(f'Effective YTC: {round(100*effective_ytc, 2)}%')"
      ],
      "execution_count": 50,
      "outputs": [
        {
          "output_type": "stream",
          "text": [
            "Effective YTC: 13.47%\n"
          ],
          "name": "stdout"
        }
      ]
    },
    {
      "cell_type": "markdown",
      "metadata": {
        "id": "7kcl8eOhWJoT"
      },
      "source": [
        "### 22) Calculate the bond price when the YTM is equal to 8%, 9% and 10%.\n",
        "\n",
        "*   Maturity (years): 30\n",
        "*   Settlement date: 2016-01-01\n",
        "*   Maturity date: 2046-01-01\n",
        "*   Coupon rate: 7 %\n",
        "*   Frequency: Semiannual\n",
        "*   Face value USD: 1000 "
      ]
    },
    {
      "cell_type": "code",
      "metadata": {
        "colab": {
          "base_uri": "https://localhost:8080/"
        },
        "id": "kVhOZp82WvT-",
        "outputId": "93558538-07e2-4786-a025-c7808b9bd51c"
      },
      "source": [
        "# bond_price2(face_value, years_to_maturity, ytm_p, coupon_rate_p, freq=1)\n",
        "\n",
        "ytm_p = 8\n",
        "price = bond_price2(1000, 30, ytm_p, 7, 2)\n",
        "print(f'Price 8%: ${price}')\n",
        "\n",
        "ytm_p = 9\n",
        "price = bond_price2(1000, 30, ytm_p, 7, 2)\n",
        "print(f'Price 9%: ${price}')\n",
        "\n",
        "ytm_p = 10\n",
        "price = bond_price2(1000, 30, ytm_p, 7, 2)\n",
        "print(f'Price 10%: ${price}')"
      ],
      "execution_count": 54,
      "outputs": [
        {
          "output_type": "stream",
          "text": [
            "Price 8%: $886.9\n",
            "Price 9%: $793.6\n",
            "Price 10%: $716.1\n"
          ],
          "name": "stdout"
        }
      ]
    },
    {
      "cell_type": "markdown",
      "metadata": {
        "id": "QBb1mKWoYFBC"
      },
      "source": [
        "## **Premium, Par, and Discount Bonds**"
      ]
    }
  ]
}