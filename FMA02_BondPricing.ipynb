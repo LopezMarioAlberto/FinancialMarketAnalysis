{
  "nbformat": 4,
  "nbformat_minor": 0,
  "metadata": {
    "colab": {
      "name": "FMA02_BondPricing.ipynb",
      "provenance": [],
      "collapsed_sections": []
    },
    "kernelspec": {
      "name": "python3",
      "display_name": "Python 3"
    },
    "language_info": {
      "name": "python"
    }
  },
  "cells": [
    {
      "cell_type": "markdown",
      "metadata": {
        "id": "8qFV_abR84xb"
      },
      "source": [
        "# **Sensitivity of Bond Prices**"
      ]
    },
    {
      "cell_type": "code",
      "metadata": {
        "id": "gXPC4gCT-wql"
      },
      "source": [
        "from datetime import datetime\n",
        "from datetime import timedelta\n",
        "import scipy.optimize as optimize\n",
        "import pandas as pd\n",
        "import numpy as np\n",
        "import matplotlib.pyplot as plt\n",
        "import math"
      ],
      "execution_count": null,
      "outputs": []
    },
    {
      "cell_type": "markdown",
      "metadata": {
        "id": "d6Grxb5O9dcb"
      },
      "source": [
        "## Compute the price of a 9% semiannual coupon bond with 10 years to maturity and a face value of USD 1,000. Assume that the market required yield (YTM) is 6%."
      ]
    },
    {
      "cell_type": "code",
      "metadata": {
        "colab": {
          "base_uri": "https://localhost:8080/"
        },
        "id": "CW1ytXMQ80it",
        "outputId": "e702a51e-c90c-47e1-81a7-24add5fb42ba"
      },
      "source": [
        "def bond_price(face_value, years_to_maturity, ytm_p, coupon_rate_p, freq=1):\n",
        "  ytm = ytm_p/100\n",
        "  freq = float(freq)\n",
        "  periods = years_to_maturity*freq\n",
        "  coupon = (coupon_rate_p/100)*face_value/freq\n",
        "  dt = [(i+1)/freq for i in range(int(periods))]\n",
        "  price = sum([coupon/(1+ytm/freq)**(freq*t) for t in dt]) + face_value/(1+ytm/freq)**(freq*years_to_maturity)\n",
        "  \n",
        "  return round(price,2)\n",
        "\n",
        "face_value = 1000\n",
        "coupon_rate_p = 9\n",
        "freq = 2\n",
        "ytm_p = 6\n",
        "years_to_maturity = 10\n",
        "\n",
        "price = bond_price(face_value, years_to_maturity, ytm_p, coupon_rate_p, freq)\n",
        "print(f'Price: ${price}')"
      ],
      "execution_count": null,
      "outputs": [
        {
          "output_type": "stream",
          "text": [
            "Price: $1223.16\n"
          ],
          "name": "stdout"
        }
      ]
    },
    {
      "cell_type": "markdown",
      "metadata": {
        "id": "sPieWdJChDyv"
      },
      "source": [
        "## Compute the price of a 9% annual coupon bond with 10 years to maturity and a face value of USD 1,000. Assume that the market required yield (YTM) is 6%."
      ]
    },
    {
      "cell_type": "code",
      "metadata": {
        "colab": {
          "base_uri": "https://localhost:8080/"
        },
        "id": "GGX79eSJhLGc",
        "outputId": "a328f2fd-4ebb-4c87-bf49-a389a31cdebc"
      },
      "source": [
        "face_value = 1000\n",
        "coupon_rate_p = 9\n",
        "freq = 1\n",
        "ytm_p = 6\n",
        "years_to_maturity = 10\n",
        "\n",
        "price = bond_price(face_value, years_to_maturity, ytm_p, coupon_rate_p, freq)\n",
        "print(f'Price: ${price}')"
      ],
      "execution_count": null,
      "outputs": [
        {
          "output_type": "stream",
          "text": [
            "Price: $1220.8\n"
          ],
          "name": "stdout"
        }
      ]
    },
    {
      "cell_type": "markdown",
      "metadata": {
        "id": "xr2HwA3Mhthj"
      },
      "source": [
        "## Compute the effective YTM of a 7% semiannual coupon bond with 15 years to maturity and face value of USD 1,000. The market bond price is USD 655.9.\n",
        "\n",
        "\n",
        "*   Assuming that the annual YTM is 10%\n",
        "*   Assuming that the annual YTM is 12%\n",
        "\n"
      ]
    },
    {
      "cell_type": "code",
      "metadata": {
        "colab": {
          "base_uri": "https://localhost:8080/"
        },
        "id": "pZFlkKMHibbL",
        "outputId": "fbc32186-4c6e-495c-a0d9-35665e8b2d19"
      },
      "source": [
        "def bond_price2(face_value, years_to_maturity, ytm_p, coupon_rate_p, freq=1):\n",
        "  ytm = ytm_p/100\n",
        "  freq = float(freq)\n",
        "  periods = years_to_maturity*freq\n",
        "  coupon = (coupon_rate_p/100)*face_value/freq\n",
        "  price = (coupon*freq/ytm)*(1 - 1/(1 + ytm/freq)**periods) + face_value/(1 + ytm/freq)**periods\n",
        "  \n",
        "  return round(price,1)\n",
        "\n",
        "face_value = 1000\n",
        "coupon_rate_p = 7\n",
        "freq = 2\n",
        "years_to_maturity = 15\n",
        "market_price = 655.9\n",
        "\n",
        "ytm = 10\n",
        "price10 = bond_price2(face_value, years_to_maturity, ytm, coupon_rate_p, freq)\n",
        "print(f'Price10: ${price10} > {market_price}, {ytm}% cannot be the YTM')\n",
        "\n",
        "ytm = 12\n",
        "price12 = bond_price2(face_value, years_to_maturity, ytm, coupon_rate_p, freq)\n",
        "print(f'Price12: ${price12} = {market_price}')\n",
        "\n",
        "effective_ytm = ((1 + (ytm/100)/freq)**freq) - 1\n",
        "print(f'Effective yield: {round(100*effective_ytm, 2)}%')"
      ],
      "execution_count": null,
      "outputs": [
        {
          "output_type": "stream",
          "text": [
            "Price10: $769.4 > 655.9, 10% cannot be the YTM\n",
            "Price12: $655.9 = 655.9\n",
            "Effective yield: 12.36%\n"
          ],
          "name": "stdout"
        }
      ]
    },
    {
      "cell_type": "markdown",
      "metadata": {
        "id": "vkDPDphQy85w"
      },
      "source": [
        "## Compute the YTM of a 8% semiannual coupon bond with 20 years to maturity and a face value of USD 1,000. Assume that the market price of the bond is 900. Find the semiannual, annual and effective annual YTM for that bond. "
      ]
    },
    {
      "cell_type": "code",
      "metadata": {
        "colab": {
          "base_uri": "https://localhost:8080/"
        },
        "id": "MZ_EhdS5zCTP",
        "outputId": "cb221d75-2493-4261-ce49-b729ef12cab3"
      },
      "source": [
        "def bond_ytm(price, face_value, maturity_years, interest_rate_percent, freq=1, ytm=0.05):\n",
        "    freq = float(freq)\n",
        "    periods = maturity_years*freq\n",
        "    coupon = face_value * (interest_rate_percent/100)/freq\n",
        "    dt = [(i+1)/freq for i in range(int(periods))]\n",
        "    ytm_func = lambda y : \\\n",
        "    sum([coupon / (1 + y / freq)**(freq * t) for t in dt]) + \\\n",
        "    face_value / (1 + y / freq)**(freq * max(dt)) - price\n",
        "\n",
        "    return round(100*optimize.newton(ytm_func, ytm), 2)\n",
        "\n",
        "face_value = 1000\n",
        "coupon_rate_p = 8\n",
        "years_to_maturity = 20\n",
        "market_price = 900\n",
        "\n",
        "freq = 2\n",
        "ytm_semi = bond_ytm(market_price, face_value, years_to_maturity, coupon_rate_p, freq)/2\n",
        "print(f'Semiannual YTM: {ytm_semi}%')\n",
        "\n",
        "ytm = ytm_semi*freq\n",
        "print(f'Annual YTM: {ytm}%')\n",
        "\n",
        "effective_ytm = (1 + (ytm_semi/100))**freq - 1\n",
        "print(f'Effective YTM: {round(100*effective_ytm, 2)}%')"
      ],
      "execution_count": null,
      "outputs": [
        {
          "output_type": "stream",
          "text": [
            "Semiannual YTM: 4.545%\n",
            "Annual YTM: 9.09%\n",
            "Effective YTM: 9.3%\n"
          ],
          "name": "stdout"
        }
      ]
    },
    {
      "cell_type": "markdown",
      "metadata": {
        "id": "i_3Rzwne7FDD"
      },
      "source": [
        "## Compute the YTM of a 8% annual coupon bond with 20 years to maturity and a face value of USD 1,000. Assume that the market price of the bond is 900."
      ]
    },
    {
      "cell_type": "code",
      "metadata": {
        "colab": {
          "base_uri": "https://localhost:8080/"
        },
        "id": "da4elt8f7KNI",
        "outputId": "1c60ee2f-78cf-411a-ac1a-4f3ca1b84468"
      },
      "source": [
        "face_value = 1000\n",
        "coupon_rate_p = 8\n",
        "years_to_maturity = 20\n",
        "market_price = 900\n",
        "freq = 1\n",
        "\n",
        "ytm = bond_ytm(market_price, face_value, years_to_maturity, coupon_rate_p, freq)\n",
        "print(f'YTM: {ytm}%')"
      ],
      "execution_count": null,
      "outputs": [
        {
          "output_type": "stream",
          "text": [
            "YTM: 9.1%\n"
          ],
          "name": "stdout"
        }
      ]
    },
    {
      "cell_type": "markdown",
      "metadata": {
        "id": "qKKQEuNM8DBi"
      },
      "source": [
        "## Find the semiannual, annual and effective annual for that bond yield-to-call (YTC) of a 10% semiannual coupon bond with 20 years to maturity, a face value of USD 1,000 and price of callable bond in 6 years of USD 1,025. Assume that the market price of the bond is 848. \n",
        "\n"
      ]
    },
    {
      "cell_type": "code",
      "metadata": {
        "id": "KzHPQqoB8G5p",
        "colab": {
          "base_uri": "https://localhost:8080/"
        },
        "outputId": "9ebb2f77-afcc-4867-c392-207be002711d"
      },
      "source": [
        "def bond_ytc(price, face_value, price_callable, years_to_call, interest_rate_percent, freq=1, ytm=0.05):\n",
        "    freq = float(freq)\n",
        "    periods = years_to_call*freq\n",
        "    coupon = face_value * (interest_rate_percent/100)/freq\n",
        "    dt = [(i+1)/freq for i in range(int(periods))]\n",
        "    ytm_func = lambda y : \\\n",
        "    sum([coupon / (1 + y / freq)**(freq * t) for t in dt]) + \\\n",
        "    price_callable / (1 + y / freq)**(freq * max(dt)) - price\n",
        "\n",
        "    return round(100*optimize.newton(ytm_func, ytm), 2)\n",
        "\n",
        "def ytc_price(fv, pc, crp, ytcs, ytm, freq=1):\n",
        "  ytcs = (ytcs/100)\n",
        "  periods = ytm*freq\n",
        "  coupon = (crp/100)*fv/freq\n",
        "  f1 = coupon/ytcs\n",
        "  factor = (1 + ytcs)**periods\n",
        "  price = f1*(1 - 1/factor) + pc/factor\n",
        "  \n",
        "  return round(price, 2)\n",
        "\n",
        "face_value = 1000\n",
        "coupon_rate_p = 10\n",
        "years_to_maturity = 20\n",
        "market_price = 848\n",
        "years_to_call = 6\n",
        "price_callable = 1025\n",
        "\n",
        "freq = 2\n",
        "ytc_semi = bond_ytc(market_price, face_value, price_callable, years_to_call, coupon_rate_p, freq)/2\n",
        "print(f'Semiannual YTC: {ytc_semi}%')\n",
        "\n",
        "ytc = ytc_semi*freq\n",
        "print(f'Annual YTC: {ytc}%')\n",
        "\n",
        "effective_ytc = (1 + (ytc_semi/100))**freq - 1\n",
        "print(f'Effective YTC: {round(100*effective_ytc, 2)}%')\n",
        "\n",
        "pv = ytc_price(face_value, price_callable, coupon_rate_p, ytc_semi, years_to_call, freq)\n",
        "print(f'Price value: ${pv}')\n",
        "\n",
        "gap = round(pv - market_price, 2)\n",
        "gapp = round(pv / market_price, 2)\n",
        "print(f'Gap: ${gap} {gapp}%')"
      ],
      "execution_count": null,
      "outputs": [
        {
          "output_type": "stream",
          "text": [
            "Semiannual YTC: 7.06%\n",
            "Annual YTC: 14.12%\n",
            "Effective YTC: 14.62%\n",
            "Price value: $847.93\n",
            "Gap: $-0.07 1.0%\n"
          ],
          "name": "stdout"
        }
      ]
    },
    {
      "cell_type": "markdown",
      "metadata": {
        "id": "-6fuOTqQ2GwI"
      },
      "source": [
        "## Find the semiannual, annual and zero coupon for a bond of a 9% coupon rate with 20 years to maturity, a face value of USD 1,000. Assume that the semiannual YTM is 6%."
      ]
    },
    {
      "cell_type": "code",
      "metadata": {
        "colab": {
          "base_uri": "https://localhost:8080/"
        },
        "id": "17EbS1Wm3Qif",
        "outputId": "c40509f0-9fbd-4733-9faf-3ee981b2cf84"
      },
      "source": [
        "def bond_price(face_value, years_to_maturity, ytm_p, coupon_rate_p, freq=1):\n",
        "  ytm = ytm_p/100\n",
        "  freq = float(freq)\n",
        "  periods = years_to_maturity*freq\n",
        "  coupon = (coupon_rate_p/100)*face_value/freq\n",
        "  dt = [(i+1)/freq for i in range(int(periods))]\n",
        "  price = sum([coupon/(1+ytm/freq)**(freq*t) for t in dt]) + face_value/(1+ytm/freq)**(freq*years_to_maturity)\n",
        "  \n",
        "  return round(price,2)\n",
        "\n",
        "face_value = 1000\n",
        "coupon_rate_p = 9\n",
        "ytm_p = 6\n",
        "years_to_maturity = 20\n",
        "\n",
        "freq = 2\n",
        "price = bond_price(face_value, years_to_maturity, ytm_p, coupon_rate_p, freq)\n",
        "print(f'Price semiannual frequency: ${price}')\n",
        "\n",
        "effective_ytm = round(100*(((1 + (ytm_p/100)/freq)**freq) - 1), 2)\n",
        "\n",
        "freq = 1\n",
        "price = bond_price(face_value, years_to_maturity, effective_ytm, coupon_rate_p, freq)\n",
        "print(f'Price annual frequency: ${price}')\n",
        "\n",
        "zero = bond_price(1000, 20, 6, 0, 2)\n",
        "print(f'Zero-coupon bond: ${zero}')"
      ],
      "execution_count": null,
      "outputs": [
        {
          "output_type": "stream",
          "text": [
            "Price semiannual frequency: $1346.72\n",
            "Price annual frequency: $1331.35\n",
            "Zero-coupon bond: $306.56\n"
          ],
          "name": "stdout"
        }
      ]
    },
    {
      "cell_type": "markdown",
      "metadata": {
        "id": "kwmbn0aM87v4"
      },
      "source": [
        "## Find the bond price of a 9% semiannual coupon rate with 20 years to maturity, a maturity value of USD 1,000. Assume that the semiannual YTMs are 6 - 10%."
      ]
    },
    {
      "cell_type": "code",
      "metadata": {
        "colab": {
          "base_uri": "https://localhost:8080/"
        },
        "id": "GwBNOY7R9prE",
        "outputId": "079e3da1-279c-46b2-d94f-a84b41d04010"
      },
      "source": [
        "face_value = 1000\n",
        "coupon_rate_p = 9\n",
        "years_to_maturity = 20\n",
        "freq = 2\n",
        "\n",
        "ytm_p = [6, 7, 8, 9 , 10]\n",
        "\n",
        "for p in ytm_p:\n",
        "  price = bond_price(face_value, years_to_maturity, p, coupon_rate_p, freq)\n",
        "  if price > face_value:\n",
        "    kind = \"at a premium\"\n",
        "  elif price < face_value:\n",
        "    kind = \"at a discount\"\n",
        "  else:\n",
        "    kind = \"at par\"\n",
        "  print(f'Price ytm = {p}%: ${price} {kind}')"
      ],
      "execution_count": null,
      "outputs": [
        {
          "output_type": "stream",
          "text": [
            "Price ytm = 6%: $1346.72 at a premium\n",
            "Price ytm = 7%: $1213.55 at a premium\n",
            "Price ytm = 8%: $1098.96 at a premium\n",
            "Price ytm = 9%: $1000.0 at par\n",
            "Price ytm = 10%: $914.2 at a discount\n"
          ],
          "name": "stdout"
        }
      ]
    },
    {
      "cell_type": "markdown",
      "metadata": {
        "id": "eYxU3FP_AmgF"
      },
      "source": [
        "## Find the bond price of a 8% semiannual coupon rate with 20 years to maturity, a maturity value of USD 1,000. The market required yield are: are 6, 8 and 10%."
      ]
    },
    {
      "cell_type": "code",
      "metadata": {
        "colab": {
          "base_uri": "https://localhost:8080/",
          "height": 700
        },
        "id": "M2LMZWagxP2C",
        "outputId": "b8bf5710-5b7d-4a7d-833a-b99f20c538c2"
      },
      "source": [
        "face_value = 1000\n",
        "coupon_rate_p = 8\n",
        "years_to_maturity = 20\n",
        "freq = 2\n",
        "\n",
        "ytm_p = [6, 8, 10]\n",
        "table = []\n",
        "rows = []\n",
        "for y in range(years_to_maturity + 1):\n",
        "  rows.append(y)\n",
        "  mry = [y]\n",
        "  \n",
        "  for p in ytm_p:\n",
        "    price = bond_price(face_value, y, p, coupon_rate_p, freq)\n",
        "    mry.append(price)\n",
        "  \n",
        "  table.append(mry)\n",
        "\n",
        "df_prices = pd.DataFrame(table, columns = ['years', '6%', '8%', '10%'])\n",
        "df_prices"
      ],
      "execution_count": null,
      "outputs": [
        {
          "output_type": "execute_result",
          "data": {
            "text/html": [
              "<div>\n",
              "<style scoped>\n",
              "    .dataframe tbody tr th:only-of-type {\n",
              "        vertical-align: middle;\n",
              "    }\n",
              "\n",
              "    .dataframe tbody tr th {\n",
              "        vertical-align: top;\n",
              "    }\n",
              "\n",
              "    .dataframe thead th {\n",
              "        text-align: right;\n",
              "    }\n",
              "</style>\n",
              "<table border=\"1\" class=\"dataframe\">\n",
              "  <thead>\n",
              "    <tr style=\"text-align: right;\">\n",
              "      <th></th>\n",
              "      <th>years</th>\n",
              "      <th>6%</th>\n",
              "      <th>8%</th>\n",
              "      <th>10%</th>\n",
              "    </tr>\n",
              "  </thead>\n",
              "  <tbody>\n",
              "    <tr>\n",
              "      <th>0</th>\n",
              "      <td>0</td>\n",
              "      <td>1000.00</td>\n",
              "      <td>1000.0</td>\n",
              "      <td>1000.00</td>\n",
              "    </tr>\n",
              "    <tr>\n",
              "      <th>1</th>\n",
              "      <td>1</td>\n",
              "      <td>1019.13</td>\n",
              "      <td>1000.0</td>\n",
              "      <td>981.41</td>\n",
              "    </tr>\n",
              "    <tr>\n",
              "      <th>2</th>\n",
              "      <td>2</td>\n",
              "      <td>1037.17</td>\n",
              "      <td>1000.0</td>\n",
              "      <td>964.54</td>\n",
              "    </tr>\n",
              "    <tr>\n",
              "      <th>3</th>\n",
              "      <td>3</td>\n",
              "      <td>1054.17</td>\n",
              "      <td>1000.0</td>\n",
              "      <td>949.24</td>\n",
              "    </tr>\n",
              "    <tr>\n",
              "      <th>4</th>\n",
              "      <td>4</td>\n",
              "      <td>1070.20</td>\n",
              "      <td>1000.0</td>\n",
              "      <td>935.37</td>\n",
              "    </tr>\n",
              "    <tr>\n",
              "      <th>5</th>\n",
              "      <td>5</td>\n",
              "      <td>1085.30</td>\n",
              "      <td>1000.0</td>\n",
              "      <td>922.78</td>\n",
              "    </tr>\n",
              "    <tr>\n",
              "      <th>6</th>\n",
              "      <td>6</td>\n",
              "      <td>1099.54</td>\n",
              "      <td>1000.0</td>\n",
              "      <td>911.37</td>\n",
              "    </tr>\n",
              "    <tr>\n",
              "      <th>7</th>\n",
              "      <td>7</td>\n",
              "      <td>1112.96</td>\n",
              "      <td>1000.0</td>\n",
              "      <td>901.01</td>\n",
              "    </tr>\n",
              "    <tr>\n",
              "      <th>8</th>\n",
              "      <td>8</td>\n",
              "      <td>1125.61</td>\n",
              "      <td>1000.0</td>\n",
              "      <td>891.62</td>\n",
              "    </tr>\n",
              "    <tr>\n",
              "      <th>9</th>\n",
              "      <td>9</td>\n",
              "      <td>1137.54</td>\n",
              "      <td>1000.0</td>\n",
              "      <td>883.10</td>\n",
              "    </tr>\n",
              "    <tr>\n",
              "      <th>10</th>\n",
              "      <td>10</td>\n",
              "      <td>1148.77</td>\n",
              "      <td>1000.0</td>\n",
              "      <td>875.38</td>\n",
              "    </tr>\n",
              "    <tr>\n",
              "      <th>11</th>\n",
              "      <td>11</td>\n",
              "      <td>1159.37</td>\n",
              "      <td>1000.0</td>\n",
              "      <td>868.37</td>\n",
              "    </tr>\n",
              "    <tr>\n",
              "      <th>12</th>\n",
              "      <td>12</td>\n",
              "      <td>1169.36</td>\n",
              "      <td>1000.0</td>\n",
              "      <td>862.01</td>\n",
              "    </tr>\n",
              "    <tr>\n",
              "      <th>13</th>\n",
              "      <td>13</td>\n",
              "      <td>1178.77</td>\n",
              "      <td>1000.0</td>\n",
              "      <td>856.25</td>\n",
              "    </tr>\n",
              "    <tr>\n",
              "      <th>14</th>\n",
              "      <td>14</td>\n",
              "      <td>1187.64</td>\n",
              "      <td>1000.0</td>\n",
              "      <td>851.02</td>\n",
              "    </tr>\n",
              "    <tr>\n",
              "      <th>15</th>\n",
              "      <td>15</td>\n",
              "      <td>1196.00</td>\n",
              "      <td>1000.0</td>\n",
              "      <td>846.28</td>\n",
              "    </tr>\n",
              "    <tr>\n",
              "      <th>16</th>\n",
              "      <td>16</td>\n",
              "      <td>1203.89</td>\n",
              "      <td>1000.0</td>\n",
              "      <td>841.97</td>\n",
              "    </tr>\n",
              "    <tr>\n",
              "      <th>17</th>\n",
              "      <td>17</td>\n",
              "      <td>1211.32</td>\n",
              "      <td>1000.0</td>\n",
              "      <td>838.07</td>\n",
              "    </tr>\n",
              "    <tr>\n",
              "      <th>18</th>\n",
              "      <td>18</td>\n",
              "      <td>1218.32</td>\n",
              "      <td>1000.0</td>\n",
              "      <td>834.53</td>\n",
              "    </tr>\n",
              "    <tr>\n",
              "      <th>19</th>\n",
              "      <td>19</td>\n",
              "      <td>1224.92</td>\n",
              "      <td>1000.0</td>\n",
              "      <td>831.32</td>\n",
              "    </tr>\n",
              "    <tr>\n",
              "      <th>20</th>\n",
              "      <td>20</td>\n",
              "      <td>1231.15</td>\n",
              "      <td>1000.0</td>\n",
              "      <td>828.41</td>\n",
              "    </tr>\n",
              "  </tbody>\n",
              "</table>\n",
              "</div>"
            ],
            "text/plain": [
              "    years       6%      8%      10%\n",
              "0       0  1000.00  1000.0  1000.00\n",
              "1       1  1019.13  1000.0   981.41\n",
              "2       2  1037.17  1000.0   964.54\n",
              "3       3  1054.17  1000.0   949.24\n",
              "4       4  1070.20  1000.0   935.37\n",
              "5       5  1085.30  1000.0   922.78\n",
              "6       6  1099.54  1000.0   911.37\n",
              "7       7  1112.96  1000.0   901.01\n",
              "8       8  1125.61  1000.0   891.62\n",
              "9       9  1137.54  1000.0   883.10\n",
              "10     10  1148.77  1000.0   875.38\n",
              "11     11  1159.37  1000.0   868.37\n",
              "12     12  1169.36  1000.0   862.01\n",
              "13     13  1178.77  1000.0   856.25\n",
              "14     14  1187.64  1000.0   851.02\n",
              "15     15  1196.00  1000.0   846.28\n",
              "16     16  1203.89  1000.0   841.97\n",
              "17     17  1211.32  1000.0   838.07\n",
              "18     18  1218.32  1000.0   834.53\n",
              "19     19  1224.92  1000.0   831.32\n",
              "20     20  1231.15  1000.0   828.41"
            ]
          },
          "metadata": {
            "tags": []
          },
          "execution_count": 10
        }
      ]
    },
    {
      "cell_type": "code",
      "metadata": {
        "colab": {
          "base_uri": "https://localhost:8080/",
          "height": 269
        },
        "id": "PTTIzNIL5W0u",
        "outputId": "5b6591ee-e758-49ee-d139-08f98c8777be"
      },
      "source": [
        "df_prices.plot(y=['6%', '8%', '10%'])\n",
        "plt.show()"
      ],
      "execution_count": null,
      "outputs": [
        {
          "output_type": "display_data",
          "data": {
            "image/png": "[encoded data removed]",
            "text/plain": [
              "<Figure size 432x288 with 1 Axes>"
            ]
          },
          "metadata": {
            "tags": [],
            "needs_background": "light"
          }
        }
      ]
    },
    {
      "cell_type": "markdown",
      "metadata": {
        "id": "u0UsXdHdVa0G"
      },
      "source": [
        "## Find the bond price of a 8% semiannual coupon rate with range from 0 to 20 years to maturity, a face value of USD 1,000. Assume that the semiannual YTMs are 6, 8 and 10%."
      ]
    },
    {
      "cell_type": "code",
      "metadata": {
        "colab": {
          "base_uri": "https://localhost:8080/",
          "height": 700
        },
        "id": "TVL5SJZxV6B8",
        "outputId": "b4c374b6-a468-49d4-e1bd-850713ab1542"
      },
      "source": [
        "face_value = 1000\n",
        "coupon_rate_p = 8\n",
        "years_to_maturity = 20\n",
        "freq = 2\n",
        "\n",
        "ytm_p = [6, 8, 10]\n",
        "table = []\n",
        "rows = []\n",
        "for y in range(years_to_maturity + 1):\n",
        "  rows.append(y)\n",
        "  mry = [y]\n",
        "  \n",
        "  for p in ytm_p:\n",
        "    price = bond_price(face_value, y, p, coupon_rate_p, freq) - bond_price(face_value, y, p, 0, freq)\n",
        "    mry.append(price)\n",
        "    price = bond_price(face_value, y, p, 0, freq)\n",
        "    mry.append(price)\n",
        "    price = bond_price(face_value, y, p, coupon_rate_p, freq)\n",
        "    mry.append(price)\n",
        "  \n",
        "  table.append(mry)\n",
        "\n",
        "columns = ['years', '6%_Coupon', '6%_FV', '6%_Price', '8%_Coupon', '8%_FV', '8%_Price', '10%_Coupon',  '10%_FV', '10%_Price']\n",
        "df_prices = pd.DataFrame(table, columns = columns)\n",
        "df_prices"
      ],
      "execution_count": null,
      "outputs": [
        {
          "output_type": "execute_result",
          "data": {
            "text/html": [
              "<div>\n",
              "<style scoped>\n",
              "    .dataframe tbody tr th:only-of-type {\n",
              "        vertical-align: middle;\n",
              "    }\n",
              "\n",
              "    .dataframe tbody tr th {\n",
              "        vertical-align: top;\n",
              "    }\n",
              "\n",
              "    .dataframe thead th {\n",
              "        text-align: right;\n",
              "    }\n",
              "</style>\n",
              "<table border=\"1\" class=\"dataframe\">\n",
              "  <thead>\n",
              "    <tr style=\"text-align: right;\">\n",
              "      <th></th>\n",
              "      <th>years</th>\n",
              "      <th>6%_Coupon</th>\n",
              "      <th>6%_FV</th>\n",
              "      <th>6%_Price</th>\n",
              "      <th>8%_Coupon</th>\n",
              "      <th>8%_FV</th>\n",
              "      <th>8%_Price</th>\n",
              "      <th>10%_Coupon</th>\n",
              "      <th>10%_FV</th>\n",
              "      <th>10%_Price</th>\n",
              "    </tr>\n",
              "  </thead>\n",
              "  <tbody>\n",
              "    <tr>\n",
              "      <th>0</th>\n",
              "      <td>0</td>\n",
              "      <td>0.00</td>\n",
              "      <td>1000.00</td>\n",
              "      <td>1000.00</td>\n",
              "      <td>0.00</td>\n",
              "      <td>1000.00</td>\n",
              "      <td>1000.0</td>\n",
              "      <td>0.00</td>\n",
              "      <td>1000.00</td>\n",
              "      <td>1000.00</td>\n",
              "    </tr>\n",
              "    <tr>\n",
              "      <th>1</th>\n",
              "      <td>1</td>\n",
              "      <td>76.53</td>\n",
              "      <td>942.60</td>\n",
              "      <td>1019.13</td>\n",
              "      <td>75.44</td>\n",
              "      <td>924.56</td>\n",
              "      <td>1000.0</td>\n",
              "      <td>74.38</td>\n",
              "      <td>907.03</td>\n",
              "      <td>981.41</td>\n",
              "    </tr>\n",
              "    <tr>\n",
              "      <th>2</th>\n",
              "      <td>2</td>\n",
              "      <td>148.68</td>\n",
              "      <td>888.49</td>\n",
              "      <td>1037.17</td>\n",
              "      <td>145.20</td>\n",
              "      <td>854.80</td>\n",
              "      <td>1000.0</td>\n",
              "      <td>141.84</td>\n",
              "      <td>822.70</td>\n",
              "      <td>964.54</td>\n",
              "    </tr>\n",
              "    <tr>\n",
              "      <th>3</th>\n",
              "      <td>3</td>\n",
              "      <td>216.69</td>\n",
              "      <td>837.48</td>\n",
              "      <td>1054.17</td>\n",
              "      <td>209.69</td>\n",
              "      <td>790.31</td>\n",
              "      <td>1000.0</td>\n",
              "      <td>203.02</td>\n",
              "      <td>746.22</td>\n",
              "      <td>949.24</td>\n",
              "    </tr>\n",
              "    <tr>\n",
              "      <th>4</th>\n",
              "      <td>4</td>\n",
              "      <td>280.79</td>\n",
              "      <td>789.41</td>\n",
              "      <td>1070.20</td>\n",
              "      <td>269.31</td>\n",
              "      <td>730.69</td>\n",
              "      <td>1000.0</td>\n",
              "      <td>258.53</td>\n",
              "      <td>676.84</td>\n",
              "      <td>935.37</td>\n",
              "    </tr>\n",
              "    <tr>\n",
              "      <th>5</th>\n",
              "      <td>5</td>\n",
              "      <td>341.21</td>\n",
              "      <td>744.09</td>\n",
              "      <td>1085.30</td>\n",
              "      <td>324.44</td>\n",
              "      <td>675.56</td>\n",
              "      <td>1000.0</td>\n",
              "      <td>308.87</td>\n",
              "      <td>613.91</td>\n",
              "      <td>922.78</td>\n",
              "    </tr>\n",
              "    <tr>\n",
              "      <th>6</th>\n",
              "      <td>6</td>\n",
              "      <td>398.16</td>\n",
              "      <td>701.38</td>\n",
              "      <td>1099.54</td>\n",
              "      <td>375.40</td>\n",
              "      <td>624.60</td>\n",
              "      <td>1000.0</td>\n",
              "      <td>354.53</td>\n",
              "      <td>556.84</td>\n",
              "      <td>911.37</td>\n",
              "    </tr>\n",
              "    <tr>\n",
              "      <th>7</th>\n",
              "      <td>7</td>\n",
              "      <td>451.84</td>\n",
              "      <td>661.12</td>\n",
              "      <td>1112.96</td>\n",
              "      <td>422.52</td>\n",
              "      <td>577.48</td>\n",
              "      <td>1000.0</td>\n",
              "      <td>395.94</td>\n",
              "      <td>505.07</td>\n",
              "      <td>901.01</td>\n",
              "    </tr>\n",
              "    <tr>\n",
              "      <th>8</th>\n",
              "      <td>8</td>\n",
              "      <td>502.44</td>\n",
              "      <td>623.17</td>\n",
              "      <td>1125.61</td>\n",
              "      <td>466.09</td>\n",
              "      <td>533.91</td>\n",
              "      <td>1000.0</td>\n",
              "      <td>433.51</td>\n",
              "      <td>458.11</td>\n",
              "      <td>891.62</td>\n",
              "    </tr>\n",
              "    <tr>\n",
              "      <th>9</th>\n",
              "      <td>9</td>\n",
              "      <td>550.15</td>\n",
              "      <td>587.39</td>\n",
              "      <td>1137.54</td>\n",
              "      <td>506.37</td>\n",
              "      <td>493.63</td>\n",
              "      <td>1000.0</td>\n",
              "      <td>467.58</td>\n",
              "      <td>415.52</td>\n",
              "      <td>883.10</td>\n",
              "    </tr>\n",
              "    <tr>\n",
              "      <th>10</th>\n",
              "      <td>10</td>\n",
              "      <td>595.09</td>\n",
              "      <td>553.68</td>\n",
              "      <td>1148.77</td>\n",
              "      <td>543.61</td>\n",
              "      <td>456.39</td>\n",
              "      <td>1000.0</td>\n",
              "      <td>498.49</td>\n",
              "      <td>376.89</td>\n",
              "      <td>875.38</td>\n",
              "    </tr>\n",
              "    <tr>\n",
              "      <th>11</th>\n",
              "      <td>11</td>\n",
              "      <td>637.48</td>\n",
              "      <td>521.89</td>\n",
              "      <td>1159.37</td>\n",
              "      <td>578.04</td>\n",
              "      <td>421.96</td>\n",
              "      <td>1000.0</td>\n",
              "      <td>526.52</td>\n",
              "      <td>341.85</td>\n",
              "      <td>868.37</td>\n",
              "    </tr>\n",
              "    <tr>\n",
              "      <th>12</th>\n",
              "      <td>12</td>\n",
              "      <td>677.43</td>\n",
              "      <td>491.93</td>\n",
              "      <td>1169.36</td>\n",
              "      <td>609.88</td>\n",
              "      <td>390.12</td>\n",
              "      <td>1000.0</td>\n",
              "      <td>551.94</td>\n",
              "      <td>310.07</td>\n",
              "      <td>862.01</td>\n",
              "    </tr>\n",
              "    <tr>\n",
              "      <th>13</th>\n",
              "      <td>13</td>\n",
              "      <td>715.08</td>\n",
              "      <td>463.69</td>\n",
              "      <td>1178.77</td>\n",
              "      <td>639.31</td>\n",
              "      <td>360.69</td>\n",
              "      <td>1000.0</td>\n",
              "      <td>575.01</td>\n",
              "      <td>281.24</td>\n",
              "      <td>856.25</td>\n",
              "    </tr>\n",
              "    <tr>\n",
              "      <th>14</th>\n",
              "      <td>14</td>\n",
              "      <td>750.56</td>\n",
              "      <td>437.08</td>\n",
              "      <td>1187.64</td>\n",
              "      <td>666.52</td>\n",
              "      <td>333.48</td>\n",
              "      <td>1000.0</td>\n",
              "      <td>595.93</td>\n",
              "      <td>255.09</td>\n",
              "      <td>851.02</td>\n",
              "    </tr>\n",
              "    <tr>\n",
              "      <th>15</th>\n",
              "      <td>15</td>\n",
              "      <td>784.01</td>\n",
              "      <td>411.99</td>\n",
              "      <td>1196.00</td>\n",
              "      <td>691.68</td>\n",
              "      <td>308.32</td>\n",
              "      <td>1000.0</td>\n",
              "      <td>614.90</td>\n",
              "      <td>231.38</td>\n",
              "      <td>846.28</td>\n",
              "    </tr>\n",
              "    <tr>\n",
              "      <th>16</th>\n",
              "      <td>16</td>\n",
              "      <td>815.55</td>\n",
              "      <td>388.34</td>\n",
              "      <td>1203.89</td>\n",
              "      <td>714.94</td>\n",
              "      <td>285.06</td>\n",
              "      <td>1000.0</td>\n",
              "      <td>632.10</td>\n",
              "      <td>209.87</td>\n",
              "      <td>841.97</td>\n",
              "    </tr>\n",
              "    <tr>\n",
              "      <th>17</th>\n",
              "      <td>17</td>\n",
              "      <td>845.28</td>\n",
              "      <td>366.04</td>\n",
              "      <td>1211.32</td>\n",
              "      <td>736.45</td>\n",
              "      <td>263.55</td>\n",
              "      <td>1000.0</td>\n",
              "      <td>647.72</td>\n",
              "      <td>190.35</td>\n",
              "      <td>838.07</td>\n",
              "    </tr>\n",
              "    <tr>\n",
              "      <th>18</th>\n",
              "      <td>18</td>\n",
              "      <td>873.29</td>\n",
              "      <td>345.03</td>\n",
              "      <td>1218.32</td>\n",
              "      <td>756.33</td>\n",
              "      <td>243.67</td>\n",
              "      <td>1000.0</td>\n",
              "      <td>661.87</td>\n",
              "      <td>172.66</td>\n",
              "      <td>834.53</td>\n",
              "    </tr>\n",
              "    <tr>\n",
              "      <th>19</th>\n",
              "      <td>19</td>\n",
              "      <td>899.69</td>\n",
              "      <td>325.23</td>\n",
              "      <td>1224.92</td>\n",
              "      <td>774.71</td>\n",
              "      <td>225.29</td>\n",
              "      <td>1000.0</td>\n",
              "      <td>674.71</td>\n",
              "      <td>156.61</td>\n",
              "      <td>831.32</td>\n",
              "    </tr>\n",
              "    <tr>\n",
              "      <th>20</th>\n",
              "      <td>20</td>\n",
              "      <td>924.59</td>\n",
              "      <td>306.56</td>\n",
              "      <td>1231.15</td>\n",
              "      <td>791.71</td>\n",
              "      <td>208.29</td>\n",
              "      <td>1000.0</td>\n",
              "      <td>686.36</td>\n",
              "      <td>142.05</td>\n",
              "      <td>828.41</td>\n",
              "    </tr>\n",
              "  </tbody>\n",
              "</table>\n",
              "</div>"
            ],
            "text/plain": [
              "    years  6%_Coupon    6%_FV  ...  10%_Coupon   10%_FV  10%_Price\n",
              "0       0       0.00  1000.00  ...        0.00  1000.00    1000.00\n",
              "1       1      76.53   942.60  ...       74.38   907.03     981.41\n",
              "2       2     148.68   888.49  ...      141.84   822.70     964.54\n",
              "3       3     216.69   837.48  ...      203.02   746.22     949.24\n",
              "4       4     280.79   789.41  ...      258.53   676.84     935.37\n",
              "5       5     341.21   744.09  ...      308.87   613.91     922.78\n",
              "6       6     398.16   701.38  ...      354.53   556.84     911.37\n",
              "7       7     451.84   661.12  ...      395.94   505.07     901.01\n",
              "8       8     502.44   623.17  ...      433.51   458.11     891.62\n",
              "9       9     550.15   587.39  ...      467.58   415.52     883.10\n",
              "10     10     595.09   553.68  ...      498.49   376.89     875.38\n",
              "11     11     637.48   521.89  ...      526.52   341.85     868.37\n",
              "12     12     677.43   491.93  ...      551.94   310.07     862.01\n",
              "13     13     715.08   463.69  ...      575.01   281.24     856.25\n",
              "14     14     750.56   437.08  ...      595.93   255.09     851.02\n",
              "15     15     784.01   411.99  ...      614.90   231.38     846.28\n",
              "16     16     815.55   388.34  ...      632.10   209.87     841.97\n",
              "17     17     845.28   366.04  ...      647.72   190.35     838.07\n",
              "18     18     873.29   345.03  ...      661.87   172.66     834.53\n",
              "19     19     899.69   325.23  ...      674.71   156.61     831.32\n",
              "20     20     924.59   306.56  ...      686.36   142.05     828.41\n",
              "\n",
              "[21 rows x 10 columns]"
            ]
          },
          "metadata": {
            "tags": []
          },
          "execution_count": 12
        }
      ]
    },
    {
      "cell_type": "code",
      "metadata": {
        "colab": {
          "base_uri": "https://localhost:8080/",
          "height": 517
        },
        "id": "92lvlG99auDD",
        "outputId": "67564505-9ecc-4fd0-b2b6-378b58b06bc3"
      },
      "source": [
        "df_prices.plot(y=['6%_Coupon', '8%_Coupon', '10%_Coupon', '6%_FV', '8%_FV', '10%_FV'])\n",
        "plt.show()\n",
        "\n",
        "df_prices.plot(y=['6%_Price', '8%_Price', '10%_Price'])\n",
        "plt.show()"
      ],
      "execution_count": null,
      "outputs": [
        {
          "output_type": "display_data",
          "data": {
            "image/png": "[encoded data removed]",
            "text/plain": [
              "<Figure size 432x288 with 1 Axes>"
            ]
          },
          "metadata": {
            "tags": [],
            "needs_background": "light"
          }
        },
        {
          "output_type": "display_data",
          "data": {
            "image/png": "[encoded data removed]",
            "text/plain": [
              "<Figure size 432x288 with 1 Axes>"
            ]
          },
          "metadata": {
            "tags": [],
            "needs_background": "light"
          }
        }
      ]
    },
    {
      "cell_type": "markdown",
      "metadata": {
        "id": "LSu2JL7sbnwn"
      },
      "source": [
        "## On February 8, 2016 you purchased a Mexican sovereign bond, which paid the last coupon September 27, 2015. Semiannual coupon payments; maturity will be on September 27, 2034. YTM is 5.15% coupon rate is 6.75%. Face value is 100. Accrued interest calculation basis is ACT/365. Find the dirty and clean bond prices."
      ]
    },
    {
      "cell_type": "code",
      "metadata": {
        "colab": {
          "base_uri": "https://localhost:8080/"
        },
        "id": "NpJXEqXmW2wC",
        "outputId": "5dc89c6e-fb1c-48dd-fa07-a2314b9d4712"
      },
      "source": [
        "def clean_price(face_value, previous_coupon, first_coupon, maturity, issue, coupon_rate_p, ytm_p, freq=1, ACT=365):\n",
        "\n",
        "  first_date = datetime.strptime(first_coupon, \"%Y-%m-%d\")\n",
        "  maturity_date = datetime.strptime(maturity, \"%Y-%m-%d\")\n",
        "  issue_date = datetime.strptime(issue, \"%Y-%m-%d\")\n",
        "  previous_date = datetime.strptime(previous_coupon, \"%Y-%m-%d\")\n",
        "  \n",
        "  ytm = ytm_p/100\n",
        "  days_to_maturity = (maturity_date - first_date).days\n",
        "  periods = round(days_to_maturity * freq / ACT, 0)\n",
        "  fraction = round((first_date - issue_date)/ (timedelta(ACT)/freq), 2)\n",
        "  ai = (issue_date - previous_date)/ (timedelta(ACT)/freq)\n",
        "\n",
        "  coupon = (coupon_rate_p/100)*face_value/freq\n",
        "  accrued_interest = round(coupon * ai, 2)\n",
        "\n",
        "  dt = [(i+1)/freq for i in range(int(periods +1 ))]\n",
        "  cash_flow_coupons = sum([coupon/(1+ytm/freq)**(fraction + freq*t - 1) for t in dt])\n",
        "  cash_flow_face_value = face_value/(1+ytm/freq)**periods\n",
        "  dirty_price = round(cash_flow_coupons + cash_flow_face_value, 2)\n",
        "  clean_price = dirty_price - accrued_interest\n",
        "\n",
        "  return [dirty_price, accrued_interest, clean_price]\n",
        "\n",
        "face_value = 100\n",
        "\n",
        "previous_coupon = '2015-09-27'\n",
        "first_coupon = '2016-03-27'\n",
        "maturity = '2034-09-27'\n",
        "issue = '2016-02-09'\n",
        "coupon_rate_p = 6.75\n",
        "ytm_p = 5.15\n",
        "freq = 2\n",
        "ACT = 365\n",
        "\n",
        "dirty_clean = clean_price(face_value, previous_coupon, first_coupon, maturity, issue, coupon_rate_p, ytm_p, 2)\n",
        "print(f'Dirty price: ${dirty_clean[0]}, Accrued interest: {dirty_clean[1]}%, Clean price: ${dirty_clean[2]}')\n"
      ],
      "execution_count": 42,
      "outputs": [
        {
          "output_type": "stream",
          "text": [
            "Dirty price: $121.77, Accrued interest: 2.5%, Clean price: $119.27\n"
          ],
          "name": "stdout"
        }
      ]
    },
    {
      "cell_type": "markdown",
      "metadata": {
        "id": "lXwq1x71OUra"
      },
      "source": [
        "## Consider the following three-bond portfolio. Each bond pays coupons with semiannual frequency. Find the semiannual, annual and effective YTM of the portfolio.\n",
        "\n",
        "Bond A\n",
        "Coupon Rate: 7.0 %\n",
        "Maturity: 5 yrs\n",
        "Par Value: USD 10000000\n",
        "YTM: 6 %\n",
        "\n",
        "Bond B\n",
        "Coupon Rate: 10.5 %\n",
        "Maturity: 7 yrs\n",
        "Par Value: USD 20000000\n",
        "YTM: 10.5 %\n",
        "\n",
        "Bond C\n",
        "Coupon Rate: 6 %\n",
        "Maturity: 3 yrs\n",
        "Par Value: USD 30000000\n",
        "YTM: 8.5 %"
      ]
    },
    {
      "cell_type": "code",
      "metadata": {
        "colab": {
          "base_uri": "https://localhost:8080/"
        },
        "id": "Eb-sc3jkj8oJ",
        "outputId": "d2cd4014-a120-40a1-f51e-5394253868d1"
      },
      "source": [
        "def bond_portfolio(face_value, years_to_maturity, ytm_p, coupon_rate_p, freq=1):\n",
        "  ytm = ytm_p/100\n",
        "  freq = float(freq)\n",
        "  periods = years_to_maturity*freq\n",
        "  coupon = (coupon_rate_p/100)*face_value/freq\n",
        "  dt = [(i+1)/freq for i in range(int(periods))]\n",
        "  price = sum([coupon/(1+ytm/freq)**(freq*t) for t in dt]) + face_value/(1+ytm/freq)**(freq*years_to_maturity)\n",
        "  cash_flow = [coupon for t in dt]\n",
        "  cash_flow[-1] = coupon + face_value\n",
        "  \n",
        "  return [cash_flow, round(price,2)]\n",
        "\n",
        "def add_lists(po1, po2):\n",
        "  if len(po1) > len(po2):\n",
        "    n1, n2 = po1, po2\n",
        "  else:\n",
        "    n1, n2 = po2, po1\n",
        "\n",
        "  f_len = len(n1)-(len(n2) - 1)\n",
        "  for i in range(0, len(n2), 1):\n",
        "    if f_len - i >= len(n1):\n",
        "      break\n",
        "    else:\n",
        "      n1[i] = n1[i] + n2[i]\n",
        "  return n1\n",
        "\n",
        "def portfolio_ytm(portfolio_cashflow, price, ytm=0.05):\n",
        "    periods = len(portfolio_cashflow)\n",
        "    dt = [i+1 for i in range(periods)]\n",
        "    ytm_func = lambda y : \\\n",
        "    sum([portfolio_cashflow[t - 1] / (1 + y)**t for t in dt]) - price\n",
        "\n",
        "    return round(100*optimize.newton(ytm_func, ytm), 2)\n",
        "\n",
        "\n",
        "price_a = bond_portfolio(10000000, 5, 6, 7, 2)\n",
        "print(f'Price A coupon: ${price_a[1]}')\n",
        "price_b = bond_portfolio(20000000, 7, 10.5, 10.5, 2)\n",
        "print(f'Price B coupon: ${price_b[1]}')\n",
        "price_c = bond_portfolio(30000000, 3, 8.5, 6, 2)\n",
        "print(f'Price C coupon: ${price_c[1]}')\n",
        "market_value = price_a[1] + price_b[1] + price_c[1]\n",
        "print(f'Total market value: ${market_value}')\n",
        "\n",
        "portfolio_cashflow = add_lists(add_lists(price_a[0], price_b[0]), price_c[0])\n",
        "portfolio_cashflow\n",
        "\n",
        "semi = portfolio_ytm(portfolio_cashflow, market_value)\n",
        "print(f'Semiannual YTM: {semi}%')\n",
        "print(f'Annual YTM: {2*semi}%')\n",
        "effective = round(100*((1 + semi/100)**2 - 1), 2)\n",
        "print(f'Effective YTM: {effective}%')"
      ],
      "execution_count": null,
      "outputs": [
        {
          "output_type": "stream",
          "text": [
            "Price A coupon: $10426510.14\n",
            "Price B coupon: $20000000.0\n",
            "Price C coupon: $28050097.5\n",
            "Total market value: $58476607.64\n",
            "Semiannual YTM: 4.49%\n",
            "Annual YTM: 8.98%\n",
            "Effective YTM: 9.18%\n"
          ],
          "name": "stdout"
        }
      ]
    },
    {
      "cell_type": "markdown",
      "metadata": {
        "id": "I8k2ZcyRV9if"
      },
      "source": [
        "## Suppose that today you buy a coupon bond which matures in 20 years. You plan to sell this bond three years later. Compute the total return for your bond investment.\n",
        "\n",
        "Maturity (years): 20\n",
        "\n",
        "Coupon rate: 8 %\n",
        "\n",
        "Yield-to-maturity: 10 %\n",
        "\n",
        "Annual reinvestment rate: 6 %\n",
        "\n",
        "Face value: USD 1.000,00\n",
        "\n",
        "Yield for 17-year bond at the end of the investment horizon: 7 %\n",
        "\n",
        "Investment horizon: 3"
      ]
    },
    {
      "cell_type": "code",
      "metadata": {
        "colab": {
          "base_uri": "https://localhost:8080/"
        },
        "id": "qsrKd8KCWcjT",
        "outputId": "00c47510-6a31-40fb-8397-76978fb50fc3"
      },
      "source": [
        "# Calculate the value of the coupon payments plus the interest-on-interest at the end of the horizon\n",
        "coupon_rate = 8\n",
        "ytm = 10\n",
        "reinvestment_rate = 6\n",
        "maturity = 20\n",
        "investment_horizon = 3\n",
        "par_value = 1000\n",
        "freq = 2\n",
        "end_of_horizon_yield = 7\n",
        "\n",
        "crp = coupon_rate/100\n",
        "ytmp = ytm/100\n",
        "rrp = reinvestment_rate/100\n",
        "eohy = end_of_horizon_yield/100\n",
        "\n",
        "semi_payment = par_value*crp/freq\n",
        "coupon_price = (semi_payment/(ytmp/freq))*(1 - 1/(1 + ytmp/freq)**(freq*maturity))\n",
        "par_price = par_value/(1 + ytmp/freq)**(freq*maturity)\n",
        "purchase_price = coupon_price + par_price\n",
        "print(f'Purchase price: ${round(purchase_price, 2)}')\n",
        "\n",
        "cpi = (semi_payment/(rrp/freq))*((1 + rrp/freq)**(freq*investment_horizon) - 1)\n",
        "print(f'Coupon payment + interest-on-interest: ${round(cpi, 2)}')\n",
        "\n",
        "left_to_maturity = maturity - investment_horizon\n",
        "coupon_price_left = (semi_payment/(eohy/freq))*(1 - 1/(1 + eohy/freq)**(freq*left_to_maturity))\n",
        "par_price_left = par_value/(1 + eohy/freq)**(freq*left_to_maturity)\n",
        "horizon_price = coupon_price_left + par_price_left\n",
        "print(f'Horizon price: ${round(horizon_price, 2)}')\n",
        "\n",
        "total_future_value = horizon_price + cpi\n",
        "print(f'Total future price: ${round(total_future_value, 2)}')\n",
        "\n",
        "semi_rate_of_return = (total_future_value/purchase_price)**(1/(freq*investment_horizon)) - 1\n",
        "print(f'Semiannual rate of return: {round(100*semi_rate_of_return, 2)}%')\n",
        "\n",
        "rate_of_return = freq * semi_rate_of_return\n",
        "print(f'Annual rate of return: {round(100*rate_of_return, 2)}%')\n",
        "\n",
        "effective_rate_of_return = (1 + semi_rate_of_return)**freq - 1\n",
        "print(f'Effective rate of return: {round(100*effective_rate_of_return, 2)}%')"
      ],
      "execution_count": null,
      "outputs": [
        {
          "output_type": "stream",
          "text": [
            "Purchase price: $828.41\n",
            "Coupon payment + interest-on-interest: $258.74\n",
            "Horizon price: $1098.5\n",
            "Total future price: $1357.24\n",
            "Semiannual rate of return: 8.58%\n",
            "Annual rate of return: 17.15%\n",
            "Effective rate of return: 17.89%\n"
          ],
          "name": "stdout"
        }
      ]
    },
    {
      "cell_type": "markdown",
      "metadata": {
        "id": "NdaprdmZnIZc"
      },
      "source": [
        "\n",
        "\n",
        "---\n",
        "\n"
      ]
    },
    {
      "cell_type": "markdown",
      "metadata": {
        "id": "Wxh5l5oQnhn4"
      },
      "source": [
        "## **Bond pricing**"
      ]
    },
    {
      "cell_type": "markdown",
      "metadata": {
        "id": "sbZ_c9CemXnE"
      },
      "source": [
        "### 8) You are offered a perpetual bond paying an annual cash flow of USD 50. If the annual interest rate is 8%, what is the price you will be willing to pay?"
      ]
    },
    {
      "cell_type": "code",
      "metadata": {
        "colab": {
          "base_uri": "https://localhost:8080/"
        },
        "id": "qeBXceCWmel7",
        "outputId": "73af4215-e59d-4c08-dda1-6cdd67414bd0"
      },
      "source": [
        "# P = C/(y/n)\n",
        "cash_flow = 50\n",
        "bond_rate = 8\n",
        "\n",
        "price = cash_flow / (bond_rate/100)\n",
        "print(f'Price: ${round(price, 2)}')"
      ],
      "execution_count": null,
      "outputs": [
        {
          "output_type": "stream",
          "text": [
            "Price: $625.0\n"
          ],
          "name": "stdout"
        }
      ]
    },
    {
      "cell_type": "markdown",
      "metadata": {
        "id": "6BNqU4dKnFZO"
      },
      "source": [
        "### 9) What happens to the price of the perpetual bond if the annual interest rate falls from 8% to 6%? "
      ]
    },
    {
      "cell_type": "code",
      "metadata": {
        "colab": {
          "base_uri": "https://localhost:8080/"
        },
        "id": "bVGYtRXAnHnE",
        "outputId": "a6adae99-4521-47eb-fc05-10b5bbfc9083"
      },
      "source": [
        "cash_flow = 50\n",
        "bond_rate = 6\n",
        "\n",
        "# P = C/(y/n)\n",
        "# bond_price(face_value, years_to_maturity, ytm_p, coupon_rate_p, freq)\n",
        "price = cash_flow / (bond_rate/100)\n",
        "print(f'Price: ${round(price, 2)}')"
      ],
      "execution_count": null,
      "outputs": [
        {
          "output_type": "stream",
          "text": [
            "Price: $833.33\n"
          ],
          "name": "stdout"
        }
      ]
    },
    {
      "cell_type": "markdown",
      "metadata": {
        "id": "zAX0o5QPnqt3"
      },
      "source": [
        "### 10) Consider a bond maturing in 20 years, paying 8% semiannual coupons, with face value of US 1,000. Assume the YTM is 6%. Find the bond price. "
      ]
    },
    {
      "cell_type": "code",
      "metadata": {
        "colab": {
          "base_uri": "https://localhost:8080/"
        },
        "id": "ybDGzhAsnusi",
        "outputId": "bad1de9d-9c44-4aa7-c0ce-b5c090726981"
      },
      "source": [
        "# bond_price(face_value, years_to_maturity, ytm_p, coupon_rate_p, freq)\n",
        "price = bond_price(1000, 20, 6, 8, 2)\n",
        "print(f'Price: ${price}')"
      ],
      "execution_count": null,
      "outputs": [
        {
          "output_type": "stream",
          "text": [
            "Price: $1231.15\n"
          ],
          "name": "stdout"
        }
      ]
    },
    {
      "cell_type": "markdown",
      "metadata": {
        "id": "m-I05JEjoN_h"
      },
      "source": [
        "### 11) What happens to the price of the  above bond if the YTM rises to 10%?"
      ]
    },
    {
      "cell_type": "code",
      "metadata": {
        "colab": {
          "base_uri": "https://localhost:8080/"
        },
        "id": "wYWUTM5joT-B",
        "outputId": "dd31129b-820a-4913-abb9-164d3420f13c"
      },
      "source": [
        "# bond_price(face_value, years_to_maturity, ytm_p, coupon_rate_p, freq)\n",
        "price = bond_price(1000, 20, 10, 8, 2)\n",
        "print(f'Price: ${price}')"
      ],
      "execution_count": null,
      "outputs": [
        {
          "output_type": "stream",
          "text": [
            "Price: $828.41\n"
          ],
          "name": "stdout"
        }
      ]
    },
    {
      "cell_type": "markdown",
      "metadata": {
        "id": "s7SfE74Sodbf"
      },
      "source": [
        "### 12) Consider a 9% semiannual coupon bond with 20 years to maturity and a face value of US 1,000. Assume that the yield-to-maturity is 12%. "
      ]
    },
    {
      "cell_type": "code",
      "metadata": {
        "colab": {
          "base_uri": "https://localhost:8080/"
        },
        "id": "h14aiyUmof-J",
        "outputId": "85439b08-a315-47f7-8e09-cf4a65ec3cbc"
      },
      "source": [
        "# bond_price(face_value, years_to_maturity, ytm_p, coupon_rate_p, freq)\n",
        "price = bond_price(1000, 20, 12, 9, 2)\n",
        "print(f'Price: ${price}')"
      ],
      "execution_count": null,
      "outputs": [
        {
          "output_type": "stream",
          "text": [
            "Price: $774.31\n"
          ],
          "name": "stdout"
        }
      ]
    },
    {
      "cell_type": "markdown",
      "metadata": {
        "id": "n2ZXXFTtpNNz"
      },
      "source": [
        "### 13) Consider a 7% seminannual coupon bond with 30 years to maturity and a face value of USD 1,000. Assume that the YTM is 12%. What happens to the bond price if the same bond matures in 20 years?"
      ]
    },
    {
      "cell_type": "code",
      "metadata": {
        "colab": {
          "base_uri": "https://localhost:8080/"
        },
        "id": "r_h6T7j8pXlE",
        "outputId": "b76db2ba-3c4e-4e90-ca6d-ebac186d3f4c"
      },
      "source": [
        "# bond_price2(face_value, years_to_maturity, ytm_p, coupon_rate_p, freq=1)\n",
        "price = bond_price2(1000, 30, 12, 7, 2)\n",
        "print(f'Price 30y: ${price}')\n",
        "price = bond_price2(1000, 20, 12, 7, 2)\n",
        "print(f'Price 20y: ${price}')"
      ],
      "execution_count": null,
      "outputs": [
        {
          "output_type": "stream",
          "text": [
            "Price 30y: $596.0\n",
            "Price 20y: $623.8\n"
          ],
          "name": "stdout"
        }
      ]
    },
    {
      "cell_type": "markdown",
      "metadata": {
        "id": "8__0StX3uNYl"
      },
      "source": [
        "### 14) Consider a zero-coupon bond with face value of USD 1,000 and with a YTM of 6%? Using Bond Pricing Formula calculate the bond price if the bond matures in 10 years and the price if it matures in 20 years."
      ]
    },
    {
      "cell_type": "code",
      "metadata": {
        "colab": {
          "base_uri": "https://localhost:8080/"
        },
        "id": "aHGVEglluUU0",
        "outputId": "4e10f223-af8a-494e-9618-9525d382e714"
      },
      "source": [
        "# bond_price(face_value, years_to_maturity, ytm_p, coupon_rate_p, freq=1)\n",
        "price = bond_price(1000, 10, 6, 0, 1)\n",
        "print(f'Zero coupon price 10y: ${price}')\n",
        "price = bond_price(1000, 20, 6, 0, 1)\n",
        "print(f'Zero coupon price 20y: ${price}')"
      ],
      "execution_count": null,
      "outputs": [
        {
          "output_type": "stream",
          "text": [
            "Zero coupon price 10y: $558.39\n",
            "Zero coupon price 20y: $311.8\n"
          ],
          "name": "stdout"
        }
      ]
    },
    {
      "cell_type": "markdown",
      "metadata": {
        "id": "jYwW10s_wDp1"
      },
      "source": [
        "## **Yield measures**"
      ]
    },
    {
      "cell_type": "markdown",
      "metadata": {
        "id": "bxRJPJJKzLGS"
      },
      "source": [
        "### 16) Consider a bond, paying 8% semiannual coupons, with face value of US 1,000, maturing in 15 years and selling for US 724.7. Find the semiannual YTM.  "
      ]
    },
    {
      "cell_type": "code",
      "metadata": {
        "colab": {
          "base_uri": "https://localhost:8080/"
        },
        "id": "lNenqza4zWRt",
        "outputId": "01ceca40-c3a4-4874-e498-440295836b84"
      },
      "source": [
        "# bond_ytm(price, face_value, maturity_years, interest_rate_percent, freq=1, ytm=0.05)\n",
        "\n",
        "ytm_semi = bond_ytm(724.7, 1000, 15, 8, 2)/2\n",
        "print(f'Semiannual YTM: {ytm_semi}%')"
      ],
      "execution_count": null,
      "outputs": [
        {
          "output_type": "stream",
          "text": [
            "Semiannual YTM: 6.0%\n"
          ],
          "name": "stdout"
        }
      ]
    },
    {
      "cell_type": "markdown",
      "metadata": {
        "id": "bkVV3T7D5iiE"
      },
      "source": [
        "### 17) Following the previous exercise, calculate the effective annual yield."
      ]
    },
    {
      "cell_type": "code",
      "metadata": {
        "colab": {
          "base_uri": "https://localhost:8080/"
        },
        "id": "jQu1XHDy5oSf",
        "outputId": "52c7ecb4-3cae-49f9-e38a-b82af0b21cf6"
      },
      "source": [
        "effective_ytm = ((1 + (ytm_semi/100))**freq) - 1\n",
        "print(f'Effective yield: {round(100*effective_ytm, 2)}%')"
      ],
      "execution_count": null,
      "outputs": [
        {
          "output_type": "stream",
          "text": [
            "Effective yield: 12.36%\n"
          ],
          "name": "stdout"
        }
      ]
    },
    {
      "cell_type": "markdown",
      "metadata": {
        "id": "CX17bYm95stz"
      },
      "source": [
        "### 18) What is the YTM of a USD 100 face value 15-year bond paying 7.5% annual coupons and priced at 102.45?"
      ]
    },
    {
      "cell_type": "code",
      "metadata": {
        "id": "JF3nhdJ25z--",
        "colab": {
          "base_uri": "https://localhost:8080/"
        },
        "outputId": "b281be8e-e126-44c7-98f9-eea1e85203ad"
      },
      "source": [
        "# bond_ytm(price, face_value, maturity_years, interest_rate_percent, freq=1, ytm=0.05)\n",
        "ytm_annual = bond_ytm(102.45, 100, 15, 7.5, 1)\n",
        "print(f'Annual YTM: {ytm_annual}%')"
      ],
      "execution_count": null,
      "outputs": [
        {
          "output_type": "stream",
          "text": [
            "Annual YTM: 7.23%\n"
          ],
          "name": "stdout"
        }
      ]
    },
    {
      "cell_type": "markdown",
      "metadata": {
        "id": "WkQCIWKULZJ5"
      },
      "source": [
        "### 20) Consider a 20-year, 8.5% coupon bond selling for USD 850.42 per USD 1,000 par value. This bond is callable in 10 years at  USD 1,025. Find the semiannual yield-to-call (YTC) and the annual YTC. "
      ]
    },
    {
      "cell_type": "code",
      "metadata": {
        "colab": {
          "base_uri": "https://localhost:8080/"
        },
        "id": "nR6m2p0iLqOO",
        "outputId": "ca5e864f-a848-4d0c-8397-dd15dec8b4b0"
      },
      "source": [
        "# bond_ytc(price, face_value, price_callable, years_to_call, interest_rate_percent, freq=1, ytm=0.05)\n",
        "\n",
        "ytc_semi = bond_ytc(850.42, 1000, 1025, 5, 8.5, 2)/2\n",
        "print(f'Semiannual YTC: {ytc_semi}%')\n",
        "\n",
        "ytc = ytc_semi*freq\n",
        "print(f'Annual YTC: {ytc}%')"
      ],
      "execution_count": null,
      "outputs": [
        {
          "output_type": "stream",
          "text": [
            "Semiannual YTC: 6.52%\n",
            "Annual YTC: 13.04%\n"
          ],
          "name": "stdout"
        }
      ]
    },
    {
      "cell_type": "markdown",
      "metadata": {
        "id": "UES8wx_bV7qT"
      },
      "source": [
        "### 21) Find the effective yield. "
      ]
    },
    {
      "cell_type": "code",
      "metadata": {
        "colab": {
          "base_uri": "https://localhost:8080/"
        },
        "id": "SXixRYinWA3V",
        "outputId": "e7dc4d63-d3da-4109-80f7-4d7c3d251f69"
      },
      "source": [
        "effective_ytc = (1 + (ytc_semi/100))**freq - 1\n",
        "print(f'Effective YTC: {round(100*effective_ytc, 2)}%')"
      ],
      "execution_count": null,
      "outputs": [
        {
          "output_type": "stream",
          "text": [
            "Effective YTC: 13.47%\n"
          ],
          "name": "stdout"
        }
      ]
    },
    {
      "cell_type": "markdown",
      "metadata": {
        "id": "7kcl8eOhWJoT"
      },
      "source": [
        "### 22) Calculate the bond price when the YTM is equal to 8%, 9% and 10%.\n",
        "\n",
        "*   Maturity (years): 30\n",
        "*   Settlement date: 2016-01-01\n",
        "*   Maturity date: 2046-01-01\n",
        "*   Coupon rate: 7 %\n",
        "*   Frequency: Semiannual\n",
        "*   Face value USD: 1000 "
      ]
    },
    {
      "cell_type": "code",
      "metadata": {
        "colab": {
          "base_uri": "https://localhost:8080/"
        },
        "id": "kVhOZp82WvT-",
        "outputId": "b831c286-4731-4775-9f32-bdf43d149720"
      },
      "source": [
        "# bond_price2(face_value, years_to_maturity, ytm_p, coupon_rate_p, freq=1)\n",
        "\n",
        "ytm_p = 8\n",
        "price = bond_price2(1000, 30, ytm_p, 7, 2)\n",
        "print(f'Price 8%: ${price}')\n",
        "\n",
        "ytm_p = 9\n",
        "price = bond_price2(1000, 30, ytm_p, 7, 2)\n",
        "print(f'Price 9%: ${price}')\n",
        "\n",
        "ytm_p = 10\n",
        "price = bond_price2(1000, 30, ytm_p, 7, 2)\n",
        "print(f'Price 10%: ${price}')"
      ],
      "execution_count": null,
      "outputs": [
        {
          "output_type": "stream",
          "text": [
            "Price 8%: $886.9\n",
            "Price 9%: $793.6\n",
            "Price 10%: $716.1\n"
          ],
          "name": "stdout"
        }
      ]
    },
    {
      "cell_type": "markdown",
      "metadata": {
        "id": "QBb1mKWoYFBC"
      },
      "source": [
        "## **Premium, Par, and Discount Bonds**"
      ]
    },
    {
      "cell_type": "markdown",
      "metadata": {
        "id": "lwXoZYgDc8ir"
      },
      "source": [
        "### 25) Consider three bonds, A, B, and C, each paying 7% semiannual coupons, and with face value of USD 1,000. For each bond, calculate the price when the YTM ranges from 1% to 20%.\n",
        "\n",
        "Maturity (years)\n",
        "1.   Bond A: 30\n",
        "2.   Bond B: 15\n",
        "3.   Bond C: 5\n",
        "\n"
      ]
    },
    {
      "cell_type": "code",
      "metadata": {
        "colab": {
          "base_uri": "https://localhost:8080/",
          "height": 669
        },
        "id": "rWchSnSldJwT",
        "outputId": "1edaebd5-3009-4554-eef0-45e6b9f36f01"
      },
      "source": [
        "def bond_ytm_graph(ytm_min, ytm_max, maturity, fv, coupon_per, freq=1):\n",
        "  rows = []\n",
        "\n",
        "  for y in range(ytm_min, ytm_max + 1):\n",
        "    row = []\n",
        "    row.append(y)\n",
        "    \n",
        "    for m in maturity:\n",
        "      row.append(bond_price(fv, m, y, coupon_per, freq))\n",
        "    \n",
        "    rows.append(row)\n",
        "\n",
        "  return rows\n",
        "\n",
        "prices = bond_ytm_graph(1, 20, [30, 15, 5], 1000, 7, 2)\n",
        "columns = ['YTM%','Bond A', 'Bond B', 'Bond C']\n",
        "df_prices = pd.DataFrame(prices, columns = columns)\n",
        "df_prices"
      ],
      "execution_count": null,
      "outputs": [
        {
          "output_type": "execute_result",
          "data": {
            "text/html": [
              "<div>\n",
              "<style scoped>\n",
              "    .dataframe tbody tr th:only-of-type {\n",
              "        vertical-align: middle;\n",
              "    }\n",
              "\n",
              "    .dataframe tbody tr th {\n",
              "        vertical-align: top;\n",
              "    }\n",
              "\n",
              "    .dataframe thead th {\n",
              "        text-align: right;\n",
              "    }\n",
              "</style>\n",
              "<table border=\"1\" class=\"dataframe\">\n",
              "  <thead>\n",
              "    <tr style=\"text-align: right;\">\n",
              "      <th></th>\n",
              "      <th>YTM%</th>\n",
              "      <th>Bond A</th>\n",
              "      <th>Bond B</th>\n",
              "      <th>Bond C</th>\n",
              "    </tr>\n",
              "  </thead>\n",
              "  <tbody>\n",
              "    <tr>\n",
              "      <th>0</th>\n",
              "      <td>1</td>\n",
              "      <td>2551.77</td>\n",
              "      <td>1833.82</td>\n",
              "      <td>1291.91</td>\n",
              "    </tr>\n",
              "    <tr>\n",
              "      <th>1</th>\n",
              "      <td>2</td>\n",
              "      <td>2123.88</td>\n",
              "      <td>1645.19</td>\n",
              "      <td>1236.78</td>\n",
              "    </tr>\n",
              "    <tr>\n",
              "      <th>2</th>\n",
              "      <td>3</td>\n",
              "      <td>1787.61</td>\n",
              "      <td>1480.32</td>\n",
              "      <td>1184.44</td>\n",
              "    </tr>\n",
              "    <tr>\n",
              "      <th>3</th>\n",
              "      <td>4</td>\n",
              "      <td>1521.41</td>\n",
              "      <td>1335.95</td>\n",
              "      <td>1134.74</td>\n",
              "    </tr>\n",
              "    <tr>\n",
              "      <th>4</th>\n",
              "      <td>5</td>\n",
              "      <td>1309.09</td>\n",
              "      <td>1209.30</td>\n",
              "      <td>1087.52</td>\n",
              "    </tr>\n",
              "    <tr>\n",
              "      <th>5</th>\n",
              "      <td>6</td>\n",
              "      <td>1138.38</td>\n",
              "      <td>1098.00</td>\n",
              "      <td>1042.65</td>\n",
              "    </tr>\n",
              "    <tr>\n",
              "      <th>6</th>\n",
              "      <td>7</td>\n",
              "      <td>1000.00</td>\n",
              "      <td>1000.00</td>\n",
              "      <td>1000.00</td>\n",
              "    </tr>\n",
              "    <tr>\n",
              "      <th>7</th>\n",
              "      <td>8</td>\n",
              "      <td>886.88</td>\n",
              "      <td>913.54</td>\n",
              "      <td>959.45</td>\n",
              "    </tr>\n",
              "    <tr>\n",
              "      <th>8</th>\n",
              "      <td>9</td>\n",
              "      <td>793.62</td>\n",
              "      <td>837.11</td>\n",
              "      <td>920.87</td>\n",
              "    </tr>\n",
              "    <tr>\n",
              "      <th>9</th>\n",
              "      <td>10</td>\n",
              "      <td>716.06</td>\n",
              "      <td>769.41</td>\n",
              "      <td>884.17</td>\n",
              "    </tr>\n",
              "    <tr>\n",
              "      <th>10</th>\n",
              "      <td>11</td>\n",
              "      <td>651.00</td>\n",
              "      <td>709.33</td>\n",
              "      <td>849.25</td>\n",
              "    </tr>\n",
              "    <tr>\n",
              "      <th>11</th>\n",
              "      <td>12</td>\n",
              "      <td>595.96</td>\n",
              "      <td>655.88</td>\n",
              "      <td>816.00</td>\n",
              "    </tr>\n",
              "    <tr>\n",
              "      <th>12</th>\n",
              "      <td>13</td>\n",
              "      <td>549.01</td>\n",
              "      <td>608.24</td>\n",
              "      <td>784.34</td>\n",
              "    </tr>\n",
              "    <tr>\n",
              "      <th>13</th>\n",
              "      <td>14</td>\n",
              "      <td>508.63</td>\n",
              "      <td>565.68</td>\n",
              "      <td>754.17</td>\n",
              "    </tr>\n",
              "    <tr>\n",
              "      <th>14</th>\n",
              "      <td>15</td>\n",
              "      <td>473.62</td>\n",
              "      <td>527.58</td>\n",
              "      <td>725.44</td>\n",
              "    </tr>\n",
              "    <tr>\n",
              "      <th>15</th>\n",
              "      <td>16</td>\n",
              "      <td>443.06</td>\n",
              "      <td>493.40</td>\n",
              "      <td>698.05</td>\n",
              "    </tr>\n",
              "    <tr>\n",
              "      <th>16</th>\n",
              "      <td>17</td>\n",
              "      <td>416.17</td>\n",
              "      <td>462.66</td>\n",
              "      <td>671.93</td>\n",
              "    </tr>\n",
              "    <tr>\n",
              "      <th>17</th>\n",
              "      <td>18</td>\n",
              "      <td>392.36</td>\n",
              "      <td>434.95</td>\n",
              "      <td>647.03</td>\n",
              "    </tr>\n",
              "    <tr>\n",
              "      <th>18</th>\n",
              "      <td>19</td>\n",
              "      <td>371.15</td>\n",
              "      <td>409.92</td>\n",
              "      <td>623.27</td>\n",
              "    </tr>\n",
              "    <tr>\n",
              "      <th>19</th>\n",
              "      <td>20</td>\n",
              "      <td>352.13</td>\n",
              "      <td>387.25</td>\n",
              "      <td>600.60</td>\n",
              "    </tr>\n",
              "  </tbody>\n",
              "</table>\n",
              "</div>"
            ],
            "text/plain": [
              "    YTM%   Bond A   Bond B   Bond C\n",
              "0      1  2551.77  1833.82  1291.91\n",
              "1      2  2123.88  1645.19  1236.78\n",
              "2      3  1787.61  1480.32  1184.44\n",
              "3      4  1521.41  1335.95  1134.74\n",
              "4      5  1309.09  1209.30  1087.52\n",
              "5      6  1138.38  1098.00  1042.65\n",
              "6      7  1000.00  1000.00  1000.00\n",
              "7      8   886.88   913.54   959.45\n",
              "8      9   793.62   837.11   920.87\n",
              "9     10   716.06   769.41   884.17\n",
              "10    11   651.00   709.33   849.25\n",
              "11    12   595.96   655.88   816.00\n",
              "12    13   549.01   608.24   784.34\n",
              "13    14   508.63   565.68   754.17\n",
              "14    15   473.62   527.58   725.44\n",
              "15    16   443.06   493.40   698.05\n",
              "16    17   416.17   462.66   671.93\n",
              "17    18   392.36   434.95   647.03\n",
              "18    19   371.15   409.92   623.27\n",
              "19    20   352.13   387.25   600.60"
            ]
          },
          "metadata": {
            "tags": []
          },
          "execution_count": 30
        }
      ]
    },
    {
      "cell_type": "code",
      "metadata": {
        "colab": {
          "base_uri": "https://localhost:8080/",
          "height": 265
        },
        "id": "qa0eq6LTj55A",
        "outputId": "bfb6e2bd-5455-44e5-b7e6-3c120328d6ea"
      },
      "source": [
        "df_prices.plot(y=['Bond A', 'Bond B', 'Bond C'])\n",
        "plt.show()"
      ],
      "execution_count": null,
      "outputs": [
        {
          "output_type": "display_data",
          "data": {
            "image/png": "[encoded data removed]",
            "text/plain": [
              "<Figure size 432x288 with 1 Axes>"
            ]
          },
          "metadata": {
            "tags": [],
            "needs_background": "light"
          }
        }
      ]
    },
    {
      "cell_type": "markdown",
      "metadata": {
        "id": "f_krEvTakKdY"
      },
      "source": [
        "### 28) Recalculate the bond prices at each YTM, now with a coupon rate of 10%."
      ]
    },
    {
      "cell_type": "code",
      "metadata": {
        "colab": {
          "base_uri": "https://localhost:8080/",
          "height": 669
        },
        "id": "1lquQ2rAkPJQ",
        "outputId": "8ba65d35-0874-488a-b9d7-5287e04fa2ee"
      },
      "source": [
        "prices = bond_ytm_graph(1, 20, [30, 15, 5], 1000, 10, 2)\n",
        "columns = ['YTM%','Bond A', 'Bond B', 'Bond C']\n",
        "df_prices = pd.DataFrame(prices, columns = columns)\n",
        "df_prices"
      ],
      "execution_count": null,
      "outputs": [
        {
          "output_type": "execute_result",
          "data": {
            "text/html": [
              "<div>\n",
              "<style scoped>\n",
              "    .dataframe tbody tr th:only-of-type {\n",
              "        vertical-align: middle;\n",
              "    }\n",
              "\n",
              "    .dataframe tbody tr th {\n",
              "        vertical-align: top;\n",
              "    }\n",
              "\n",
              "    .dataframe thead th {\n",
              "        text-align: right;\n",
              "    }\n",
              "</style>\n",
              "<table border=\"1\" class=\"dataframe\">\n",
              "  <thead>\n",
              "    <tr style=\"text-align: right;\">\n",
              "      <th></th>\n",
              "      <th>YTM%</th>\n",
              "      <th>Bond A</th>\n",
              "      <th>Bond B</th>\n",
              "      <th>Bond C</th>\n",
              "    </tr>\n",
              "  </thead>\n",
              "  <tbody>\n",
              "    <tr>\n",
              "      <th>0</th>\n",
              "      <td>1</td>\n",
              "      <td>3327.65</td>\n",
              "      <td>2250.73</td>\n",
              "      <td>1437.87</td>\n",
              "    </tr>\n",
              "    <tr>\n",
              "      <th>1</th>\n",
              "      <td>2</td>\n",
              "      <td>2798.20</td>\n",
              "      <td>2032.31</td>\n",
              "      <td>1378.85</td>\n",
              "    </tr>\n",
              "    <tr>\n",
              "      <th>2</th>\n",
              "      <td>3</td>\n",
              "      <td>2378.31</td>\n",
              "      <td>1840.55</td>\n",
              "      <td>1322.78</td>\n",
              "    </tr>\n",
              "    <tr>\n",
              "      <th>3</th>\n",
              "      <td>4</td>\n",
              "      <td>2042.83</td>\n",
              "      <td>1671.89</td>\n",
              "      <td>1269.48</td>\n",
              "    </tr>\n",
              "    <tr>\n",
              "      <th>4</th>\n",
              "      <td>5</td>\n",
              "      <td>1772.72</td>\n",
              "      <td>1523.26</td>\n",
              "      <td>1218.80</td>\n",
              "    </tr>\n",
              "    <tr>\n",
              "      <th>5</th>\n",
              "      <td>6</td>\n",
              "      <td>1553.51</td>\n",
              "      <td>1392.01</td>\n",
              "      <td>1170.60</td>\n",
              "    </tr>\n",
              "    <tr>\n",
              "      <th>6</th>\n",
              "      <td>7</td>\n",
              "      <td>1374.17</td>\n",
              "      <td>1275.88</td>\n",
              "      <td>1124.75</td>\n",
              "    </tr>\n",
              "    <tr>\n",
              "      <th>7</th>\n",
              "      <td>8</td>\n",
              "      <td>1226.23</td>\n",
              "      <td>1172.92</td>\n",
              "      <td>1081.11</td>\n",
              "    </tr>\n",
              "    <tr>\n",
              "      <th>8</th>\n",
              "      <td>9</td>\n",
              "      <td>1103.19</td>\n",
              "      <td>1081.44</td>\n",
              "      <td>1039.56</td>\n",
              "    </tr>\n",
              "    <tr>\n",
              "      <th>9</th>\n",
              "      <td>10</td>\n",
              "      <td>1000.00</td>\n",
              "      <td>1000.00</td>\n",
              "      <td>1000.00</td>\n",
              "    </tr>\n",
              "    <tr>\n",
              "      <th>10</th>\n",
              "      <td>11</td>\n",
              "      <td>912.75</td>\n",
              "      <td>927.33</td>\n",
              "      <td>962.31</td>\n",
              "    </tr>\n",
              "    <tr>\n",
              "      <th>11</th>\n",
              "      <td>12</td>\n",
              "      <td>838.39</td>\n",
              "      <td>862.35</td>\n",
              "      <td>926.40</td>\n",
              "    </tr>\n",
              "    <tr>\n",
              "      <th>12</th>\n",
              "      <td>13</td>\n",
              "      <td>774.51</td>\n",
              "      <td>804.12</td>\n",
              "      <td>892.17</td>\n",
              "    </tr>\n",
              "    <tr>\n",
              "      <th>13</th>\n",
              "      <td>14</td>\n",
              "      <td>719.22</td>\n",
              "      <td>751.82</td>\n",
              "      <td>859.53</td>\n",
              "    </tr>\n",
              "    <tr>\n",
              "      <th>14</th>\n",
              "      <td>15</td>\n",
              "      <td>671.02</td>\n",
              "      <td>704.74</td>\n",
              "      <td>828.40</td>\n",
              "    </tr>\n",
              "    <tr>\n",
              "      <th>15</th>\n",
              "      <td>16</td>\n",
              "      <td>628.70</td>\n",
              "      <td>662.27</td>\n",
              "      <td>798.70</td>\n",
              "    </tr>\n",
              "    <tr>\n",
              "      <th>16</th>\n",
              "      <td>17</td>\n",
              "      <td>591.32</td>\n",
              "      <td>623.86</td>\n",
              "      <td>770.35</td>\n",
              "    </tr>\n",
              "    <tr>\n",
              "      <th>17</th>\n",
              "      <td>18</td>\n",
              "      <td>558.08</td>\n",
              "      <td>589.05</td>\n",
              "      <td>743.29</td>\n",
              "    </tr>\n",
              "    <tr>\n",
              "      <th>18</th>\n",
              "      <td>19</td>\n",
              "      <td>528.36</td>\n",
              "      <td>557.44</td>\n",
              "      <td>717.45</td>\n",
              "    </tr>\n",
              "    <tr>\n",
              "      <th>19</th>\n",
              "      <td>20</td>\n",
              "      <td>501.64</td>\n",
              "      <td>528.65</td>\n",
              "      <td>692.77</td>\n",
              "    </tr>\n",
              "  </tbody>\n",
              "</table>\n",
              "</div>"
            ],
            "text/plain": [
              "    YTM%   Bond A   Bond B   Bond C\n",
              "0      1  3327.65  2250.73  1437.87\n",
              "1      2  2798.20  2032.31  1378.85\n",
              "2      3  2378.31  1840.55  1322.78\n",
              "3      4  2042.83  1671.89  1269.48\n",
              "4      5  1772.72  1523.26  1218.80\n",
              "5      6  1553.51  1392.01  1170.60\n",
              "6      7  1374.17  1275.88  1124.75\n",
              "7      8  1226.23  1172.92  1081.11\n",
              "8      9  1103.19  1081.44  1039.56\n",
              "9     10  1000.00  1000.00  1000.00\n",
              "10    11   912.75   927.33   962.31\n",
              "11    12   838.39   862.35   926.40\n",
              "12    13   774.51   804.12   892.17\n",
              "13    14   719.22   751.82   859.53\n",
              "14    15   671.02   704.74   828.40\n",
              "15    16   628.70   662.27   798.70\n",
              "16    17   591.32   623.86   770.35\n",
              "17    18   558.08   589.05   743.29\n",
              "18    19   528.36   557.44   717.45\n",
              "19    20   501.64   528.65   692.77"
            ]
          },
          "metadata": {
            "tags": []
          },
          "execution_count": 32
        }
      ]
    },
    {
      "cell_type": "code",
      "metadata": {
        "colab": {
          "base_uri": "https://localhost:8080/",
          "height": 265
        },
        "id": "JNBEAgK3mb9X",
        "outputId": "68388f76-f5cb-4c05-b99a-6593fe115ce7"
      },
      "source": [
        "df_prices.plot(y=['Bond A', 'Bond B', 'Bond C'])\n",
        "plt.show()"
      ],
      "execution_count": null,
      "outputs": [
        {
          "output_type": "display_data",
          "data": {
            "image/png": "[encoded data removed]",
            "text/plain": [
              "<Figure size 432x288 with 1 Axes>"
            ]
          },
          "metadata": {
            "tags": [],
            "needs_background": "light"
          }
        }
      ]
    },
    {
      "cell_type": "markdown",
      "metadata": {
        "id": "h40XjYlR9JCf"
      },
      "source": [
        "### 29) Suppose you have a 20-year bond paying 8% semiannual coupon, with face value of USD 1000. Assuming that YTM is 7%, 8% and 9%, calculate the bond price over time. As we approach maturity, what happens to the price of the bond?"
      ]
    },
    {
      "cell_type": "code",
      "metadata": {
        "colab": {
          "base_uri": "https://localhost:8080/",
          "height": 700
        },
        "id": "gsc1aC1B9jlx",
        "outputId": "381b638b-c5f3-4752-e5f2-6622a1c16652"
      },
      "source": [
        "face_value = 1000\n",
        "coupon_rate_p = 8\n",
        "years_to_maturity = 20\n",
        "freq = 2\n",
        "\n",
        "ytm_p = [7, 8, 9]\n",
        "table = []\n",
        "rows = []\n",
        "for y in range(years_to_maturity + 1):\n",
        "  rows.append(y)\n",
        "  mry = [y]\n",
        "  \n",
        "  for p in ytm_p:\n",
        "    price = bond_price(face_value, y, p, coupon_rate_p, freq) - bond_price(face_value, y, p, 0, freq)\n",
        "    mry.append(price)\n",
        "    price = bond_price(face_value, y, p, 0, freq)\n",
        "    mry.append(price)\n",
        "    price = bond_price(face_value, y, p, coupon_rate_p, freq)\n",
        "    mry.append(price)\n",
        "  \n",
        "  table.append(mry)\n",
        "\n",
        "columns = ['years', '6%_Coupon', '6%_FV', '6%_Price', '8%_Coupon', '8%_FV', '8%_Price', '10%_Coupon',  '10%_FV', '10%_Price']\n",
        "df_prices = pd.DataFrame(table, columns = columns)\n",
        "df_prices"
      ],
      "execution_count": null,
      "outputs": [
        {
          "output_type": "execute_result",
          "data": {
            "text/html": [
              "<div>\n",
              "<style scoped>\n",
              "    .dataframe tbody tr th:only-of-type {\n",
              "        vertical-align: middle;\n",
              "    }\n",
              "\n",
              "    .dataframe tbody tr th {\n",
              "        vertical-align: top;\n",
              "    }\n",
              "\n",
              "    .dataframe thead th {\n",
              "        text-align: right;\n",
              "    }\n",
              "</style>\n",
              "<table border=\"1\" class=\"dataframe\">\n",
              "  <thead>\n",
              "    <tr style=\"text-align: right;\">\n",
              "      <th></th>\n",
              "      <th>years</th>\n",
              "      <th>6%_Coupon</th>\n",
              "      <th>6%_FV</th>\n",
              "      <th>6%_Price</th>\n",
              "      <th>8%_Coupon</th>\n",
              "      <th>8%_FV</th>\n",
              "      <th>8%_Price</th>\n",
              "      <th>10%_Coupon</th>\n",
              "      <th>10%_FV</th>\n",
              "      <th>10%_Price</th>\n",
              "    </tr>\n",
              "  </thead>\n",
              "  <tbody>\n",
              "    <tr>\n",
              "      <th>0</th>\n",
              "      <td>0</td>\n",
              "      <td>0.00</td>\n",
              "      <td>1000.00</td>\n",
              "      <td>1000.00</td>\n",
              "      <td>0.00</td>\n",
              "      <td>1000.00</td>\n",
              "      <td>1000.0</td>\n",
              "      <td>0.00</td>\n",
              "      <td>1000.00</td>\n",
              "      <td>1000.00</td>\n",
              "    </tr>\n",
              "    <tr>\n",
              "      <th>1</th>\n",
              "      <td>1</td>\n",
              "      <td>75.99</td>\n",
              "      <td>933.51</td>\n",
              "      <td>1009.50</td>\n",
              "      <td>75.44</td>\n",
              "      <td>924.56</td>\n",
              "      <td>1000.0</td>\n",
              "      <td>74.91</td>\n",
              "      <td>915.73</td>\n",
              "      <td>990.64</td>\n",
              "    </tr>\n",
              "    <tr>\n",
              "      <th>2</th>\n",
              "      <td>2</td>\n",
              "      <td>146.93</td>\n",
              "      <td>871.44</td>\n",
              "      <td>1018.37</td>\n",
              "      <td>145.20</td>\n",
              "      <td>854.80</td>\n",
              "      <td>1000.0</td>\n",
              "      <td>143.50</td>\n",
              "      <td>838.56</td>\n",
              "      <td>982.06</td>\n",
              "    </tr>\n",
              "    <tr>\n",
              "      <th>3</th>\n",
              "      <td>3</td>\n",
              "      <td>213.14</td>\n",
              "      <td>813.50</td>\n",
              "      <td>1026.64</td>\n",
              "      <td>209.69</td>\n",
              "      <td>790.31</td>\n",
              "      <td>1000.0</td>\n",
              "      <td>206.31</td>\n",
              "      <td>767.90</td>\n",
              "      <td>974.21</td>\n",
              "    </tr>\n",
              "    <tr>\n",
              "      <th>4</th>\n",
              "      <td>4</td>\n",
              "      <td>274.96</td>\n",
              "      <td>759.41</td>\n",
              "      <td>1034.37</td>\n",
              "      <td>269.31</td>\n",
              "      <td>730.69</td>\n",
              "      <td>1000.0</td>\n",
              "      <td>263.83</td>\n",
              "      <td>703.19</td>\n",
              "      <td>967.02</td>\n",
              "    </tr>\n",
              "    <tr>\n",
              "      <th>5</th>\n",
              "      <td>5</td>\n",
              "      <td>332.66</td>\n",
              "      <td>708.92</td>\n",
              "      <td>1041.58</td>\n",
              "      <td>324.44</td>\n",
              "      <td>675.56</td>\n",
              "      <td>1000.0</td>\n",
              "      <td>316.51</td>\n",
              "      <td>643.93</td>\n",
              "      <td>960.44</td>\n",
              "    </tr>\n",
              "    <tr>\n",
              "      <th>6</th>\n",
              "      <td>6</td>\n",
              "      <td>386.54</td>\n",
              "      <td>661.78</td>\n",
              "      <td>1048.32</td>\n",
              "      <td>375.40</td>\n",
              "      <td>624.60</td>\n",
              "      <td>1000.0</td>\n",
              "      <td>364.75</td>\n",
              "      <td>589.66</td>\n",
              "      <td>954.41</td>\n",
              "    </tr>\n",
              "    <tr>\n",
              "      <th>7</th>\n",
              "      <td>7</td>\n",
              "      <td>436.82</td>\n",
              "      <td>617.78</td>\n",
              "      <td>1054.60</td>\n",
              "      <td>422.52</td>\n",
              "      <td>577.48</td>\n",
              "      <td>1000.0</td>\n",
              "      <td>408.92</td>\n",
              "      <td>539.97</td>\n",
              "      <td>948.89</td>\n",
              "    </tr>\n",
              "    <tr>\n",
              "      <th>8</th>\n",
              "      <td>8</td>\n",
              "      <td>483.76</td>\n",
              "      <td>576.71</td>\n",
              "      <td>1060.47</td>\n",
              "      <td>466.09</td>\n",
              "      <td>533.91</td>\n",
              "      <td>1000.0</td>\n",
              "      <td>449.36</td>\n",
              "      <td>494.47</td>\n",
              "      <td>943.83</td>\n",
              "    </tr>\n",
              "    <tr>\n",
              "      <th>9</th>\n",
              "      <td>9</td>\n",
              "      <td>527.59</td>\n",
              "      <td>538.36</td>\n",
              "      <td>1065.95</td>\n",
              "      <td>506.37</td>\n",
              "      <td>493.63</td>\n",
              "      <td>1000.0</td>\n",
              "      <td>486.40</td>\n",
              "      <td>452.80</td>\n",
              "      <td>939.20</td>\n",
              "    </tr>\n",
              "    <tr>\n",
              "      <th>10</th>\n",
              "      <td>10</td>\n",
              "      <td>568.49</td>\n",
              "      <td>502.57</td>\n",
              "      <td>1071.06</td>\n",
              "      <td>543.61</td>\n",
              "      <td>456.39</td>\n",
              "      <td>1000.0</td>\n",
              "      <td>520.32</td>\n",
              "      <td>414.64</td>\n",
              "      <td>934.96</td>\n",
              "    </tr>\n",
              "    <tr>\n",
              "      <th>11</th>\n",
              "      <td>11</td>\n",
              "      <td>606.69</td>\n",
              "      <td>469.15</td>\n",
              "      <td>1075.84</td>\n",
              "      <td>578.04</td>\n",
              "      <td>421.96</td>\n",
              "      <td>1000.0</td>\n",
              "      <td>551.38</td>\n",
              "      <td>379.70</td>\n",
              "      <td>931.08</td>\n",
              "    </tr>\n",
              "    <tr>\n",
              "      <th>12</th>\n",
              "      <td>12</td>\n",
              "      <td>642.33</td>\n",
              "      <td>437.96</td>\n",
              "      <td>1080.29</td>\n",
              "      <td>609.88</td>\n",
              "      <td>390.12</td>\n",
              "      <td>1000.0</td>\n",
              "      <td>579.82</td>\n",
              "      <td>347.70</td>\n",
              "      <td>927.52</td>\n",
              "    </tr>\n",
              "    <tr>\n",
              "      <th>13</th>\n",
              "      <td>13</td>\n",
              "      <td>675.61</td>\n",
              "      <td>408.84</td>\n",
              "      <td>1084.45</td>\n",
              "      <td>639.31</td>\n",
              "      <td>360.69</td>\n",
              "      <td>1000.0</td>\n",
              "      <td>605.87</td>\n",
              "      <td>318.40</td>\n",
              "      <td>924.27</td>\n",
              "    </tr>\n",
              "    <tr>\n",
              "      <th>14</th>\n",
              "      <td>14</td>\n",
              "      <td>706.69</td>\n",
              "      <td>381.65</td>\n",
              "      <td>1088.34</td>\n",
              "      <td>666.52</td>\n",
              "      <td>333.48</td>\n",
              "      <td>1000.0</td>\n",
              "      <td>629.72</td>\n",
              "      <td>291.57</td>\n",
              "      <td>921.29</td>\n",
              "    </tr>\n",
              "    <tr>\n",
              "      <th>15</th>\n",
              "      <td>15</td>\n",
              "      <td>735.68</td>\n",
              "      <td>356.28</td>\n",
              "      <td>1091.96</td>\n",
              "      <td>691.68</td>\n",
              "      <td>308.32</td>\n",
              "      <td>1000.0</td>\n",
              "      <td>651.56</td>\n",
              "      <td>267.00</td>\n",
              "      <td>918.56</td>\n",
              "    </tr>\n",
              "    <tr>\n",
              "      <th>16</th>\n",
              "      <td>16</td>\n",
              "      <td>762.75</td>\n",
              "      <td>332.59</td>\n",
              "      <td>1095.34</td>\n",
              "      <td>714.94</td>\n",
              "      <td>285.06</td>\n",
              "      <td>1000.0</td>\n",
              "      <td>671.56</td>\n",
              "      <td>244.50</td>\n",
              "      <td>916.06</td>\n",
              "    </tr>\n",
              "    <tr>\n",
              "      <th>17</th>\n",
              "      <td>17</td>\n",
              "      <td>788.02</td>\n",
              "      <td>310.48</td>\n",
              "      <td>1098.50</td>\n",
              "      <td>736.45</td>\n",
              "      <td>263.55</td>\n",
              "      <td>1000.0</td>\n",
              "      <td>689.87</td>\n",
              "      <td>223.90</td>\n",
              "      <td>913.77</td>\n",
              "    </tr>\n",
              "    <tr>\n",
              "      <th>18</th>\n",
              "      <td>18</td>\n",
              "      <td>811.62</td>\n",
              "      <td>289.83</td>\n",
              "      <td>1101.45</td>\n",
              "      <td>756.33</td>\n",
              "      <td>243.67</td>\n",
              "      <td>1000.0</td>\n",
              "      <td>706.64</td>\n",
              "      <td>205.03</td>\n",
              "      <td>911.67</td>\n",
              "    </tr>\n",
              "    <tr>\n",
              "      <th>19</th>\n",
              "      <td>19</td>\n",
              "      <td>833.65</td>\n",
              "      <td>270.56</td>\n",
              "      <td>1104.21</td>\n",
              "      <td>774.71</td>\n",
              "      <td>225.29</td>\n",
              "      <td>1000.0</td>\n",
              "      <td>722.00</td>\n",
              "      <td>187.75</td>\n",
              "      <td>909.75</td>\n",
              "    </tr>\n",
              "    <tr>\n",
              "      <th>20</th>\n",
              "      <td>20</td>\n",
              "      <td>854.21</td>\n",
              "      <td>252.57</td>\n",
              "      <td>1106.78</td>\n",
              "      <td>791.71</td>\n",
              "      <td>208.29</td>\n",
              "      <td>1000.0</td>\n",
              "      <td>736.06</td>\n",
              "      <td>171.93</td>\n",
              "      <td>907.99</td>\n",
              "    </tr>\n",
              "  </tbody>\n",
              "</table>\n",
              "</div>"
            ],
            "text/plain": [
              "    years  6%_Coupon    6%_FV  ...  10%_Coupon   10%_FV  10%_Price\n",
              "0       0       0.00  1000.00  ...        0.00  1000.00    1000.00\n",
              "1       1      75.99   933.51  ...       74.91   915.73     990.64\n",
              "2       2     146.93   871.44  ...      143.50   838.56     982.06\n",
              "3       3     213.14   813.50  ...      206.31   767.90     974.21\n",
              "4       4     274.96   759.41  ...      263.83   703.19     967.02\n",
              "5       5     332.66   708.92  ...      316.51   643.93     960.44\n",
              "6       6     386.54   661.78  ...      364.75   589.66     954.41\n",
              "7       7     436.82   617.78  ...      408.92   539.97     948.89\n",
              "8       8     483.76   576.71  ...      449.36   494.47     943.83\n",
              "9       9     527.59   538.36  ...      486.40   452.80     939.20\n",
              "10     10     568.49   502.57  ...      520.32   414.64     934.96\n",
              "11     11     606.69   469.15  ...      551.38   379.70     931.08\n",
              "12     12     642.33   437.96  ...      579.82   347.70     927.52\n",
              "13     13     675.61   408.84  ...      605.87   318.40     924.27\n",
              "14     14     706.69   381.65  ...      629.72   291.57     921.29\n",
              "15     15     735.68   356.28  ...      651.56   267.00     918.56\n",
              "16     16     762.75   332.59  ...      671.56   244.50     916.06\n",
              "17     17     788.02   310.48  ...      689.87   223.90     913.77\n",
              "18     18     811.62   289.83  ...      706.64   205.03     911.67\n",
              "19     19     833.65   270.56  ...      722.00   187.75     909.75\n",
              "20     20     854.21   252.57  ...      736.06   171.93     907.99\n",
              "\n",
              "[21 rows x 10 columns]"
            ]
          },
          "metadata": {
            "tags": []
          },
          "execution_count": 34
        }
      ]
    },
    {
      "cell_type": "code",
      "metadata": {
        "colab": {
          "base_uri": "https://localhost:8080/",
          "height": 265
        },
        "id": "asfyeVeR-XEb",
        "outputId": "30340a03-c852-4d84-b340-8ee4bcdd20d1"
      },
      "source": [
        "df_prices.plot(y=['6%_Price', '8%_Price', '10%_Price'])\n",
        "plt.show()"
      ],
      "execution_count": null,
      "outputs": [
        {
          "output_type": "display_data",
          "data": {
            "image/png": "[encoded data removed]",
            "text/plain": [
              "<Figure size 432x288 with 1 Axes>"
            ]
          },
          "metadata": {
            "tags": [],
            "needs_background": "light"
          }
        }
      ]
    },
    {
      "cell_type": "markdown",
      "metadata": {
        "id": "kEKxgtDX-mUh"
      },
      "source": [
        "## **Dirty vs. Clean Prices**"
      ]
    },
    {
      "cell_type": "markdown",
      "metadata": {
        "id": "2owrRAwi-u7b"
      },
      "source": [
        "### 31) Suppose that on October 22, 2015 you buy a bond which paid the last annual coupon on June 15, 2015. The bond pays 8.3% annual coupons and matures on June 15, 2021. Its current market (clean) price is USD 102.48, while its face value is USD 100. The accrued interest calculation basis is ACT/365. Calculate Accrued Interest, which is due to the previous bondholder."
      ]
    },
    {
      "cell_type": "code",
      "metadata": {
        "colab": {
          "base_uri": "https://localhost:8080/"
        },
        "id": "Ak1ySAoL_rAM",
        "outputId": "b749a270-ca31-4fbf-9147-248a93a27843"
      },
      "source": [
        "def ytm_clean(face_value, clean_price, previous_coupon, first_coupon, maturity, issue, coupon_rate_p, freq=1, ACT=365, ytm=0.05):\n",
        "  first_date = datetime.strptime(first_coupon, \"%Y-%m-%d\")\n",
        "  maturity_date = datetime.strptime(maturity, \"%Y-%m-%d\")\n",
        "  issue_date = datetime.strptime(issue, \"%Y-%m-%d\")\n",
        "  previous_date = datetime.strptime(previous_coupon, \"%Y-%m-%d\")\n",
        "  \n",
        "  days_to_maturity = (maturity_date - first_date).days\n",
        "  periods = round(days_to_maturity * freq / ACT, 0)\n",
        "  fraction = round((first_date - issue_date)/ (timedelta(ACT)/freq), 2)\n",
        "  ai = (issue_date - previous_date)/ (timedelta(ACT)/freq)\n",
        "\n",
        "  coupon = (coupon_rate_p/100)*face_value/freq\n",
        "  accrued_interest = coupon * ai\n",
        "  dirty_price = clean_price + accrued_interest\n",
        "\n",
        "  dt = [(i+1)/freq for i in range(int(periods))]\n",
        "  ytm_func = lambda y : \\\n",
        "  sum([coupon / (1 + y / freq)**(fraction + freq*t - 1) for t in dt]) + \\\n",
        "  face_value / (1 + y / freq)**(freq * max(dt)) - clean_price\n",
        "  \n",
        "  ytm = 100*optimize.newton(ytm_func, ytm)\n",
        "\n",
        "  return [dirty_price, accrued_interest, ytm]\n",
        "\n",
        "face_value = 100\n",
        "clean_price = 102.48\n",
        "\n",
        "previous_coupon = '2015-06-15'\n",
        "first_coupon = '2016-06-15'\n",
        "maturity = '2021-06-15'\n",
        "issue = '2015-10-22'\n",
        "coupon_rate_p = 8.3\n",
        "freq = 1\n",
        "ACT = 365\n",
        "\n",
        "dirty_clean = ytm_clean(face_value, clean_price, previous_coupon, first_coupon, maturity, issue, coupon_rate_p)\n",
        "\n",
        "print(f'Accrued interest: ${round(dirty_clean[1], 2)}')\n"
      ],
      "execution_count": 57,
      "outputs": [
        {
          "output_type": "stream",
          "text": [
            "Accrued interest: $2.93\n"
          ],
          "name": "stdout"
        }
      ]
    },
    {
      "cell_type": "markdown",
      "metadata": {
        "id": "E8gIJXTnfq9P"
      },
      "source": [
        "### 32) Find the Dirty Price."
      ]
    },
    {
      "cell_type": "code",
      "metadata": {
        "colab": {
          "base_uri": "https://localhost:8080/"
        },
        "id": "p7o3T5bygtXP",
        "outputId": "45924863-c25d-46bd-d89c-a005427b5818"
      },
      "source": [
        "print(f'Dirty price: ${round(dirty_clean[0], 2)}')"
      ],
      "execution_count": 54,
      "outputs": [
        {
          "output_type": "stream",
          "text": [
            "Dirty price: $105.41\n"
          ],
          "name": "stdout"
        }
      ]
    },
    {
      "cell_type": "markdown",
      "metadata": {
        "id": "r_8fnPZihVVD"
      },
      "source": [
        "### 33) Calculate the YTM of the bond."
      ]
    },
    {
      "cell_type": "code",
      "metadata": {
        "colab": {
          "base_uri": "https://localhost:8080/"
        },
        "id": "D43n7UJ7g8Ks",
        "outputId": "7b30cc71-6872-4986-cd88-55ae9a3a6918"
      },
      "source": [
        "print(f'YTM: {round(dirty_clean[2], 2)}%')"
      ],
      "execution_count": 56,
      "outputs": [
        {
          "output_type": "stream",
          "text": [
            "YTM: 7.9%\n"
          ],
          "name": "stdout"
        }
      ]
    },
    {
      "cell_type": "markdown",
      "metadata": {
        "id": "rSpGgxKvhe00"
      },
      "source": [
        "## **Yield of a Bond Portfolio**"
      ]
    }
  ]
}