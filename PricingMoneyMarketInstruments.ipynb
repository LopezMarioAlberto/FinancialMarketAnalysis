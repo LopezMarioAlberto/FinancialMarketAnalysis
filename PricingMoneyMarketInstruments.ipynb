{
  "nbformat": 4,
  "nbformat_minor": 0,
  "metadata": {
    "colab": {
      "name": "PricingMoneyMarketInstruments.ipynb",
      "provenance": [],
      "collapsed_sections": []
    },
    "kernelspec": {
      "name": "python3",
      "display_name": "Python 3"
    },
    "language_info": {
      "name": "python"
    }
  },
  "cells": [
    {
      "cell_type": "markdown",
      "metadata": {
        "id": "MLvC0piQeNqQ"
      },
      "source": [
        "# **Pricing Money Market Instruments**"
      ]
    },
    {
      "cell_type": "code",
      "metadata": {
        "id": "uwj-9sRA-Xcm"
      },
      "source": [
        "import datetime\n",
        "from datetime import datetime\n",
        "from datetime import timedelta"
      ],
      "execution_count": null,
      "outputs": []
    },
    {
      "cell_type": "markdown",
      "metadata": {
        "id": "p07WIoiy86e_"
      },
      "source": [
        "## Pricing a Zero"
      ]
    },
    {
      "cell_type": "markdown",
      "metadata": {
        "id": "zVA22sfX9Zek"
      },
      "source": [
        "### Compute the price of a 3-year, $100 zero coupon issued on Jan 15, 2015:\n",
        "\n",
        "*   At the time of issuance if interest rates are 5, 8, or 12 percent\n",
        "*   On March 31, 2016 if interest rates are 8 percent\n",
        "*   What would be the change in the price of the bond on March 31 if interest rates drop to 5 percent?"
      ]
    },
    {
      "cell_type": "code",
      "metadata": {
        "id": "ml-y5TM-eIhd",
        "colab": {
          "base_uri": "https://localhost:8080/"
        },
        "outputId": "c7958859-514a-469b-bf42-78e3f0798c13"
      },
      "source": [
        "def price(face_value, interest_rate_percentage, maturity):\n",
        "  interest_rate = interest_rate_percentage / 100\n",
        "  price = round(face_value * (1 / (1 + interest_rate)**maturity), 2)\n",
        "  return price\n",
        "\n",
        "def YTM(issue, settlement, maturity_years):\n",
        "  issue_date = datetime.strptime(issue, \"%Y-%m-%d\")\n",
        "  settlement_date = datetime.strptime(settlement, \"%Y-%m-%d\")\n",
        "\n",
        "  maturity_date = issue_date + timedelta(days = 365*maturity_years)\n",
        "  days_to_maturity = (maturity_date - settlement_date).days\n",
        "  years_to_maturity = round(days_to_maturity / 365, 2)\n",
        "\n",
        "  return years_to_maturity\n",
        "\n",
        "print(price(100, 5, 3), price(100, 8, 3), price(100, 12, 3))\n",
        "print(price(100,8, YTM('2015-01-15', '2016-03-31', 3)))\n",
        "print(price(100,5, YTM('2015-01-15', '2016-03-31', 3)))"
      ],
      "execution_count": null,
      "outputs": [
        {
          "output_type": "stream",
          "text": [
            "86.38 79.38 71.18\n",
            "87.13\n",
            "91.64\n"
          ],
          "name": "stdout"
        }
      ]
    },
    {
      "cell_type": "markdown",
      "metadata": {
        "id": "RXFGnGsIL95N"
      },
      "source": [
        "## Pricing Zeros by Arbitrage"
      ]
    },
    {
      "cell_type": "markdown",
      "metadata": {
        "id": "pIoMWWRrMalQ"
      },
      "source": [
        "### A one-year bond with 100 face value offers 5 semi-annual coupons. If the market interest rate is i=10 percent:\n",
        "\n",
        "*   Compute the price P of the coupon bond at the time of issuance\n",
        "*   Compute the price P1 of a 6-month zero with face value M1=5\n",
        "*   Compute the price P2 of a 12-month zero with face value M2=105\n",
        "*   Show that P=P1+P2"
      ]
    },
    {
      "cell_type": "code",
      "metadata": {
        "colab": {
          "base_uri": "https://localhost:8080/"
        },
        "id": "ThrZ32SSM5Aq",
        "outputId": "a5006257-680b-477d-ce48-6c962a953481"
      },
      "source": [
        "# price(face_value, interest_rate_percentage, maturity)\n",
        "\n",
        "print(f'Price coupon: {price(100, 10/2, 0)}')\n",
        "print(f'Zero coupon P1: {price(5, 10/2, 1)}')\n",
        "print(f'Zero coupon P2: {price(105, 10/2, 2)}')\n",
        "print(f'P1 + P2: {price(5, 10/2, 1) + price(105, 10/2, 2)}')"
      ],
      "execution_count": null,
      "outputs": [
        {
          "output_type": "stream",
          "text": [
            "Price coupon: 100.0\n",
            "Zero coupon P1: 4.76\n",
            "Zero coupon P2: 95.24\n",
            "P1 + P2: 100.0\n"
          ],
          "name": "stdout"
        }
      ]
    },
    {
      "cell_type": "markdown",
      "metadata": {
        "id": "TI0tjLlXmAIE"
      },
      "source": [
        "### Compute the price of a three-month 100 zero coupon bond if the market yield is 6 percent."
      ]
    },
    {
      "cell_type": "code",
      "metadata": {
        "colab": {
          "base_uri": "https://localhost:8080/"
        },
        "id": "n79BjMTRmFO8",
        "outputId": "6f85c93c-92f5-43f2-9da2-5ae3e074e40d"
      },
      "source": [
        "# price(face_value, interest_rate_percentage, maturity)\n",
        "print(f'Price coupon: {price(100, 6/12, 3)}')"
      ],
      "execution_count": null,
      "outputs": [
        {
          "output_type": "stream",
          "text": [
            "Price coupon: 98.51\n"
          ],
          "name": "stdout"
        }
      ]
    },
    {
      "cell_type": "markdown",
      "metadata": {
        "id": "2v9eYENQUAgQ"
      },
      "source": [
        "## Yields"
      ]
    },
    {
      "cell_type": "markdown",
      "metadata": {
        "id": "h9nZJ4skUNi0"
      },
      "source": [
        "### Compare the coupon rate, the current yield and the yield to maturity of a one-year 100 security that pays 5% semi-annual coupons and was purchased for 95 on the issue date"
      ]
    },
    {
      "cell_type": "code",
      "metadata": {
        "colab": {
          "base_uri": "https://localhost:8080/"
        },
        "id": "LZCyCFPcUYq0",
        "outputId": "d33ce52c-0316-482e-83a1-80c1db6e6ffe"
      },
      "source": [
        "maturity_years = 1\n",
        "number_of_payments = 2\n",
        "face_value = 100\n",
        "price = 95\n",
        "interest_rate_percent = 5\n",
        "\n",
        "coupon_rate_percentage = interest_rate_percent * face_value / face_value\n",
        "current_yield_percentage = round(interest_rate_percent * face_value / price, 2)\n",
        "\n",
        "def YTM(price, face_value, interest_rate_percentage, maturity_years, number_of_payments=1):\n",
        "  coupons = interest_rate_percentage/number_of_payments\n",
        "  y = interest_rate_percent / 100\n",
        "  VPN = 1\n",
        "\n",
        "  while VPN > 0:\n",
        "    y += 0.001\n",
        "    t1 = coupons / (1 + y / number_of_payments)\n",
        "    t2 = (coupons + face_value) / (1 + y / number_of_payments)**(maturity_years*number_of_payments)\n",
        "    VPN = t1 + t2 - price\n",
        "  \n",
        "  return round(100*y, 2)\n",
        "\n",
        "yield_to_maturity = YTM(95, 100, 5, 1, 2)\n",
        "\n",
        "print(f'Coupon rate: {coupon_rate_percentage}%, Current yield: {current_yield_percentage}%')\n",
        "print(f'yield to maturity: {yield_to_maturity}%')"
      ],
      "execution_count": null,
      "outputs": [
        {
          "output_type": "stream",
          "text": [
            "Coupon rate: 5.0%, Current yield: 5.26%\n",
            "yield to maturity: 10.4%\n"
          ],
          "name": "stdout"
        }
      ]
    },
    {
      "cell_type": "markdown",
      "metadata": {
        "id": "TZYUeM5tmNBT"
      },
      "source": [
        "### Suppose yield y on ACT/360 is 10.5%. What is the equivalent yield y* on ACT/365?"
      ]
    },
    {
      "cell_type": "code",
      "metadata": {
        "colab": {
          "base_uri": "https://localhost:8080/"
        },
        "id": "mpZ2Jg59mObQ",
        "outputId": "a69dd466-f890-4f2f-9248-8013201f29bc"
      },
      "source": [
        "def EQY(act0, act1, y1):\n",
        "  y = y1 * (act1 / act0)\n",
        "  \n",
        "  return round(y, 2)\n",
        "\n",
        "equivalent = EQY(360, 365, 10.5)\n",
        "print(f'Equivalent yield: {equivalent}%')"
      ],
      "execution_count": null,
      "outputs": [
        {
          "output_type": "stream",
          "text": [
            "Equivalent yield: 10.65%\n"
          ],
          "name": "stdout"
        }
      ]
    },
    {
      "cell_type": "markdown",
      "metadata": {
        "id": "pJgsVS-KBlhe"
      },
      "source": [
        "## Yield and Discount"
      ]
    },
    {
      "cell_type": "markdown",
      "metadata": {
        "id": "NOlzxADIBm7C"
      },
      "source": [
        "### You pay 80 for a 100 zero that matures in one year. Compute the yield and the discount"
      ]
    },
    {
      "cell_type": "code",
      "metadata": {
        "colab": {
          "base_uri": "https://localhost:8080/"
        },
        "id": "SwoAbnxwBuNa",
        "outputId": "6fb14679-ce9d-47c1-fdd4-2050408b99f3"
      },
      "source": [
        "def zero_yield(price, face_value):\n",
        "  return round(100 * ((face_value / price) - 1), 2)\n",
        "\n",
        "def zero_discount(price, face_value):\n",
        "  return round(100*(1 - price / face_value),2)\n",
        "\n",
        "price = 80\n",
        "face_value = 100\n",
        "\n",
        "yield_percentage = zero_yield(price, face_value)\n",
        "discount_percentage = zero_discount(price, face_value)\n",
        "print(f'Yield: {yield_percentage}% Discount: {discount_percentage}%')"
      ],
      "execution_count": null,
      "outputs": [
        {
          "output_type": "stream",
          "text": [
            "Yield: 25.0% Discount: 20.0%\n"
          ],
          "name": "stdout"
        }
      ]
    },
    {
      "cell_type": "markdown",
      "metadata": {
        "id": "16Y6x7QvEJzD"
      },
      "source": [
        "### What is the 180-day discount factor of 7 percent per year?\n",
        "### What is the price of a $500 180-day zero-coupon bond?\n",
        "### What is the discount rate on the face value of the bond?"
      ]
    },
    {
      "cell_type": "code",
      "metadata": {
        "colab": {
          "base_uri": "https://localhost:8080/"
        },
        "id": "qwsdcXlMENu_",
        "outputId": "fdf82828-8ac6-4f42-e040-72dbb9baf5fd"
      },
      "source": [
        "yield_percentage = 7\n",
        "days_to_maturity = 180\n",
        "\n",
        "discount_factor = round(1/(1+((yield_percentage/100)*days_to_maturity/365)), 4)\n",
        "print(f'Discount factor: {discount_factor}')\n",
        "\n",
        "face_value = 500\n",
        "price = round(face_value * discount_factor, 2)\n",
        "print(f'Price: ${price}')\n",
        "\n",
        "discount_rate = round(100*((1 - discount_factor) * 365/days_to_maturity),2)\n",
        "print(f'Discount rate: {discount_rate}%')"
      ],
      "execution_count": null,
      "outputs": [
        {
          "output_type": "stream",
          "text": [
            "Discount factor: 0.9666\n",
            "Price: $483.3\n",
            "Discount rate: 6.77%\n"
          ],
          "name": "stdout"
        }
      ]
    },
    {
      "cell_type": "markdown",
      "metadata": {
        "id": "hHzXjLBtnP5d"
      },
      "source": [
        "### A foreign exchange reserves manager is indifferent between placing a deposit in a foreign bank account or paying 98 to purchase a 100 zero issued by an advanced country government that matures in one year. What is the interest rate offered by the bank account?"
      ]
    },
    {
      "cell_type": "code",
      "metadata": {
        "colab": {
          "base_uri": "https://localhost:8080/"
        },
        "id": "Qhn9SAQCnWXv",
        "outputId": "a788d8e0-80c6-4fcd-ffce-b2c8303d3ec3"
      },
      "source": [
        "price = 98\n",
        "face_value = 100\n",
        "\n",
        "yield_percentage = zero_yield(price, face_value)\n",
        "print(f'Yield: {yield_percentage}%')"
      ],
      "execution_count": null,
      "outputs": [
        {
          "output_type": "stream",
          "text": [
            "Yield: 2.04%\n"
          ],
          "name": "stdout"
        }
      ]
    },
    {
      "cell_type": "markdown",
      "metadata": {
        "id": "qd0oUD9HpA2r"
      },
      "source": [
        "### The market price of a 100 one-year zero is 95. Meanwhile, a one-year fixed-term bank account offers an interest rate of 7% per year. Assuming that the two instruments carry the same risk, are there any unexploited arbitrage opportunities?"
      ]
    },
    {
      "cell_type": "code",
      "metadata": {
        "colab": {
          "base_uri": "https://localhost:8080/"
        },
        "id": "OEJtPsRYpHZ6",
        "outputId": "88a0b3b6-d626-47fe-a582-351cd5996125"
      },
      "source": [
        "price = 95\n",
        "face_value = 100\n",
        "interest_rate = 7\n",
        "\n",
        "yield_percentage = zero_yield(price, face_value)\n",
        "print(f'Yield: {yield_percentage}%')\n",
        "\n",
        "print(\"YES\")if interest_rate > yield_percentage else print(\"NO\")"
      ],
      "execution_count": null,
      "outputs": [
        {
          "output_type": "stream",
          "text": [
            "Yield: 5.26%\n",
            "YES\n"
          ],
          "name": "stdout"
        }
      ]
    },
    {
      "cell_type": "markdown",
      "metadata": {
        "id": "RYLFveAEH3O2"
      },
      "source": [
        "## Yields on a US T-Bill"
      ]
    },
    {
      "cell_type": "markdown",
      "metadata": {
        "id": "yGqQ_ZJPH4VD"
      },
      "source": [
        "### Compute the price and yield of the following US T-Bill: US Treasury Bills (Quoted on Discount Basis) as of January 19, 2016\n",
        "\t\n",
        "*   Maturity: 11/10/16\n",
        "*   BID: 0,373%\n",
        "*   ASK: 0,363%\n",
        "*   CHANGE: -0,03\n",
        "*   YIELD: 0,37\n",
        "\n",
        "\n"
      ]
    },
    {
      "cell_type": "code",
      "metadata": {
        "colab": {
          "base_uri": "https://localhost:8080/"
        },
        "id": "yfHDaK_RIfAH",
        "outputId": "ca637425-3045-4aa0-ecf1-d76df4f2c434"
      },
      "source": [
        "settlement_date = datetime.datetime(2016, 1, 19)\n",
        "maturity_date = datetime.datetime(2016, 11, 10)\n",
        "days_to_maturity = (maturity_date - settlement_date).days\n",
        "\n",
        "ask = 0.363/100\n",
        "price = round(100*(1 - (ask*days_to_maturity/360)), 2)\n",
        "yield_percentage = round(100* ((100 - price)/price)*365/days_to_maturity, 2)\n",
        "\n",
        "print(f'Yield: ${price} Yield: {yield_percentage}%')"
      ],
      "execution_count": null,
      "outputs": [
        {
          "output_type": "stream",
          "text": [
            "Yield: $99.7 Yield: 0.37%\n"
          ],
          "name": "stdout"
        }
      ]
    },
    {
      "cell_type": "markdown",
      "metadata": {
        "id": "hnR1GNFLS_8M"
      },
      "source": [
        "## Pricing a Certificate of Deposit (CD)"
      ]
    },
    {
      "cell_type": "markdown",
      "metadata": {
        "id": "RuB2dR7PTJaK"
      },
      "source": [
        "### A 90-day CD with 100,000 face value was issued on March 17, 2015, offering a 6 percent coupon (under ACT/360 day convention) with a market yield of 7 percent.\n",
        "\n",
        "*   Compute the maturity proceeds (Final Value)\n",
        "*   Compute the price of the CD on March 17, 2015\n",
        "*   On April 10, 2015, the market yield dropped to 5.5 percent. Compute the price of the CD in the secondary market\n",
        "*   On May 10, the market rate further dropped to 5 percent. Compute the return of an investor that purchased the CD on April 10 and sold it on May 10 (30 days)"
      ]
    },
    {
      "cell_type": "code",
      "metadata": {
        "colab": {
          "base_uri": "https://localhost:8080/"
        },
        "id": "v1mcA9oLTpNc",
        "outputId": "171a13ea-a71c-40d1-c78a-c651d0dac4e3"
      },
      "source": [
        "issue_date = datetime.datetime(2015, 3, 17)\n",
        "maturity_days = datetime.timedelta(90)\n",
        "coupon_percentage = 6\n",
        "face_value = 100\n",
        "act =360\n",
        "\n",
        "maturity_date = (issue_date + maturity_days) #.strftime(\"%Y-%m-%d\")\n",
        "\n",
        "coupon = coupon_percentage/100\n",
        "payoff = round(face_value*(1 + coupon*maturity_days.days/act), 2)\n",
        "print(f'A) Payoff: ${payoff}')\n",
        "\n",
        "settlement_date = datetime.datetime(2015, 3, 17)\n",
        "market_yield_percentage = 7\n",
        "market_yield = market_yield_percentage/100\n",
        "days_to_maturity = (maturity_date - settlement_date).days\n",
        "price1 = round(payoff/(1 + market_yield*days_to_maturity/act), 2)\n",
        "print(f'B) Price: ${price1}')\n",
        "\n",
        "settlement_date = datetime.datetime(2015, 4, 10)\n",
        "market_yield_percentage = 5.5\n",
        "market_yield = market_yield_percentage/100\n",
        "days_to_maturity = (maturity_date - settlement_date).days\n",
        "price2 = round(payoff/(1 + market_yield*days_to_maturity/act), 2)\n",
        "print(f'C) Price: ${price2}')\n",
        "\n",
        "settlement_date = datetime.datetime(2015, 5, 10)\n",
        "market_yield_percentage = 5\n",
        "market_yield = market_yield_percentage/100\n",
        "days_to_maturity = (maturity_date - settlement_date).days\n",
        "price3 = round(payoff/(1 + market_yield*days_to_maturity/act), 2)\n",
        "\n",
        "days_to_maturity = 30\n",
        "return_cd = round((price3/price2 - 1)*act/days_to_maturity, 2)\n",
        "\n",
        "print(f'D) Return: {return_cd}%')"
      ],
      "execution_count": null,
      "outputs": [
        {
          "output_type": "stream",
          "text": [
            "A) Payoff: $101.5\n",
            "B) Price: $99.75\n",
            "C) Price: $100.49\n",
            "D) Return: 0.06%\n"
          ],
          "name": "stdout"
        }
      ]
    },
    {
      "cell_type": "markdown",
      "metadata": {
        "id": "JjNa4OOFh48E"
      },
      "source": [
        "## Pricing Repurchase Agreements (Repos)"
      ]
    },
    {
      "cell_type": "markdown",
      "metadata": {
        "id": "NmiSd30lh6ec"
      },
      "source": [
        "### Mybank sells 9,876,000 worth of T-bills and agrees to repurchase them in 14 days at 9,895,000. What is the repo rate?\n",
        "### If the overnight repo rate is 4.5% what is the payment tomorrow for a repo of 10,000,000?"
      ]
    },
    {
      "cell_type": "code",
      "metadata": {
        "colab": {
          "base_uri": "https://localhost:8080/"
        },
        "id": "5Tt54mQiiBU_",
        "outputId": "44739f38-4a5c-4afa-bcc6-d20b92658aa1"
      },
      "source": [
        "act =365\n",
        "\n",
        "repurchase_price = 9895000\n",
        "face_value = 9876000\n",
        "days_to_maturity = 14\n",
        "\n",
        "repo_rate = (repurchase_price/face_value - 1)*act/days_to_maturity\n",
        "repo_rate_percentage = round(100*repo_rate, 2)\n",
        "print(f'A) Repo rate percentage: {repo_rate_percentage}%')\n",
        "\n",
        "face_value = 10000000\n",
        "days_to_maturity = 1\n",
        "repo_rate_percentage = 4.5\n",
        "\n",
        "repo_rate = repo_rate_percentage/100\n",
        "repurchase_price = round(face_value * (1 + repo_rate*days_to_maturity/act), 2)\n",
        "print(f'B) Payment: ${repurchase_price}')"
      ],
      "execution_count": null,
      "outputs": [
        {
          "output_type": "stream",
          "text": [
            "A) Repo rate percentage: 5.02%\n",
            "B) Payment: $10001232.88\n"
          ],
          "name": "stdout"
        }
      ]
    }
  ]
}