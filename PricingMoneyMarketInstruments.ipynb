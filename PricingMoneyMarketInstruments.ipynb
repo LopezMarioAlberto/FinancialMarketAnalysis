{
  "nbformat": 4,
  "nbformat_minor": 0,
  "metadata": {
    "colab": {
      "name": "PricingMoneyMarketInstruments.ipynb",
      "provenance": [],
      "collapsed_sections": []
    },
    "kernelspec": {
      "name": "python3",
      "display_name": "Python 3"
    },
    "language_info": {
      "name": "python"
    }
  },
  "cells": [
    {
      "cell_type": "markdown",
      "metadata": {
        "id": "MLvC0piQeNqQ"
      },
      "source": [
        "# **Pricing Money Market Instruments**"
      ]
    },
    {
      "cell_type": "code",
      "metadata": {
        "id": "uwj-9sRA-Xcm"
      },
      "source": [
        "from datetime import datetime\n",
        "from datetime import timedelta\n",
        "import scipy.optimize as optimize"
      ],
      "execution_count": null,
      "outputs": []
    },
    {
      "cell_type": "markdown",
      "metadata": {
        "id": "p07WIoiy86e_"
      },
      "source": [
        "## Pricing a Zero"
      ]
    },
    {
      "cell_type": "markdown",
      "metadata": {
        "id": "zVA22sfX9Zek"
      },
      "source": [
        "### Compute the price of a 3-year, $100 zero coupon issued on Jan 15, 2015:\n",
        "\n",
        "*   At the time of issuance if interest rates are 5, 8, or 12 percent\n",
        "*   On March 31, 2016 if interest rates are 8 percent\n",
        "*   What would be the change in the price of the bond on March 31 if interest rates drop to 5 percent?"
      ]
    },
    {
      "cell_type": "code",
      "metadata": {
        "id": "ml-y5TM-eIhd",
        "colab": {
          "base_uri": "https://localhost:8080/"
        },
        "outputId": "c93a3f67-f761-4163-ba97-44cf7a12f0a6"
      },
      "source": [
        "def price(face_value, interest_rate_percentage, maturity):\n",
        "  interest_rate = interest_rate_percentage / 100\n",
        "  price = round(face_value * (1 / (1 + interest_rate)**maturity), 2)\n",
        "  return price\n",
        "\n",
        "def YTM(issue, settlement, maturity_years):\n",
        "  issue_date = datetime.strptime(issue, \"%Y-%m-%d\")\n",
        "  settlement_date = datetime.strptime(settlement, \"%Y-%m-%d\")\n",
        "\n",
        "  maturity_date = issue_date + timedelta(days = 365*maturity_years)\n",
        "  days_to_maturity = (maturity_date - settlement_date).days\n",
        "  years_to_maturity = round(days_to_maturity / 365, 2)\n",
        "\n",
        "  return years_to_maturity\n",
        "\n",
        "print(price(100, 5, 3), price(100, 8, 3), price(100, 12, 3))\n",
        "print(price(100,8, YTM('2015-01-15', '2016-03-31', 3)))\n",
        "print(price(100,5, YTM('2015-01-15', '2016-03-31', 3)))"
      ],
      "execution_count": null,
      "outputs": [
        {
          "output_type": "stream",
          "text": [
            "86.38 79.38 71.18\n",
            "87.13\n",
            "91.64\n"
          ],
          "name": "stdout"
        }
      ]
    },
    {
      "cell_type": "markdown",
      "metadata": {
        "id": "RXFGnGsIL95N"
      },
      "source": [
        "## Pricing Zeros by Arbitrage"
      ]
    },
    {
      "cell_type": "markdown",
      "metadata": {
        "id": "pIoMWWRrMalQ"
      },
      "source": [
        "### A one-year bond with 100 face value offers 5 semi-annual coupons. If the market interest rate is i=10 percent:\n",
        "\n",
        "*   Compute the price P of the coupon bond at the time of issuance\n",
        "*   Compute the price P1 of a 6-month zero with face value M1=5\n",
        "*   Compute the price P2 of a 12-month zero with face value M2=105\n",
        "*   Show that P=P1+P2"
      ]
    },
    {
      "cell_type": "code",
      "metadata": {
        "colab": {
          "base_uri": "https://localhost:8080/"
        },
        "id": "ThrZ32SSM5Aq",
        "outputId": "778340a6-11d8-4ab5-8f1a-4b93b197b192"
      },
      "source": [
        "# price(face_value, interest_rate_percentage, maturity)\n",
        "\n",
        "print(f'Price coupon: {price(100, 10/2, 0)}')\n",
        "print(f'Zero coupon P1: {price(5, 10/2, 1)}')\n",
        "print(f'Zero coupon P2: {price(105, 10/2, 2)}')\n",
        "print(f'P1 + P2: {price(5, 10/2, 1) + price(105, 10/2, 2)}')"
      ],
      "execution_count": null,
      "outputs": [
        {
          "output_type": "stream",
          "text": [
            "Price coupon: 100.0\n",
            "Zero coupon P1: 4.76\n",
            "Zero coupon P2: 95.24\n",
            "P1 + P2: 100.0\n"
          ],
          "name": "stdout"
        }
      ]
    },
    {
      "cell_type": "markdown",
      "metadata": {
        "id": "TI0tjLlXmAIE"
      },
      "source": [
        "### Compute the price of a three-month 100 zero coupon bond if the market yield is 6 percent."
      ]
    },
    {
      "cell_type": "code",
      "metadata": {
        "colab": {
          "base_uri": "https://localhost:8080/"
        },
        "id": "n79BjMTRmFO8",
        "outputId": "d685d35c-50e8-46c2-ac37-61604519161b"
      },
      "source": [
        "# price(face_value, interest_rate_percentage, maturity)\n",
        "print(f'Price coupon: {price(100, 6/12, 3)}')"
      ],
      "execution_count": null,
      "outputs": [
        {
          "output_type": "stream",
          "text": [
            "Price coupon: 98.51\n"
          ],
          "name": "stdout"
        }
      ]
    },
    {
      "cell_type": "markdown",
      "metadata": {
        "id": "2v9eYENQUAgQ"
      },
      "source": [
        "## Yields"
      ]
    },
    {
      "cell_type": "markdown",
      "metadata": {
        "id": "h9nZJ4skUNi0"
      },
      "source": [
        "### Compare the coupon rate, the current yield and the yield to maturity of a one-year 100 security that pays 5% semi-annual coupons and was purchased for 95 on the issue date"
      ]
    },
    {
      "cell_type": "code",
      "metadata": {
        "colab": {
          "base_uri": "https://localhost:8080/"
        },
        "id": "LZCyCFPcUYq0",
        "outputId": "84a810a4-3d60-436a-b33d-50f10f2174e6"
      },
      "source": [
        "maturity_years = 1\n",
        "number_of_payments = 2\n",
        "face_value = 100\n",
        "price = 95\n",
        "interest_rate_percent = 5\n",
        "\n",
        "coupon_rate_percentage = interest_rate_percent * face_value / face_value\n",
        "current_yield_percentage = round(interest_rate_percent * face_value / price, 2)\n",
        "\n",
        "def bond_ytm(price, face_value, maturity_years, interest_rate_percent, freq=1, ytm=0.05):\n",
        "    freq = float(freq)\n",
        "    periods = maturity_years*freq\n",
        "    coupon = face_value * (interest_rate_percent/100)/freq\n",
        "    dt = [(i+1)/freq for i in range(int(periods))]\n",
        "    ytm_func = lambda y : \\\n",
        "    sum([coupon / (1 + y / freq)**(freq * t) for t in dt]) + \\\n",
        "    face_value / (1 + y / freq)**(freq * max(dt)) - price\n",
        "\n",
        "    return round(100*optimize.newton(ytm_func, ytm), 2)\n",
        "\n",
        "yield_to_maturity = bond_ytm(95, 100, 1, 5, 2)\n",
        "print(f'Coupon rate: {coupon_rate_percentage}%, Current yield: {current_yield_percentage}%')\n",
        "print(f'yield to maturity: {yield_to_maturity}%')"
      ],
      "execution_count": null,
      "outputs": [
        {
          "output_type": "stream",
          "text": [
            "Coupon rate: 5.0%, Current yield: 5.26%\n",
            "yield to maturity: 10.39%\n"
          ],
          "name": "stdout"
        }
      ]
    },
    {
      "cell_type": "markdown",
      "metadata": {
        "id": "pX6He_itR6ik"
      },
      "source": [
        "### Compute the current yield of a 100 bond that pays 4% semi-annual coupons and has a 3-years time to maturity, if the market price is 105."
      ]
    },
    {
      "cell_type": "code",
      "metadata": {
        "colab": {
          "base_uri": "https://localhost:8080/"
        },
        "id": "PCmrZbnLSB2c",
        "outputId": "d94366b9-1664-4af4-e9ad-c68bb73753cd"
      },
      "source": [
        "maturity_years = 3\n",
        "number_of_payments = 2\n",
        "face_value = 100\n",
        "price = 105\n",
        "interest_rate_percent = 4\n",
        "\n",
        "coupon_rate_percentage = interest_rate_percent * face_value / face_value\n",
        "current_yield_percentage = round(interest_rate_percent * face_value / price, 2)\n",
        "print(f'Coupon rate: {coupon_rate_percentage}%, Current yield: {current_yield_percentage}%')"
      ],
      "execution_count": null,
      "outputs": [
        {
          "output_type": "stream",
          "text": [
            "Coupon rate: 4.0%, Current yield: 3.81%\n"
          ],
          "name": "stdout"
        }
      ]
    },
    {
      "cell_type": "markdown",
      "metadata": {
        "id": "QPkWr22RXLNX"
      },
      "source": [
        "### Compute the yield to maturity of a 100 bond that pays 4% semi-annual coupons and has a 3-years time to maturity, if the market price is 105."
      ]
    },
    {
      "cell_type": "code",
      "metadata": {
        "colab": {
          "base_uri": "https://localhost:8080/"
        },
        "id": "cjk7lwOtXRc_",
        "outputId": "3835675d-ad22-4c56-ded8-faa33c5bf96d"
      },
      "source": [
        "# bond_ytm(price, face_value, maturity_years, interest_rate_percent, freq=1, ytm=0.05)\n",
        "ytm = bond_ytm(105, 100, 3, 4, 2)\n",
        "print(f'Yield to maturity: {ytm}%')"
      ],
      "execution_count": null,
      "outputs": [
        {
          "output_type": "stream",
          "text": [
            "Yield to maturity: 2.27%\n"
          ],
          "name": "stdout"
        }
      ]
    },
    {
      "cell_type": "markdown",
      "metadata": {
        "id": "TZYUeM5tmNBT"
      },
      "source": [
        "### Suppose yield y on ACT/360 is 10.5%. What is the equivalent yield y* on ACT/365?"
      ]
    },
    {
      "cell_type": "code",
      "metadata": {
        "colab": {
          "base_uri": "https://localhost:8080/"
        },
        "id": "mpZ2Jg59mObQ",
        "outputId": "a24768c6-0ce6-487f-cb94-8e887123e7cc"
      },
      "source": [
        "def EQY(act0, act1, y1):\n",
        "  y = y1 * (act1 / act0)\n",
        "  \n",
        "  return round(y, 2)\n",
        "\n",
        "equivalent = EQY(360, 365, 10.5)\n",
        "print(f'Equivalent yield: {equivalent}%')"
      ],
      "execution_count": null,
      "outputs": [
        {
          "output_type": "stream",
          "text": [
            "Equivalent yield: 10.65%\n"
          ],
          "name": "stdout"
        }
      ]
    },
    {
      "cell_type": "markdown",
      "metadata": {
        "id": "_XrgSLArsS0w"
      },
      "source": [
        "### A yield of 5 percent under the ACT/365 convention is equivalent to a yield of “x” under the ACT/360 convention."
      ]
    },
    {
      "cell_type": "code",
      "metadata": {
        "colab": {
          "base_uri": "https://localhost:8080/"
        },
        "id": "jGvv8HGFsR5H",
        "outputId": "31737e0c-f556-469a-901c-3b99eca0e417"
      },
      "source": [
        "equivalent = EQY(365, 360, 5)\n",
        "print(f'Equivalent yield: {equivalent}%')"
      ],
      "execution_count": null,
      "outputs": [
        {
          "output_type": "stream",
          "text": [
            "Equivalent yield: 4.93%\n"
          ],
          "name": "stdout"
        }
      ]
    },
    {
      "cell_type": "markdown",
      "metadata": {
        "id": "pJgsVS-KBlhe"
      },
      "source": [
        "## Yield and Discount"
      ]
    },
    {
      "cell_type": "markdown",
      "metadata": {
        "id": "NOlzxADIBm7C"
      },
      "source": [
        "### You pay 80 for a 100 zero that matures in one year. Compute the yield and the discount"
      ]
    },
    {
      "cell_type": "code",
      "metadata": {
        "colab": {
          "base_uri": "https://localhost:8080/"
        },
        "id": "SwoAbnxwBuNa",
        "outputId": "7696448a-fbcf-4acc-fadb-c72816cd8aed"
      },
      "source": [
        "def zero_yield(price, face_value):\n",
        "  return round(100 * ((face_value / price) - 1), 2)\n",
        "\n",
        "def zero_discount(price, face_value):\n",
        "  return round(100*(1 - price / face_value),2)\n",
        "\n",
        "price = 80\n",
        "face_value = 100\n",
        "\n",
        "yield_percentage = zero_yield(price, face_value)\n",
        "discount_percentage = zero_discount(price, face_value)\n",
        "print(f'Yield: {yield_percentage}% Discount: {discount_percentage}%')"
      ],
      "execution_count": null,
      "outputs": [
        {
          "output_type": "stream",
          "text": [
            "Yield: 25.0% Discount: 20.0%\n"
          ],
          "name": "stdout"
        }
      ]
    },
    {
      "cell_type": "markdown",
      "metadata": {
        "id": "16Y6x7QvEJzD"
      },
      "source": [
        "### What is the 180-day discount factor of 7 percent per year?\n",
        "### What is the price of a $500 180-day zero-coupon bond?\n",
        "### What is the discount rate on the face value of the bond?"
      ]
    },
    {
      "cell_type": "code",
      "metadata": {
        "colab": {
          "base_uri": "https://localhost:8080/"
        },
        "id": "qwsdcXlMENu_",
        "outputId": "7d08fa86-7597-46c3-c991-17867dedb1ec"
      },
      "source": [
        "yield_percentage = 7\n",
        "days_to_maturity = 180\n",
        "\n",
        "discount_factor = round(1/(1+((yield_percentage/100)*days_to_maturity/365)), 4)\n",
        "print(f'Discount factor: {discount_factor}')\n",
        "\n",
        "face_value = 500\n",
        "price = round(face_value * discount_factor, 2)\n",
        "print(f'Price: ${price}')\n",
        "\n",
        "discount_rate = round(100*((1 - discount_factor) * 365/days_to_maturity),2)\n",
        "print(f'Discount rate: {discount_rate}%')"
      ],
      "execution_count": null,
      "outputs": [
        {
          "output_type": "stream",
          "text": [
            "Discount factor: 0.9666\n",
            "Price: $483.3\n",
            "Discount rate: 6.77%\n"
          ],
          "name": "stdout"
        }
      ]
    },
    {
      "cell_type": "markdown",
      "metadata": {
        "id": "hHzXjLBtnP5d"
      },
      "source": [
        "### A foreign exchange reserves manager is indifferent between placing a deposit in a foreign bank account or paying 98 to purchase a 100 zero issued by an advanced country government that matures in one year. What is the interest rate offered by the bank account?"
      ]
    },
    {
      "cell_type": "code",
      "metadata": {
        "colab": {
          "base_uri": "https://localhost:8080/"
        },
        "id": "Qhn9SAQCnWXv",
        "outputId": "320e80f1-fb93-47be-c76c-21443c71ed96"
      },
      "source": [
        "price = 98\n",
        "face_value = 100\n",
        "\n",
        "yield_percentage = zero_yield(price, face_value)\n",
        "print(f'Yield: {yield_percentage}%')"
      ],
      "execution_count": null,
      "outputs": [
        {
          "output_type": "stream",
          "text": [
            "Yield: 2.04%\n"
          ],
          "name": "stdout"
        }
      ]
    },
    {
      "cell_type": "markdown",
      "metadata": {
        "id": "qd0oUD9HpA2r"
      },
      "source": [
        "### The market price of a 100 one-year zero is 95. Meanwhile, a one-year fixed-term bank account offers an interest rate of 7% per year. Assuming that the two instruments carry the same risk, are there any unexploited arbitrage opportunities?"
      ]
    },
    {
      "cell_type": "code",
      "metadata": {
        "colab": {
          "base_uri": "https://localhost:8080/"
        },
        "id": "OEJtPsRYpHZ6",
        "outputId": "f3b1edcf-86f9-4c3d-91fc-df9d183e6c87"
      },
      "source": [
        "price = 95\n",
        "face_value = 100\n",
        "interest_rate = 7\n",
        "\n",
        "yield_percentage = zero_yield(price, face_value)\n",
        "print(f'Yield: {yield_percentage}%')\n",
        "\n",
        "print(\"YES\")if interest_rate > yield_percentage else print(\"NO\")"
      ],
      "execution_count": null,
      "outputs": [
        {
          "output_type": "stream",
          "text": [
            "Yield: 5.26%\n",
            "YES\n"
          ],
          "name": "stdout"
        }
      ]
    },
    {
      "cell_type": "markdown",
      "metadata": {
        "id": "Akjfa8d3skOI"
      },
      "source": [
        "### What is the yield of a 100 90-day zero that sells at 8 percent discount?"
      ]
    },
    {
      "cell_type": "code",
      "metadata": {
        "id": "ayTbXsaGsrOu",
        "colab": {
          "base_uri": "https://localhost:8080/"
        },
        "outputId": "b9e66bac-7d0d-4350-e454-eaa26918b037"
      },
      "source": [
        "face_value = 100\n",
        "discount_rate = 8\n",
        "days_to_maturity = 90\n",
        "frequency = 365\n",
        "\n",
        "discount_factor = discount_rate/100\n",
        "price = face_value * (1 -(discount_factor*days_to_maturity/frequency))\n",
        "\n",
        "yield_percentage = round(100*((face_value - price)/price)*frequency/days_to_maturity, 2)\n",
        "print(f'Yield {yield_percentage}%')"
      ],
      "execution_count": null,
      "outputs": [
        {
          "output_type": "stream",
          "text": [
            "Yield 8.16%\n"
          ],
          "name": "stdout"
        }
      ]
    },
    {
      "cell_type": "markdown",
      "metadata": {
        "id": "RYLFveAEH3O2"
      },
      "source": [
        "## Yields on a US T-Bill"
      ]
    },
    {
      "cell_type": "markdown",
      "metadata": {
        "id": "yGqQ_ZJPH4VD"
      },
      "source": [
        "### Compute the price and yield of the following US T-Bill: US Treasury Bills (Quoted on Discount Basis) as of January 19, 2016\n",
        "\t\n",
        "*   Maturity: 11/10/16\n",
        "*   BID: 0,373%\n",
        "*   ASK: 0,363%\n",
        "*   CHANGE: -0,03\n",
        "*   YIELD: 0,37\n",
        "\n",
        "\n"
      ]
    },
    {
      "cell_type": "code",
      "metadata": {
        "colab": {
          "base_uri": "https://localhost:8080/"
        },
        "id": "yfHDaK_RIfAH",
        "outputId": "e77f2654-49f3-493e-98e1-64ebc75ea5e9"
      },
      "source": [
        "settlement_date = datetime(2016, 1, 19)\n",
        "maturity_date = datetime(2016, 11, 10)\n",
        "days_to_maturity = (maturity_date - settlement_date).days\n",
        "\n",
        "ask = 0.363/100\n",
        "price = round(100*(1 - (ask*days_to_maturity/360)), 2)\n",
        "yield_percentage = round(100* ((100 - price)/price)*365/days_to_maturity, 2)\n",
        "\n",
        "print(f'Price: ${price} Yield: {yield_percentage}%')"
      ],
      "execution_count": null,
      "outputs": [
        {
          "output_type": "stream",
          "text": [
            "Price: $99.7 Yield: 0.37%\n"
          ],
          "name": "stdout"
        }
      ]
    },
    {
      "cell_type": "markdown",
      "metadata": {
        "id": "qroKCDO813Kc"
      },
      "source": [
        "### What is the discount rate of a 52-week T-bill if the yield is 2.2 percent under ACT/ACT?"
      ]
    },
    {
      "cell_type": "code",
      "metadata": {
        "id": "kuf-3dVC19CX",
        "colab": {
          "base_uri": "https://localhost:8080/"
        },
        "outputId": "2c05603c-07b5-4c0c-c46d-724acbb9a32a"
      },
      "source": [
        "yield_percentage = 2.2\n",
        "days_to_maturity = 52*7\n",
        "\n",
        "discount_rate = round(yield_percentage/(1+((yield_percentage/100)*days_to_maturity/365)), 2)\n",
        "print(f'Discount Rate: {discount_rate}')"
      ],
      "execution_count": null,
      "outputs": [
        {
          "output_type": "stream",
          "text": [
            "Discount Rate: 2.15\n"
          ],
          "name": "stdout"
        }
      ]
    },
    {
      "cell_type": "markdown",
      "metadata": {
        "id": "hnR1GNFLS_8M"
      },
      "source": [
        "## Pricing a Certificate of Deposit (CD)"
      ]
    },
    {
      "cell_type": "markdown",
      "metadata": {
        "id": "RuB2dR7PTJaK"
      },
      "source": [
        "### A 90-day CD with 100,000 face value was issued on March 17, 2015, offering a 6 percent coupon (under ACT/360 day convention) with a market yield of 7 percent.\n",
        "\n",
        "*   Compute the maturity proceeds (Final Value)\n",
        "*   Compute the price of the CD on March 17, 2015\n",
        "*   On April 10, 2015, the market yield dropped to 5.5 percent. Compute the price of the CD in the secondary market\n",
        "*   On May 10, the market rate further dropped to 5 percent. Compute the return of an investor that purchased the CD on April 10 and sold it on May 10 (30 days)"
      ]
    },
    {
      "cell_type": "code",
      "metadata": {
        "colab": {
          "base_uri": "https://localhost:8080/"
        },
        "id": "v1mcA9oLTpNc",
        "outputId": "f93910d1-74cb-433b-cf07-15003e9c94d1"
      },
      "source": [
        "issue_date = datetime(2015, 3, 17)\n",
        "maturity_days = timedelta(90)\n",
        "coupon_percentage = 6\n",
        "face_value = 100\n",
        "act =360\n",
        "\n",
        "maturity_date = (issue_date + maturity_days) #.strftime(\"%Y-%m-%d\")\n",
        "\n",
        "coupon = coupon_percentage/100\n",
        "payoff = round(face_value*(1 + coupon*maturity_days.days/act), 2)\n",
        "print(f'A) Payoff: ${payoff}')\n",
        "\n",
        "settlement_date = datetime(2015, 3, 17)\n",
        "market_yield_percentage = 7\n",
        "market_yield = market_yield_percentage/100\n",
        "days_to_maturity = (maturity_date - settlement_date).days\n",
        "price1 = round(payoff/(1 + market_yield*days_to_maturity/act), 2)\n",
        "print(f'B) Price: ${price1}')\n",
        "\n",
        "settlement_date = datetime(2015, 4, 10)\n",
        "market_yield_percentage = 5.5\n",
        "market_yield = market_yield_percentage/100\n",
        "days_to_maturity = (maturity_date - settlement_date).days\n",
        "price2 = round(payoff/(1 + market_yield*days_to_maturity/act), 2)\n",
        "print(f'C) Price: ${price2}')\n",
        "\n",
        "settlement_date = datetime(2015, 5, 10)\n",
        "market_yield_percentage = 5\n",
        "market_yield = market_yield_percentage/100\n",
        "days_to_maturity = (maturity_date - settlement_date).days\n",
        "price3 = round(payoff/(1 + market_yield*days_to_maturity/act), 2)\n",
        "\n",
        "days_to_maturity = 30\n",
        "return_cd = round((price3/price2 - 1)*act/days_to_maturity, 2)\n",
        "\n",
        "print(f'D) Return: {return_cd}%')"
      ],
      "execution_count": null,
      "outputs": [
        {
          "output_type": "stream",
          "text": [
            "A) Payoff: $101.5\n",
            "B) Price: $99.75\n",
            "C) Price: $100.49\n",
            "D) Return: 0.06%\n"
          ],
          "name": "stdout"
        }
      ]
    },
    {
      "cell_type": "markdown",
      "metadata": {
        "id": "yz2-35ClCKI9"
      },
      "source": [
        "### Find the simple annual return obtained by an investor that paid 90 for a commercial paper with a face value of 100 on June 15, 2015 and sold it for 90.80 on June 30, 2015."
      ]
    },
    {
      "cell_type": "code",
      "metadata": {
        "id": "-wqXLaeWCRrg",
        "colab": {
          "base_uri": "https://localhost:8080/"
        },
        "outputId": "50bc729b-ac04-4829-dc1c-83cbec3141a6"
      },
      "source": [
        "issue_date = datetime(2015, 6, 15)\n",
        "settlement_date = datetime(2015, 6, 30)\n",
        "face_value = 100\n",
        "price_issue = 90\n",
        "price_settlement = 90.80\n",
        "frequency = 365\n",
        "\n",
        "days_to_maturity = (settlement_date - issue_date).days\n",
        "\n",
        "yield_percentage = round(100*((price_settlement/price_issue) - 1)*frequency/days_to_maturity, 2)\n",
        "print(f'Yield: {yield_percentage}%')\n"
      ],
      "execution_count": null,
      "outputs": [
        {
          "output_type": "stream",
          "text": [
            "Yield: 21.63%\n"
          ],
          "name": "stdout"
        }
      ]
    },
    {
      "cell_type": "markdown",
      "metadata": {
        "id": "-Rn5iL59PdH_"
      },
      "source": [
        "### Compute the payoff (future value) of a 181 day 1,000 certificate of deposit issued on March 15, 2015 that offers 5 percent coupon rate under ACT/ACT."
      ]
    },
    {
      "cell_type": "code",
      "metadata": {
        "colab": {
          "base_uri": "https://localhost:8080/"
        },
        "id": "Xeu0fsVAPe5s",
        "outputId": "35ac2816-b477-4619-af1a-3eaa3928dbf7"
      },
      "source": [
        "face_value = 1000\n",
        "days_to_maturity = 181\n",
        "coupon_percentage = 5\n",
        "freq = 365\n",
        "\n",
        "coupon = coupon_percentage/100\n",
        "payoff = round(face_value*(1 + (coupon*days_to_maturity/freq)), 2)\n",
        "print(f'Payoff: ${payoff}')"
      ],
      "execution_count": null,
      "outputs": [
        {
          "output_type": "stream",
          "text": [
            "Payoff: $1024.79\n"
          ],
          "name": "stdout"
        }
      ]
    },
    {
      "cell_type": "markdown",
      "metadata": {
        "id": "CRcwkUkLSw_C"
      },
      "source": [
        "### What is the price of a 30-day 1,000 commercial paper at 8.25 percent discount under ACT/365?"
      ]
    },
    {
      "cell_type": "code",
      "metadata": {
        "colab": {
          "base_uri": "https://localhost:8080/"
        },
        "id": "Nl4nrYvvS1BY",
        "outputId": "87591a56-4bb0-4f61-dbb9-b62e8ca9c926"
      },
      "source": [
        "face_value = 1000\n",
        "coupon_percentage = 8.25\n",
        "days_to_maturity = 30\n",
        "freq = 365\n",
        "\n",
        "coupon = coupon_percentage/100\n",
        "price = round(face_value*(1 - (coupon*days_to_maturity/freq)), 2)\n",
        "print(f'Price: ${price}')"
      ],
      "execution_count": null,
      "outputs": [
        {
          "output_type": "stream",
          "text": [
            "Price: $993.22\n"
          ],
          "name": "stdout"
        }
      ]
    },
    {
      "cell_type": "markdown",
      "metadata": {
        "id": "JjNa4OOFh48E"
      },
      "source": [
        "## Pricing Repurchase Agreements (Repos)"
      ]
    },
    {
      "cell_type": "markdown",
      "metadata": {
        "id": "NmiSd30lh6ec"
      },
      "source": [
        "### Mybank sells 9,876,000 worth of T-bills and agrees to repurchase them in 14 days at 9,895,000. What is the repo rate?\n",
        "### If the overnight repo rate is 4.5% what is the payment tomorrow for a repo of 10,000,000?"
      ]
    },
    {
      "cell_type": "code",
      "metadata": {
        "colab": {
          "base_uri": "https://localhost:8080/"
        },
        "id": "5Tt54mQiiBU_",
        "outputId": "d38061a2-8c83-45b6-8f64-2eafda835373"
      },
      "source": [
        "act =365\n",
        "repurchase_price = 9895000\n",
        "face_value = 9876000\n",
        "days_to_maturity = 14\n",
        "\n",
        "repo_rate = (repurchase_price/face_value - 1)*act/days_to_maturity\n",
        "repo_rate_percentage = round(100*repo_rate, 2)\n",
        "print(f'A) Repo rate percentage: {repo_rate_percentage}%')\n",
        "\n",
        "face_value = 10000000\n",
        "days_to_maturity = 1\n",
        "repo_rate_percentage = 4.5\n",
        "\n",
        "repo_rate = repo_rate_percentage/100\n",
        "repurchase_price = round(face_value * (1 + repo_rate*days_to_maturity/act), 2)\n",
        "print(f'B) Payment: ${repurchase_price}')"
      ],
      "execution_count": null,
      "outputs": [
        {
          "output_type": "stream",
          "text": [
            "A) Repo rate percentage: 5.02%\n",
            "B) Payment: $10001232.88\n"
          ],
          "name": "stdout"
        }
      ]
    },
    {
      "cell_type": "markdown",
      "metadata": {
        "id": "t6KHsH04T2Pq"
      },
      "source": [
        "### Bank Uno has just borrowed 10 million through an overnight repo at 4.25 percent. How much must Bank Uno pay back tomorrow?"
      ]
    },
    {
      "cell_type": "code",
      "metadata": {
        "colab": {
          "base_uri": "https://localhost:8080/"
        },
        "id": "E3TmiW6eT7Wo",
        "outputId": "e15b0dc1-2c86-433b-80cf-3dd02514783c"
      },
      "source": [
        "repo = 10000000\n",
        "repo_rate_percentage = 4.25\n",
        "days_to_maturity = 1\n",
        "freq = 365\n",
        "\n",
        "repo_rate = repo_rate_percentage/100\n",
        "repayment = round(repo*(1 + (repo_rate*days_to_maturity/freq)), 2)\n",
        "print(f'Repayment: ${repayment}')"
      ],
      "execution_count": null,
      "outputs": [
        {
          "output_type": "stream",
          "text": [
            "Repayment: $10001164.38\n"
          ],
          "name": "stdout"
        }
      ]
    }
  ]
}