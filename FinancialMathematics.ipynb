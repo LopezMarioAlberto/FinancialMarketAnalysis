{
  "nbformat": 4,
  "nbformat_minor": 0,
  "metadata": {
    "colab": {
      "name": "FinancialMathematics.ipynb",
      "provenance": [],
      "collapsed_sections": []
    },
    "kernelspec": {
      "name": "python3",
      "display_name": "Python 3"
    },
    "language_info": {
      "name": "python"
    }
  },
  "cells": [
    {
      "cell_type": "markdown",
      "metadata": {
        "id": "bNy0yg7-UaLe"
      },
      "source": [
        "# **Financial Mathematics**"
      ]
    },
    {
      "cell_type": "markdown",
      "metadata": {
        "id": "fxX3NPhlawt4"
      },
      "source": [
        "Functions to calculate\n",
        "\n",
        "*   Time Value of Money\n",
        "*   Simple Interest\n",
        "*   Compound Interest\n",
        "*   Nominal and Eﬀective Interest\n",
        "*   Intra-Year Compounding\n",
        "*   Net Present Value\n",
        "*   Future Value\n",
        "*   Internal Rate of Return"
      ]
    },
    {
      "cell_type": "code",
      "metadata": {
        "colab": {
          "base_uri": "https://localhost:8080/"
        },
        "id": "Vy2Eiad0j76V",
        "outputId": "e6801300-2d79-429f-eec1-cb2ce9bc184c"
      },
      "source": [
        "pip install numpy-financial"
      ],
      "execution_count": 59,
      "outputs": [
        {
          "output_type": "stream",
          "text": [
            "Requirement already satisfied: numpy-financial in /usr/local/lib/python3.7/dist-packages (1.0.0)\n",
            "Requirement already satisfied: numpy>=1.15 in /usr/local/lib/python3.7/dist-packages (from numpy-financial) (1.19.5)\n"
          ],
          "name": "stdout"
        }
      ]
    },
    {
      "cell_type": "code",
      "metadata": {
        "id": "E3dxkk8Z1NKc"
      },
      "source": [
        "import numpy_financial as npf\n",
        "import numpy as np\n",
        "import math"
      ],
      "execution_count": 82,
      "outputs": []
    },
    {
      "cell_type": "markdown",
      "metadata": {
        "id": "b_FjgXEsbqo4"
      },
      "source": [
        "## Simple Interest"
      ]
    },
    {
      "cell_type": "markdown",
      "metadata": {
        "id": "XMMcb5PdWkSk"
      },
      "source": [
        "### Deposit 100 at 8 percent for 92 days, what is the end balance in the account?\n",
        "### You deposit 500 at 6 percent for 181 days. What is the end balance you will have in the account at maturity?"
      ]
    },
    {
      "cell_type": "code",
      "metadata": {
        "colab": {
          "base_uri": "https://localhost:8080/"
        },
        "id": "lBnmccK_VS9G",
        "outputId": "717ddd83-b9da-4740-d59d-466387a9800e"
      },
      "source": [
        "def SFV (interest_rate_percentage, days_to_maturity, periods, frecuency, present_value):\n",
        "  interest_rate = interest_rate_percentage/ 100\n",
        "  factor = (1 + interest_rate * days_to_maturity / frecuency)**(periods)\n",
        "  future_value = round(present_value * factor, 2)\n",
        "  return f'Future value: {future_value}'\n",
        "\n",
        "options = [SFV(8, 92, 1, 365, 100), SFV(6, 181, 1, 365, 500)]\n",
        "options"
      ],
      "execution_count": null,
      "outputs": [
        {
          "output_type": "execute_result",
          "data": {
            "text/plain": [
              "['Simple Interest Future value: 102.02',\n",
              " 'Simple Interest Future value: 514.88']"
            ]
          },
          "metadata": {
            "tags": []
          },
          "execution_count": 94
        }
      ]
    },
    {
      "cell_type": "markdown",
      "metadata": {
        "id": "AUEJAj0Y9G-R"
      },
      "source": [
        "### Mr. Ferrari wants to save 4,500 for the down payment to purchase a new car two years from now. How much money does he need to deposit today into a bank account that pays 4 percent per year compounded monthly?"
      ]
    },
    {
      "cell_type": "code",
      "metadata": {
        "colab": {
          "base_uri": "https://localhost:8080/",
          "height": 37
        },
        "id": "rowtg6jt9Iey",
        "outputId": "e204b9c7-cc91-41f3-aa33-f9c8a9b953fd"
      },
      "source": [
        "def SPV (interest_rate_percentage, periods, future_value):\n",
        "  interest_rate = interest_rate_percentage/ 100\n",
        "  factor = (1 + interest_rate)**(periods)\n",
        "  present_value = round(future_value / factor, 2)\n",
        "  return f'Present value: {present_value}'\n",
        "\n",
        "options = SPV(4, 2, 4500)\n",
        "options"
      ],
      "execution_count": null,
      "outputs": [
        {
          "output_type": "execute_result",
          "data": {
            "application/vnd.google.colaboratory.intrinsic+json": {
              "type": "string"
            },
            "text/plain": [
              "'Present value: 4160.5'"
            ]
          },
          "metadata": {
            "tags": []
          },
          "execution_count": 58
        }
      ]
    },
    {
      "cell_type": "markdown",
      "metadata": {
        "id": "E59n7w0ibhfh"
      },
      "source": [
        "### If I invest 100 today and receive 102.02 in 92 days, what is the simple interest rate?\n",
        "### If you invest 500 today and get 550 in 270 days, what is the interest rate paid on the account?"
      ]
    },
    {
      "cell_type": "code",
      "metadata": {
        "colab": {
          "base_uri": "https://localhost:8080/"
        },
        "id": "InuYITdTZp6u",
        "outputId": "4ac5dd9e-ee55-428e-b6a7-bfb3e0502060"
      },
      "source": [
        "def SIR (days_to_maturity, periods, frecuency, present_value, future_value):\n",
        "  factor = future_value / present_value\n",
        "  interest_rate = (factor - 1) * frecuency / days_to_maturity\n",
        "  interest_rate_percentage = round(interest_rate * 100, 2)\n",
        "  return f'Interest Rate: {interest_rate_percentage}'\n",
        "\n",
        "options = [SIR(92, 1, 365, 100, 102.02), SIR(270, 1, 365, 500, 550)]\n",
        "options"
      ],
      "execution_count": null,
      "outputs": [
        {
          "output_type": "execute_result",
          "data": {
            "text/plain": [
              "['Interest Rate: 8.01', 'Interest Rate: 13.52']"
            ]
          },
          "metadata": {
            "tags": []
          },
          "execution_count": 5
        }
      ]
    },
    {
      "cell_type": "markdown",
      "metadata": {
        "id": "dHCDr_ofgsGr"
      },
      "source": [
        "## Compound Interest"
      ]
    },
    {
      "cell_type": "markdown",
      "metadata": {
        "id": "KVLdZOazgvok"
      },
      "source": [
        "### You have invested 100 for 4 years at an annual rate of 12 percent, compounded monthly. What is the future value of the investment at maturity?\n",
        "### Mr. Smith deposits 1,000 into a savings account that pays 5 percent interest compounded annually. What will be the balance in the account 4 years from now?\n",
        "### Mr. Smith deposits $1,000 into a savings account that pays 5 percent interest with monthly compounding. What will be the balance in the account 4 years from now? "
      ]
    },
    {
      "cell_type": "code",
      "metadata": {
        "colab": {
          "base_uri": "https://localhost:8080/"
        },
        "id": "U49Qs0F2g1-t",
        "outputId": "761fcaf1-6cb0-4432-c24d-97264ac97eb5"
      },
      "source": [
        "def FV (interest_rate_percentage, days_to_maturity, periods, frecuency, present_value):\n",
        "  interest_rate = interest_rate_percentage/ 100\n",
        "  factor = (1 + interest_rate * days_to_maturity / frecuency)**(periods * frecuency)\n",
        "  future_value = round(present_value * factor, 2)\n",
        "  return f'Future value: {future_value}'\n",
        "\n",
        "options = [FV(12, 1, 4, 12, 100), FV(5, 1, 4, 1, 1000), FV(5, 1, 4, 12, 1000)]\n",
        "options"
      ],
      "execution_count": null,
      "outputs": [
        {
          "output_type": "execute_result",
          "data": {
            "text/plain": [
              "['Future value: 161.22', 'Future value: 1215.51', 'Future value: 1220.9']"
            ]
          },
          "metadata": {
            "tags": []
          },
          "execution_count": 23
        }
      ]
    },
    {
      "cell_type": "markdown",
      "metadata": {
        "id": "Sue6qJz1mMEh"
      },
      "source": [
        "### A company can invest 1,000 in an account that pays an interest rate of 3% compounded annually. How many years will the company need to keep the investment to accumulate at least 1,500. "
      ]
    },
    {
      "cell_type": "code",
      "metadata": {
        "colab": {
          "base_uri": "https://localhost:8080/",
          "height": 37
        },
        "id": "Su_gcmw0mRu9",
        "outputId": "f474a2f2-6a43-4d15-bbe4-3b4ee3b8a827"
      },
      "source": [
        "def Period (interest_rate_percentage, present_value, future_value):\n",
        "  interest_rate = interest_rate_percentage/ 100\n",
        "  factor = future_value / present_value\n",
        "  periods = math.ceil(np.log(factor) / np.log(1 + interest_rate))\n",
        "  return f'{periods} years'\n",
        "\n",
        "options = Period(3, 1000, 1500)\n",
        "options"
      ],
      "execution_count": null,
      "outputs": [
        {
          "output_type": "execute_result",
          "data": {
            "application/vnd.google.colaboratory.intrinsic+json": {
              "type": "string"
            },
            "text/plain": [
              "'14 years'"
            ]
          },
          "metadata": {
            "tags": []
          },
          "execution_count": 22
        }
      ]
    },
    {
      "cell_type": "markdown",
      "metadata": {
        "id": "Bljkwy59idSa"
      },
      "source": [
        "## Nominal and Eﬀective Interest"
      ]
    },
    {
      "cell_type": "markdown",
      "metadata": {
        "id": "W2KBvvGhgj1_"
      },
      "source": [
        "### A financial asset that pays $1,000 in 3 years has a market value today of 650. What is the interest rate on this investment assuming annual compounding?"
      ]
    },
    {
      "cell_type": "code",
      "metadata": {
        "colab": {
          "base_uri": "https://localhost:8080/",
          "height": 37
        },
        "id": "tC9T0DCbgqcQ",
        "outputId": "cb6dceb6-f624-413f-ba34-d2e2b840843e"
      },
      "source": [
        "def SIR (periods, market_value, future_value):\n",
        "  factor = future_value / market_value\n",
        "  interest_rate = (factor**(1/periods)) - 1\n",
        "  interest_rate_percentage = round(interest_rate * 100, 2)\n",
        "  return f'Interest Rate: {interest_rate_percentage}'\n",
        "\n",
        "options = SIR(3, 650, 1000)\n",
        "options"
      ],
      "execution_count": null,
      "outputs": [
        {
          "output_type": "execute_result",
          "data": {
            "application/vnd.google.colaboratory.intrinsic+json": {
              "type": "string"
            },
            "text/plain": [
              "'Interest Rate: 15.44'"
            ]
          },
          "metadata": {
            "tags": []
          },
          "execution_count": 13
        }
      ]
    },
    {
      "cell_type": "markdown",
      "metadata": {
        "id": "RVf-IkHcierX"
      },
      "source": [
        "### Compute the effective rate of an investment that offers an interest of 12 percent compounded monthly.\n",
        "### What is the effective interest rate of an investment that offers a nominal rate of 15 percent compounded monthly?"
      ]
    },
    {
      "cell_type": "code",
      "metadata": {
        "colab": {
          "base_uri": "https://localhost:8080/"
        },
        "id": "GFXqGWreiiG7",
        "outputId": "905f6aff-fd3f-4f69-f73b-2a626d03499b"
      },
      "source": [
        "def EIR(interest_rate_percentage, days_to_maturity, frecuency, periods):\n",
        "  interest_rate = interest_rate_percentage/ 100\n",
        "  factor = (1 + interest_rate * days_to_maturity / frecuency)**(periods * frecuency)\n",
        "  effective_interest_rate = round(100 * (factor - 1), 2)\n",
        "  return f'Effective Interest Rate: {effective_interest_rate}'\n",
        "\n",
        "options = [EIR(12, 1, 12, 1), EIR(15, 1, 12, 1)]\n",
        "options"
      ],
      "execution_count": null,
      "outputs": [
        {
          "output_type": "execute_result",
          "data": {
            "text/plain": [
              "['Effective Interest Rate: 12.68', 'Effective Interest Rate: 16.08']"
            ]
          },
          "metadata": {
            "tags": []
          },
          "execution_count": 2
        }
      ]
    },
    {
      "cell_type": "markdown",
      "metadata": {
        "id": "ubhO6AF9vkm5"
      },
      "source": [
        "### Which of these two alternatives offers the highest return? \n",
        "\n",
        "*   13% APR with monthly compounding\n",
        "*   13.3% APR with semi-annual compounding\n",
        "\n",
        "Option: A, B\n",
        "\n",
        "APR:\t13%,\t13,30%\n",
        "\n",
        "Frequency:\t12,\t2\n"
      ]
    },
    {
      "cell_type": "code",
      "metadata": {
        "colab": {
          "base_uri": "https://localhost:8080/"
        },
        "id": "eyybZjNhv612",
        "outputId": "14290e27-00a4-4e0e-ad0b-f2adb69c7535"
      },
      "source": [
        "def EIR(interest_rate_percentage, days_to_maturity, frecuency, periods):\n",
        "  interest_rate = interest_rate_percentage/ 100\n",
        "  factor = (1 + interest_rate * days_to_maturity / frecuency)**(periods * frecuency)\n",
        "  effective_interest_rate = round(100 * (factor - 1), 2)\n",
        "  return f'Effective Interest Rate: {effective_interest_rate}'\n",
        "\n",
        "options = [EIR(13, 1, 12, 1), EIR(13.3, 1, 2, 1)]\n",
        "options"
      ],
      "execution_count": null,
      "outputs": [
        {
          "output_type": "execute_result",
          "data": {
            "text/plain": [
              "['Effective Interest Rate: 13.8', 'Effective Interest Rate: 13.74']"
            ]
          },
          "metadata": {
            "tags": []
          },
          "execution_count": 34
        }
      ]
    },
    {
      "cell_type": "markdown",
      "metadata": {
        "id": "_viQh-c6kemY"
      },
      "source": [
        "## Intra-year Compounding"
      ]
    },
    {
      "cell_type": "markdown",
      "metadata": {
        "id": "5tXld-nukf_f"
      },
      "source": [
        "### You have $10,000 to invest over 4 years and need to decide between the following alternatives:\n",
        " \n",
        "\n",
        "*   Open a bank account that offers an interest of 7 percent per year, compounded annually\n",
        "*   Open a bank account that offers an interest of 6.8 percent per year compounded quarterly\n",
        "\n",
        "### Which option gives you a higher return (greater future value for the same $10,000 invested today)?"
      ]
    },
    {
      "cell_type": "code",
      "metadata": {
        "colab": {
          "base_uri": "https://localhost:8080/"
        },
        "id": "djqaZjwgkyMa",
        "outputId": "2e5a3ce6-e2b0-4789-e11f-ae25e52bb383"
      },
      "source": [
        "def FV (interest_rate_percentage, days_to_maturity, periods, frecuency, present_value):\n",
        "  interest_rate = interest_rate_percentage/ 100\n",
        "  factor = (1 + interest_rate * days_to_maturity / frecuency)**(periods * frecuency)\n",
        "  future_value = round(present_value * factor, 2)\n",
        "  return f'Future value: {future_value}'\n",
        "\n",
        "\n",
        "options = [FV(7, 1, 4, 1, 10000), FV(6.8, 1, 4, 4, 10000)]\n",
        "options"
      ],
      "execution_count": 96,
      "outputs": [
        {
          "output_type": "execute_result",
          "data": {
            "text/plain": [
              "['Future value: 13107.96', 'Future value: 13095.9']"
            ]
          },
          "metadata": {
            "tags": []
          },
          "execution_count": 96
        }
      ]
    },
    {
      "cell_type": "markdown",
      "metadata": {
        "id": "n-ch0wM6swnl"
      },
      "source": [
        "### What are the interest gains on 100 deposited over 3 years at 6% rate compounded quarterly?"
      ]
    },
    {
      "cell_type": "code",
      "metadata": {
        "colab": {
          "base_uri": "https://localhost:8080/",
          "height": 37
        },
        "id": "7HAJqiaPs14B",
        "outputId": "a2513584-22e0-4bc6-db4b-24451e5220dc"
      },
      "source": [
        "def IG (interest_rate_percentage, periods, frecuency, present_value):\n",
        "  interest_rate = interest_rate_percentage/ 100\n",
        "  factor = (1 + interest_rate / frecuency)**(periods * frecuency)\n",
        "  future_value = present_value * factor\n",
        "  interest_gains = round(future_value - present_value, 2)\n",
        "  return f'Interest Gains: {interest_gains}'\n",
        "\n",
        "options = IG(6, 3, 4, 100)\n",
        "options"
      ],
      "execution_count": null,
      "outputs": [
        {
          "output_type": "execute_result",
          "data": {
            "application/vnd.google.colaboratory.intrinsic+json": {
              "type": "string"
            },
            "text/plain": [
              "'Interest Gains: 19.56'"
            ]
          },
          "metadata": {
            "tags": []
          },
          "execution_count": 32
        }
      ]
    },
    {
      "cell_type": "markdown",
      "metadata": {
        "id": "S5JcnecZy2G9"
      },
      "source": [
        "### Ms. Woodhouse is selling her property and has received two offers:\n",
        "*   A cash payment of 220,000, or \n",
        "*   Aa payment of $240,000 one year from now.\n",
        "\n",
        "### Which offer should she accept, given that she can invest funds today at an interest rate of 6 percent?"
      ]
    },
    {
      "cell_type": "code",
      "metadata": {
        "colab": {
          "base_uri": "https://localhost:8080/",
          "height": 37
        },
        "id": "AaYGWNiezKZw",
        "outputId": "9e3259fd-1006-496d-ef38-434059f7b2fc"
      },
      "source": [
        "def FV (interest_rate_percentage, days_to_maturity, periods, frecuency, present_value):\n",
        "  interest_rate = interest_rate_percentage/ 100\n",
        "  factor = (1 + interest_rate * days_to_maturity / frecuency)**(periods * frecuency)\n",
        "  future_value = round(present_value * factor, 2)\n",
        "  return f'Future value: {future_value}'\n",
        "\n",
        "\n",
        "options = FV(6, 1, 1, 1, 220000)\n",
        "options"
      ],
      "execution_count": 64,
      "outputs": [
        {
          "output_type": "execute_result",
          "data": {
            "application/vnd.google.colaboratory.intrinsic+json": {
              "type": "string"
            },
            "text/plain": [
              "'Future value: 233200.0'"
            ]
          },
          "metadata": {
            "tags": []
          },
          "execution_count": 64
        }
      ]
    },
    {
      "cell_type": "markdown",
      "metadata": {
        "id": "LPoB1ylt1nLc"
      },
      "source": [
        "### If the discount rate is 8 percent, which of the following two options would you prefer to receive?\n",
        "*   10,000 today \n",
        "*   13,000 in three years"
      ]
    },
    {
      "cell_type": "code",
      "metadata": {
        "colab": {
          "base_uri": "https://localhost:8080/",
          "height": 37
        },
        "id": "07G-7QSK1opl",
        "outputId": "e09b1705-2d95-48d1-ddb8-951914b869e4"
      },
      "source": [
        "options = FV(8, 1, 3, 1, 10000)\n",
        "options"
      ],
      "execution_count": 65,
      "outputs": [
        {
          "output_type": "execute_result",
          "data": {
            "application/vnd.google.colaboratory.intrinsic+json": {
              "type": "string"
            },
            "text/plain": [
              "'Future value: 12597.12'"
            ]
          },
          "metadata": {
            "tags": []
          },
          "execution_count": 65
        }
      ]
    },
    {
      "cell_type": "markdown",
      "metadata": {
        "id": "lEpfkRRIJ7bU"
      },
      "source": [
        "### Compute the future value of 100 for:\n",
        "\n",
        "\n",
        "*   10 years at 5 percent compounded annually;\n",
        "*   10 years at 4.5 percent compounded quarterly;\n",
        "*   10 years at 4.0 percent compounded monthly.\n",
        "\n",
        "### Which one offers the largest value at the end of the tenth year?"
      ]
    },
    {
      "cell_type": "code",
      "metadata": {
        "colab": {
          "base_uri": "https://localhost:8080/"
        },
        "id": "bF0puLV9KXpO",
        "outputId": "8d7eb57e-ae01-4c7b-83c7-3748f60441b5"
      },
      "source": [
        "options = [FV(5, 1, 10, 1, 100), FV(4.5, 1, 10, 4, 100), FV(4, 1, 10, 12, 100)]\n",
        "options"
      ],
      "execution_count": 68,
      "outputs": [
        {
          "output_type": "execute_result",
          "data": {
            "text/plain": [
              "['Future value: 162.89', 'Future value: 156.44', 'Future value: 149.08']"
            ]
          },
          "metadata": {
            "tags": []
          },
          "execution_count": 68
        }
      ]
    },
    {
      "cell_type": "markdown",
      "metadata": {
        "id": "PCtP8zNmniSb"
      },
      "source": [
        "## Net Present Value"
      ]
    },
    {
      "cell_type": "markdown",
      "metadata": {
        "id": "RpOoxws12lr6"
      },
      "source": [
        "### A company can invest in a new technology that costs 500,000 and will provide yearly cost savings of 40,000 during the next 20 years. Will this investment be financially profitable if the company finances it with a bank loan at the 5% interest rate?"
      ]
    },
    {
      "cell_type": "code",
      "metadata": {
        "colab": {
          "base_uri": "https://localhost:8080/",
          "height": 37
        },
        "id": "dE-vS4wl2o-i",
        "outputId": "f940b298-3f2d-41f0-c31e-686cf554ae3b"
      },
      "source": [
        "def SNPV (interest_rate_percentage, time, cash_flow, market_value):\n",
        "  interest_rate = interest_rate_percentage/ 100\n",
        "  discounted_flows = [-market_value]\n",
        "  \n",
        "  i = 1\n",
        "  while i <= time:\n",
        "    factor = 1/((1+interest_rate)**i)\n",
        "    flow = factor * cash_flow\n",
        "    discounted_flows.append(flow)\n",
        "    i += 1  \n",
        "  \n",
        "  net_present_value = round(sum(discounted_flows), 2)\n",
        "  return f'Net present value: {net_present_value}'\n",
        "\n",
        "SNPV(5, 20, 40000, 500000)"
      ],
      "execution_count": null,
      "outputs": [
        {
          "output_type": "execute_result",
          "data": {
            "application/vnd.google.colaboratory.intrinsic+json": {
              "type": "string"
            },
            "text/plain": [
              "'Net present value: -1511.59'"
            ]
          },
          "metadata": {
            "tags": []
          },
          "execution_count": 45
        }
      ]
    },
    {
      "cell_type": "markdown",
      "metadata": {
        "id": "I5HQhUMUnjhp"
      },
      "source": [
        "### SureInvest Corp. has the opportunity to make an investment of $650,000 that will produce the following flows:\n",
        "Time (years)\t0\t1\t2\t3\n",
        "\n",
        "Cash flows\t-650.000\t200.000\t300.000\t300.000"
      ]
    },
    {
      "cell_type": "markdown",
      "metadata": {
        "id": "c-uF_x6an0Q6"
      },
      "source": [
        "#### If the interest rate is 10%, what is the net present value (NPV) of this project?"
      ]
    },
    {
      "cell_type": "code",
      "metadata": {
        "colab": {
          "base_uri": "https://localhost:8080/",
          "height": 37
        },
        "id": "JlUUKisTn4x_",
        "outputId": "c654e094-53e7-4674-ceeb-98be67bf8185"
      },
      "source": [
        "def NPV (interest_rate_percentage, time, cash_flows):\n",
        "  interest_rate = interest_rate_percentage/ 100\n",
        "  discounted_flows = []\n",
        "  \n",
        "  for i in time:\n",
        "    factor = 1/((1+interest_rate)**i)\n",
        "    flow = factor * cash_flows[i]\n",
        "    discounted_flows.append(flow)   \n",
        "  \n",
        "  net_present_value = round(sum(discounted_flows), 2)\n",
        "  return f'Net present value: {net_present_value}'\n",
        "\n",
        "NPV(10, [0, 1, 2, 3], [-650000, 200000, 300000, 300000])"
      ],
      "execution_count": null,
      "outputs": [
        {
          "output_type": "execute_result",
          "data": {
            "application/vnd.google.colaboratory.intrinsic+json": {
              "type": "string"
            },
            "text/plain": [
              "'Net present value: 5146.51'"
            ]
          },
          "metadata": {
            "tags": []
          },
          "execution_count": 49
        }
      ]
    },
    {
      "cell_type": "markdown",
      "metadata": {
        "id": "mFY61Qm15YR8"
      },
      "source": [
        "### What is the net present value of an investment that requires you to pay 4,000 today, then pays back 800 for the next 6 years plus 4,800 at the end of year 7? Use a discount rate of 5 percent."
      ]
    },
    {
      "cell_type": "code",
      "metadata": {
        "colab": {
          "base_uri": "https://localhost:8080/",
          "height": 37
        },
        "id": "V6vAWFA75dja",
        "outputId": "8f455940-b1d5-4dad-d03d-9112432435ea"
      },
      "source": [
        "def NPV (interest_rate_percentage, time, cash_flows):\n",
        "  interest_rate = interest_rate_percentage/ 100\n",
        "  discounted_flows = []\n",
        "  \n",
        "  for i in time:\n",
        "    factor = 1/((1+interest_rate)**i)\n",
        "    flow = factor * cash_flows[i]\n",
        "    discounted_flows.append(flow)   \n",
        "  \n",
        "  net_present_value = round(sum(discounted_flows), 2)\n",
        "  return f'Net present value: {net_present_value}'\n",
        "\n",
        "NPV(5, [0, 1, 2, 3, 4, 5, 6, 7], [-4000, 800, 800, 800, 800, 800, 800, 4800])"
      ],
      "execution_count": null,
      "outputs": [
        {
          "output_type": "execute_result",
          "data": {
            "application/vnd.google.colaboratory.intrinsic+json": {
              "type": "string"
            },
            "text/plain": [
              "'Net present value: 3471.82'"
            ]
          },
          "metadata": {
            "tags": []
          },
          "execution_count": 48
        }
      ]
    },
    {
      "cell_type": "markdown",
      "metadata": {
        "id": "5_L0cAb-vdJp"
      },
      "source": [
        "#### What would be the investment (in t=0) that makes SureInvest indifferent between investing or not in this project?"
      ]
    },
    {
      "cell_type": "code",
      "metadata": {
        "colab": {
          "base_uri": "https://localhost:8080/",
          "height": 37
        },
        "id": "qnsO6KsgsA-6",
        "outputId": "5c25fe8d-ad55-43db-f6e0-8a5faf842b2c"
      },
      "source": [
        "def NPVZ (interest_rate_percentage, time, cash_flows):\n",
        "  interest_rate = interest_rate_percentage/ 100\n",
        "  discounted_flows = []\n",
        "  \n",
        "  for i in time:\n",
        "    factor = 1/((1+interest_rate)**i)\n",
        "    flow = factor * cash_flows[i]\n",
        "    discounted_flows.append(flow)   \n",
        "  \n",
        "  net_present_value = sum(discounted_flows)\n",
        "  if net_present_value > 0:\n",
        "    investment_threshold = round(- discounted_flows[0] + net_present_value, 2)\n",
        "  else:\n",
        "    investment_threshold = round(- discounted_flows[0] - net_present_value, 2)\n",
        "  \n",
        "  return f'Investment threshold: {investment_threshold}'\n",
        "\n",
        "NPVZ(10, [0, 1, 2, 3], [-650000, 200000, 300000, 300000])"
      ],
      "execution_count": 97,
      "outputs": [
        {
          "output_type": "execute_result",
          "data": {
            "application/vnd.google.colaboratory.intrinsic+json": {
              "type": "string"
            },
            "text/plain": [
              "'Investment threshold: 655146.51'"
            ]
          },
          "metadata": {
            "tags": []
          },
          "execution_count": 97
        }
      ]
    },
    {
      "cell_type": "markdown",
      "metadata": {
        "id": "fChIfXsIyaja"
      },
      "source": [
        "## Internal Rate of Return"
      ]
    },
    {
      "cell_type": "markdown",
      "metadata": {
        "id": "vPq6OEN3yeXs"
      },
      "source": [
        "### A security that has a market value of 1,400 and offers 8 bi-annual payments of 200\n",
        "\n",
        "1.   Compute the IRR on this investment and interpret the result\n",
        "2.   What is the price that an investor would be willing to pay for this security to get a nominal return of 7 percent per year?"
      ]
    },
    {
      "cell_type": "code",
      "metadata": {
        "colab": {
          "base_uri": "https://localhost:8080/"
        },
        "id": "7TovYF6FzKRh",
        "outputId": "1e6f610a-9e19-4a88-95e2-4a796d676f09"
      },
      "source": [
        "def CF(payment, time, market_value):\n",
        "  cash_flows = [-market_value]\n",
        "  i = 1\n",
        "\n",
        "  while i <= time:\n",
        "    cash_flows.append(payment)\n",
        "    i += 1\n",
        "  return cash_flows\n",
        "\n",
        "cash_flows = CF(200, 8, 1400)\n",
        "frecuency = 2\n",
        "internal_rate_of_return = round(100 * npf.irr(cash_flows) * frecuency, 2)\n",
        "internal_rate_of_return"
      ],
      "execution_count": null,
      "outputs": [
        {
          "output_type": "execute_result",
          "data": {
            "text/plain": [
              "6.13"
            ]
          },
          "metadata": {
            "tags": []
          },
          "execution_count": 50
        }
      ]
    },
    {
      "cell_type": "code",
      "metadata": {
        "colab": {
          "base_uri": "https://localhost:8080/"
        },
        "id": "CQE_yxep34Tv",
        "outputId": "6ed6a4bc-e1c1-4567-f9c1-8b812fc04dd2"
      },
      "source": [
        "def CF(payment, time):\n",
        "  cash_flows = [0]\n",
        "  i = 1\n",
        "\n",
        "  while i <= time:\n",
        "    cash_flows.append(payment)\n",
        "    i += 1\n",
        "  return cash_flows\n",
        "\n",
        "cash_flows = CF(200, 8)\n",
        "interest_rate = 0.07\n",
        "frecuency = 2\n",
        "market_value = round(npf.npv(interest_rate/frecuency, cash_flows), 2)\n",
        "market_value"
      ],
      "execution_count": 98,
      "outputs": [
        {
          "output_type": "execute_result",
          "data": {
            "text/plain": [
              "1374.79"
            ]
          },
          "metadata": {
            "tags": []
          },
          "execution_count": 98
        }
      ]
    },
    {
      "cell_type": "markdown",
      "metadata": {
        "id": "sRCBqzMe6gYx"
      },
      "source": [
        "### What is the internal rate of return (IRR) of an investment that offers the following cash flows?\n",
        "Year 0, 1, 2, 3\n",
        "\n",
        "Cash Flow -2.000,00 1.000,00 1.000,00 3.000,00 "
      ]
    },
    {
      "cell_type": "code",
      "metadata": {
        "colab": {
          "base_uri": "https://localhost:8080/"
        },
        "id": "YZg0UhWS6rO6",
        "outputId": "404837b1-1a29-4e43-c5df-344ec0a1ba8c"
      },
      "source": [
        "cash_flow = [-2000.00, 1000.00, 1000.00, 3000.00]\n",
        "internal_rate_of_return = round(100 * npf.irr(cash_flow), 2)\n",
        "internal_rate_of_return"
      ],
      "execution_count": null,
      "outputs": [
        {
          "output_type": "execute_result",
          "data": {
            "text/plain": [
              "50.0"
            ]
          },
          "metadata": {
            "tags": []
          },
          "execution_count": 53
        }
      ]
    },
    {
      "cell_type": "markdown",
      "metadata": {
        "id": "oBTLqfrGLUpK"
      },
      "source": [
        "### A company is considering executing a project that requires an investment of 10,000 and would produce yearly flows of 2,500 over the next 8 years. Compute the internal rate of return of this project."
      ]
    },
    {
      "cell_type": "code",
      "metadata": {
        "colab": {
          "base_uri": "https://localhost:8080/"
        },
        "id": "U7iZECo-LZCY",
        "outputId": "0e1bdb65-1762-4496-db04-ed022a3f4908"
      },
      "source": [
        "def CF(payment, time, investment):\n",
        "  cash_flows = [-investment]\n",
        "  i = 1\n",
        "\n",
        "  while i <= time:\n",
        "    cash_flows.append(payment)\n",
        "    i += 1\n",
        "  return cash_flows\n",
        "\n",
        "def IRR(cash_flows):\n",
        "  internal_rate_of_return = round(100 * npf.irr(cash_flows), 2)\n",
        "  return internal_rate_of_return\n",
        "\n",
        "IRR(cash_flows = CF(2500, 8, 10000))"
      ],
      "execution_count": 73,
      "outputs": [
        {
          "output_type": "execute_result",
          "data": {
            "text/plain": [
              "18.62"
            ]
          },
          "metadata": {
            "tags": []
          },
          "execution_count": 73
        }
      ]
    },
    {
      "cell_type": "markdown",
      "metadata": {
        "id": "LQELKtsBPxaY"
      },
      "source": [
        "### Which of the two financial alternatives produces has the highest internal rate of return? \n",
        "\n",
        "*   An investment of 100,000 that pays 10,000 semi-annually during5 years plus 20,000 at the end of the fifth year\n",
        "*   An investment of 120,000 that pays 30,000 per year during 5 years."
      ]
    },
    {
      "cell_type": "code",
      "metadata": {
        "colab": {
          "base_uri": "https://localhost:8080/"
        },
        "id": "Q3BaroftP_Ci",
        "outputId": "ae70ec02-867e-46ed-c123-8b72bab8323e"
      },
      "source": [
        "def CF(payment, time, investment, final=0):\n",
        "  cash_flows = [-investment]\n",
        "  i = 1\n",
        "\n",
        "  while i <= time:\n",
        "    cash_flows.append(payment)\n",
        "    i += 1\n",
        "  \n",
        "  cash_flows.append(final)\n",
        "  \n",
        "  return cash_flows\n",
        "\n",
        "def IRR(cash_flows):\n",
        "  internal_rate_of_return = round(100 * npf.irr(cash_flows), 2)\n",
        "  return internal_rate_of_return\n",
        "\n",
        "cash_flow = [CF(10000, 9, 100000, 30000), CF(30000, 5, 120000)]\n",
        "\n",
        "internal_rate_return = [2*IRR(cash_flow[0]), IRR(cash_flow[1])]\n",
        "internal_rate_return"
      ],
      "execution_count": 95,
      "outputs": [
        {
          "output_type": "execute_result",
          "data": {
            "text/plain": [
              "[6.06, 7.93]"
            ]
          },
          "metadata": {
            "tags": []
          },
          "execution_count": 95
        }
      ]
    }
  ]
}